{
 "cells": [
  {
   "cell_type": "code",
   "execution_count": 1,
   "id": "ca88daf2",
   "metadata": {},
   "outputs": [],
   "source": [
    "import os\n",
    "import shutil\n",
    "from tqdm import tqdm\n",
    "from collections import Counter\n",
    "\n",
    "from _helpers import prepareData\n",
    "\n",
    "import numpy as np\n",
    "import pandas as pd\n",
    "from sklearn.model_selection import train_test_split\n",
    "\n",
    "from PIL import Image\n",
    "from tensorflow import device as tf_device\n",
    "from tensorflow.keras import optimizers\n",
    "from tensorflow.keras.models import Sequential\n",
    "from tensorflow.keras.callbacks import ModelCheckpoint, LearningRateScheduler\n",
    "from tensorflow.keras.layers import Conv2D, Dropout, MaxPooling2D, Dense, Flatten, Activation\n",
    "from tensorflow.keras.utils import to_categorical, plot_model\n",
    "from tensorflow.keras.preprocessing.image import ImageDataGenerator"
   ]
  },
  {
   "cell_type": "code",
   "execution_count": 2,
   "id": "5bf88b78",
   "metadata": {},
   "outputs": [],
   "source": [
    "def get_dataframe_by_plate(plate):\n",
    "    path = os.path.join(input_path, plate, 'extracted.csv')\n",
    "    return prepareData(path)"
   ]
  },
  {
   "cell_type": "code",
   "execution_count": 5,
   "id": "7a777127",
   "metadata": {},
   "outputs": [],
   "source": [
    "root = '/home/stepan/Data/DFBS'\n",
    "csv_name = 'Subtypes'\n",
    "setting = '17_2'\n",
    "\n",
    "input_path = f'{root}/Plates/{csv_name}/{setting}'\n",
    "images_path = f'{root}/Plate_images/{csv_name}/{setting}'"
   ]
  },
  {
   "cell_type": "code",
   "execution_count": 6,
   "id": "0686ac5e",
   "metadata": {},
   "outputs": [],
   "source": [
    "plates = os.listdir(input_path)"
   ]
  },
  {
   "cell_type": "code",
   "execution_count": 7,
   "id": "5195f741",
   "metadata": {},
   "outputs": [],
   "source": [
    "data_list = list(map(get_dataframe_by_plate, plates))"
   ]
  },
  {
   "cell_type": "code",
   "execution_count": 8,
   "id": "66888755",
   "metadata": {},
   "outputs": [],
   "source": [
    "data = pd.concat(data_list)"
   ]
  },
  {
   "cell_type": "code",
   "execution_count": 9,
   "id": "e9703696",
   "metadata": {},
   "outputs": [
    {
     "data": {
      "text/plain": [
       "sdB        949\n",
       "Mrk SB     757\n",
       "C-H        728\n",
       "C Ba       256\n",
       "sdO        209\n",
       "sdA        187\n",
       "Mrk AGN    139\n",
       "Mrk Abs    128\n",
       "C-R         64\n",
       "C-N         49\n",
       "Name: Sp type, dtype: int64"
      ]
     },
     "execution_count": 9,
     "metadata": {},
     "output_type": "execute_result"
    }
   ],
   "source": [
    "data['Sp type'].value_counts()"
   ]
  },
  {
   "cell_type": "code",
   "execution_count": 10,
   "id": "e11ef3e8",
   "metadata": {},
   "outputs": [],
   "source": [
    "# data = data[data['Sp type'].isin({'sdB', 'C-H', 'Mrk SB', 'C Ba'})]"
   ]
  },
  {
   "cell_type": "code",
   "execution_count": 11,
   "id": "3806c838",
   "metadata": {},
   "outputs": [],
   "source": [
    "train_indices, test_indices = train_test_split(data.index.unique(), test_size=0.15, shuffle=True)"
   ]
  },
  {
   "cell_type": "code",
   "execution_count": 12,
   "id": "88418835",
   "metadata": {},
   "outputs": [
    {
     "data": {
      "text/plain": [
       "Int64Index([1057, 1387, 1634, 2491, 1175,  394, 2340,   94, 1718, 2858,\n",
       "            ...\n",
       "            1662, 1469,  703, 1087, 1299, 2919, 1872, 1823, 1284, 2990],\n",
       "           dtype='int64', name='Unnamed: 0', length=1771)"
      ]
     },
     "execution_count": 12,
     "metadata": {},
     "output_type": "execute_result"
    }
   ],
   "source": [
    "train_indices"
   ]
  },
  {
   "cell_type": "code",
   "execution_count": 11,
   "id": "843c1f35",
   "metadata": {},
   "outputs": [],
   "source": [
    "df_train, df_test = data.loc[train_indices][['Sp type', 'path']], data.loc[test_indices][['Sp type', 'path']]"
   ]
  },
  {
   "cell_type": "code",
   "execution_count": 12,
   "id": "85da75ee",
   "metadata": {},
   "outputs": [],
   "source": [
    "df_train['fname'] = df_train['path'].str.split('/', expand=True, ).iloc[:,-1]\n",
    "df_train.rename(columns={\"Sp type\": \"Cl\"}, inplace=True)\n",
    "df_test['fname'] = df_test['path'].str.split('/', expand=True, ).iloc[:,-1]\n",
    "df_test.rename(columns={\"Sp type\": \"Cl\"}, inplace=True)"
   ]
  },
  {
   "cell_type": "code",
   "execution_count": 13,
   "id": "9e238866",
   "metadata": {},
   "outputs": [
    {
     "data": {
      "text/html": [
       "<div>\n",
       "<style scoped>\n",
       "    .dataframe tbody tr th:only-of-type {\n",
       "        vertical-align: middle;\n",
       "    }\n",
       "\n",
       "    .dataframe tbody tr th {\n",
       "        vertical-align: top;\n",
       "    }\n",
       "\n",
       "    .dataframe thead th {\n",
       "        text-align: right;\n",
       "    }\n",
       "</style>\n",
       "<table border=\"1\" class=\"dataframe\">\n",
       "  <thead>\n",
       "    <tr style=\"text-align: right;\">\n",
       "      <th></th>\n",
       "      <th>Cl</th>\n",
       "      <th>path</th>\n",
       "      <th>fname</th>\n",
       "    </tr>\n",
       "    <tr>\n",
       "      <th>Unnamed: 0</th>\n",
       "      <th></th>\n",
       "      <th></th>\n",
       "      <th></th>\n",
       "    </tr>\n",
       "  </thead>\n",
       "  <tbody>\n",
       "    <tr>\n",
       "      <th>1014</th>\n",
       "      <td>Mrk Abs</td>\n",
       "      <td>data/Plates/Subtypes/17_2/fbs1258M_cor/images/...</td>\n",
       "      <td>1014__658.tiff</td>\n",
       "    </tr>\n",
       "    <tr>\n",
       "      <th>511</th>\n",
       "      <td>C-H</td>\n",
       "      <td>data/Plates/Subtypes/17_2/fbs1012_cor/images/5...</td>\n",
       "      <td>511__J163400.29+544829.5.tiff</td>\n",
       "    </tr>\n",
       "    <tr>\n",
       "      <th>273</th>\n",
       "      <td>C-H</td>\n",
       "      <td>data/Plates/Subtypes/17_2/fbs0368_cor/images/2...</td>\n",
       "      <td>273__J171729.25+171357.3.tiff</td>\n",
       "    </tr>\n",
       "    <tr>\n",
       "      <th>273</th>\n",
       "      <td>C-H</td>\n",
       "      <td>data/Plates/Subtypes/17_2/fbs1567_cor/images/2...</td>\n",
       "      <td>273__J171729.25+171357.3.tiff</td>\n",
       "    </tr>\n",
       "    <tr>\n",
       "      <th>273</th>\n",
       "      <td>C-H</td>\n",
       "      <td>data/Plates/Subtypes/17_2/fbs1687_cor/images/2...</td>\n",
       "      <td>273__J171729.25+171357.3.tiff</td>\n",
       "    </tr>\n",
       "  </tbody>\n",
       "</table>\n",
       "</div>"
      ],
      "text/plain": [
       "                 Cl                                               path  \\\n",
       "Unnamed: 0                                                               \n",
       "1014        Mrk Abs  data/Plates/Subtypes/17_2/fbs1258M_cor/images/...   \n",
       "511             C-H  data/Plates/Subtypes/17_2/fbs1012_cor/images/5...   \n",
       "273             C-H  data/Plates/Subtypes/17_2/fbs0368_cor/images/2...   \n",
       "273             C-H  data/Plates/Subtypes/17_2/fbs1567_cor/images/2...   \n",
       "273             C-H  data/Plates/Subtypes/17_2/fbs1687_cor/images/2...   \n",
       "\n",
       "                                    fname  \n",
       "Unnamed: 0                                 \n",
       "1014                       1014__658.tiff  \n",
       "511         511__J163400.29+544829.5.tiff  \n",
       "273         273__J171729.25+171357.3.tiff  \n",
       "273         273__J171729.25+171357.3.tiff  \n",
       "273         273__J171729.25+171357.3.tiff  "
      ]
     },
     "execution_count": 13,
     "metadata": {},
     "output_type": "execute_result"
    }
   ],
   "source": [
    "df_train.head()"
   ]
  },
  {
   "cell_type": "code",
   "execution_count": 14,
   "id": "46e13307",
   "metadata": {},
   "outputs": [],
   "source": [
    "def make_directory(path):\n",
    "    folders = path.split('/')\n",
    "    current_path = ''\n",
    "    for folder in folders[:-1]:\n",
    "        current_path += folder + '/' \n",
    "        try:\n",
    "            os.mkdir(current_path)\n",
    "        except OSError as error:\n",
    "            pass\n",
    "    current_path += folders[-1]\n",
    "    shutil.rmtree(current_path, ignore_errors=True)\n",
    "    os.mkdir(current_path)\n",
    "\n",
    "def augment(data, n_times=1, batch_size=2, img_size=(140,20), input_path='data/images/',\n",
    "            output_path='data/augmented/', seed = None, save_format='png', x_col='fname', y_col=\"Cl\",\n",
    "            shuffle=False, color_mode='grayscale', class_mode=\"categorical\"):\n",
    "    n_steps_data_aug = np.ceil(data.shape[0]/batch_size).astype(int)\n",
    "    save_prefix = 'aug'\n",
    "    \n",
    "    datagen = ImageDataGenerator(\n",
    "        rotation_range=1,\n",
    "        width_shift_range=0.15,\n",
    "        height_shift_range=0.15,\n",
    "        shear_range=0.15,\n",
    "        zoom_range=0.15,\n",
    "        horizontal_flip=True,\n",
    "        vertical_flip=False,\n",
    "        fill_mode=\"nearest\"\n",
    "        # rescale = 1./0xff\n",
    "    )\n",
    "    \n",
    "    aug_gen = datagen.flow_from_dataframe(dataframe=data, directory=input_path,\n",
    "                                          save_to_dir=output_path, save_prefix=save_prefix,\n",
    "                                          save_format=save_format, x_col=x_col, y_col=y_col,\n",
    "                                          batch_size=batch_size, seed=seed,\n",
    "                                          shuffle=shuffle, color_mode=color_mode,\n",
    "                                          class_mode=class_mode, target_size=img_size)\n",
    "\n",
    "    make_directory(output_path)\n",
    "\n",
    "    for i in tqdm(range(n_times*n_steps_data_aug)):\n",
    "        next(aug_gen)\n",
    "\n",
    "    augmented_images = np.array(os.listdir(output_path))\n",
    "    aug_data = pd.concat([pd.Series(augmented_images).str.split('_', expand=True)[1], output_path + pd.Series(augmented_images)], axis=1)\n",
    "\n",
    "    aug_data[y_col] = data[y_col].iloc[aug_data[1]].values\n",
    "    aug_data[1] = data.iloc[aug_data[1]].index\n",
    "    aug_data.rename(columns={0: \"path\", 1: \"data_index\"}, inplace=True)\n",
    "\n",
    "    return aug_data, aug_gen.classes"
   ]
  },
  {
   "cell_type": "code",
   "execution_count": 15,
   "id": "876c53fb",
   "metadata": {},
   "outputs": [],
   "source": [
    "img_size = (140, 20)\n",
    "train_out_path = os.path.join(images_path, 'augmented/train/')\n",
    "test_out_path = os.path.join(images_path, 'augmented/test/') "
   ]
  },
  {
   "cell_type": "code",
   "execution_count": 16,
   "id": "03547ede",
   "metadata": {},
   "outputs": [
    {
     "name": "stdout",
     "output_type": "stream",
     "text": [
      "Found 2910 validated image filenames belonging to 10 classes.\n"
     ]
    },
    {
     "name": "stderr",
     "output_type": "stream",
     "text": [
      "100%|█████████████████████████████████████████████████████████████████████████████████████████████████████████████████████████████████████████████████████████████████████████████████████| 5824/5824 [00:14<00:00, 409.03it/s]\n"
     ]
    },
    {
     "name": "stdout",
     "output_type": "stream",
     "text": [
      "Found 545 validated image filenames belonging to 10 classes.\n"
     ]
    },
    {
     "name": "stderr",
     "output_type": "stream",
     "text": [
      "100%|███████████████████████████████████████████████████████████████████████████████████████████████████████████████████████████████████████████████████████████████████████████████████████| 274/274 [00:00<00:00, 395.37it/s]\n"
     ]
    },
    {
     "data": {
      "text/html": [
       "<div>\n",
       "<style scoped>\n",
       "    .dataframe tbody tr th:only-of-type {\n",
       "        vertical-align: middle;\n",
       "    }\n",
       "\n",
       "    .dataframe tbody tr th {\n",
       "        vertical-align: top;\n",
       "    }\n",
       "\n",
       "    .dataframe thead th {\n",
       "        text-align: right;\n",
       "    }\n",
       "</style>\n",
       "<table border=\"1\" class=\"dataframe\">\n",
       "  <thead>\n",
       "    <tr style=\"text-align: right;\">\n",
       "      <th></th>\n",
       "      <th>data_index</th>\n",
       "      <th>path</th>\n",
       "      <th>Cl</th>\n",
       "    </tr>\n",
       "  </thead>\n",
       "  <tbody>\n",
       "    <tr>\n",
       "      <th>0</th>\n",
       "      <td>210</td>\n",
       "      <td>data/Plate_images/Subtypes/17_2/augmented/trai...</td>\n",
       "      <td>C Ba</td>\n",
       "    </tr>\n",
       "    <tr>\n",
       "      <th>1</th>\n",
       "      <td>676</td>\n",
       "      <td>data/Plate_images/Subtypes/17_2/augmented/trai...</td>\n",
       "      <td>C-H</td>\n",
       "    </tr>\n",
       "    <tr>\n",
       "      <th>2</th>\n",
       "      <td>552</td>\n",
       "      <td>data/Plate_images/Subtypes/17_2/augmented/trai...</td>\n",
       "      <td>C-H</td>\n",
       "    </tr>\n",
       "    <tr>\n",
       "      <th>3</th>\n",
       "      <td>1551</td>\n",
       "      <td>data/Plate_images/Subtypes/17_2/augmented/trai...</td>\n",
       "      <td>Mrk SB</td>\n",
       "    </tr>\n",
       "    <tr>\n",
       "      <th>4</th>\n",
       "      <td>1310</td>\n",
       "      <td>data/Plate_images/Subtypes/17_2/augmented/trai...</td>\n",
       "      <td>Mrk SB</td>\n",
       "    </tr>\n",
       "  </tbody>\n",
       "</table>\n",
       "</div>"
      ],
      "text/plain": [
       "   data_index                                               path      Cl\n",
       "0         210  data/Plate_images/Subtypes/17_2/augmented/trai...    C Ba\n",
       "1         676  data/Plate_images/Subtypes/17_2/augmented/trai...     C-H\n",
       "2         552  data/Plate_images/Subtypes/17_2/augmented/trai...     C-H\n",
       "3        1551  data/Plate_images/Subtypes/17_2/augmented/trai...  Mrk SB\n",
       "4        1310  data/Plate_images/Subtypes/17_2/augmented/trai...  Mrk SB"
      ]
     },
     "execution_count": 16,
     "metadata": {},
     "output_type": "execute_result"
    }
   ],
   "source": [
    "aug_train, aug_classes = augment(df_train, n_times=8, batch_size=4, img_size=img_size,\n",
    "                                 input_path=None, output_path=train_out_path,\n",
    "                                 seed=None, save_format='tiff', x_col='path')\n",
    "aug_test, _ = augment(df_test, n_times=2, batch_size=4, img_size=img_size, input_path=None,\n",
    "                      output_path=test_out_path, seed=None, save_format='tiff', x_col='path')\n",
    "aug_train.head()"
   ]
  },
  {
   "cell_type": "code",
   "execution_count": 17,
   "id": "ac56b4d4",
   "metadata": {},
   "outputs": [
    {
     "data": {
      "text/html": [
       "<div>\n",
       "<style scoped>\n",
       "    .dataframe tbody tr th:only-of-type {\n",
       "        vertical-align: middle;\n",
       "    }\n",
       "\n",
       "    .dataframe tbody tr th {\n",
       "        vertical-align: top;\n",
       "    }\n",
       "\n",
       "    .dataframe thead th {\n",
       "        text-align: right;\n",
       "    }\n",
       "</style>\n",
       "<table border=\"1\" class=\"dataframe\">\n",
       "  <thead>\n",
       "    <tr style=\"text-align: right;\">\n",
       "      <th></th>\n",
       "      <th>Cl</th>\n",
       "      <th>path</th>\n",
       "      <th>fname</th>\n",
       "    </tr>\n",
       "    <tr>\n",
       "      <th>Unnamed: 0</th>\n",
       "      <th></th>\n",
       "      <th></th>\n",
       "      <th></th>\n",
       "    </tr>\n",
       "  </thead>\n",
       "  <tbody>\n",
       "    <tr>\n",
       "      <th>1014</th>\n",
       "      <td>Mrk Abs</td>\n",
       "      <td>data/Plates/Subtypes/17_2/fbs1258M_cor/images/...</td>\n",
       "      <td>1014__658.tiff</td>\n",
       "    </tr>\n",
       "    <tr>\n",
       "      <th>511</th>\n",
       "      <td>C-H</td>\n",
       "      <td>data/Plates/Subtypes/17_2/fbs1012_cor/images/5...</td>\n",
       "      <td>511__J163400.29+544829.5.tiff</td>\n",
       "    </tr>\n",
       "    <tr>\n",
       "      <th>273</th>\n",
       "      <td>C-H</td>\n",
       "      <td>data/Plates/Subtypes/17_2/fbs0368_cor/images/2...</td>\n",
       "      <td>273__J171729.25+171357.3.tiff</td>\n",
       "    </tr>\n",
       "    <tr>\n",
       "      <th>273</th>\n",
       "      <td>C-H</td>\n",
       "      <td>data/Plates/Subtypes/17_2/fbs1567_cor/images/2...</td>\n",
       "      <td>273__J171729.25+171357.3.tiff</td>\n",
       "    </tr>\n",
       "    <tr>\n",
       "      <th>273</th>\n",
       "      <td>C-H</td>\n",
       "      <td>data/Plates/Subtypes/17_2/fbs1687_cor/images/2...</td>\n",
       "      <td>273__J171729.25+171357.3.tiff</td>\n",
       "    </tr>\n",
       "    <tr>\n",
       "      <th>...</th>\n",
       "      <td>...</td>\n",
       "      <td>...</td>\n",
       "      <td>...</td>\n",
       "    </tr>\n",
       "    <tr>\n",
       "      <th>1790</th>\n",
       "      <td>sdA</td>\n",
       "      <td>data/Plates/Subtypes/17_2/fbs0034_cor/images/1...</td>\n",
       "      <td>1790__PG0110+262.tiff</td>\n",
       "    </tr>\n",
       "    <tr>\n",
       "      <th>1690</th>\n",
       "      <td>Mrk SB</td>\n",
       "      <td>data/Plates/Subtypes/17_2/fbs1224M_cor/images/...</td>\n",
       "      <td>1690__597.tiff</td>\n",
       "    </tr>\n",
       "    <tr>\n",
       "      <th>1519</th>\n",
       "      <td>Mrk SB</td>\n",
       "      <td>data/Plates/Subtypes/17_2/fbs1104_cor/images/1...</td>\n",
       "      <td>1519__1375.tiff</td>\n",
       "    </tr>\n",
       "    <tr>\n",
       "      <th>1519</th>\n",
       "      <td>Mrk SB</td>\n",
       "      <td>data/Plates/Subtypes/17_2/fbs0812_cor/images/1...</td>\n",
       "      <td>1519__1375.tiff</td>\n",
       "    </tr>\n",
       "    <tr>\n",
       "      <th>1595</th>\n",
       "      <td>Mrk SB</td>\n",
       "      <td>data/Plates/Subtypes/17_2/fbs0209_cor/images/1...</td>\n",
       "      <td>1595__419.tiff</td>\n",
       "    </tr>\n",
       "  </tbody>\n",
       "</table>\n",
       "<p>2910 rows × 3 columns</p>\n",
       "</div>"
      ],
      "text/plain": [
       "                 Cl                                               path  \\\n",
       "Unnamed: 0                                                               \n",
       "1014        Mrk Abs  data/Plates/Subtypes/17_2/fbs1258M_cor/images/...   \n",
       "511             C-H  data/Plates/Subtypes/17_2/fbs1012_cor/images/5...   \n",
       "273             C-H  data/Plates/Subtypes/17_2/fbs0368_cor/images/2...   \n",
       "273             C-H  data/Plates/Subtypes/17_2/fbs1567_cor/images/2...   \n",
       "273             C-H  data/Plates/Subtypes/17_2/fbs1687_cor/images/2...   \n",
       "...             ...                                                ...   \n",
       "1790            sdA  data/Plates/Subtypes/17_2/fbs0034_cor/images/1...   \n",
       "1690         Mrk SB  data/Plates/Subtypes/17_2/fbs1224M_cor/images/...   \n",
       "1519         Mrk SB  data/Plates/Subtypes/17_2/fbs1104_cor/images/1...   \n",
       "1519         Mrk SB  data/Plates/Subtypes/17_2/fbs0812_cor/images/1...   \n",
       "1595         Mrk SB  data/Plates/Subtypes/17_2/fbs0209_cor/images/1...   \n",
       "\n",
       "                                    fname  \n",
       "Unnamed: 0                                 \n",
       "1014                       1014__658.tiff  \n",
       "511         511__J163400.29+544829.5.tiff  \n",
       "273         273__J171729.25+171357.3.tiff  \n",
       "273         273__J171729.25+171357.3.tiff  \n",
       "273         273__J171729.25+171357.3.tiff  \n",
       "...                                   ...  \n",
       "1790                1790__PG0110+262.tiff  \n",
       "1690                       1690__597.tiff  \n",
       "1519                      1519__1375.tiff  \n",
       "1519                      1519__1375.tiff  \n",
       "1595                       1595__419.tiff  \n",
       "\n",
       "[2910 rows x 3 columns]"
      ]
     },
     "execution_count": 17,
     "metadata": {},
     "output_type": "execute_result"
    }
   ],
   "source": [
    "df_train"
   ]
  },
  {
   "cell_type": "code",
   "execution_count": 18,
   "id": "079acdea",
   "metadata": {},
   "outputs": [],
   "source": [
    "df_train = aug_train\n",
    "df_test = aug_test"
   ]
  },
  {
   "cell_type": "code",
   "execution_count": 19,
   "id": "90e1a9c7",
   "metadata": {},
   "outputs": [
    {
     "data": {
      "text/html": [
       "<div>\n",
       "<style scoped>\n",
       "    .dataframe tbody tr th:only-of-type {\n",
       "        vertical-align: middle;\n",
       "    }\n",
       "\n",
       "    .dataframe tbody tr th {\n",
       "        vertical-align: top;\n",
       "    }\n",
       "\n",
       "    .dataframe thead th {\n",
       "        text-align: right;\n",
       "    }\n",
       "</style>\n",
       "<table border=\"1\" class=\"dataframe\">\n",
       "  <thead>\n",
       "    <tr style=\"text-align: right;\">\n",
       "      <th></th>\n",
       "      <th>data_index</th>\n",
       "      <th>path</th>\n",
       "      <th>Cl</th>\n",
       "    </tr>\n",
       "  </thead>\n",
       "  <tbody>\n",
       "    <tr>\n",
       "      <th>0</th>\n",
       "      <td>210</td>\n",
       "      <td>data/Plate_images/Subtypes/17_2/augmented/trai...</td>\n",
       "      <td>C Ba</td>\n",
       "    </tr>\n",
       "    <tr>\n",
       "      <th>1</th>\n",
       "      <td>676</td>\n",
       "      <td>data/Plate_images/Subtypes/17_2/augmented/trai...</td>\n",
       "      <td>C-H</td>\n",
       "    </tr>\n",
       "    <tr>\n",
       "      <th>2</th>\n",
       "      <td>552</td>\n",
       "      <td>data/Plate_images/Subtypes/17_2/augmented/trai...</td>\n",
       "      <td>C-H</td>\n",
       "    </tr>\n",
       "    <tr>\n",
       "      <th>3</th>\n",
       "      <td>1551</td>\n",
       "      <td>data/Plate_images/Subtypes/17_2/augmented/trai...</td>\n",
       "      <td>Mrk SB</td>\n",
       "    </tr>\n",
       "    <tr>\n",
       "      <th>4</th>\n",
       "      <td>1310</td>\n",
       "      <td>data/Plate_images/Subtypes/17_2/augmented/trai...</td>\n",
       "      <td>Mrk SB</td>\n",
       "    </tr>\n",
       "  </tbody>\n",
       "</table>\n",
       "</div>"
      ],
      "text/plain": [
       "   data_index                                               path      Cl\n",
       "0         210  data/Plate_images/Subtypes/17_2/augmented/trai...    C Ba\n",
       "1         676  data/Plate_images/Subtypes/17_2/augmented/trai...     C-H\n",
       "2         552  data/Plate_images/Subtypes/17_2/augmented/trai...     C-H\n",
       "3        1551  data/Plate_images/Subtypes/17_2/augmented/trai...  Mrk SB\n",
       "4        1310  data/Plate_images/Subtypes/17_2/augmented/trai...  Mrk SB"
      ]
     },
     "execution_count": 19,
     "metadata": {},
     "output_type": "execute_result"
    }
   ],
   "source": [
    "df_train.head()"
   ]
  },
  {
   "cell_type": "code",
   "execution_count": 20,
   "id": "316226fc",
   "metadata": {},
   "outputs": [],
   "source": [
    "train_raw = df_train[['path', 'Cl']]\n",
    "test_raw = df_test[['path', 'Cl']]"
   ]
  },
  {
   "cell_type": "code",
   "execution_count": 21,
   "id": "8d2cee12",
   "metadata": {},
   "outputs": [],
   "source": [
    "train_raw['data_index'] = train_raw.index\n",
    "test_raw['data_index'] = test_raw.index"
   ]
  },
  {
   "cell_type": "code",
   "execution_count": 22,
   "id": "0bb3acbd",
   "metadata": {},
   "outputs": [
    {
     "data": {
      "text/html": [
       "<div>\n",
       "<style scoped>\n",
       "    .dataframe tbody tr th:only-of-type {\n",
       "        vertical-align: middle;\n",
       "    }\n",
       "\n",
       "    .dataframe tbody tr th {\n",
       "        vertical-align: top;\n",
       "    }\n",
       "\n",
       "    .dataframe thead th {\n",
       "        text-align: right;\n",
       "    }\n",
       "</style>\n",
       "<table border=\"1\" class=\"dataframe\">\n",
       "  <thead>\n",
       "    <tr style=\"text-align: right;\">\n",
       "      <th></th>\n",
       "      <th>path</th>\n",
       "      <th>Cl</th>\n",
       "      <th>data_index</th>\n",
       "    </tr>\n",
       "  </thead>\n",
       "  <tbody>\n",
       "    <tr>\n",
       "      <th>0</th>\n",
       "      <td>data/Plate_images/Subtypes/17_2/augmented/trai...</td>\n",
       "      <td>C Ba</td>\n",
       "      <td>0</td>\n",
       "    </tr>\n",
       "    <tr>\n",
       "      <th>1</th>\n",
       "      <td>data/Plate_images/Subtypes/17_2/augmented/trai...</td>\n",
       "      <td>C-H</td>\n",
       "      <td>1</td>\n",
       "    </tr>\n",
       "    <tr>\n",
       "      <th>2</th>\n",
       "      <td>data/Plate_images/Subtypes/17_2/augmented/trai...</td>\n",
       "      <td>C-H</td>\n",
       "      <td>2</td>\n",
       "    </tr>\n",
       "    <tr>\n",
       "      <th>3</th>\n",
       "      <td>data/Plate_images/Subtypes/17_2/augmented/trai...</td>\n",
       "      <td>Mrk SB</td>\n",
       "      <td>3</td>\n",
       "    </tr>\n",
       "    <tr>\n",
       "      <th>4</th>\n",
       "      <td>data/Plate_images/Subtypes/17_2/augmented/trai...</td>\n",
       "      <td>Mrk SB</td>\n",
       "      <td>4</td>\n",
       "    </tr>\n",
       "  </tbody>\n",
       "</table>\n",
       "</div>"
      ],
      "text/plain": [
       "                                                path      Cl  data_index\n",
       "0  data/Plate_images/Subtypes/17_2/augmented/trai...    C Ba           0\n",
       "1  data/Plate_images/Subtypes/17_2/augmented/trai...     C-H           1\n",
       "2  data/Plate_images/Subtypes/17_2/augmented/trai...     C-H           2\n",
       "3  data/Plate_images/Subtypes/17_2/augmented/trai...  Mrk SB           3\n",
       "4  data/Plate_images/Subtypes/17_2/augmented/trai...  Mrk SB           4"
      ]
     },
     "execution_count": 22,
     "metadata": {},
     "output_type": "execute_result"
    }
   ],
   "source": [
    "train_raw.head()"
   ]
  },
  {
   "cell_type": "code",
   "execution_count": 23,
   "id": "f105e6b9",
   "metadata": {},
   "outputs": [
    {
     "data": {
      "text/html": [
       "<div>\n",
       "<style scoped>\n",
       "    .dataframe tbody tr th:only-of-type {\n",
       "        vertical-align: middle;\n",
       "    }\n",
       "\n",
       "    .dataframe tbody tr th {\n",
       "        vertical-align: top;\n",
       "    }\n",
       "\n",
       "    .dataframe thead th {\n",
       "        text-align: right;\n",
       "    }\n",
       "</style>\n",
       "<table border=\"1\" class=\"dataframe\">\n",
       "  <thead>\n",
       "    <tr style=\"text-align: right;\">\n",
       "      <th></th>\n",
       "      <th>data_index</th>\n",
       "      <th>path</th>\n",
       "      <th>Cl</th>\n",
       "    </tr>\n",
       "  </thead>\n",
       "  <tbody>\n",
       "    <tr>\n",
       "      <th>0</th>\n",
       "      <td>210</td>\n",
       "      <td>data/Plate_images/Subtypes/17_2/augmented/trai...</td>\n",
       "      <td>C Ba</td>\n",
       "    </tr>\n",
       "    <tr>\n",
       "      <th>1</th>\n",
       "      <td>676</td>\n",
       "      <td>data/Plate_images/Subtypes/17_2/augmented/trai...</td>\n",
       "      <td>C-H</td>\n",
       "    </tr>\n",
       "    <tr>\n",
       "      <th>2</th>\n",
       "      <td>552</td>\n",
       "      <td>data/Plate_images/Subtypes/17_2/augmented/trai...</td>\n",
       "      <td>C-H</td>\n",
       "    </tr>\n",
       "    <tr>\n",
       "      <th>3</th>\n",
       "      <td>1551</td>\n",
       "      <td>data/Plate_images/Subtypes/17_2/augmented/trai...</td>\n",
       "      <td>Mrk SB</td>\n",
       "    </tr>\n",
       "    <tr>\n",
       "      <th>4</th>\n",
       "      <td>1310</td>\n",
       "      <td>data/Plate_images/Subtypes/17_2/augmented/trai...</td>\n",
       "      <td>Mrk SB</td>\n",
       "    </tr>\n",
       "  </tbody>\n",
       "</table>\n",
       "</div>"
      ],
      "text/plain": [
       "   data_index                                               path      Cl\n",
       "0         210  data/Plate_images/Subtypes/17_2/augmented/trai...    C Ba\n",
       "1         676  data/Plate_images/Subtypes/17_2/augmented/trai...     C-H\n",
       "2         552  data/Plate_images/Subtypes/17_2/augmented/trai...     C-H\n",
       "3        1551  data/Plate_images/Subtypes/17_2/augmented/trai...  Mrk SB\n",
       "4        1310  data/Plate_images/Subtypes/17_2/augmented/trai...  Mrk SB"
      ]
     },
     "execution_count": 23,
     "metadata": {},
     "output_type": "execute_result"
    }
   ],
   "source": [
    "aug_train.head()"
   ]
  },
  {
   "cell_type": "code",
   "execution_count": 24,
   "id": "42759984",
   "metadata": {},
   "outputs": [],
   "source": [
    "df_train = pd.concat([train_raw, aug_train]).reset_index()\n",
    "df_test = pd.concat([test_raw, aug_test]).reset_index()"
   ]
  },
  {
   "cell_type": "code",
   "execution_count": 25,
   "id": "9bf2e9d2",
   "metadata": {},
   "outputs": [
    {
     "data": {
      "text/plain": [
       "sdB        12672\n",
       "Mrk SB     10368\n",
       "C-H         9616\n",
       "C Ba        3488\n",
       "sdA         2704\n",
       "sdO         2672\n",
       "Mrk AGN     1920\n",
       "Mrk Abs     1712\n",
       "C-R          816\n",
       "C-N          592\n",
       "Name: Cl, dtype: int64"
      ]
     },
     "execution_count": 25,
     "metadata": {},
     "output_type": "execute_result"
    }
   ],
   "source": [
    "df_train['Cl'].value_counts()"
   ]
  },
  {
   "cell_type": "code",
   "execution_count": 26,
   "id": "4857a823",
   "metadata": {},
   "outputs": [
    {
     "data": {
      "text/plain": [
       "sdB        600\n",
       "C-H        516\n",
       "Mrk SB     420\n",
       "C Ba       148\n",
       "sdO        116\n",
       "sdA        108\n",
       "Mrk Abs    104\n",
       "Mrk AGN     80\n",
       "C-N         44\n",
       "C-R         44\n",
       "Name: Cl, dtype: int64"
      ]
     },
     "execution_count": 26,
     "metadata": {},
     "output_type": "execute_result"
    }
   ],
   "source": [
    "df_test['Cl'].value_counts()"
   ]
  },
  {
   "cell_type": "code",
   "execution_count": 27,
   "id": "18256cc3",
   "metadata": {},
   "outputs": [],
   "source": [
    "from sklearn import preprocessing\n",
    "le = preprocessing.LabelEncoder()\n",
    "le.fit(df_train['Cl'])\n",
    "df_train['Cl']=le.transform(df_train['Cl'])\n",
    "df_test['Cl']=le.transform(df_test['Cl'])"
   ]
  },
  {
   "cell_type": "code",
   "execution_count": 28,
   "id": "dd50f0fc",
   "metadata": {},
   "outputs": [
    {
     "data": {
      "text/plain": [
       "8    12672\n",
       "6    10368\n",
       "1     9616\n",
       "0     3488\n",
       "7     2704\n",
       "9     2672\n",
       "4     1920\n",
       "5     1712\n",
       "3      816\n",
       "2      592\n",
       "Name: Cl, dtype: int64"
      ]
     },
     "execution_count": 28,
     "metadata": {},
     "output_type": "execute_result"
    }
   ],
   "source": [
    "df_train['Cl'].value_counts()"
   ]
  },
  {
   "cell_type": "code",
   "execution_count": 29,
   "id": "39b6f661",
   "metadata": {},
   "outputs": [
    {
     "data": {
      "text/plain": [
       "8    600\n",
       "1    516\n",
       "6    420\n",
       "0    148\n",
       "9    116\n",
       "7    108\n",
       "5    104\n",
       "4     80\n",
       "2     44\n",
       "3     44\n",
       "Name: Cl, dtype: int64"
      ]
     },
     "execution_count": 29,
     "metadata": {},
     "output_type": "execute_result"
    }
   ],
   "source": [
    "df_test['Cl'].value_counts()"
   ]
  },
  {
   "cell_type": "code",
   "execution_count": 30,
   "id": "8ec0b927",
   "metadata": {},
   "outputs": [],
   "source": [
    "X_tr = df_train['path']\n",
    "Y_tr = df_train['Cl']\n",
    "X_tr = X_tr.values\n",
    "Y_tr = Y_tr.values\n",
    "\n",
    "X_ts = df_test['path']\n",
    "Y_ts = df_test['Cl']\n",
    "X_ts = X_ts.values\n",
    "Y_ts = Y_ts.values"
   ]
  },
  {
   "cell_type": "code",
   "execution_count": 92,
   "id": "229ed675",
   "metadata": {},
   "outputs": [],
   "source": [
    "images_list_train = []\n",
    "max_width = 0\n",
    "max_height = 0\n",
    "ind = 0\n",
    "\n",
    "for i in range(len(X_tr)):\n",
    "    im = Image.open(X_tr[i])\n",
    "    arr = np.array(im)\n",
    "\n",
    "    arr=(arr-arr.min())/(arr.max()-arr.min())\n",
    "\n",
    "    if arr.mean() > 0.5:\n",
    "        arr = 1 - arr\n",
    "\n",
    "    s = arr.shape\n",
    "    if s[0] > max_height:\n",
    "        max_height = s[0]\n",
    "    if s[1] > max_width:\n",
    "        max_width = s[1]\n",
    "        ind = i\n",
    "    images_list_train.append(arr)\n",
    "    \n",
    "images_list_test = []\n",
    "ind = 0\n",
    "for i in range(len(X_ts)):\n",
    "    im = Image.open(X_ts[i])\n",
    "    arr = np.array(im)\n",
    "    \n",
    "    arr=(arr-arr.min())/(arr.max()-arr.min())\n",
    "\n",
    "    if arr.mean() > 0.5:\n",
    "        arr = 1 - arr\n",
    "    \n",
    "    s = arr.shape\n",
    "    if s[0] > max_height:\n",
    "        max_height = s[0]\n",
    "    if s[1] > max_width:\n",
    "        max_width = s[1]\n",
    "        ind = i\n",
    "    images_list_test.append(arr)"
   ]
  },
  {
   "cell_type": "code",
   "execution_count": 93,
   "id": "0c370057",
   "metadata": {},
   "outputs": [
    {
     "data": {
      "text/plain": [
       "(140, 20)"
      ]
     },
     "execution_count": 93,
     "metadata": {},
     "output_type": "execute_result"
    }
   ],
   "source": [
    "max_height, max_width"
   ]
  },
  {
   "cell_type": "code",
   "execution_count": 94,
   "id": "f33d87a6",
   "metadata": {},
   "outputs": [],
   "source": [
    "max_width = 50\n",
    "max_height = 160"
   ]
  },
  {
   "cell_type": "code",
   "execution_count": 95,
   "id": "7d0d0366",
   "metadata": {},
   "outputs": [
    {
     "name": "stdout",
     "output_type": "stream",
     "text": [
      "50 160\n"
     ]
    }
   ],
   "source": [
    "print(max_width, max_height)"
   ]
  },
  {
   "cell_type": "code",
   "execution_count": null,
   "id": "a0a90bcb",
   "metadata": {},
   "outputs": [],
   "source": [
    "for i in range(len(images_list_train)):\n",
    "    s = images_list_train[i].shape\n",
    "    d_width = (max_width - s[1])\n",
    "    d_height = (max_height - s[0])\n",
    "    \n",
    "    d_top = int(d_height / 2)\n",
    "    d_bottom = int(d_height - d_top)\n",
    "    \n",
    "    d_left = int(d_width / 2)\n",
    "    d_right = int(d_width - d_left)\n",
    "    #print(d_top, d_bottom, d_left, d_right)\n",
    "    \n",
    "    arr = images_list_train[i]\n",
    "    for l in range(d_left):\n",
    "        arr = np.insert(arr, 0, 0, axis = 1)\n",
    "    \n",
    "    for r in range(d_right):\n",
    "        b = np.zeros((s[0],1))\n",
    "        arr = np.append(arr, b, axis = 1)\n",
    "    \n",
    "    for t in range(d_top):\n",
    "        arr = np.insert(arr, 0, 0, axis = 0)\n",
    "    \n",
    "    for b in range(d_bottom):\n",
    "        b = np.zeros((1, arr.shape[1],))\n",
    "        arr = np.append(arr, b, axis = 0)\n",
    "    \n",
    "    images_list_train[i] = arr.flatten()\n",
    "\n",
    "for i in range(len(images_list_test)):\n",
    "    s = images_list_test[i].shape\n",
    "    d_width = (max_width - s[1])\n",
    "    d_height = (max_height - s[0])\n",
    "    \n",
    "    d_top = int(d_height / 2)\n",
    "    d_bottom = int(d_height - d_top)\n",
    "    \n",
    "    d_left = int(d_width / 2)\n",
    "    d_right = int(d_width - d_left)\n",
    "    #print(d_top, d_bottom, d_left, d_right)\n",
    "    \n",
    "    arr = images_list_test[i]\n",
    "    for l in range(d_left):\n",
    "        arr = np.insert(arr, 0, 0, axis = 1)\n",
    "    \n",
    "    for r in range(d_right):\n",
    "        b = np.zeros((s[0],1))\n",
    "        arr = np.append(arr, b, axis = 1)\n",
    "    \n",
    "    for t in range(d_top):\n",
    "        arr = np.insert(arr, 0, 0, axis = 0)\n",
    "    \n",
    "    for b in range(d_bottom):\n",
    "        b = np.zeros((1, arr.shape[1],))\n",
    "        arr = np.append(arr, b, axis = 0)\n",
    "    \n",
    "    images_list_test[i] = arr.flatten()"
   ]
  },
  {
   "cell_type": "code",
   "execution_count": 37,
   "id": "d66b1b3c",
   "metadata": {},
   "outputs": [],
   "source": [
    "images_np_train = np.array(images_list_train)\n",
    "images_np_test = np.array(images_list_test)"
   ]
  },
  {
   "cell_type": "code",
   "execution_count": 38,
   "id": "4e848a5b",
   "metadata": {},
   "outputs": [],
   "source": [
    "class_count = len(df_train['Cl'].unique())\n",
    "X_train = images_np_train\n",
    "Y_train = Y_tr\n",
    "Y_train = to_categorical(Y_train, class_count)\n",
    "\n",
    "X_test = images_np_test\n",
    "Y_test = Y_ts\n",
    "Y_test = to_categorical(Y_test, class_count)"
   ]
  },
  {
   "cell_type": "code",
   "execution_count": 39,
   "id": "25765383",
   "metadata": {},
   "outputs": [],
   "source": [
    "X_train = X_train.reshape(X_train.shape[0], max_height, max_width, 1)\n",
    "X_test = X_test.reshape(X_test.shape[0], max_height, max_width, 1)\n",
    "input_shape = (max_height, max_width, 1)"
   ]
  },
  {
   "cell_type": "code",
   "execution_count": 40,
   "id": "37f537c9",
   "metadata": {},
   "outputs": [
    {
     "name": "stdout",
     "output_type": "stream",
     "text": [
      "x_train shape: (22830, 160, 50, 1)\n",
      "22830 train samples\n",
      "1588 test samples\n"
     ]
    }
   ],
   "source": [
    "print('x_train shape:', X_train.shape)\n",
    "print(X_train.shape[0], 'train samples')\n",
    "print(X_test.shape[0], 'test samples')"
   ]
  },
  {
   "cell_type": "code",
   "execution_count": 43,
   "id": "f710d1d1",
   "metadata": {},
   "outputs": [],
   "source": [
    "model = Sequential()\n",
    "model.add(Conv2D(128, kernel_size=(3,3), input_shape=input_shape, padding=\"same\"))\n",
    "model.add(MaxPooling2D(pool_size=(2, 2)))\n",
    "\n",
    "model.add(Conv2D(128, (3, 3), padding=\"same\"))\n",
    "model.add(Activation('relu'))\n",
    "model.add(MaxPooling2D(pool_size=(1, 2)))\n",
    "\n",
    "model.add(Conv2D(64, (3, 3), padding=\"same\"))\n",
    "model.add(Activation('relu'))\n",
    "model.add(MaxPooling2D(pool_size=(2, 1)))\n",
    "\n",
    "model.add(Conv2D(64, (3, 3), padding=\"same\"))\n",
    "model.add(Activation('relu'))\n",
    "model.add(MaxPooling2D(pool_size=(2, 2)))\n",
    "\n",
    "model.add(Conv2D(64, (3, 3), padding=\"same\"))\n",
    "model.add(Activation('relu'))\n",
    "model.add(MaxPooling2D(pool_size=(2, 1)))\n",
    "\n",
    "model.add(Flatten())\n",
    "model.add(Dense(512, activation='relu'))\n",
    "model.add(Dropout(0.5))\n",
    "model.add(Dense(class_count,activation='softmax'))"
   ]
  },
  {
   "cell_type": "code",
   "execution_count": 44,
   "id": "cda8978a",
   "metadata": {},
   "outputs": [
    {
     "name": "stdout",
     "output_type": "stream",
     "text": [
      "Model: \"sequential_1\"\n",
      "_________________________________________________________________\n",
      " Layer (type)                Output Shape              Param #   \n",
      "=================================================================\n",
      " conv2d_5 (Conv2D)           (None, 160, 50, 128)      1280      \n",
      "                                                                 \n",
      " max_pooling2d_5 (MaxPooling  (None, 80, 25, 128)      0         \n",
      " 2D)                                                             \n",
      "                                                                 \n",
      " conv2d_6 (Conv2D)           (None, 80, 25, 128)       147584    \n",
      "                                                                 \n",
      " activation_4 (Activation)   (None, 80, 25, 128)       0         \n",
      "                                                                 \n",
      " max_pooling2d_6 (MaxPooling  (None, 80, 12, 128)      0         \n",
      " 2D)                                                             \n",
      "                                                                 \n",
      " conv2d_7 (Conv2D)           (None, 80, 12, 64)        73792     \n",
      "                                                                 \n",
      " activation_5 (Activation)   (None, 80, 12, 64)        0         \n",
      "                                                                 \n",
      " max_pooling2d_7 (MaxPooling  (None, 40, 12, 64)       0         \n",
      " 2D)                                                             \n",
      "                                                                 \n",
      " conv2d_8 (Conv2D)           (None, 40, 12, 64)        36928     \n",
      "                                                                 \n",
      " activation_6 (Activation)   (None, 40, 12, 64)        0         \n",
      "                                                                 \n",
      " max_pooling2d_8 (MaxPooling  (None, 20, 6, 64)        0         \n",
      " 2D)                                                             \n",
      "                                                                 \n",
      " conv2d_9 (Conv2D)           (None, 20, 6, 64)         36928     \n",
      "                                                                 \n",
      " activation_7 (Activation)   (None, 20, 6, 64)         0         \n",
      "                                                                 \n",
      " max_pooling2d_9 (MaxPooling  (None, 10, 6, 64)        0         \n",
      " 2D)                                                             \n",
      "                                                                 \n",
      " flatten_1 (Flatten)         (None, 3840)              0         \n",
      "                                                                 \n",
      " dense_2 (Dense)             (None, 512)               1966592   \n",
      "                                                                 \n",
      " dropout_1 (Dropout)         (None, 512)               0         \n",
      "                                                                 \n",
      " dense_3 (Dense)             (None, 4)                 2052      \n",
      "                                                                 \n",
      "=================================================================\n",
      "Total params: 2,265,156\n",
      "Trainable params: 2,265,156\n",
      "Non-trainable params: 0\n",
      "_________________________________________________________________\n"
     ]
    }
   ],
   "source": [
    "model.summary()"
   ]
  },
  {
   "cell_type": "code",
   "execution_count": 45,
   "id": "1592c905",
   "metadata": {},
   "outputs": [],
   "source": [
    "adadelta = optimizers.Adadelta(learning_rate=0.01, rho=0.95)\n",
    "model.compile(optimizer=adadelta , loss='categorical_crossentropy', metrics=['accuracy'])"
   ]
  },
  {
   "cell_type": "code",
   "execution_count": 46,
   "id": "73f8017a",
   "metadata": {},
   "outputs": [],
   "source": [
    "checkpoint_directory = f'data/Checkpoints/Plates/{csv_name}/{setting}/'\n",
    "\n",
    "model_checkpoint_callback = ModelCheckpoint(\n",
    "    filepath=checkpoint_directory + 'checkpoint',\n",
    "    save_weights_only=True,\n",
    "    monitor='val_accuracy',\n",
    "    mode='max',\n",
    "    save_best_only=True)\n",
    "\n",
    "make_directory(checkpoint_directory)\n",
    "\n",
    "def lr_schedule(epoch):\n",
    "    lrate = 0.002\n",
    "    if epoch > 3:\n",
    "        lrate = 0.001\n",
    "    if epoch > 6:\n",
    "        lrate = 0.0005\n",
    "    if epoch > 9:\n",
    "        lrate = 0.00025\n",
    "    if epoch > 12:\n",
    "        lrate = 0.0001\n",
    "    if epoch > 15:\n",
    "        lrate = 0.00005\n",
    "    return lrate\n",
    "\n",
    "lr_scheduler = LearningRateScheduler(lr_schedule)"
   ]
  },
  {
   "cell_type": "code",
   "execution_count": 38,
   "id": "835a35ec",
   "metadata": {
    "scrolled": true
   },
   "outputs": [
    {
     "name": "stderr",
     "output_type": "stream",
     "text": [
      "2022-09-26 23:01:10.985886: W tensorflow/core/framework/cpu_allocator_impl.cc:82] Allocation of 363040000 exceeds 10% of free system memory.\n",
      "2022-09-26 23:01:11.218406: W tensorflow/core/framework/cpu_allocator_impl.cc:82] Allocation of 363040000 exceeds 10% of free system memory.\n"
     ]
    },
    {
     "name": "stdout",
     "output_type": "stream",
     "text": [
      "Epoch 1/35\n"
     ]
    },
    {
     "name": "stderr",
     "output_type": "stream",
     "text": [
      "2022-09-26 23:01:12.436470: I tensorflow/stream_executor/cuda/cuda_dnn.cc:366] Loaded cuDNN version 8100\n",
      "2022-09-26 23:01:13.497150: I tensorflow/core/platform/default/subprocess.cc:304] Start cannot spawn child process: No such file or directory\n",
      "2022-09-26 23:01:13.497456: I tensorflow/core/platform/default/subprocess.cc:304] Start cannot spawn child process: No such file or directory\n",
      "2022-09-26 23:01:13.497475: W tensorflow/stream_executor/gpu/asm_compiler.cc:80] Couldn't get ptxas version string: INTERNAL: Couldn't invoke ptxas --version\n",
      "2022-09-26 23:01:13.497895: I tensorflow/core/platform/default/subprocess.cc:304] Start cannot spawn child process: No such file or directory\n",
      "2022-09-26 23:01:13.497954: W tensorflow/stream_executor/gpu/redzone_allocator.cc:314] INTERNAL: Failed to launch ptxas\n",
      "Relying on driver to perform ptx compilation. \n",
      "Modify $PATH to customize ptxas location.\n",
      "This message will be only logged once.\n",
      "2022-09-26 23:01:14.442359: W tensorflow/core/common_runtime/bfc_allocator.cc:275] Allocator (GPU_0_bfc) ran out of memory trying to allocate 2.17GiB with freed_by_count=0. The caller indicates that this is not a failure, but may mean that there could be performance gains if more memory were available.\n",
      "2022-09-26 23:01:14.442410: W tensorflow/core/common_runtime/bfc_allocator.cc:275] Allocator (GPU_0_bfc) ran out of memory trying to allocate 2.17GiB with freed_by_count=0. The caller indicates that this is not a failure, but may mean that there could be performance gains if more memory were available.\n",
      "2022-09-26 23:01:14.626860: I tensorflow/stream_executor/cuda/cuda_blas.cc:1774] TensorFloat-32 will be used for the matrix multiplication. This will only be logged once.\n"
     ]
    },
    {
     "name": "stdout",
     "output_type": "stream",
     "text": [
      "   6/1419 [..............................] - ETA: 15s - loss: 2.1218 - accuracy: 0.2917    "
     ]
    },
    {
     "name": "stderr",
     "output_type": "stream",
     "text": [
      "2022-09-26 23:01:15.206741: W tensorflow/core/common_runtime/bfc_allocator.cc:275] Allocator (GPU_0_bfc) ran out of memory trying to allocate 2.17GiB with freed_by_count=0. The caller indicates that this is not a failure, but may mean that there could be performance gains if more memory were available.\n",
      "2022-09-26 23:01:15.206786: W tensorflow/core/common_runtime/bfc_allocator.cc:275] Allocator (GPU_0_bfc) ran out of memory trying to allocate 2.17GiB with freed_by_count=0. The caller indicates that this is not a failure, but may mean that there could be performance gains if more memory were available.\n",
      "2022-09-26 23:01:15.236807: W tensorflow/core/common_runtime/bfc_allocator.cc:275] Allocator (GPU_0_bfc) ran out of memory trying to allocate 2.05GiB with freed_by_count=0. The caller indicates that this is not a failure, but may mean that there could be performance gains if more memory were available.\n",
      "2022-09-26 23:01:15.236848: W tensorflow/core/common_runtime/bfc_allocator.cc:275] Allocator (GPU_0_bfc) ran out of memory trying to allocate 2.05GiB with freed_by_count=0. The caller indicates that this is not a failure, but may mean that there could be performance gains if more memory were available.\n"
     ]
    },
    {
     "name": "stdout",
     "output_type": "stream",
     "text": [
      "1416/1419 [============================>.] - ETA: 0s - loss: 1.6339 - accuracy: 0.5195"
     ]
    },
    {
     "name": "stderr",
     "output_type": "stream",
     "text": [
      "2022-09-26 23:01:30.051354: W tensorflow/core/common_runtime/bfc_allocator.cc:275] Allocator (GPU_0_bfc) ran out of memory trying to allocate 2.06GiB with freed_by_count=0. The caller indicates that this is not a failure, but may mean that there could be performance gains if more memory were available.\n",
      "2022-09-26 23:01:30.051394: W tensorflow/core/common_runtime/bfc_allocator.cc:275] Allocator (GPU_0_bfc) ran out of memory trying to allocate 2.06GiB with freed_by_count=0. The caller indicates that this is not a failure, but may mean that there could be performance gains if more memory were available.\n"
     ]
    },
    {
     "name": "stdout",
     "output_type": "stream",
     "text": [
      "\b\b\b\b\b\b\b\b\b\b\b\b\b\b\b\b\b\b\b\b\b\b\b\b\b\b\b\b\b\b\b\b\b\b\b\b\b\b\b\b\b\b\b\b\b\b\b\b\b\b\b\b\b\b\b\b\b\b\b\b\b\b\b\b\b\b\b\b\b\b\b\b\b\b\b\b\b\b\b\b\b\b\b\b\b\b\r",
      "1419/1419 [==============================] - ETA: 0s - loss: 1.6333 - accuracy: 0.5197"
     ]
    },
    {
     "name": "stderr",
     "output_type": "stream",
     "text": [
      "2022-09-26 23:01:30.343796: W tensorflow/core/common_runtime/bfc_allocator.cc:275] Allocator (GPU_0_bfc) ran out of memory trying to allocate 2.06GiB with freed_by_count=0. The caller indicates that this is not a failure, but may mean that there could be performance gains if more memory were available.\n",
      "2022-09-26 23:01:30.343839: W tensorflow/core/common_runtime/bfc_allocator.cc:275] Allocator (GPU_0_bfc) ran out of memory trying to allocate 2.06GiB with freed_by_count=0. The caller indicates that this is not a failure, but may mean that there could be performance gains if more memory were available.\n",
      "2022-09-26 23:01:30.431376: W tensorflow/core/framework/cpu_allocator_impl.cc:82] Allocation of 26304000 exceeds 10% of free system memory.\n"
     ]
    },
    {
     "name": "stdout",
     "output_type": "stream",
     "text": [
      "1419/1419 [==============================] - 20s 11ms/step - loss: 1.6333 - accuracy: 0.5197 - val_loss: 0.8385 - val_accuracy: 0.6253\n",
      "Epoch 2/35\n",
      "1419/1419 [==============================] - 15s 11ms/step - loss: 1.3020 - accuracy: 0.6375 - val_loss: 0.7321 - val_accuracy: 0.6959\n",
      "Epoch 3/35\n",
      "1419/1419 [==============================] - 15s 11ms/step - loss: 1.2152 - accuracy: 0.6637 - val_loss: 0.7257 - val_accuracy: 0.6813\n",
      "Epoch 4/35\n",
      "1419/1419 [==============================] - 16s 11ms/step - loss: 1.1458 - accuracy: 0.6885 - val_loss: 0.6700 - val_accuracy: 0.7007\n",
      "Epoch 5/35\n",
      "1419/1419 [==============================] - 16s 11ms/step - loss: 1.0986 - accuracy: 0.7054 - val_loss: 0.6777 - val_accuracy: 0.7032\n",
      "Epoch 6/35\n",
      "1419/1419 [==============================] - 16s 11ms/step - loss: 1.0644 - accuracy: 0.7098 - val_loss: 0.6375 - val_accuracy: 0.7165\n",
      "Epoch 7/35\n",
      "1419/1419 [==============================] - 16s 11ms/step - loss: 1.0434 - accuracy: 0.7143 - val_loss: 0.6227 - val_accuracy: 0.7105\n",
      "Epoch 8/35\n",
      "1419/1419 [==============================] - 16s 11ms/step - loss: 1.0216 - accuracy: 0.7233 - val_loss: 0.6347 - val_accuracy: 0.6983\n",
      "Epoch 9/35\n",
      "1419/1419 [==============================] - 16s 11ms/step - loss: 0.9983 - accuracy: 0.7318 - val_loss: 0.6168 - val_accuracy: 0.7129\n",
      "Epoch 10/35\n",
      "1419/1419 [==============================] - 16s 11ms/step - loss: 0.9879 - accuracy: 0.7368 - val_loss: 0.6207 - val_accuracy: 0.7165\n",
      "Epoch 11/35\n",
      "1419/1419 [==============================] - 16s 11ms/step - loss: 0.9731 - accuracy: 0.7407 - val_loss: 0.6112 - val_accuracy: 0.7165\n",
      "Epoch 12/35\n",
      "1419/1419 [==============================] - 16s 11ms/step - loss: 0.9668 - accuracy: 0.7454 - val_loss: 0.6541 - val_accuracy: 0.6983\n",
      "Epoch 13/35\n",
      "1419/1419 [==============================] - 16s 11ms/step - loss: 0.9516 - accuracy: 0.7506 - val_loss: 0.6008 - val_accuracy: 0.7165\n",
      "Epoch 14/35\n",
      "1419/1419 [==============================] - 16s 11ms/step - loss: 0.9499 - accuracy: 0.7480 - val_loss: 0.5924 - val_accuracy: 0.7141\n",
      "Epoch 15/35\n",
      "1419/1419 [==============================] - 16s 11ms/step - loss: 0.9338 - accuracy: 0.7522 - val_loss: 0.5922 - val_accuracy: 0.7275\n",
      "Epoch 16/35\n",
      "1419/1419 [==============================] - 16s 11ms/step - loss: 0.9253 - accuracy: 0.7520 - val_loss: 0.5923 - val_accuracy: 0.7202\n",
      "Epoch 17/35\n",
      "1419/1419 [==============================] - 16s 11ms/step - loss: 0.9188 - accuracy: 0.7600 - val_loss: 0.5873 - val_accuracy: 0.7202\n",
      "Epoch 18/35\n",
      "1419/1419 [==============================] - 16s 11ms/step - loss: 0.9131 - accuracy: 0.7594 - val_loss: 0.6032 - val_accuracy: 0.7190\n",
      "Epoch 19/35\n",
      "1419/1419 [==============================] - 16s 11ms/step - loss: 0.9113 - accuracy: 0.7602 - val_loss: 0.5920 - val_accuracy: 0.7178\n",
      "Epoch 20/35\n",
      "1419/1419 [==============================] - 16s 11ms/step - loss: 0.9036 - accuracy: 0.7608 - val_loss: 0.5887 - val_accuracy: 0.7287\n",
      "Epoch 21/35\n",
      "1419/1419 [==============================] - 16s 11ms/step - loss: 0.8989 - accuracy: 0.7653 - val_loss: 0.5847 - val_accuracy: 0.7299\n",
      "Epoch 22/35\n",
      "1419/1419 [==============================] - 16s 11ms/step - loss: 0.8909 - accuracy: 0.7634 - val_loss: 0.5870 - val_accuracy: 0.7287\n",
      "Epoch 23/35\n",
      "1419/1419 [==============================] - 16s 11ms/step - loss: 0.8856 - accuracy: 0.7687 - val_loss: 0.6046 - val_accuracy: 0.7214\n",
      "Epoch 24/35\n",
      "1419/1419 [==============================] - 16s 11ms/step - loss: 0.8810 - accuracy: 0.7680 - val_loss: 0.5771 - val_accuracy: 0.7238\n",
      "Epoch 25/35\n",
      "1419/1419 [==============================] - 16s 11ms/step - loss: 0.8776 - accuracy: 0.7689 - val_loss: 0.5962 - val_accuracy: 0.7263\n",
      "Epoch 26/35\n",
      "1419/1419 [==============================] - 16s 11ms/step - loss: 0.8644 - accuracy: 0.7702 - val_loss: 0.5734 - val_accuracy: 0.7506\n",
      "Epoch 27/35\n",
      "1419/1419 [==============================] - 16s 11ms/step - loss: 0.8663 - accuracy: 0.7705 - val_loss: 0.5787 - val_accuracy: 0.7324\n",
      "Epoch 28/35\n",
      "1419/1419 [==============================] - 16s 11ms/step - loss: 0.8558 - accuracy: 0.7721 - val_loss: 0.5839 - val_accuracy: 0.7311\n",
      "Epoch 29/35\n",
      "1419/1419 [==============================] - 16s 11ms/step - loss: 0.8573 - accuracy: 0.7767 - val_loss: 0.5873 - val_accuracy: 0.7178\n",
      "Epoch 30/35\n",
      "1419/1419 [==============================] - 16s 11ms/step - loss: 0.8416 - accuracy: 0.7796 - val_loss: 0.5793 - val_accuracy: 0.7421\n",
      "Epoch 31/35\n",
      "1419/1419 [==============================] - 16s 11ms/step - loss: 0.8500 - accuracy: 0.7762 - val_loss: 0.5628 - val_accuracy: 0.7433\n",
      "Epoch 32/35\n",
      "1419/1419 [==============================] - 16s 11ms/step - loss: 0.8401 - accuracy: 0.7790 - val_loss: 0.5502 - val_accuracy: 0.7518\n",
      "Epoch 33/35\n",
      "1419/1419 [==============================] - 16s 11ms/step - loss: 0.8338 - accuracy: 0.7830 - val_loss: 0.5867 - val_accuracy: 0.7226\n",
      "Epoch 34/35\n",
      "1419/1419 [==============================] - 16s 11ms/step - loss: 0.8331 - accuracy: 0.7833 - val_loss: 0.5993 - val_accuracy: 0.7178\n",
      "Epoch 35/35\n",
      "1419/1419 [==============================] - 16s 11ms/step - loss: 0.8333 - accuracy: 0.7803 - val_loss: 0.5598 - val_accuracy: 0.7457\n"
     ]
    }
   ],
   "source": [
    "counter = Counter(aug_classes)\n",
    "max_val = float(max(counter.values()))       \n",
    "cw = {class_id : max_val/num_images for class_id, num_images in counter.items()}\n",
    "\n",
    "with tf_device('GPU:0'):\n",
    "    history = model.fit(X_train, Y_train, epochs = 35, batch_size = 8, shuffle=True, validation_data=(X_test, Y_test), class_weight=cw, callbacks=[model_checkpoint_callback])\n",
    "#     Learning rate scheduler\n",
    "#     history = model.fit(X_train, Y_train, epochs = 20, batch_size = 8, shuffle=True, validation_data=(X_test, Y_test), class_weight=cw, callbacks=[model_checkpoint_callback, lr_scheduler])"
   ]
  },
  {
   "cell_type": "code",
   "execution_count": 52,
   "id": "7c3c376e",
   "metadata": {},
   "outputs": [],
   "source": [
    "model.compile(optimizer='adamax' , loss='categorical_crossentropy', metrics=['accuracy'])"
   ]
  },
  {
   "cell_type": "code",
   "execution_count": 53,
   "id": "469dd200",
   "metadata": {
    "scrolled": false
   },
   "outputs": [
    {
     "name": "stdout",
     "output_type": "stream",
     "text": [
      "Epoch 1/15\n",
      "1274/1274 [==============================] - 14s 10ms/step - loss: 0.5149 - accuracy: 0.8473 - val_loss: 0.3981 - val_accuracy: 0.8656\n",
      "Epoch 2/15\n",
      "1274/1274 [==============================] - 13s 10ms/step - loss: 0.3612 - accuracy: 0.8854 - val_loss: 0.4881 - val_accuracy: 0.8514\n",
      "Epoch 3/15\n",
      "1274/1274 [==============================] - 13s 10ms/step - loss: 0.3028 - accuracy: 0.9068 - val_loss: 0.4046 - val_accuracy: 0.8514\n",
      "Epoch 4/15\n",
      "1274/1274 [==============================] - 13s 11ms/step - loss: 0.2540 - accuracy: 0.9224 - val_loss: 0.3901 - val_accuracy: 0.8695\n",
      "Epoch 5/15\n",
      "1274/1274 [==============================] - 13s 11ms/step - loss: 0.2164 - accuracy: 0.9354 - val_loss: 0.3367 - val_accuracy: 0.8786\n",
      "Epoch 6/15\n",
      "1274/1274 [==============================] - 14s 11ms/step - loss: 0.1728 - accuracy: 0.9487 - val_loss: 0.3317 - val_accuracy: 0.8966\n",
      "Epoch 7/15\n",
      "1274/1274 [==============================] - 14s 11ms/step - loss: 0.1464 - accuracy: 0.9570 - val_loss: 0.3781 - val_accuracy: 0.9005\n",
      "Epoch 8/15\n",
      "1274/1274 [==============================] - 14s 11ms/step - loss: 0.1259 - accuracy: 0.9612 - val_loss: 0.3582 - val_accuracy: 0.8928\n",
      "Epoch 9/15\n",
      "1274/1274 [==============================] - 14s 11ms/step - loss: 0.1054 - accuracy: 0.9681 - val_loss: 0.4461 - val_accuracy: 0.8902\n",
      "Epoch 10/15\n",
      "1274/1274 [==============================] - 14s 11ms/step - loss: 0.0793 - accuracy: 0.9768 - val_loss: 0.3677 - val_accuracy: 0.8966\n",
      "Epoch 11/15\n",
      "1274/1274 [==============================] - 14s 11ms/step - loss: 0.0687 - accuracy: 0.9809 - val_loss: 0.3733 - val_accuracy: 0.8992\n",
      "Epoch 12/15\n",
      "1274/1274 [==============================] - 14s 11ms/step - loss: 0.0584 - accuracy: 0.9832 - val_loss: 0.4211 - val_accuracy: 0.8966\n",
      "Epoch 13/15\n",
      "1274/1274 [==============================] - 14s 11ms/step - loss: 0.0483 - accuracy: 0.9859 - val_loss: 0.4997 - val_accuracy: 0.8915\n",
      "Epoch 14/15\n",
      "1274/1274 [==============================] - 14s 11ms/step - loss: 0.0397 - accuracy: 0.9874 - val_loss: 0.4725 - val_accuracy: 0.8992\n",
      "Epoch 15/15\n",
      "1274/1274 [==============================] - 14s 11ms/step - loss: 0.0359 - accuracy: 0.9891 - val_loss: 0.4758 - val_accuracy: 0.9096\n"
     ]
    }
   ],
   "source": [
    "with tf_device('GPU:0'):\n",
    "    history_1 = model.fit(X_train, Y_train, epochs = 15, batch_size = 8, shuffle=True, validation_data=(X_test, Y_test), class_weight=cw, callbacks=[model_checkpoint_callback])\n"
   ]
  },
  {
   "cell_type": "code",
   "execution_count": null,
   "id": "e1fd6b5e",
   "metadata": {},
   "outputs": [],
   "source": []
  },
  {
   "cell_type": "code",
   "execution_count": 47,
   "id": "5f499ad6",
   "metadata": {},
   "outputs": [],
   "source": [
    "from tensorflow.keras import Sequential\n",
    "from tensorflow.keras.layers import Conv2D, MaxPool2D, BatchNormalization, Dense, Dropout, Flatten, LeakyReLU\n",
    "model1 = Sequential()\n",
    "\n",
    "model1.add(Conv2D(32, 3, padding = 'same', kernel_initializer = 'glorot_normal', activation = 'relu', input_shape = input_shape))\n",
    "model1.add(Conv2D(32, 3, padding = 'same', kernel_initializer = 'glorot_normal', activation = 'relu'))\n",
    "model1.add(Conv2D(32, 3, padding = 'same', kernel_initializer = 'glorot_normal', activation = 'relu'))\n",
    "model1.add(MaxPool2D(2))\n",
    "model1.add(BatchNormalization())\n",
    "model.add(Dropout(0.2))\n",
    "\n",
    "model1.add(Conv2D(64, 3, padding = 'same', kernel_initializer = 'glorot_normal', activation = 'relu'))\n",
    "model1.add(Conv2D(64, 3, padding = 'same', kernel_initializer = 'glorot_normal', activation = 'relu'))\n",
    "model1.add(Conv2D(64, 3, padding = 'same', kernel_initializer = 'glorot_normal', activation = 'relu'))\n",
    "model1.add(MaxPool2D(2))\n",
    "model1.add(BatchNormalization())\n",
    "model.add(Dropout(0.2))\n",
    "\n",
    "model1.add(Conv2D(128, 3, padding = 'same', kernel_initializer = 'glorot_normal', activation = 'relu'))\n",
    "model1.add(Conv2D(128, 3, padding = 'same', kernel_initializer = 'glorot_normal', activation = 'relu'))\n",
    "model1.add(Conv2D(128, 3, padding = 'same', kernel_initializer = 'glorot_normal', activation = 'relu'))\n",
    "model1.add(MaxPool2D(2))\n",
    "model.add(BatchNormalization())\n",
    "\n",
    "model1.add(Flatten())\n",
    "model1.add(Dropout(0.3))\n",
    "\n",
    "model1.add(Dense(256, kernel_initializer = 'glorot_normal', activation = 'relu'))\n",
    "model1.add(Dropout(0.5))\n",
    "model1.add(Dense(4, activation = 'softmax'))"
   ]
  },
  {
   "cell_type": "code",
   "execution_count": 48,
   "id": "817d8d68",
   "metadata": {
    "scrolled": false
   },
   "outputs": [
    {
     "name": "stdout",
     "output_type": "stream",
     "text": [
      "Model: \"sequential_2\"\n",
      "_________________________________________________________________\n",
      " Layer (type)                Output Shape              Param #   \n",
      "=================================================================\n",
      " conv2d_10 (Conv2D)          (None, 160, 50, 32)       320       \n",
      "                                                                 \n",
      " conv2d_11 (Conv2D)          (None, 160, 50, 32)       9248      \n",
      "                                                                 \n",
      " conv2d_12 (Conv2D)          (None, 160, 50, 32)       9248      \n",
      "                                                                 \n",
      " max_pooling2d_10 (MaxPoolin  (None, 80, 25, 32)       0         \n",
      " g2D)                                                            \n",
      "                                                                 \n",
      " batch_normalization (BatchN  (None, 80, 25, 32)       128       \n",
      " ormalization)                                                   \n",
      "                                                                 \n",
      " conv2d_13 (Conv2D)          (None, 80, 25, 64)        18496     \n",
      "                                                                 \n",
      " conv2d_14 (Conv2D)          (None, 80, 25, 64)        36928     \n",
      "                                                                 \n",
      " conv2d_15 (Conv2D)          (None, 80, 25, 64)        36928     \n",
      "                                                                 \n",
      " max_pooling2d_11 (MaxPoolin  (None, 40, 12, 64)       0         \n",
      " g2D)                                                            \n",
      "                                                                 \n",
      " batch_normalization_1 (Batc  (None, 40, 12, 64)       256       \n",
      " hNormalization)                                                 \n",
      "                                                                 \n",
      " conv2d_16 (Conv2D)          (None, 40, 12, 128)       73856     \n",
      "                                                                 \n",
      " conv2d_17 (Conv2D)          (None, 40, 12, 128)       147584    \n",
      "                                                                 \n",
      " conv2d_18 (Conv2D)          (None, 40, 12, 128)       147584    \n",
      "                                                                 \n",
      " max_pooling2d_12 (MaxPoolin  (None, 20, 6, 128)       0         \n",
      " g2D)                                                            \n",
      "                                                                 \n",
      " flatten_2 (Flatten)         (None, 15360)             0         \n",
      "                                                                 \n",
      " dropout_4 (Dropout)         (None, 15360)             0         \n",
      "                                                                 \n",
      " dense_4 (Dense)             (None, 256)               3932416   \n",
      "                                                                 \n",
      " dropout_5 (Dropout)         (None, 256)               0         \n",
      "                                                                 \n",
      " dense_5 (Dense)             (None, 4)                 1028      \n",
      "                                                                 \n",
      "=================================================================\n",
      "Total params: 4,414,020\n",
      "Trainable params: 4,413,828\n",
      "Non-trainable params: 192\n",
      "_________________________________________________________________\n"
     ]
    }
   ],
   "source": [
    "model1.summary()"
   ]
  },
  {
   "cell_type": "code",
   "execution_count": 49,
   "id": "5a745dc9",
   "metadata": {},
   "outputs": [],
   "source": [
    "model1.compile(optimizer = adadelta, loss = 'categorical_crossentropy' , metrics = ['accuracy'])"
   ]
  },
  {
   "cell_type": "code",
   "execution_count": 50,
   "id": "aa823cb1",
   "metadata": {},
   "outputs": [],
   "source": [
    "from tensorflow.keras.callbacks import EarlyStopping\n",
    "earlyStop = EarlyStopping(\n",
    "    monitor = 'val_accuracy',\n",
    "    patience = 10,\n",
    "    min_delta = 1e-5,\n",
    "    mode = 'max',\n",
    "    restore_best_weights = True,\n",
    "    verbose = 1\n",
    ")"
   ]
  },
  {
   "cell_type": "code",
   "execution_count": 53,
   "id": "744983b1",
   "metadata": {
    "scrolled": false
   },
   "outputs": [
    {
     "data": {
      "image/png": "[encoded data removed]",
      "text/plain": [
       "<IPython.core.display.Image object>"
      ]
     },
     "execution_count": 53,
     "metadata": {},
     "output_type": "execute_result"
    }
   ],
   "source": [
    "plot_model(\n",
    "    model1,\n",
    "    to_file='model.png',\n",
    "    show_shapes=False,\n",
    "    show_dtype=False,\n",
    "    show_layer_names=True,\n",
    "    rankdir='TB',\n",
    "    expand_nested=False,\n",
    "    dpi=96,\n",
    "    layer_range=None,\n",
    "    show_layer_activations=False\n",
    ")"
   ]
  },
  {
   "cell_type": "code",
   "execution_count": 157,
   "id": "2fb8e592",
   "metadata": {
    "scrolled": false
   },
   "outputs": [
    {
     "name": "stdout",
     "output_type": "stream",
     "text": [
      "Epoch 1/30\n",
      "427/427 [==============================] - 22s 50ms/step - loss: 1.2848 - accuracy: 0.4068 - val_loss: 1.3518 - val_accuracy: 0.3193\n",
      "Epoch 2/30\n",
      "427/427 [==============================] - 20s 47ms/step - loss: 1.0741 - accuracy: 0.5606 - val_loss: 0.9157 - val_accuracy: 0.6889\n",
      "Epoch 3/30\n",
      "427/427 [==============================] - 20s 47ms/step - loss: 0.9573 - accuracy: 0.6265 - val_loss: 0.8112 - val_accuracy: 0.7054\n",
      "Epoch 4/30\n",
      "427/427 [==============================] - 20s 48ms/step - loss: 0.8840 - accuracy: 0.6560 - val_loss: 0.7644 - val_accuracy: 0.7129\n",
      "Epoch 5/30\n",
      "427/427 [==============================] - 21s 48ms/step - loss: 0.8460 - accuracy: 0.6657 - val_loss: 0.7339 - val_accuracy: 0.7228\n",
      "Epoch 6/30\n",
      "427/427 [==============================] - 21s 49ms/step - loss: 0.8117 - accuracy: 0.6794 - val_loss: 0.7151 - val_accuracy: 0.7244\n",
      "Epoch 7/30\n",
      "427/427 [==============================] - 21s 49ms/step - loss: 0.7870 - accuracy: 0.6876 - val_loss: 0.6980 - val_accuracy: 0.7252\n",
      "Epoch 8/30\n",
      "427/427 [==============================] - 21s 49ms/step - loss: 0.7673 - accuracy: 0.6965 - val_loss: 0.6822 - val_accuracy: 0.7351\n",
      "Epoch 9/30\n",
      "427/427 [==============================] - 21s 49ms/step - loss: 0.7497 - accuracy: 0.7039 - val_loss: 0.6714 - val_accuracy: 0.7393\n",
      "Epoch 10/30\n",
      "427/427 [==============================] - 21s 50ms/step - loss: 0.7309 - accuracy: 0.7104 - val_loss: 0.6601 - val_accuracy: 0.7401\n",
      "Epoch 11/30\n",
      "427/427 [==============================] - 21s 50ms/step - loss: 0.7173 - accuracy: 0.7163 - val_loss: 0.6504 - val_accuracy: 0.7483\n",
      "Epoch 12/30\n",
      "427/427 [==============================] - 21s 50ms/step - loss: 0.7085 - accuracy: 0.7199 - val_loss: 0.6395 - val_accuracy: 0.7533\n",
      "Epoch 13/30\n",
      "427/427 [==============================] - 21s 50ms/step - loss: 0.7018 - accuracy: 0.7230 - val_loss: 0.6306 - val_accuracy: 0.7657\n",
      "Epoch 14/30\n",
      "427/427 [==============================] - 21s 50ms/step - loss: 0.6874 - accuracy: 0.7294 - val_loss: 0.6186 - val_accuracy: 0.7690\n",
      "Epoch 15/30\n",
      "427/427 [==============================] - 21s 50ms/step - loss: 0.6793 - accuracy: 0.7288 - val_loss: 0.6142 - val_accuracy: 0.7723\n",
      "Epoch 16/30\n",
      "427/427 [==============================] - 21s 50ms/step - loss: 0.6738 - accuracy: 0.7340 - val_loss: 0.6060 - val_accuracy: 0.7764\n",
      "Epoch 17/30\n",
      "427/427 [==============================] - 22s 51ms/step - loss: 0.6665 - accuracy: 0.7414 - val_loss: 0.5995 - val_accuracy: 0.7805\n",
      "Epoch 18/30\n",
      "427/427 [==============================] - 22s 51ms/step - loss: 0.6605 - accuracy: 0.7426 - val_loss: 0.5928 - val_accuracy: 0.7789\n",
      "Epoch 19/30\n",
      "427/427 [==============================] - 22s 50ms/step - loss: 0.6536 - accuracy: 0.7442 - val_loss: 0.5881 - val_accuracy: 0.7855\n",
      "Epoch 20/30\n",
      "427/427 [==============================] - 22s 51ms/step - loss: 0.6445 - accuracy: 0.7493 - val_loss: 0.5826 - val_accuracy: 0.7855\n",
      "Epoch 21/30\n",
      "427/427 [==============================] - 22s 51ms/step - loss: 0.6432 - accuracy: 0.7504 - val_loss: 0.5767 - val_accuracy: 0.7929\n",
      "Epoch 22/30\n",
      "427/427 [==============================] - 22s 51ms/step - loss: 0.6374 - accuracy: 0.7517 - val_loss: 0.5713 - val_accuracy: 0.7921\n",
      "Epoch 23/30\n",
      "427/427 [==============================] - 22s 51ms/step - loss: 0.6339 - accuracy: 0.7548 - val_loss: 0.5694 - val_accuracy: 0.7954\n",
      "Epoch 24/30\n",
      "427/427 [==============================] - 22s 51ms/step - loss: 0.6273 - accuracy: 0.7568 - val_loss: 0.5623 - val_accuracy: 0.7954\n",
      "Epoch 25/30\n",
      "427/427 [==============================] - 22s 51ms/step - loss: 0.6220 - accuracy: 0.7570 - val_loss: 0.5620 - val_accuracy: 0.8003\n",
      "Epoch 26/30\n",
      "427/427 [==============================] - 22s 51ms/step - loss: 0.6163 - accuracy: 0.7616 - val_loss: 0.5594 - val_accuracy: 0.8053\n",
      "Epoch 27/30\n",
      "427/427 [==============================] - 22s 51ms/step - loss: 0.6087 - accuracy: 0.7600 - val_loss: 0.5569 - val_accuracy: 0.8069\n",
      "Epoch 28/30\n",
      "427/427 [==============================] - 22s 50ms/step - loss: 0.6062 - accuracy: 0.7633 - val_loss: 0.5475 - val_accuracy: 0.8012\n",
      "Epoch 29/30\n",
      "427/427 [==============================] - 22s 50ms/step - loss: 0.6028 - accuracy: 0.7673 - val_loss: 0.5434 - val_accuracy: 0.8069\n",
      "Epoch 30/30\n",
      "427/427 [==============================] - 21s 50ms/step - loss: 0.6008 - accuracy: 0.7693 - val_loss: 0.5424 - val_accuracy: 0.8078\n"
     ]
    }
   ],
   "source": [
    "from tensorflow.keras import backend as keras_backend\n",
    "keras_backend.set_value(model1.optimizer.learning_rate, 1e-3)\n",
    "with tf_device('GPU:0'):\n",
    "    history = model1.fit(X_train, Y_train, epochs=30, validation_data=(X_test, Y_test), verbose = 1, callbacks = [earlyStop])\n",
    "# Charts(history)"
   ]
  },
  {
   "cell_type": "code",
   "execution_count": 46,
   "id": "aacee1a2",
   "metadata": {},
   "outputs": [
    {
     "data": {
      "text/plain": [
       "<keras.callbacks.History at 0x7f4c8c602df0>"
      ]
     },
     "execution_count": 46,
     "metadata": {},
     "output_type": "execute_result"
    }
   ],
   "source": [
    "history"
   ]
  },
  {
   "cell_type": "code",
   "execution_count": 108,
   "id": "0633ff7b",
   "metadata": {},
   "outputs": [
    {
     "name": "stdout",
     "output_type": "stream",
     "text": [
      "Epoch 1/30\n",
      "354/354 [==============================] - 16s 46ms/step - loss: 0.6019 - accuracy: 0.7687 - val_loss: 0.6013 - val_accuracy: 0.7452\n",
      "Epoch 2/30\n",
      "354/354 [==============================] - 17s 47ms/step - loss: 0.5911 - accuracy: 0.7725 - val_loss: 0.5963 - val_accuracy: 0.7488\n",
      "Epoch 3/30\n",
      "354/354 [==============================] - 17s 47ms/step - loss: 0.5887 - accuracy: 0.7745 - val_loss: 0.5961 - val_accuracy: 0.7464\n",
      "Epoch 4/30\n",
      "354/354 [==============================] - 17s 48ms/step - loss: 0.5911 - accuracy: 0.7766 - val_loss: 0.5934 - val_accuracy: 0.7488\n",
      "Epoch 5/30\n",
      "354/354 [==============================] - 17s 48ms/step - loss: 0.5838 - accuracy: 0.7767 - val_loss: 0.5909 - val_accuracy: 0.7524\n",
      "Epoch 6/30\n",
      "354/354 [==============================] - 17s 48ms/step - loss: 0.5823 - accuracy: 0.7823 - val_loss: 0.5907 - val_accuracy: 0.7512\n",
      "Epoch 7/30\n",
      "354/354 [==============================] - 17s 49ms/step - loss: 0.5816 - accuracy: 0.7771 - val_loss: 0.5888 - val_accuracy: 0.7524\n",
      "Epoch 8/30\n",
      "354/354 [==============================] - 17s 49ms/step - loss: 0.5763 - accuracy: 0.7806 - val_loss: 0.5871 - val_accuracy: 0.7500\n",
      "Epoch 9/30\n",
      "354/354 [==============================] - 17s 49ms/step - loss: 0.5699 - accuracy: 0.7816 - val_loss: 0.5862 - val_accuracy: 0.7500\n",
      "Epoch 10/30\n",
      "354/354 [==============================] - 17s 49ms/step - loss: 0.5688 - accuracy: 0.7827 - val_loss: 0.5829 - val_accuracy: 0.7548\n",
      "Epoch 11/30\n",
      "354/354 [==============================] - 17s 49ms/step - loss: 0.5667 - accuracy: 0.7848 - val_loss: 0.5818 - val_accuracy: 0.7536\n",
      "Epoch 12/30\n",
      "354/354 [==============================] - 18s 49ms/step - loss: 0.5675 - accuracy: 0.7855 - val_loss: 0.5783 - val_accuracy: 0.7572\n",
      "Epoch 13/30\n",
      "354/354 [==============================] - 18s 50ms/step - loss: 0.5578 - accuracy: 0.7873 - val_loss: 0.5776 - val_accuracy: 0.7572\n",
      "Epoch 14/30\n",
      "354/354 [==============================] - 18s 50ms/step - loss: 0.5597 - accuracy: 0.7875 - val_loss: 0.5765 - val_accuracy: 0.7596\n",
      "Epoch 15/30\n",
      "354/354 [==============================] - 18s 50ms/step - loss: 0.5530 - accuracy: 0.7916 - val_loss: 0.5756 - val_accuracy: 0.7620\n",
      "Epoch 16/30\n",
      "354/354 [==============================] - 18s 50ms/step - loss: 0.5545 - accuracy: 0.7888 - val_loss: 0.5721 - val_accuracy: 0.7584\n",
      "Epoch 17/30\n",
      "354/354 [==============================] - 18s 50ms/step - loss: 0.5546 - accuracy: 0.7843 - val_loss: 0.5710 - val_accuracy: 0.7644\n",
      "Epoch 18/30\n",
      "354/354 [==============================] - 18s 50ms/step - loss: 0.5564 - accuracy: 0.7873 - val_loss: 0.5715 - val_accuracy: 0.7608\n",
      "Epoch 19/30\n",
      "354/354 [==============================] - 18s 50ms/step - loss: 0.5500 - accuracy: 0.7857 - val_loss: 0.5719 - val_accuracy: 0.7560\n",
      "Epoch 20/30\n",
      "354/354 [==============================] - 18s 50ms/step - loss: 0.5513 - accuracy: 0.7895 - val_loss: 0.5676 - val_accuracy: 0.7656\n",
      "Epoch 21/30\n",
      "354/354 [==============================] - 18s 50ms/step - loss: 0.5398 - accuracy: 0.7943 - val_loss: 0.5677 - val_accuracy: 0.7608\n",
      "Epoch 22/30\n",
      "354/354 [==============================] - 18s 50ms/step - loss: 0.5430 - accuracy: 0.7924 - val_loss: 0.5677 - val_accuracy: 0.7608\n",
      "Epoch 23/30\n",
      "354/354 [==============================] - 18s 50ms/step - loss: 0.5421 - accuracy: 0.7959 - val_loss: 0.5665 - val_accuracy: 0.7608\n",
      "Epoch 24/30\n",
      "354/354 [==============================] - 18s 50ms/step - loss: 0.5386 - accuracy: 0.7965 - val_loss: 0.5633 - val_accuracy: 0.7667\n",
      "Epoch 25/30\n",
      "354/354 [==============================] - 18s 50ms/step - loss: 0.5333 - accuracy: 0.7976 - val_loss: 0.5637 - val_accuracy: 0.7596\n",
      "Epoch 26/30\n",
      "354/354 [==============================] - 18s 50ms/step - loss: 0.5341 - accuracy: 0.7944 - val_loss: 0.5613 - val_accuracy: 0.7632\n",
      "Epoch 27/30\n",
      "354/354 [==============================] - 18s 50ms/step - loss: 0.5301 - accuracy: 0.7998 - val_loss: 0.5606 - val_accuracy: 0.7644\n",
      "Epoch 28/30\n",
      "354/354 [==============================] - 18s 50ms/step - loss: 0.5279 - accuracy: 0.7962 - val_loss: 0.5600 - val_accuracy: 0.7656\n",
      "Epoch 29/30\n",
      "354/354 [==============================] - 18s 50ms/step - loss: 0.5321 - accuracy: 0.8008 - val_loss: 0.5601 - val_accuracy: 0.7656\n",
      "Epoch 30/30\n",
      "354/354 [==============================] - 18s 50ms/step - loss: 0.5318 - accuracy: 0.7994 - val_loss: 0.5578 - val_accuracy: 0.7667\n"
     ]
    }
   ],
   "source": [
    "with tf_device('GPU:0'):\n",
    "    history_1 = model1.fit(X_train, Y_train, epochs=30, validation_data=(X_test, Y_test), verbose = 1, callbacks = [earlyStop])"
   ]
  },
  {
   "cell_type": "code",
   "execution_count": 109,
   "id": "cc184c90",
   "metadata": {},
   "outputs": [
    {
     "name": "stdout",
     "output_type": "stream",
     "text": [
      "Epoch 1/30\n",
      "354/354 [==============================] - 16s 46ms/step - loss: 0.5233 - accuracy: 0.8007 - val_loss: 0.5594 - val_accuracy: 0.7656\n",
      "Epoch 2/30\n",
      "354/354 [==============================] - 16s 46ms/step - loss: 0.5205 - accuracy: 0.8022 - val_loss: 0.5582 - val_accuracy: 0.7656\n",
      "Epoch 3/30\n",
      "354/354 [==============================] - 17s 47ms/step - loss: 0.5191 - accuracy: 0.8005 - val_loss: 0.5576 - val_accuracy: 0.7667\n",
      "Epoch 4/30\n",
      "354/354 [==============================] - 17s 47ms/step - loss: 0.5205 - accuracy: 0.8006 - val_loss: 0.5548 - val_accuracy: 0.7667\n",
      "Epoch 5/30\n",
      "354/354 [==============================] - 17s 48ms/step - loss: 0.5135 - accuracy: 0.8037 - val_loss: 0.5549 - val_accuracy: 0.7632\n",
      "Epoch 6/30\n",
      "354/354 [==============================] - 17s 48ms/step - loss: 0.5150 - accuracy: 0.8038 - val_loss: 0.5576 - val_accuracy: 0.7632\n",
      "Epoch 7/30\n",
      "354/354 [==============================] - 17s 48ms/step - loss: 0.5156 - accuracy: 0.8039 - val_loss: 0.5535 - val_accuracy: 0.7679\n",
      "Epoch 8/30\n",
      "354/354 [==============================] - 17s 49ms/step - loss: 0.5142 - accuracy: 0.8053 - val_loss: 0.5530 - val_accuracy: 0.7656\n",
      "Epoch 9/30\n",
      "354/354 [==============================] - 17s 49ms/step - loss: 0.5124 - accuracy: 0.8050 - val_loss: 0.5520 - val_accuracy: 0.7632\n",
      "Epoch 10/30\n",
      "354/354 [==============================] - 17s 49ms/step - loss: 0.5099 - accuracy: 0.8067 - val_loss: 0.5516 - val_accuracy: 0.7620\n",
      "Epoch 11/30\n",
      "354/354 [==============================] - 17s 49ms/step - loss: 0.5089 - accuracy: 0.8026 - val_loss: 0.5492 - val_accuracy: 0.7667\n",
      "Epoch 12/30\n",
      "354/354 [==============================] - 17s 49ms/step - loss: 0.5041 - accuracy: 0.8075 - val_loss: 0.5497 - val_accuracy: 0.7656\n",
      "Epoch 13/30\n",
      "354/354 [==============================] - 18s 50ms/step - loss: 0.5055 - accuracy: 0.8098 - val_loss: 0.5486 - val_accuracy: 0.7703\n",
      "Epoch 14/30\n",
      "354/354 [==============================] - 18s 50ms/step - loss: 0.5027 - accuracy: 0.8066 - val_loss: 0.5487 - val_accuracy: 0.7632\n",
      "Epoch 15/30\n",
      "354/354 [==============================] - 18s 50ms/step - loss: 0.5005 - accuracy: 0.8077 - val_loss: 0.5482 - val_accuracy: 0.7679\n",
      "Epoch 16/30\n",
      "354/354 [==============================] - 18s 50ms/step - loss: 0.5052 - accuracy: 0.8065 - val_loss: 0.5506 - val_accuracy: 0.7703\n",
      "Epoch 17/30\n",
      "354/354 [==============================] - 18s 50ms/step - loss: 0.5014 - accuracy: 0.8087 - val_loss: 0.5469 - val_accuracy: 0.7656\n",
      "Epoch 18/30\n",
      "354/354 [==============================] - 18s 51ms/step - loss: 0.5000 - accuracy: 0.8090 - val_loss: 0.5450 - val_accuracy: 0.7691\n",
      "Epoch 19/30\n",
      "354/354 [==============================] - 18s 51ms/step - loss: 0.4983 - accuracy: 0.8086 - val_loss: 0.5462 - val_accuracy: 0.7703\n",
      "Epoch 20/30\n",
      "354/354 [==============================] - 18s 51ms/step - loss: 0.4918 - accuracy: 0.8149 - val_loss: 0.5454 - val_accuracy: 0.7715\n",
      "Epoch 21/30\n",
      "354/354 [==============================] - 18s 51ms/step - loss: 0.4903 - accuracy: 0.8112 - val_loss: 0.5446 - val_accuracy: 0.7620\n",
      "Epoch 22/30\n",
      "354/354 [==============================] - 18s 51ms/step - loss: 0.4930 - accuracy: 0.8114 - val_loss: 0.5425 - val_accuracy: 0.7691\n",
      "Epoch 23/30\n",
      "354/354 [==============================] - 18s 51ms/step - loss: 0.4939 - accuracy: 0.8103 - val_loss: 0.5446 - val_accuracy: 0.7632\n",
      "Epoch 24/30\n",
      "354/354 [==============================] - 18s 51ms/step - loss: 0.4920 - accuracy: 0.8155 - val_loss: 0.5419 - val_accuracy: 0.7703\n",
      "Epoch 25/30\n",
      "354/354 [==============================] - 18s 51ms/step - loss: 0.4875 - accuracy: 0.8156 - val_loss: 0.5419 - val_accuracy: 0.7703\n",
      "Epoch 26/30\n",
      "354/354 [==============================] - 18s 51ms/step - loss: 0.4851 - accuracy: 0.8122 - val_loss: 0.5413 - val_accuracy: 0.7703\n",
      "Epoch 27/30\n",
      "354/354 [==============================] - 18s 52ms/step - loss: 0.4855 - accuracy: 0.8111 - val_loss: 0.5418 - val_accuracy: 0.7644\n",
      "Epoch 28/30\n",
      "354/354 [==============================] - 18s 52ms/step - loss: 0.4880 - accuracy: 0.8148 - val_loss: 0.5415 - val_accuracy: 0.7644\n",
      "Epoch 29/30\n",
      "354/354 [==============================] - 18s 52ms/step - loss: 0.4842 - accuracy: 0.8131 - val_loss: 0.5399 - val_accuracy: 0.7691\n",
      "Epoch 30/30\n",
      "353/354 [============================>.] - ETA: 0s - loss: 0.4849 - accuracy: 0.8138Restoring model weights from the end of the best epoch: 20.\n",
      "354/354 [==============================] - 18s 52ms/step - loss: 0.4848 - accuracy: 0.8138 - val_loss: 0.5447 - val_accuracy: 0.7644\n",
      "Epoch 00030: early stopping\n"
     ]
    }
   ],
   "source": [
    "with tf_device('GPU:0'):\n",
    "    history_2 = model1.fit(X_train, Y_train, epochs=30, validation_data=(X_test, Y_test), verbose = 1, callbacks = [earlyStop])"
   ]
  },
  {
   "cell_type": "code",
   "execution_count": 49,
   "id": "ebe3146b",
   "metadata": {},
   "outputs": [],
   "source": [
    "adadelta1 = optimizers.Adadelta(learning_rate=0.05, rho=0.95)\n",
    "model1.compile(optimizer=adadelta1 , loss='categorical_crossentropy', metrics=['accuracy'])"
   ]
  },
  {
   "cell_type": "code",
   "execution_count": 50,
   "id": "cb72e4b5",
   "metadata": {},
   "outputs": [
    {
     "name": "stdout",
     "output_type": "stream",
     "text": [
      "Epoch 1/5\n",
      "355/355 [==============================] - 17s 47ms/step - loss: 0.5603 - accuracy: 0.7792 - val_loss: 0.5345 - val_accuracy: 0.7871\n",
      "Epoch 2/5\n",
      "355/355 [==============================] - 17s 48ms/step - loss: 0.5083 - accuracy: 0.7995 - val_loss: 0.5195 - val_accuracy: 0.8090\n",
      "Epoch 3/5\n",
      "355/355 [==============================] - 17s 48ms/step - loss: 0.4729 - accuracy: 0.8117 - val_loss: 0.5068 - val_accuracy: 0.7993\n",
      "Epoch 4/5\n",
      "355/355 [==============================] - 17s 49ms/step - loss: 0.4427 - accuracy: 0.8230 - val_loss: 0.5458 - val_accuracy: 0.8066\n",
      "Epoch 5/5\n",
      "355/355 [==============================] - 17s 49ms/step - loss: 0.4137 - accuracy: 0.8324 - val_loss: 0.5020 - val_accuracy: 0.8151\n"
     ]
    }
   ],
   "source": [
    "with tf_device('GPU:0'):\n",
    "    history_2 = model1.fit(X_train, Y_train, epochs=5, validation_data=(X_test, Y_test), verbose = 1, callbacks = [earlyStop])"
   ]
  },
  {
   "cell_type": "code",
   "execution_count": 51,
   "id": "e5088520",
   "metadata": {},
   "outputs": [
    {
     "name": "stdout",
     "output_type": "stream",
     "text": [
      "Epoch 1/15\n",
      "355/355 [==============================] - 16s 46ms/step - loss: 0.3900 - accuracy: 0.8415 - val_loss: 0.4980 - val_accuracy: 0.8102\n",
      "Epoch 2/15\n",
      "355/355 [==============================] - 16s 46ms/step - loss: 0.3670 - accuracy: 0.8499 - val_loss: 0.5024 - val_accuracy: 0.8200\n",
      "Epoch 3/15\n",
      "355/355 [==============================] - 17s 47ms/step - loss: 0.3411 - accuracy: 0.8610 - val_loss: 0.5084 - val_accuracy: 0.8005\n",
      "Epoch 4/15\n",
      "355/355 [==============================] - 17s 47ms/step - loss: 0.3188 - accuracy: 0.8687 - val_loss: 0.5018 - val_accuracy: 0.8114\n",
      "Epoch 5/15\n",
      "355/355 [==============================] - 17s 47ms/step - loss: 0.3033 - accuracy: 0.8755 - val_loss: 0.5891 - val_accuracy: 0.8236\n",
      "Epoch 6/15\n",
      "355/355 [==============================] - 17s 48ms/step - loss: 0.2858 - accuracy: 0.8840 - val_loss: 0.5386 - val_accuracy: 0.8054\n",
      "Epoch 7/15\n",
      "355/355 [==============================] - 17s 48ms/step - loss: 0.2670 - accuracy: 0.8895 - val_loss: 0.4980 - val_accuracy: 0.8175\n",
      "Epoch 8/15\n",
      "355/355 [==============================] - 17s 48ms/step - loss: 0.2515 - accuracy: 0.8942 - val_loss: 0.5105 - val_accuracy: 0.8005\n",
      "Epoch 9/15\n",
      "355/355 [==============================] - 17s 48ms/step - loss: 0.2353 - accuracy: 0.9009 - val_loss: 0.4979 - val_accuracy: 0.7883\n",
      "Epoch 10/15\n",
      "355/355 [==============================] - 17s 48ms/step - loss: 0.2198 - accuracy: 0.9063 - val_loss: 0.5981 - val_accuracy: 0.8041\n",
      "Epoch 11/15\n",
      "355/355 [==============================] - 17s 48ms/step - loss: 0.2110 - accuracy: 0.9111 - val_loss: 0.6383 - val_accuracy: 0.7944\n",
      "Epoch 12/15\n",
      "355/355 [==============================] - 17s 49ms/step - loss: 0.1951 - accuracy: 0.9188 - val_loss: 0.6218 - val_accuracy: 0.8066\n",
      "Epoch 13/15\n",
      "355/355 [==============================] - 17s 49ms/step - loss: 0.1859 - accuracy: 0.9216 - val_loss: 0.5896 - val_accuracy: 0.8054\n",
      "Epoch 14/15\n",
      "355/355 [==============================] - 17s 49ms/step - loss: 0.1748 - accuracy: 0.9273 - val_loss: 0.5946 - val_accuracy: 0.8078\n",
      "Epoch 15/15\n",
      "354/355 [============================>.] - ETA: 0s - loss: 0.1656 - accuracy: 0.9330Restoring model weights from the end of the best epoch: 5.\n",
      "355/355 [==============================] - 17s 49ms/step - loss: 0.1657 - accuracy: 0.9330 - val_loss: 0.6129 - val_accuracy: 0.8114\n",
      "Epoch 00015: early stopping\n"
     ]
    }
   ],
   "source": [
    "with tf_device('GPU:0'):\n",
    "    history_3 = model1.fit(X_train, Y_train, epochs=15, validation_data=(X_test, Y_test), verbose = 1, callbacks = [earlyStop])"
   ]
  },
  {
   "cell_type": "code",
   "execution_count": null,
   "id": "8280890c",
   "metadata": {},
   "outputs": [],
   "source": []
  }
 ],
 "metadata": {
  "kernelspec": {
   "display_name": "Python 3 (ipykernel)",
   "language": "python",
   "name": "python3"
  },
  "language_info": {
   "codemirror_mode": {
    "name": "ipython",
    "version": 3
   },
   "file_extension": ".py",
   "mimetype": "text/x-python",
   "name": "python",
   "nbconvert_exporter": "python",
   "pygments_lexer": "ipython3",
   "version": "3.9.13"
  }
 },
 "nbformat": 4,
 "nbformat_minor": 5
}
