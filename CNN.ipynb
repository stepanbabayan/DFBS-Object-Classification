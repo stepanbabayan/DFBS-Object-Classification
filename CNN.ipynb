{
 "cells": [
  {
   "cell_type": "code",
   "execution_count": 1,
   "metadata": {
    "execution": {
     "iopub.execute_input": "2022-08-07T11:32:57.575237Z",
     "iopub.status.busy": "2022-08-07T11:32:57.574719Z",
     "iopub.status.idle": "2022-08-07T11:33:03.741010Z",
     "shell.execute_reply": "2022-08-07T11:33:03.739890Z",
     "shell.execute_reply.started": "2022-08-07T11:32:57.575127Z"
    },
    "pycharm": {
     "name": "#%%\n"
    }
   },
   "outputs": [],
   "source": [
    "import numpy as np\n",
    "import pandas as pd\n",
    "import matplotlib.pyplot as plt\n",
    "from sklearn.model_selection import train_test_split\n",
    "from sklearn.preprocessing import LabelEncoder\n",
    "from sklearn.metrics import classification_report\n",
    "\n",
    "from PIL import Image\n",
    "\n",
    "from tensorflow import device as tf_device\n",
    "from tensorflow.keras.optimizers import Adadelta\n",
    "from tensorflow.keras.models import Sequential\n",
    "from tensorflow.keras.layers import Conv2D, Activation, MaxPooling2D, Flatten, Dense, Dropout\n",
    "from tensorflow.keras.callbacks import ModelCheckpoint, LearningRateScheduler\n",
    "from tensorflow.keras.utils import to_categorical, plot_model\n",
    "from tensorflow.keras.preprocessing.image import ImageDataGenerator\n",
    "\n",
    "import os\n",
    "import sys\n",
    "import shutil\n",
    "from fnmatch import fnmatch\n",
    "from collections import Counter\n",
    "\n",
    "from _helpers import loadImages, prepareData, make_directory"
   ]
  },
  {
   "cell_type": "code",
   "execution_count": 2,
   "metadata": {
    "execution": {
     "iopub.execute_input": "2022-08-07T11:33:03.743652Z",
     "iopub.status.busy": "2022-08-07T11:33:03.743030Z",
     "iopub.status.idle": "2022-08-07T11:33:03.751047Z",
     "shell.execute_reply": "2022-08-07T11:33:03.749437Z",
     "shell.execute_reply.started": "2022-08-07T11:33:03.743605Z"
    },
    "pycharm": {
     "name": "#%%\n"
    }
   },
   "outputs": [],
   "source": [
    "from tqdm import tqdm\n",
    "from time import perf_counter"
   ]
  },
  {
   "cell_type": "code",
   "execution_count": 3,
   "metadata": {
    "execution": {
     "iopub.execute_input": "2022-08-07T11:33:03.755107Z",
     "iopub.status.busy": "2022-08-07T11:33:03.754246Z",
     "iopub.status.idle": "2022-08-07T11:33:03.769448Z",
     "shell.execute_reply": "2022-08-07T11:33:03.768002Z",
     "shell.execute_reply.started": "2022-08-07T11:33:03.755069Z"
    },
    "pycharm": {
     "name": "#%%\n"
    }
   },
   "outputs": [
    {
     "name": "stdout",
     "output_type": "stream",
     "text": [
      "2.7.1\n"
     ]
    }
   ],
   "source": [
    "from tensorflow import __version__\n",
    "print(__version__)"
   ]
  },
  {
   "cell_type": "code",
   "execution_count": 4,
   "metadata": {
    "execution": {
     "iopub.execute_input": "2022-08-07T11:33:03.772934Z",
     "iopub.status.busy": "2022-08-07T11:33:03.772349Z",
     "iopub.status.idle": "2022-08-07T11:33:03.778927Z",
     "shell.execute_reply": "2022-08-07T11:33:03.777821Z",
     "shell.execute_reply.started": "2022-08-07T11:33:03.772898Z"
    },
    "pycharm": {
     "name": "#%%\n"
    }
   },
   "outputs": [],
   "source": [
    "# csv_input_path = '../input/combined-4000/Combined_extracted.csv'\n",
    "# astro_input_path = '../input/resized-3913/images_resized/'\n",
    "# contours_path = './extractedContours/'\n",
    "\n",
    "# # Augmentation parameters\n",
    "# train_aug_path = 'augmented/train/'\n",
    "# test_aug_path = 'augmented/test/'\n",
    "# img_size = (140, 20)  # input image size to model\n",
    "# SEED = 1\n",
    "\n",
    "# # Model parameters\n",
    "# checkpoint_directory = 'checkpoint/'"
   ]
  },
  {
   "cell_type": "code",
   "execution_count": 5,
   "metadata": {
    "execution": {
     "iopub.execute_input": "2022-08-07T11:33:03.781528Z",
     "iopub.status.busy": "2022-08-07T11:33:03.781244Z",
     "iopub.status.idle": "2022-08-07T11:33:03.789098Z",
     "shell.execute_reply": "2022-08-07T11:33:03.787926Z",
     "shell.execute_reply.started": "2022-08-07T11:33:03.781488Z"
    },
    "pycharm": {
     "name": "#%%\n"
    }
   },
   "outputs": [],
   "source": [
    "# csv_input_path = 'data/Datasets/Subtypes_extracted.csv'\n",
    "# astro_input_path = 'data/Extracted/Subtypes/images_resized/'\n",
    "# class_column = 'Sp type'\n",
    "# contours_path = 'data/Contours/extractedContours/'\n",
    "\n",
    "# # Augmentation parameters\n",
    "# train_aug_path = 'data/Extracted/Subtypes/augmented/train/'\n",
    "# test_aug_path = 'data/Extracted/Subtypes/augmented/test/'\n",
    "# img_size = (140, 20)  # input image size to model\n",
    "# SEED = 1\n",
    "\n",
    "# # Model parameters\n",
    "# checkpoint_directory = 'data/Checkpoints/Subtypes/'"
   ]
  },
  {
   "cell_type": "code",
   "execution_count": 6,
   "metadata": {},
   "outputs": [],
   "source": [
    "csv_name = 'Subtypes'\n",
    "setting = '13_2'\n",
    "class_column = 'Sp type'"
   ]
  },
  {
   "cell_type": "code",
   "execution_count": 7,
   "metadata": {},
   "outputs": [],
   "source": [
    "csv_input_path = f'data/Datasets/{csv_name}_{setting}_extracted.csv'\n",
    "astro_input_path = f'data/Extracted/{csv_name}/{setting}/images_resized/'\n",
    "contours_path = 'data/Contours/extractedContours/'\n",
    "\n",
    "# Augmentation parameters\n",
    "train_aug_path = f'data/Extracted/{csv_name}/{setting}/augmented/train/'\n",
    "test_aug_path = f'data/Extracted/{csv_name}/{setting}/augmented/test/'\n",
    "img_size = (140, 20)  # input image size to model\n",
    "SEED = 1\n",
    "\n",
    "# Model parameters\n",
    "checkpoint_directory = f'data/Checkpoints/{csv_name}/{setting}/'"
   ]
  },
  {
   "cell_type": "code",
   "execution_count": 8,
   "metadata": {
    "execution": {
     "iopub.execute_input": "2022-08-07T11:33:32.040740Z",
     "iopub.status.busy": "2022-08-07T11:33:32.039761Z",
     "iopub.status.idle": "2022-08-07T11:33:32.096551Z",
     "shell.execute_reply": "2022-08-07T11:33:32.095615Z",
     "shell.execute_reply.started": "2022-08-07T11:33:32.040703Z"
    },
    "pycharm": {
     "name": "#%%\n"
    }
   },
   "outputs": [],
   "source": [
    "data = prepareData(csv_input_path)"
   ]
  },
  {
   "cell_type": "code",
   "execution_count": 9,
   "metadata": {
    "execution": {
     "iopub.execute_input": "2022-08-07T11:33:36.649457Z",
     "iopub.status.busy": "2022-08-07T11:33:36.648834Z",
     "iopub.status.idle": "2022-08-07T11:33:36.662523Z",
     "shell.execute_reply": "2022-08-07T11:33:36.661669Z",
     "shell.execute_reply.started": "2022-08-07T11:33:36.649409Z"
    },
    "pycharm": {
     "name": "#%%\n"
    }
   },
   "outputs": [
    {
     "data": {
      "text/plain": [
       "(1972, 14)"
      ]
     },
     "execution_count": 9,
     "metadata": {},
     "output_type": "execute_result"
    }
   ],
   "source": [
    "data.shape"
   ]
  },
  {
   "cell_type": "code",
   "execution_count": 10,
   "metadata": {
    "execution": {
     "iopub.execute_input": "2022-08-07T11:33:36.972200Z",
     "iopub.status.busy": "2022-08-07T11:33:36.971774Z",
     "iopub.status.idle": "2022-08-07T11:33:36.997787Z",
     "shell.execute_reply": "2022-08-07T11:33:36.996783Z",
     "shell.execute_reply.started": "2022-08-07T11:33:36.972160Z"
    },
    "pycharm": {
     "name": "#%%\n"
    }
   },
   "outputs": [],
   "source": [
    "data['fname'] = data.path.str.split('/', expand=True, ).iloc[:,-1]"
   ]
  },
  {
   "cell_type": "code",
   "execution_count": 11,
   "metadata": {
    "execution": {
     "iopub.execute_input": "2022-08-07T11:33:38.093288Z",
     "iopub.status.busy": "2022-08-07T11:33:38.092845Z",
     "iopub.status.idle": "2022-08-07T11:33:38.110621Z",
     "shell.execute_reply": "2022-08-07T11:33:38.109315Z",
     "shell.execute_reply.started": "2022-08-07T11:33:38.093248Z"
    },
    "pycharm": {
     "name": "#%%\n"
    }
   },
   "outputs": [
    {
     "data": {
      "text/plain": [
       "sdB        559\n",
       "C-H        430\n",
       "Mrk SB     399\n",
       "C Ba       155\n",
       "sdA        112\n",
       "sdO        112\n",
       "Mrk AGN     68\n",
       "Mrk Abs     66\n",
       "C-R         40\n",
       "C-N         31\n",
       "Name: Sp type, dtype: int64"
      ]
     },
     "execution_count": 11,
     "metadata": {},
     "output_type": "execute_result"
    }
   ],
   "source": [
    "data[class_column].value_counts()"
   ]
  },
  {
   "cell_type": "code",
   "execution_count": 12,
   "metadata": {
    "execution": {
     "iopub.execute_input": "2022-08-07T11:33:46.370214Z",
     "iopub.status.busy": "2022-08-07T11:33:46.369860Z",
     "iopub.status.idle": "2022-08-07T11:33:46.383008Z",
     "shell.execute_reply": "2022-08-07T11:33:46.381821Z",
     "shell.execute_reply.started": "2022-08-07T11:33:46.370183Z"
    },
    "pycharm": {
     "name": "#%%\n"
    }
   },
   "outputs": [],
   "source": [
    "# data.drop(data[(data[class_column] == 'cv') | (data[class_column] == 'QSO') | (data[class_column] == 'WD') | (data[class_column] == 'Sy1')].index, inplace=True)\n",
    "data = data[data[class_column].isin({'sdB', 'C-H', 'Mrk SB', 'C Ba'})]"
   ]
  },
  {
   "cell_type": "code",
   "execution_count": 13,
   "metadata": {
    "execution": {
     "iopub.execute_input": "2022-08-07T11:33:46.683171Z",
     "iopub.status.busy": "2022-08-07T11:33:46.682291Z",
     "iopub.status.idle": "2022-08-07T11:33:46.690341Z",
     "shell.execute_reply": "2022-08-07T11:33:46.689336Z",
     "shell.execute_reply.started": "2022-08-07T11:33:46.683119Z"
    },
    "pycharm": {
     "name": "#%%\n"
    }
   },
   "outputs": [],
   "source": [
    "def split_dataframe(data, coef):\n",
    "    train = pd.DataFrame(columns = data.columns)\n",
    "    test = pd.DataFrame(columns = data.columns)\n",
    "    for c in data[class_column].unique():\n",
    "        train_c, test_c = train_test_split(data[data[class_column]==c], test_size=coef, shuffle=True)\n",
    "        train = pd.concat([train, train_c], axis=0)\n",
    "        test = pd.concat([test, test_c], axis=0)\n",
    "    return train, test"
   ]
  },
  {
   "cell_type": "code",
   "execution_count": 14,
   "metadata": {
    "execution": {
     "iopub.execute_input": "2022-08-07T11:33:48.618842Z",
     "iopub.status.busy": "2022-08-07T11:33:48.618136Z",
     "iopub.status.idle": "2022-08-07T11:33:48.656176Z",
     "shell.execute_reply": "2022-08-07T11:33:48.655339Z",
     "shell.execute_reply.started": "2022-08-07T11:33:48.618804Z"
    },
    "pycharm": {
     "name": "#%%\n"
    }
   },
   "outputs": [
    {
     "data": {
      "text/plain": [
       "((1234, 15), (309, 15))"
      ]
     },
     "execution_count": 14,
     "metadata": {},
     "output_type": "execute_result"
    }
   ],
   "source": [
    "train, test = split_dataframe(data, 0.2)\n",
    "train.shape, test.shape"
   ]
  },
  {
   "cell_type": "code",
   "execution_count": 15,
   "metadata": {
    "execution": {
     "iopub.execute_input": "2022-08-07T11:33:49.451972Z",
     "iopub.status.busy": "2022-08-07T11:33:49.451394Z",
     "iopub.status.idle": "2022-08-07T11:33:49.462950Z",
     "shell.execute_reply": "2022-08-07T11:33:49.461954Z",
     "shell.execute_reply.started": "2022-08-07T11:33:49.451937Z"
    },
    "pycharm": {
     "name": "#%%\n"
    }
   },
   "outputs": [
    {
     "data": {
      "text/plain": [
       "(sdB       447\n",
       " C-H       344\n",
       " Mrk SB    319\n",
       " C Ba      124\n",
       " Name: Sp type, dtype: int64,\n",
       " sdB       112\n",
       " C-H        86\n",
       " Mrk SB     80\n",
       " C Ba       31\n",
       " Name: Sp type, dtype: int64)"
      ]
     },
     "execution_count": 15,
     "metadata": {},
     "output_type": "execute_result"
    }
   ],
   "source": [
    "train[class_column].value_counts(), test[class_column].value_counts()"
   ]
  },
  {
   "cell_type": "code",
   "execution_count": 16,
   "metadata": {
    "execution": {
     "iopub.execute_input": "2022-08-07T11:33:51.890659Z",
     "iopub.status.busy": "2022-08-07T11:33:51.889224Z",
     "iopub.status.idle": "2022-08-07T11:33:51.902857Z",
     "shell.execute_reply": "2022-08-07T11:33:51.901753Z",
     "shell.execute_reply.started": "2022-08-07T11:33:51.890613Z"
    },
    "pycharm": {
     "name": "#%%\n"
    }
   },
   "outputs": [],
   "source": [
    "def augment(data, n_times=1, batch_size=2, img_size=(140,20), input_path='data/images/',\n",
    "            output_path='data/augmented/', seed = None, save_format='png', x_col='fname', y_col=\"Cl\",\n",
    "            shuffle=False, color_mode='grayscale', class_mode=\"categorical\"):\n",
    "    n_steps_data_aug = np.ceil(data.shape[0]/batch_size).astype(int)\n",
    "    save_prefix = 'aug'\n",
    "\n",
    "    datagen = ImageDataGenerator(\n",
    "        rotation_range=1,\n",
    "        width_shift_range=0.05,\n",
    "        height_shift_range=0.05,\n",
    "        shear_range=0.1,\n",
    "        zoom_range=0.1,\n",
    "        horizontal_flip=True,\n",
    "        vertical_flip=False,\n",
    "        fill_mode=\"nearest\"\n",
    "        # rescale = 1./0xff\n",
    "    )\n",
    "\n",
    "    aug_gen = datagen.flow_from_dataframe(dataframe=data, directory=input_path,\n",
    "                                          save_to_dir=output_path, save_prefix=save_prefix,\n",
    "                                          save_format=save_format, x_col=x_col, y_col=y_col,\n",
    "                                          batch_size=batch_size, seed=seed,\n",
    "                                          shuffle=shuffle, color_mode=color_mode,\n",
    "                                          class_mode=class_mode, target_size=img_size)\n",
    "\n",
    "    make_directory(output_path)\n",
    "\n",
    "    for i in tqdm(range(n_times*n_steps_data_aug)):\n",
    "        next(aug_gen)\n",
    "\n",
    "    augmented_images = np.array(os.listdir(output_path))\n",
    "    aug_data = pd.concat([pd.Series(augmented_images).str.split('_', expand=True)[1], output_path + pd.Series(augmented_images)], axis=1)\n",
    "\n",
    "    aug_data[y_col] = data[y_col].iloc[aug_data[1]].values\n",
    "    aug_data['Name'] = data['Name'].iloc[aug_data[1]].values\n",
    "    aug_data[1] = data.iloc[aug_data[1]].index\n",
    "    aug_data.rename(columns={0: \"path\", 1: \"data_index\"}, inplace=True)\n",
    "\n",
    "    return aug_data, aug_gen.classes"
   ]
  },
  {
   "cell_type": "code",
   "execution_count": 17,
   "metadata": {
    "execution": {
     "iopub.execute_input": "2022-08-07T11:33:54.733967Z",
     "iopub.status.busy": "2022-08-07T11:33:54.733608Z",
     "iopub.status.idle": "2022-08-07T11:35:16.275935Z",
     "shell.execute_reply": "2022-08-07T11:35:16.273437Z",
     "shell.execute_reply.started": "2022-08-07T11:33:54.733938Z"
    },
    "pycharm": {
     "name": "#%%\n"
    }
   },
   "outputs": [
    {
     "name": "stdout",
     "output_type": "stream",
     "text": [
      "Found 1234 validated image filenames belonging to 4 classes.\n"
     ]
    },
    {
     "name": "stderr",
     "output_type": "stream",
     "text": [
      "100%|████████████████████████████████████████████████████████████████████████████████████████████████████████████████████████████████████████████████████████████████████████████████████████| 390/390 [00:07<00:00, 50.20it/s]\n"
     ]
    },
    {
     "name": "stdout",
     "output_type": "stream",
     "text": [
      "Found 309 validated image filenames belonging to 4 classes.\n"
     ]
    },
    {
     "name": "stderr",
     "output_type": "stream",
     "text": [
      "100%|██████████████████████████████████████████████████████████████████████████████████████████████████████████████████████████████████████████████████████████████████████████████████████████| 40/40 [00:00<00:00, 48.28it/s]\n"
     ]
    },
    {
     "data": {
      "text/html": [
       "<div>\n",
       "<style scoped>\n",
       "    .dataframe tbody tr th:only-of-type {\n",
       "        vertical-align: middle;\n",
       "    }\n",
       "\n",
       "    .dataframe tbody tr th {\n",
       "        vertical-align: top;\n",
       "    }\n",
       "\n",
       "    .dataframe thead th {\n",
       "        text-align: right;\n",
       "    }\n",
       "</style>\n",
       "<table border=\"1\" class=\"dataframe\">\n",
       "  <thead>\n",
       "    <tr style=\"text-align: right;\">\n",
       "      <th></th>\n",
       "      <th>data_index</th>\n",
       "      <th>path</th>\n",
       "      <th>Sp type</th>\n",
       "      <th>Name</th>\n",
       "    </tr>\n",
       "  </thead>\n",
       "  <tbody>\n",
       "    <tr>\n",
       "      <th>0</th>\n",
       "      <td>116</td>\n",
       "      <td>data/Extracted/Subtypes/13_2/augmented/train/a...</td>\n",
       "      <td>C Ba</td>\n",
       "      <td>J125834.26+243437.2</td>\n",
       "    </tr>\n",
       "    <tr>\n",
       "      <th>1</th>\n",
       "      <td>2566</td>\n",
       "      <td>data/Extracted/Subtypes/13_2/augmented/train/a...</td>\n",
       "      <td>sdB</td>\n",
       "      <td>PG1609+195</td>\n",
       "    </tr>\n",
       "    <tr>\n",
       "      <th>2</th>\n",
       "      <td>537</td>\n",
       "      <td>data/Extracted/Subtypes/13_2/augmented/train/a...</td>\n",
       "      <td>C-H</td>\n",
       "      <td>J074213.69+285444.9</td>\n",
       "    </tr>\n",
       "    <tr>\n",
       "      <th>3</th>\n",
       "      <td>2763</td>\n",
       "      <td>data/Extracted/Subtypes/13_2/augmented/train/a...</td>\n",
       "      <td>sdB</td>\n",
       "      <td>PG1416+110</td>\n",
       "    </tr>\n",
       "    <tr>\n",
       "      <th>4</th>\n",
       "      <td>2450</td>\n",
       "      <td>data/Extracted/Subtypes/13_2/augmented/train/a...</td>\n",
       "      <td>sdB</td>\n",
       "      <td>PG0843+246</td>\n",
       "    </tr>\n",
       "  </tbody>\n",
       "</table>\n",
       "</div>"
      ],
      "text/plain": [
       "   data_index                                               path Sp type  \\\n",
       "0         116  data/Extracted/Subtypes/13_2/augmented/train/a...    C Ba   \n",
       "1        2566  data/Extracted/Subtypes/13_2/augmented/train/a...     sdB   \n",
       "2         537  data/Extracted/Subtypes/13_2/augmented/train/a...     C-H   \n",
       "3        2763  data/Extracted/Subtypes/13_2/augmented/train/a...     sdB   \n",
       "4        2450  data/Extracted/Subtypes/13_2/augmented/train/a...     sdB   \n",
       "\n",
       "                  Name  \n",
       "0  J125834.26+243437.2  \n",
       "1           PG1609+195  \n",
       "2  J074213.69+285444.9  \n",
       "3           PG1416+110  \n",
       "4           PG0843+246  "
      ]
     },
     "execution_count": 17,
     "metadata": {},
     "output_type": "execute_result"
    }
   ],
   "source": [
    "aug_train, aug_classes = augment(\n",
    "    train, n_times=10, batch_size=32, img_size=img_size,\n",
    "    input_path=astro_input_path, output_path=train_aug_path,\n",
    "    seed=SEED, y_col=class_column)\n",
    "aug_test, _ = augment(\n",
    "    test, n_times=4, batch_size=32, img_size=img_size,\n",
    "    input_path=astro_input_path, output_path=test_aug_path,\n",
    "    seed=SEED, y_col=class_column)\n",
    "aug_train.head()"
   ]
  },
  {
   "cell_type": "code",
   "execution_count": 18,
   "metadata": {
    "execution": {
     "iopub.execute_input": "2022-08-07T11:35:16.282676Z",
     "iopub.status.busy": "2022-08-07T11:35:16.279574Z",
     "iopub.status.idle": "2022-08-07T11:35:16.297888Z",
     "shell.execute_reply": "2022-08-07T11:35:16.296220Z",
     "shell.execute_reply.started": "2022-08-07T11:35:16.282638Z"
    },
    "pycharm": {
     "name": "#%%\n"
    }
   },
   "outputs": [
    {
     "data": {
      "text/plain": [
       "(sdB       4470\n",
       " C-H       3440\n",
       " Mrk SB    3190\n",
       " C Ba      1240\n",
       " Name: Sp type, dtype: int64,\n",
       " (12340, 4))"
      ]
     },
     "execution_count": 18,
     "metadata": {},
     "output_type": "execute_result"
    }
   ],
   "source": [
    "aug_train[class_column].value_counts(), aug_train.shape"
   ]
  },
  {
   "cell_type": "code",
   "execution_count": 19,
   "metadata": {
    "execution": {
     "iopub.execute_input": "2022-08-07T11:35:16.304865Z",
     "iopub.status.busy": "2022-08-07T11:35:16.302419Z",
     "iopub.status.idle": "2022-08-07T11:35:16.334197Z",
     "shell.execute_reply": "2022-08-07T11:35:16.333427Z",
     "shell.execute_reply.started": "2022-08-07T11:35:16.304825Z"
    },
    "pycharm": {
     "name": "#%%\n"
    }
   },
   "outputs": [
    {
     "data": {
      "text/html": [
       "<div>\n",
       "<style scoped>\n",
       "    .dataframe tbody tr th:only-of-type {\n",
       "        vertical-align: middle;\n",
       "    }\n",
       "\n",
       "    .dataframe tbody tr th {\n",
       "        vertical-align: top;\n",
       "    }\n",
       "\n",
       "    .dataframe thead th {\n",
       "        text-align: right;\n",
       "    }\n",
       "</style>\n",
       "<table border=\"1\" class=\"dataframe\">\n",
       "  <thead>\n",
       "    <tr style=\"text-align: right;\">\n",
       "      <th></th>\n",
       "      <th>data_index</th>\n",
       "      <th>path</th>\n",
       "      <th>Sp type</th>\n",
       "      <th>Name</th>\n",
       "    </tr>\n",
       "  </thead>\n",
       "  <tbody>\n",
       "    <tr>\n",
       "      <th>0</th>\n",
       "      <td>116</td>\n",
       "      <td>data/Extracted/Subtypes/13_2/augmented/train/a...</td>\n",
       "      <td>0</td>\n",
       "      <td>J125834.26+243437.2</td>\n",
       "    </tr>\n",
       "    <tr>\n",
       "      <th>1</th>\n",
       "      <td>2566</td>\n",
       "      <td>data/Extracted/Subtypes/13_2/augmented/train/a...</td>\n",
       "      <td>3</td>\n",
       "      <td>PG1609+195</td>\n",
       "    </tr>\n",
       "    <tr>\n",
       "      <th>2</th>\n",
       "      <td>537</td>\n",
       "      <td>data/Extracted/Subtypes/13_2/augmented/train/a...</td>\n",
       "      <td>1</td>\n",
       "      <td>J074213.69+285444.9</td>\n",
       "    </tr>\n",
       "    <tr>\n",
       "      <th>3</th>\n",
       "      <td>2763</td>\n",
       "      <td>data/Extracted/Subtypes/13_2/augmented/train/a...</td>\n",
       "      <td>3</td>\n",
       "      <td>PG1416+110</td>\n",
       "    </tr>\n",
       "    <tr>\n",
       "      <th>4</th>\n",
       "      <td>2450</td>\n",
       "      <td>data/Extracted/Subtypes/13_2/augmented/train/a...</td>\n",
       "      <td>3</td>\n",
       "      <td>PG0843+246</td>\n",
       "    </tr>\n",
       "  </tbody>\n",
       "</table>\n",
       "</div>"
      ],
      "text/plain": [
       "   data_index                                               path  Sp type  \\\n",
       "0         116  data/Extracted/Subtypes/13_2/augmented/train/a...        0   \n",
       "1        2566  data/Extracted/Subtypes/13_2/augmented/train/a...        3   \n",
       "2         537  data/Extracted/Subtypes/13_2/augmented/train/a...        1   \n",
       "3        2763  data/Extracted/Subtypes/13_2/augmented/train/a...        3   \n",
       "4        2450  data/Extracted/Subtypes/13_2/augmented/train/a...        3   \n",
       "\n",
       "                  Name  \n",
       "0  J125834.26+243437.2  \n",
       "1           PG1609+195  \n",
       "2  J074213.69+285444.9  \n",
       "3           PG1416+110  \n",
       "4           PG0843+246  "
      ]
     },
     "execution_count": 19,
     "metadata": {},
     "output_type": "execute_result"
    }
   ],
   "source": [
    "le = LabelEncoder()\n",
    "le.fit(aug_train[class_column])\n",
    "aug_train[class_column]=le.transform(aug_train[class_column])\n",
    "aug_test[class_column]=le.transform(aug_test[class_column])\n",
    "aug_train.head()"
   ]
  },
  {
   "cell_type": "code",
   "execution_count": 20,
   "metadata": {
    "execution": {
     "iopub.execute_input": "2022-08-07T11:35:16.341037Z",
     "iopub.status.busy": "2022-08-07T11:35:16.338968Z",
     "iopub.status.idle": "2022-08-07T11:35:16.352518Z",
     "shell.execute_reply": "2022-08-07T11:35:16.351627Z",
     "shell.execute_reply.started": "2022-08-07T11:35:16.341001Z"
    },
    "pycharm": {
     "name": "#%%\n"
    }
   },
   "outputs": [
    {
     "data": {
      "text/plain": [
       "3    4470\n",
       "1    3440\n",
       "2    3190\n",
       "0    1240\n",
       "Name: Sp type, dtype: int64"
      ]
     },
     "execution_count": 20,
     "metadata": {},
     "output_type": "execute_result"
    }
   ],
   "source": [
    "values = aug_train[class_column].value_counts()\n",
    "num_classes = len(values)\n",
    "values"
   ]
  },
  {
   "cell_type": "code",
   "execution_count": 21,
   "metadata": {
    "execution": {
     "iopub.execute_input": "2022-08-07T11:35:16.358980Z",
     "iopub.status.busy": "2022-08-07T11:35:16.356869Z",
     "iopub.status.idle": "2022-08-07T11:35:16.366282Z",
     "shell.execute_reply": "2022-08-07T11:35:16.364957Z",
     "shell.execute_reply.started": "2022-08-07T11:35:16.358945Z"
    },
    "pycharm": {
     "name": "#%%\n"
    }
   },
   "outputs": [],
   "source": [
    "X_train_path = aug_train.loc[:, 'path'].values\n",
    "Y_train = aug_train.loc[:, class_column].values\n",
    "X_test_path = aug_test.loc[:, 'path'].values\n",
    "Y_test = aug_test.loc[:, class_column].values"
   ]
  },
  {
   "cell_type": "code",
   "execution_count": 22,
   "metadata": {
    "execution": {
     "iopub.execute_input": "2022-08-07T11:35:16.383458Z",
     "iopub.status.busy": "2022-08-07T11:35:16.382298Z",
     "iopub.status.idle": "2022-08-07T11:35:26.124294Z",
     "shell.execute_reply": "2022-08-07T11:35:26.123286Z",
     "shell.execute_reply.started": "2022-08-07T11:35:16.383423Z"
    },
    "pycharm": {
     "name": "#%%\n"
    }
   },
   "outputs": [],
   "source": [
    "X_train = loadImages(X_train_path)\n",
    "X_test = loadImages(X_test_path)"
   ]
  },
  {
   "cell_type": "code",
   "execution_count": 23,
   "metadata": {
    "execution": {
     "iopub.execute_input": "2022-08-07T11:35:26.126337Z",
     "iopub.status.busy": "2022-08-07T11:35:26.125945Z",
     "iopub.status.idle": "2022-08-07T11:35:26.132253Z",
     "shell.execute_reply": "2022-08-07T11:35:26.131310Z",
     "shell.execute_reply.started": "2022-08-07T11:35:26.126299Z"
    },
    "pycharm": {
     "name": "#%%\n"
    }
   },
   "outputs": [],
   "source": [
    "Y_train = to_categorical(Y_train, num_classes)\n",
    "Y_test = to_categorical(Y_test, num_classes)"
   ]
  },
  {
   "cell_type": "code",
   "execution_count": 24,
   "metadata": {
    "execution": {
     "iopub.execute_input": "2022-08-07T11:35:26.134249Z",
     "iopub.status.busy": "2022-08-07T11:35:26.133666Z",
     "iopub.status.idle": "2022-08-07T11:35:26.143824Z",
     "shell.execute_reply": "2022-08-07T11:35:26.142714Z",
     "shell.execute_reply.started": "2022-08-07T11:35:26.134202Z"
    },
    "pycharm": {
     "name": "#%%\n"
    }
   },
   "outputs": [
    {
     "data": {
      "text/plain": [
       "((12340, 140, 20), (12340, 4))"
      ]
     },
     "execution_count": 24,
     "metadata": {},
     "output_type": "execute_result"
    }
   ],
   "source": [
    "X_train.shape, Y_train.shape"
   ]
  },
  {
   "cell_type": "code",
   "execution_count": 25,
   "metadata": {
    "execution": {
     "iopub.execute_input": "2022-08-07T11:35:26.156073Z",
     "iopub.status.busy": "2022-08-07T11:35:26.155497Z",
     "iopub.status.idle": "2022-08-07T11:35:26.166515Z",
     "shell.execute_reply": "2022-08-07T11:35:26.165379Z",
     "shell.execute_reply.started": "2022-08-07T11:35:26.156031Z"
    },
    "pycharm": {
     "name": "#%%\n"
    }
   },
   "outputs": [],
   "source": [
    "input_shape = (img_size[0], img_size[1], 1)\n",
    "X_train = X_train.reshape(X_train.shape[0], input_shape[0], input_shape[1], input_shape[2])\n",
    "X_test = X_test.reshape(X_test.shape[0], input_shape[0], input_shape[1], input_shape[2])"
   ]
  },
  {
   "cell_type": "code",
   "execution_count": 26,
   "metadata": {
    "execution": {
     "iopub.execute_input": "2022-08-07T11:35:26.168783Z",
     "iopub.status.busy": "2022-08-07T11:35:26.167747Z",
     "iopub.status.idle": "2022-08-07T11:35:26.177442Z",
     "shell.execute_reply": "2022-08-07T11:35:26.176304Z",
     "shell.execute_reply.started": "2022-08-07T11:35:26.168746Z"
    },
    "pycharm": {
     "name": "#%%\n"
    }
   },
   "outputs": [
    {
     "name": "stdout",
     "output_type": "stream",
     "text": [
      "x_train shape: (12340, 140, 20, 1)\n",
      "12340 train samples\n",
      "1236 test samples\n"
     ]
    }
   ],
   "source": [
    "print('x_train shape:', X_train.shape)\n",
    "print(X_train.shape[0], 'train samples')\n",
    "print(X_test.shape[0], 'test samples')"
   ]
  },
  {
   "cell_type": "code",
   "execution_count": 31,
   "metadata": {
    "execution": {
     "iopub.execute_input": "2022-08-07T11:35:26.201439Z",
     "iopub.status.busy": "2022-08-07T11:35:26.200435Z",
     "iopub.status.idle": "2022-08-07T11:35:26.210558Z",
     "shell.execute_reply": "2022-08-07T11:35:26.209638Z",
     "shell.execute_reply.started": "2022-08-07T11:35:26.201399Z"
    },
    "pycharm": {
     "name": "#%%\n"
    }
   },
   "outputs": [],
   "source": [
    "model_checkpoint_callback = ModelCheckpoint(\n",
    "    filepath=checkpoint_directory + 'checkpoint',\n",
    "    save_weights_only=True,\n",
    "    monitor='val_accuracy',\n",
    "    mode='max',\n",
    "    save_best_only=True)\n",
    "\n",
    "make_directory(checkpoint_directory)\n",
    "\n",
    "def lr_schedule(epoch):\n",
    "    lrate = 0.002\n",
    "    if epoch > 3:\n",
    "        lrate = 0.001\n",
    "    if epoch > 6:\n",
    "        lrate = 0.0005\n",
    "    if epoch > 9:\n",
    "        lrate = 0.00025\n",
    "    if epoch > 12:\n",
    "        lrate = 0.0001\n",
    "    if epoch > 15:\n",
    "        lrate = 0.00005\n",
    "    return lrate\n",
    "\n",
    "lr_scheduler = LearningRateScheduler(lr_schedule)"
   ]
  },
  {
   "cell_type": "code",
   "execution_count": 32,
   "metadata": {
    "execution": {
     "iopub.execute_input": "2022-08-07T11:35:26.212661Z",
     "iopub.status.busy": "2022-08-07T11:35:26.211818Z",
     "iopub.status.idle": "2022-08-07T11:35:26.220128Z",
     "shell.execute_reply": "2022-08-07T11:35:26.219213Z",
     "shell.execute_reply.started": "2022-08-07T11:35:26.212625Z"
    },
    "pycharm": {
     "name": "#%%\n"
    }
   },
   "outputs": [],
   "source": [
    "counter = Counter(aug_classes)\n",
    "max_val = float(max(counter.values()))       \n",
    "class_weights = {class_id : max_val/num_images for class_id, num_images in counter.items()}"
   ]
  },
  {
   "cell_type": "code",
   "execution_count": 33,
   "metadata": {
    "execution": {
     "iopub.execute_input": "2022-08-07T11:35:26.222224Z",
     "iopub.status.busy": "2022-08-07T11:35:26.221683Z",
     "iopub.status.idle": "2022-08-07T11:35:29.136493Z",
     "shell.execute_reply": "2022-08-07T11:35:29.135585Z",
     "shell.execute_reply.started": "2022-08-07T11:35:26.222188Z"
    },
    "pycharm": {
     "name": "#%%\n"
    }
   },
   "outputs": [],
   "source": [
    "model = Sequential()\n",
    "model.add(Conv2D(128, kernel_size=(3,3), input_shape=input_shape, padding=\"same\"))\n",
    "model.add(MaxPooling2D(pool_size=(2, 2)))\n",
    "\n",
    "model.add(Conv2D(128, (3, 3), padding=\"same\"))\n",
    "model.add(Activation('relu'))\n",
    "model.add(MaxPooling2D(pool_size=(1, 2)))\n",
    "\n",
    "model.add(Conv2D(64, (3, 3), padding=\"same\"))\n",
    "model.add(Activation('relu'))\n",
    "model.add(MaxPooling2D(pool_size=(2, 1)))\n",
    "\n",
    "model.add(Conv2D(64, (3, 3), padding=\"same\"))\n",
    "model.add(Activation('relu'))\n",
    "model.add(MaxPooling2D(pool_size=(2, 2)))\n",
    "\n",
    "model.add(Conv2D(64, (3, 3), padding=\"same\"))\n",
    "model.add(Activation('relu'))\n",
    "model.add(MaxPooling2D(pool_size=(2, 1)))\n",
    "\n",
    "model.add(Flatten())\n",
    "model.add(Dense(512))\n",
    "model.add(Activation('relu'))\n",
    "model.add(Dropout(0.5))\n",
    "model.add(Dense(num_classes))\n",
    "model.add(Activation('softmax'))"
   ]
  },
  {
   "cell_type": "code",
   "execution_count": 34,
   "metadata": {
    "execution": {
     "iopub.execute_input": "2022-08-07T11:35:29.138195Z",
     "iopub.status.busy": "2022-08-07T11:35:29.137844Z",
     "iopub.status.idle": "2022-08-07T11:35:29.149135Z",
     "shell.execute_reply": "2022-08-07T11:35:29.148113Z",
     "shell.execute_reply.started": "2022-08-07T11:35:29.138148Z"
    },
    "pycharm": {
     "name": "#%%\n"
    }
   },
   "outputs": [
    {
     "name": "stdout",
     "output_type": "stream",
     "text": [
      "Model: \"sequential_1\"\n",
      "_________________________________________________________________\n",
      " Layer (type)                Output Shape              Param #   \n",
      "=================================================================\n",
      " conv2d (Conv2D)             (None, 140, 20, 128)      1280      \n",
      "                                                                 \n",
      " max_pooling2d (MaxPooling2D  (None, 70, 10, 128)      0         \n",
      " )                                                               \n",
      "                                                                 \n",
      " conv2d_1 (Conv2D)           (None, 70, 10, 128)       147584    \n",
      "                                                                 \n",
      " activation (Activation)     (None, 70, 10, 128)       0         \n",
      "                                                                 \n",
      " max_pooling2d_1 (MaxPooling  (None, 70, 5, 128)       0         \n",
      " 2D)                                                             \n",
      "                                                                 \n",
      " conv2d_2 (Conv2D)           (None, 70, 5, 64)         73792     \n",
      "                                                                 \n",
      " activation_1 (Activation)   (None, 70, 5, 64)         0         \n",
      "                                                                 \n",
      " max_pooling2d_2 (MaxPooling  (None, 35, 5, 64)        0         \n",
      " 2D)                                                             \n",
      "                                                                 \n",
      " conv2d_3 (Conv2D)           (None, 35, 5, 64)         36928     \n",
      "                                                                 \n",
      " activation_2 (Activation)   (None, 35, 5, 64)         0         \n",
      "                                                                 \n",
      " max_pooling2d_3 (MaxPooling  (None, 17, 2, 64)        0         \n",
      " 2D)                                                             \n",
      "                                                                 \n",
      " conv2d_4 (Conv2D)           (None, 17, 2, 64)         36928     \n",
      "                                                                 \n",
      " activation_3 (Activation)   (None, 17, 2, 64)         0         \n",
      "                                                                 \n",
      " max_pooling2d_4 (MaxPooling  (None, 8, 2, 64)         0         \n",
      " 2D)                                                             \n",
      "                                                                 \n",
      " flatten (Flatten)           (None, 1024)              0         \n",
      "                                                                 \n",
      " dense (Dense)               (None, 512)               524800    \n",
      "                                                                 \n",
      " activation_4 (Activation)   (None, 512)               0         \n",
      "                                                                 \n",
      " dropout (Dropout)           (None, 512)               0         \n",
      "                                                                 \n",
      " dense_1 (Dense)             (None, 4)                 2052      \n",
      "                                                                 \n",
      " activation_5 (Activation)   (None, 4)                 0         \n",
      "                                                                 \n",
      "=================================================================\n",
      "Total params: 823,364\n",
      "Trainable params: 823,364\n",
      "Non-trainable params: 0\n",
      "_________________________________________________________________\n"
     ]
    }
   ],
   "source": [
    "model.summary()"
   ]
  },
  {
   "cell_type": "code",
   "execution_count": 35,
   "metadata": {
    "execution": {
     "iopub.execute_input": "2022-08-07T11:35:29.151325Z",
     "iopub.status.busy": "2022-08-07T11:35:29.150660Z",
     "iopub.status.idle": "2022-08-07T11:35:29.165630Z",
     "shell.execute_reply": "2022-08-07T11:35:29.164606Z",
     "shell.execute_reply.started": "2022-08-07T11:35:29.151284Z"
    },
    "pycharm": {
     "name": "#%%\n"
    }
   },
   "outputs": [],
   "source": [
    "model.compile(optimizer =\"adamax\",\n",
    "                 loss = \"categorical_crossentropy\",\n",
    "                  metrics = [\"accuracy\"])"
   ]
  },
  {
   "cell_type": "code",
   "execution_count": 36,
   "metadata": {
    "execution": {
     "iopub.execute_input": "2022-08-07T11:35:29.167703Z",
     "iopub.status.busy": "2022-08-07T11:35:29.167322Z",
     "iopub.status.idle": "2022-08-07T11:35:29.177504Z",
     "shell.execute_reply": "2022-08-07T11:35:29.176433Z",
     "shell.execute_reply.started": "2022-08-07T11:35:29.167658Z"
    },
    "pycharm": {
     "name": "#%%\n"
    }
   },
   "outputs": [],
   "source": [
    "# from tensorflow.keras.utils import Sequence\n",
    "\n",
    "# class DataGenerator(Sequence):\n",
    "#     def __init__(self, x_set, y_set, batch_size):\n",
    "#         self.x, self.y = x_set, y_set\n",
    "#         self.batch_size = batch_size\n",
    "\n",
    "#     def __len__(self):\n",
    "#         return int(np.ceil(len(self.x) / float(self.batch_size)))\n",
    "\n",
    "#     def __getitem__(self, idx):\n",
    "#         batch_x = self.x[idx * self.batch_size:(idx + 1) * self.batch_size]\n",
    "#         batch_y = self.y[idx * self.batch_size:(idx + 1) * self.batch_size]\n",
    "#         return batch_x, batch_y\n",
    "\n",
    "# train_gen = DataGenerator(X_train, Y_train, 32)\n",
    "# test_gen = DataGenerator(X_test, Y_test, 256)"
   ]
  },
  {
   "cell_type": "code",
   "execution_count": 38,
   "metadata": {
    "execution": {
     "iopub.execute_input": "2022-08-07T08:37:06.161570Z",
     "iopub.status.busy": "2022-08-07T08:37:06.161316Z",
     "iopub.status.idle": "2022-08-07T08:52:30.806868Z",
     "shell.execute_reply": "2022-08-07T08:52:30.805805Z",
     "shell.execute_reply.started": "2022-08-07T08:37:06.161547Z"
    },
    "pycharm": {
     "name": "#%%\n"
    },
    "scrolled": false
   },
   "outputs": [],
   "source": [
    "with tf_device('GPU:0'):\n",
    "    history = model.fit(X_train, Y_train, batch_size=8, epochs = 30, validation_data=(X_test, Y_test), class_weight=class_weights, callbacks=[model_checkpoint_callback])\n",
    "#     lr_scheduler"
   ]
  },
  {
   "cell_type": "code",
   "execution_count": null,
   "metadata": {},
   "outputs": [],
   "source": [
    "from tensorflow.keras.preprocessing.image import ImageDataGenerator\n",
    "gen = ImageDataGenerator(\n",
    "#     rotation_range = 2,\n",
    "#     shear_range=1,\n",
    "#     zoom_range=0.1,\n",
    "    validation_split = 0.2\n",
    ")"
   ]
  },
  {
   "cell_type": "code",
   "execution_count": null,
   "metadata": {},
   "outputs": [],
   "source": [
    "def Charts(history):\n",
    "    plt.plot(history.history['loss'])\n",
    "    plt.plot(history.history['val_loss'])\n",
    "    plt.title('model loss')\n",
    "    plt.ylabel('loss')\n",
    "    plt.xlabel('epoch')\n",
    "    plt.legend(['train', 'val'], loc='upper left')\n",
    "    plt.show()\n",
    "    \n",
    "    plt.plot(history.history['accuracy'])\n",
    "    plt.plot(history.history['val_accuracy'])\n",
    "    plt.title('model accuracy')\n",
    "    plt.ylabel('accuracy')\n",
    "    plt.xlabel('epoch')\n",
    "    plt.legend(['train', 'val'], loc='upper left')\n",
    "    plt.show()"
   ]
  },
  {
   "cell_type": "code",
   "execution_count": 29,
   "metadata": {},
   "outputs": [
    {
     "name": "stdout",
     "output_type": "stream",
     "text": [
      "Model: \"sequential_2\"\n",
      "_________________________________________________________________\n",
      " Layer (type)                Output Shape              Param #   \n",
      "=================================================================\n",
      " conv2d_6 (Conv2D)           (None, 140, 20, 32)       320       \n",
      "                                                                 \n",
      " conv2d_7 (Conv2D)           (None, 140, 20, 32)       9248      \n",
      "                                                                 \n",
      " conv2d_8 (Conv2D)           (None, 140, 20, 32)       9248      \n",
      "                                                                 \n",
      " max_pooling2d_2 (MaxPooling  (None, 70, 10, 32)       0         \n",
      " 2D)                                                             \n",
      "                                                                 \n",
      " batch_normalization_2 (Batc  (None, 70, 10, 32)       128       \n",
      " hNormalization)                                                 \n",
      "                                                                 \n",
      " dropout (Dropout)           (None, 70, 10, 32)        0         \n",
      "                                                                 \n",
      " conv2d_9 (Conv2D)           (None, 70, 10, 64)        18496     \n",
      "                                                                 \n",
      " conv2d_10 (Conv2D)          (None, 70, 10, 64)        36928     \n",
      "                                                                 \n",
      " conv2d_11 (Conv2D)          (None, 70, 10, 64)        36928     \n",
      "                                                                 \n",
      " max_pooling2d_3 (MaxPooling  (None, 35, 5, 64)        0         \n",
      " 2D)                                                             \n",
      "                                                                 \n",
      " batch_normalization_3 (Batc  (None, 35, 5, 64)        256       \n",
      " hNormalization)                                                 \n",
      "                                                                 \n",
      " dropout_1 (Dropout)         (None, 35, 5, 64)         0         \n",
      "                                                                 \n",
      " conv2d_12 (Conv2D)          (None, 35, 5, 128)        73856     \n",
      "                                                                 \n",
      " conv2d_13 (Conv2D)          (None, 35, 5, 128)        147584    \n",
      "                                                                 \n",
      " conv2d_14 (Conv2D)          (None, 35, 5, 128)        147584    \n",
      "                                                                 \n",
      " max_pooling2d_4 (MaxPooling  (None, 17, 2, 128)       0         \n",
      " 2D)                                                             \n",
      "                                                                 \n",
      " batch_normalization_4 (Batc  (None, 17, 2, 128)       512       \n",
      " hNormalization)                                                 \n",
      "                                                                 \n",
      " flatten (Flatten)           (None, 4352)              0         \n",
      "                                                                 \n",
      " dropout_2 (Dropout)         (None, 4352)              0         \n",
      "                                                                 \n",
      " dense (Dense)               (None, 256)               1114368   \n",
      "                                                                 \n",
      " dropout_3 (Dropout)         (None, 256)               0         \n",
      "                                                                 \n",
      " dense_1 (Dense)             (None, 4)                 1028      \n",
      "                                                                 \n",
      "=================================================================\n",
      "Total params: 1,596,484\n",
      "Trainable params: 1,596,036\n",
      "Non-trainable params: 448\n",
      "_________________________________________________________________\n"
     ]
    }
   ],
   "source": [
    "from tensorflow.keras import Sequential\n",
    "from tensorflow.keras.layers import Conv2D, MaxPool2D, BatchNormalization, Dense, Dropout, Flatten, LeakyReLU\n",
    "model1 = Sequential()\n",
    "\n",
    "model1.add(Conv2D(32, 3, padding = 'same', kernel_initializer = 'glorot_normal', activation = 'relu', input_shape = input_shape))\n",
    "model1.add(Conv2D(32, 3, padding = 'same', kernel_initializer = 'glorot_normal', activation = 'relu'))\n",
    "model1.add(Conv2D(32, 3, padding = 'same', kernel_initializer = 'glorot_normal', activation = 'relu'))\n",
    "model1.add(MaxPool2D(2))\n",
    "model1.add(BatchNormalization())\n",
    "model1.add(Dropout(0.2))\n",
    "\n",
    "model1.add(Conv2D(64, 3, padding = 'same', kernel_initializer = 'glorot_normal', activation = 'relu'))\n",
    "model1.add(Conv2D(64, 3, padding = 'same', kernel_initializer = 'glorot_normal', activation = 'relu'))\n",
    "model1.add(Conv2D(64, 3, padding = 'same', kernel_initializer = 'glorot_normal', activation = 'relu'))\n",
    "model1.add(MaxPool2D(2))\n",
    "model1.add(BatchNormalization())\n",
    "model1.add(Dropout(0.2))\n",
    "\n",
    "model1.add(Conv2D(128, 3, padding = 'same', kernel_initializer = 'glorot_normal', activation = 'relu'))\n",
    "model1.add(Conv2D(128, 3, padding = 'same', kernel_initializer = 'glorot_normal', activation = 'relu'))\n",
    "model1.add(Conv2D(128, 3, padding = 'same', kernel_initializer = 'glorot_normal', activation = 'relu'))\n",
    "model1.add(MaxPool2D(2))\n",
    "model1.add(BatchNormalization())\n",
    "\n",
    "model1.add(Flatten())\n",
    "model1.add(Dropout(0.3))\n",
    "\n",
    "model1.add(Dense(256, kernel_initializer = 'glorot_normal', activation = 'relu'))\n",
    "model1.add(Dropout(0.5))\n",
    "model1.add(Dense(num_classes, activation = 'softmax'))\n",
    "\n",
    "model1.summary()\n",
    "model1.compile(optimizer = 'adam', loss = 'categorical_crossentropy' , metrics = ['accuracy'])"
   ]
  },
  {
   "cell_type": "code",
   "execution_count": null,
   "metadata": {},
   "outputs": [],
   "source": [
    "from tensorflow.keras.callbacks import EarlyStopping\n",
    "earlyStop = EarlyStopping(\n",
    "    monitor = 'val_accuracy',\n",
    "    patience = 10,\n",
    "    min_delta = 1e-5,\n",
    "    mode = 'max',\n",
    "    restore_best_weights = True,\n",
    "    verbose = 1\n",
    ")"
   ]
  },
  {
   "cell_type": "code",
   "execution_count": null,
   "metadata": {
    "scrolled": false
   },
   "outputs": [],
   "source": [
    "from tensorflow.keras import backend as keras_backend\n",
    "keras_backend.set_value(model1.optimizer.learning_rate, 1e-3)\n",
    "with tf_device('GPU:0'):\n",
    "    history = model1.fit(X_train, Y_train, epochs=30, validation_data=(X_test, Y_test), verbose = 1, callbacks = [earlyStop])\n",
    "Charts(history)"
   ]
  },
  {
   "cell_type": "code",
   "execution_count": null,
   "metadata": {},
   "outputs": [],
   "source": [
    "model1.evaluate(X_test, Y_test)"
   ]
  },
  {
   "cell_type": "code",
   "execution_count": null,
   "metadata": {},
   "outputs": [],
   "source": [
    "from sklearn import svm\n",
    "from sklearn.model_selection import GridSearchCV\n",
    "param_grid={'C':[0.1,1,10,100],'gamma':[0.0001,0.001,0.1,1],'kernel':['rbf','poly']}\n",
    "svc=svm.SVC(probability=True)\n",
    "model=GridSearchCV(svc,param_grid, verbose=1)"
   ]
  },
  {
   "cell_type": "code",
   "execution_count": null,
   "metadata": {},
   "outputs": [],
   "source": [
    "X_tr = X_train.reshape((-1, np.prod(input_shape)))\n",
    "X_ts = X_test.reshape((-1, np.prod(input_shape)))"
   ]
  },
  {
   "cell_type": "code",
   "execution_count": null,
   "metadata": {},
   "outputs": [],
   "source": [
    "Y_tr = Y_train.argmax(axis=1)\n",
    "Y_ts = Y_test.argmax(axis=1)"
   ]
  },
  {
   "cell_type": "code",
   "execution_count": null,
   "metadata": {
    "scrolled": false
   },
   "outputs": [],
   "source": [
    "model.fit(X_tr, Y_tr)"
   ]
  },
  {
   "cell_type": "code",
   "execution_count": null,
   "metadata": {},
   "outputs": [],
   "source": []
  },
  {
   "cell_type": "code",
   "execution_count": null,
   "metadata": {},
   "outputs": [],
   "source": []
  },
  {
   "cell_type": "code",
   "execution_count": null,
   "metadata": {},
   "outputs": [],
   "source": []
  },
  {
   "cell_type": "code",
   "execution_count": null,
   "metadata": {},
   "outputs": [],
   "source": []
  },
  {
   "cell_type": "code",
   "execution_count": null,
   "metadata": {},
   "outputs": [],
   "source": []
  },
  {
   "cell_type": "code",
   "execution_count": null,
   "metadata": {
    "execution": {
     "iopub.execute_input": "2022-08-07T09:30:34.830879Z",
     "iopub.status.busy": "2022-08-07T09:30:34.830387Z",
     "iopub.status.idle": "2022-08-07T09:30:35.449465Z",
     "shell.execute_reply": "2022-08-07T09:30:35.448586Z",
     "shell.execute_reply.started": "2022-08-07T09:30:34.830844Z"
    },
    "pycharm": {
     "name": "#%%\n"
    }
   },
   "outputs": [],
   "source": [
    "# model1.load_weights(checkpoint_filepath)\n",
    "with tf_device('CPU:0'):\n",
    "    model.evaluate(X_test, Y_test, batch_size=16)"
   ]
  },
  {
   "cell_type": "code",
   "execution_count": null,
   "metadata": {
    "execution": {
     "iopub.execute_input": "2022-08-07T09:30:36.233387Z",
     "iopub.status.busy": "2022-08-07T09:30:36.233028Z",
     "iopub.status.idle": "2022-08-07T09:30:36.458837Z",
     "shell.execute_reply": "2022-08-07T09:30:36.457940Z",
     "shell.execute_reply.started": "2022-08-07T09:30:36.233356Z"
    },
    "pycharm": {
     "name": "#%%\n"
    }
   },
   "outputs": [],
   "source": [
    "plt.plot(history.history['accuracy'], label='Accuracy (train data)')\n",
    "plt.plot(history.history['val_accuracy'], label='Accuracy (val data)')\n",
    "plt.title('Accuracy on DFBS Images')\n",
    "plt.ylabel('Accuracy value')\n",
    "plt.xlabel('No. epoch')\n",
    "plt.legend(loc=\"upper left\")\n",
    "plt.show()"
   ]
  },
  {
   "cell_type": "code",
   "execution_count": null,
   "metadata": {
    "execution": {
     "iopub.execute_input": "2022-08-07T09:30:37.862774Z",
     "iopub.status.busy": "2022-08-07T09:30:37.862369Z",
     "iopub.status.idle": "2022-08-07T09:30:38.067875Z",
     "shell.execute_reply": "2022-08-07T09:30:38.066689Z",
     "shell.execute_reply.started": "2022-08-07T09:30:37.862739Z"
    },
    "pycharm": {
     "name": "#%%\n"
    }
   },
   "outputs": [],
   "source": [
    "plt.plot(history.history['loss'], label='MSE (train data)')\n",
    "plt.plot(history.history['val_loss'], label='MSE (val data)')\n",
    "plt.title('MSE for DFBS Images')\n",
    "plt.ylabel('MSE value')\n",
    "plt.xlabel('No. epoch')\n",
    "plt.legend(loc=\"upper left\")\n",
    "plt.show()"
   ]
  },
  {
   "cell_type": "code",
   "execution_count": null,
   "metadata": {
    "execution": {
     "iopub.execute_input": "2022-08-07T09:30:45.606716Z",
     "iopub.status.busy": "2022-08-07T09:30:45.606332Z",
     "iopub.status.idle": "2022-08-07T09:30:47.266030Z",
     "shell.execute_reply": "2022-08-07T09:30:47.265005Z",
     "shell.execute_reply.started": "2022-08-07T09:30:45.606682Z"
    },
    "pycharm": {
     "name": "#%%\n"
    }
   },
   "outputs": [],
   "source": [
    "y_test = np.argmax(Y_test, axis=1) # Convert one-hot to index\n",
    "y_pred = model.predict(X_test)\n",
    "print(classification_report(Y_test, to_categorical(np.argmax(y_pred, axis=1))))"
   ]
  },
  {
   "cell_type": "code",
   "execution_count": null,
   "metadata": {
    "execution": {
     "iopub.execute_input": "2022-08-07T09:30:48.813325Z",
     "iopub.status.busy": "2022-08-07T09:30:48.812736Z",
     "iopub.status.idle": "2022-08-07T09:30:48.832176Z",
     "shell.execute_reply": "2022-08-07T09:30:48.831218Z",
     "shell.execute_reply.started": "2022-08-07T09:30:48.813289Z"
    },
    "pycharm": {
     "name": "#%%\n"
    }
   },
   "outputs": [],
   "source": [
    "model.compile(optimizer =\"adamax\",\n",
    "                 loss = \"binary_crossentropy\",\n",
    "                  metrics = [\"accuracy\"])"
   ]
  },
  {
   "cell_type": "code",
   "execution_count": null,
   "metadata": {
    "execution": {
     "iopub.execute_input": "2022-08-07T09:30:52.801799Z",
     "iopub.status.busy": "2022-08-07T09:30:52.801415Z",
     "iopub.status.idle": "2022-08-07T09:37:21.832523Z",
     "shell.execute_reply": "2022-08-07T09:37:21.831413Z",
     "shell.execute_reply.started": "2022-08-07T09:30:52.801766Z"
    },
    "pycharm": {
     "name": "#%%\n"
    }
   },
   "outputs": [],
   "source": [
    "with tf_device('GPU:0'):\n",
    "    history = model.fit(X_train, Y_train, epochs = 10, validation_data=(X_test, Y_test), class_weight=class_weights, callbacks=[model_checkpoint_callback, LearningRateScheduler(lr_schedule)])"
   ]
  },
  {
   "cell_type": "code",
   "execution_count": null,
   "metadata": {
    "execution": {
     "iopub.execute_input": "2022-08-05T16:22:29.653471Z",
     "iopub.status.busy": "2022-08-05T16:22:29.652519Z",
     "iopub.status.idle": "2022-08-05T16:22:29.909780Z",
     "shell.execute_reply": "2022-08-05T16:22:29.908636Z",
     "shell.execute_reply.started": "2022-08-05T16:22:29.653428Z"
    },
    "pycharm": {
     "name": "#%%\n"
    }
   },
   "outputs": [],
   "source": [
    "model.load_weights(checkpoint_directory + 'checkpoint')"
   ]
  },
  {
   "cell_type": "code",
   "execution_count": null,
   "metadata": {
    "execution": {
     "iopub.execute_input": "2022-08-05T16:22:33.664553Z",
     "iopub.status.busy": "2022-08-05T16:22:33.663404Z",
     "iopub.status.idle": "2022-08-05T16:22:34.665970Z",
     "shell.execute_reply": "2022-08-05T16:22:34.663916Z",
     "shell.execute_reply.started": "2022-08-05T16:22:33.664508Z"
    },
    "pycharm": {
     "name": "#%%\n"
    },
    "scrolled": true
   },
   "outputs": [],
   "source": [
    "model.evaluate(X_test, Y_test)"
   ]
  },
  {
   "cell_type": "code",
   "execution_count": null,
   "metadata": {
    "execution": {
     "iopub.execute_input": "2022-08-05T15:09:08.907131Z",
     "iopub.status.busy": "2022-08-05T15:09:08.906766Z",
     "iopub.status.idle": "2022-08-05T15:09:08.916442Z",
     "shell.execute_reply": "2022-08-05T15:09:08.915376Z",
     "shell.execute_reply.started": "2022-08-05T15:09:08.907101Z"
    },
    "pycharm": {
     "name": "#%%\n"
    }
   },
   "outputs": [],
   "source": [
    "def getFilesByPattern(img_path, pattern=\"*.png\"):\n",
    "    all_valid_files = []\n",
    "    listOfFiles = os.listdir(img_path)\n",
    "    for entry in listOfFiles:\n",
    "        if fnmatch(entry, pattern):\n",
    "            all_valid_files.append(img_path + entry)\n",
    "    return all_valid_files\n",
    "\n",
    "def validate_dataframe(data, all_valid_files, extension):\n",
    "    new_index = 0\n",
    "    arr_data = []\n",
    "\n",
    "    for index, row in data.iterrows():\n",
    "        # if index == 0: continue\n",
    "        raj = row[\"_RAJ2000\"]\n",
    "        dej = row[\"_DEJ2000\"]\n",
    "        cl = row[\"Cl\"]\n",
    "        name = row[\"Name\"]\n",
    "        plate = row[\"plate\"]\n",
    "        dx = row[\"dx\"]\n",
    "        dy = row[\"dy\"]\n",
    "    #     if cl == \"C\" or cl == \"cv\": \n",
    "    #         continue\n",
    "\n",
    "        for i in range(len(all_valid_files)):\n",
    "            valid_index, file_name = all_valid_files[i].split(\"/\")[-1].split(extension)[0].split('__');\n",
    "            if (name == file_name) and (index == int(valid_index)):\n",
    "                arr_data.append([name, cl, all_valid_files[i]])\n",
    "                break\n",
    "\n",
    "    return pd.DataFrame(arr_data, columns=['Name', 'Cl', 'path'])"
   ]
  },
  {
   "cell_type": "code",
   "execution_count": null,
   "metadata": {
    "execution": {
     "iopub.execute_input": "2022-08-05T15:09:11.018301Z",
     "iopub.status.busy": "2022-08-05T15:09:11.017733Z",
     "iopub.status.idle": "2022-08-05T15:09:11.036466Z",
     "shell.execute_reply": "2022-08-05T15:09:11.035502Z",
     "shell.execute_reply.started": "2022-08-05T15:09:11.018266Z"
    },
    "pycharm": {
     "name": "#%%\n"
    }
   },
   "outputs": [],
   "source": [
    "pattern = \"*.png\"\n",
    "all_png_files = getFilesByPattern(astro_input_path, pattern)\n",
    "all_png_files[0], len(all_png_files)"
   ]
  },
  {
   "cell_type": "code",
   "execution_count": null,
   "metadata": {
    "execution": {
     "iopub.execute_input": "2022-08-05T15:09:11.377912Z",
     "iopub.status.busy": "2022-08-05T15:09:11.377295Z",
     "iopub.status.idle": "2022-08-05T15:09:17.519386Z",
     "shell.execute_reply": "2022-08-05T15:09:17.517781Z",
     "shell.execute_reply.started": "2022-08-05T15:09:11.377882Z"
    },
    "pycharm": {
     "name": "#%%\n"
    }
   },
   "outputs": [],
   "source": [
    "t1 = perf_counter()\n",
    "\n",
    "extension = pattern[1:]\n",
    "train_data = validate_dataframe(train, all_png_files, extension)\n",
    "test_data = validate_dataframe(test, all_png_files, extension)\n",
    "\n",
    "len(train_data), perf_counter() - t1"
   ]
  },
  {
   "cell_type": "code",
   "execution_count": null,
   "metadata": {
    "execution": {
     "iopub.execute_input": "2022-08-05T15:09:22.800177Z",
     "iopub.status.busy": "2022-08-05T15:09:22.799262Z",
     "iopub.status.idle": "2022-08-05T15:09:22.811210Z",
     "shell.execute_reply": "2022-08-05T15:09:22.810183Z",
     "shell.execute_reply.started": "2022-08-05T15:09:22.800126Z"
    },
    "pycharm": {
     "name": "#%%\n"
    }
   },
   "outputs": [],
   "source": [
    "train_data.head()"
   ]
  },
  {
   "cell_type": "code",
   "execution_count": null,
   "metadata": {
    "execution": {
     "iopub.execute_input": "2022-08-05T15:09:24.764318Z",
     "iopub.status.busy": "2022-08-05T15:09:24.763955Z",
     "iopub.status.idle": "2022-08-05T15:09:24.773811Z",
     "shell.execute_reply": "2022-08-05T15:09:24.772836Z",
     "shell.execute_reply.started": "2022-08-05T15:09:24.764288Z"
    },
    "pycharm": {
     "name": "#%%\n"
    }
   },
   "outputs": [],
   "source": [
    "train_data['Cl'].value_counts(), test_data['Cl'].value_counts()"
   ]
  },
  {
   "cell_type": "code",
   "execution_count": null,
   "metadata": {
    "execution": {
     "iopub.execute_input": "2022-08-05T15:09:30.124297Z",
     "iopub.status.busy": "2022-08-05T15:09:30.123410Z",
     "iopub.status.idle": "2022-08-05T15:09:30.137743Z",
     "shell.execute_reply": "2022-08-05T15:09:30.136723Z",
     "shell.execute_reply.started": "2022-08-05T15:09:30.124250Z"
    },
    "pycharm": {
     "name": "#%%\n"
    }
   },
   "outputs": [],
   "source": [
    "le = LabelEncoder()\n",
    "le.fit(train_data['Cl'])\n",
    "train_data['Cl']=le.transform(train_data['Cl'])\n",
    "test_data['Cl']=le.transform(test_data['Cl'])\n",
    "train_data.head()"
   ]
  },
  {
   "cell_type": "code",
   "execution_count": null,
   "metadata": {
    "execution": {
     "iopub.execute_input": "2022-08-05T15:09:30.530383Z",
     "iopub.status.busy": "2022-08-05T15:09:30.529428Z",
     "iopub.status.idle": "2022-08-05T15:09:30.539028Z",
     "shell.execute_reply": "2022-08-05T15:09:30.538039Z",
     "shell.execute_reply.started": "2022-08-05T15:09:30.530339Z"
    },
    "pycharm": {
     "name": "#%%\n"
    }
   },
   "outputs": [],
   "source": [
    "values = train_data['Cl'].value_counts()\n",
    "num_classes = le.classes_.shape[0]\n",
    "values"
   ]
  },
  {
   "cell_type": "code",
   "execution_count": null,
   "metadata": {
    "execution": {
     "iopub.execute_input": "2022-08-05T15:09:31.057382Z",
     "iopub.status.busy": "2022-08-05T15:09:31.056326Z",
     "iopub.status.idle": "2022-08-05T15:09:31.063643Z",
     "shell.execute_reply": "2022-08-05T15:09:31.062580Z",
     "shell.execute_reply.started": "2022-08-05T15:09:31.057336Z"
    },
    "pycharm": {
     "name": "#%%\n"
    }
   },
   "outputs": [],
   "source": [
    "X_train_1 = train_data.loc[:, 'path'].values\n",
    "Y_train_1 = train_data.loc[:, 'Cl'].values\n",
    "X_test_1 = test_data.loc[:, 'path'].values\n",
    "Y_test_1 = test_data.loc[:, 'Cl'].values"
   ]
  },
  {
   "cell_type": "code",
   "execution_count": null,
   "metadata": {
    "execution": {
     "iopub.execute_input": "2022-08-05T15:09:35.527461Z",
     "iopub.status.busy": "2022-08-05T15:09:35.526966Z",
     "iopub.status.idle": "2022-08-05T15:09:35.545982Z",
     "shell.execute_reply": "2022-08-05T15:09:35.545069Z",
     "shell.execute_reply.started": "2022-08-05T15:09:35.527429Z"
    },
    "pycharm": {
     "name": "#%%\n"
    }
   },
   "outputs": [],
   "source": [
    "def preprocess_images(data, max_width=None, max_height=None):\n",
    "    infer = False\n",
    "    if max_width and max_height:\n",
    "        infer = True\n",
    "    else:\n",
    "        max_width = 0\n",
    "        max_height = 0\n",
    "\n",
    "    images_list = []\n",
    "\n",
    "    for i, val in enumerate(data):\n",
    "        # Open using path\n",
    "        im = Image.open(val)\n",
    "        arr = np.array(im)\n",
    "        # Normalize\n",
    "        arr=(arr-arr.min())/(arr.max()-arr.min())\n",
    "        # Check metadata\n",
    "        if not infer:\n",
    "            if arr.shape[0] > max_height:\n",
    "                max_height = arr.shape[0]\n",
    "            if arr.shape[1] > max_width:\n",
    "                max_width = arr.shape[1]\n",
    "        images_list.append(arr)\n",
    "\n",
    "    return images_list, max_width, max_height\n",
    "\n",
    "def fill_with_zeros(images_list, max_width, max_height):\n",
    "    for i, image in enumerate(images_list):\n",
    "        s = image.shape\n",
    "        d_width = (max_width - s[1])\n",
    "        d_height = (max_height - s[0])\n",
    "\n",
    "        d_top = int(d_height / 2)\n",
    "        d_bottom = int(d_height - d_top)\n",
    "\n",
    "        d_left = int(d_width / 2)\n",
    "        d_right = int(d_width - d_left)\n",
    "        #print(d_top, d_bottom, d_left, d_right)\n",
    "\n",
    "        arr = image\n",
    "        for l in range(d_left):\n",
    "            arr = np.insert(arr, 0, 0, axis = 1)\n",
    "\n",
    "        for r in range(d_right):\n",
    "            b = np.zeros((s[0],1))\n",
    "            arr = np.append(arr, b, axis = 1)\n",
    "\n",
    "        for t in range(d_top):\n",
    "            arr = np.insert(arr, 0, 0, axis = 0)\n",
    "\n",
    "        for b in range(d_bottom):\n",
    "            b = np.zeros((1, arr.shape[1],))\n",
    "            arr = np.append(arr, b, axis = 0)\n",
    "\n",
    "        image = arr\n",
    "    return np.array(images_list)"
   ]
  },
  {
   "cell_type": "code",
   "execution_count": null,
   "metadata": {
    "execution": {
     "iopub.execute_input": "2022-08-05T15:09:38.931827Z",
     "iopub.status.busy": "2022-08-05T15:09:38.930931Z",
     "iopub.status.idle": "2022-08-05T15:09:49.855867Z",
     "shell.execute_reply": "2022-08-05T15:09:49.854697Z",
     "shell.execute_reply.started": "2022-08-05T15:09:38.931792Z"
    },
    "pycharm": {
     "name": "#%%\n"
    }
   },
   "outputs": [],
   "source": [
    "train_list, max_width, max_height = preprocess_images(X_train_1)\n",
    "test_list, _, _ = preprocess_images(X_test_1, max_width, max_height)\n",
    "print(max_width, max_height)\n",
    "\n",
    "train_np = fill_with_zeros(train_list, max_width, max_height)\n",
    "test_np = fill_with_zeros(test_list, max_width, max_height)"
   ]
  },
  {
   "cell_type": "code",
   "execution_count": null,
   "metadata": {
    "execution": {
     "iopub.execute_input": "2022-08-05T16:32:57.496088Z",
     "iopub.status.busy": "2022-08-05T16:32:57.495386Z",
     "iopub.status.idle": "2022-08-05T16:32:57.737027Z",
     "shell.execute_reply": "2022-08-05T16:32:57.735984Z",
     "shell.execute_reply.started": "2022-08-05T16:32:57.496050Z"
    },
    "pycharm": {
     "name": "#%%\n"
    }
   },
   "outputs": [],
   "source": [
    "width = max_width\n",
    "height = max_height\n",
    "print(width, height)\n",
    "plt.imshow(train_list[1])\n",
    "plt.gray()\n",
    "plt.show()"
   ]
  },
  {
   "cell_type": "code",
   "execution_count": null,
   "metadata": {
    "execution": {
     "iopub.execute_input": "2022-08-05T15:09:52.067443Z",
     "iopub.status.busy": "2022-08-05T15:09:52.066787Z",
     "iopub.status.idle": "2022-08-05T15:09:52.076297Z",
     "shell.execute_reply": "2022-08-05T15:09:52.075304Z",
     "shell.execute_reply.started": "2022-08-05T15:09:52.067407Z"
    },
    "pycharm": {
     "name": "#%%\n"
    }
   },
   "outputs": [],
   "source": [
    "Y_train1 = to_categorical(Y_train_1, num_classes)\n",
    "Y_test1 = to_categorical(Y_test_1, num_classes)\n",
    "Y_train1.sum(axis=0), Y_test1.sum(axis=0)"
   ]
  },
  {
   "cell_type": "code",
   "execution_count": null,
   "metadata": {
    "execution": {
     "iopub.execute_input": "2022-08-05T15:09:52.734933Z",
     "iopub.status.busy": "2022-08-05T15:09:52.734245Z",
     "iopub.status.idle": "2022-08-05T15:09:52.741390Z",
     "shell.execute_reply": "2022-08-05T15:09:52.740424Z",
     "shell.execute_reply.started": "2022-08-05T15:09:52.734895Z"
    },
    "pycharm": {
     "name": "#%%\n"
    }
   },
   "outputs": [],
   "source": [
    "train_np.shape"
   ]
  },
  {
   "cell_type": "code",
   "execution_count": null,
   "metadata": {
    "execution": {
     "iopub.execute_input": "2022-08-05T15:10:24.449273Z",
     "iopub.status.busy": "2022-08-05T15:10:24.448904Z",
     "iopub.status.idle": "2022-08-05T15:10:24.455726Z",
     "shell.execute_reply": "2022-08-05T15:10:24.454541Z",
     "shell.execute_reply.started": "2022-08-05T15:10:24.449244Z"
    },
    "pycharm": {
     "name": "#%%\n"
    }
   },
   "outputs": [],
   "source": [
    "input_shape = (img_size[0], img_size[1], 1)\n",
    "X_train1 = train_np.reshape(train_np.shape[0], input_shape[0], input_shape[1], input_shape[2])\n",
    "X_test1 = test_np.reshape(test_np.shape[0], input_shape[0], input_shape[1], input_shape[2])"
   ]
  },
  {
   "cell_type": "code",
   "execution_count": null,
   "metadata": {
    "execution": {
     "iopub.execute_input": "2022-08-05T15:10:25.327549Z",
     "iopub.status.busy": "2022-08-05T15:10:25.326962Z",
     "iopub.status.idle": "2022-08-05T15:10:25.333423Z",
     "shell.execute_reply": "2022-08-05T15:10:25.332455Z",
     "shell.execute_reply.started": "2022-08-05T15:10:25.327514Z"
    },
    "pycharm": {
     "name": "#%%\n"
    }
   },
   "outputs": [],
   "source": [
    "print('x_train shape:', X_train1.shape)\n",
    "print(X_train1.shape[0], 'train samples')\n",
    "print(X_test1.shape[0], 'test samples')"
   ]
  },
  {
   "cell_type": "code",
   "execution_count": null,
   "metadata": {
    "execution": {
     "iopub.execute_input": "2022-08-05T15:12:36.093272Z",
     "iopub.status.busy": "2022-08-05T15:12:36.092692Z",
     "iopub.status.idle": "2022-08-05T15:12:36.103905Z",
     "shell.execute_reply": "2022-08-05T15:12:36.102958Z",
     "shell.execute_reply.started": "2022-08-05T15:12:36.093236Z"
    },
    "pycharm": {
     "name": "#%%\n"
    }
   },
   "outputs": [],
   "source": [
    "from tensorflow.keras.utils import Sequence\n",
    "\n",
    "class DataGenerator(Sequence):\n",
    "    def __init__(self, x_set, y_set, batch_size):\n",
    "        self.x, self.y = x_set, y_set\n",
    "        self.batch_size = batch_size\n",
    "\n",
    "    def __len__(self):\n",
    "        return int(np.ceil(len(self.x) / float(self.batch_size)))\n",
    "\n",
    "    def __getitem__(self, idx):\n",
    "        batch_x = self.x[idx * self.batch_size:(idx + 1) * self.batch_size]\n",
    "        batch_y = self.y[idx * self.batch_size:(idx + 1) * self.batch_size]\n",
    "        return batch_x, batch_y\n",
    "\n",
    "train_gen = DataGenerator(X_train1, Y_train1, 256)\n",
    "test_gen = DataGenerator(X_test1, Y_test1, 256)"
   ]
  },
  {
   "cell_type": "code",
   "execution_count": null,
   "metadata": {
    "execution": {
     "iopub.execute_input": "2022-08-05T15:33:35.853426Z",
     "iopub.status.busy": "2022-08-05T15:33:35.852979Z",
     "iopub.status.idle": "2022-08-05T15:33:35.920171Z",
     "shell.execute_reply": "2022-08-05T15:33:35.919213Z",
     "shell.execute_reply.started": "2022-08-05T15:33:35.853388Z"
    },
    "pycharm": {
     "name": "#%%\n"
    }
   },
   "outputs": [],
   "source": [
    "# from keras.models import Sequential\n",
    "# from keras.layers import Dense, Conv2D, Dropout, Flatten, MaxPooling2D, Activation\n",
    "# from tensorflow.keras import optimizers\n",
    "\n",
    "# model = Sequential()\n",
    "# model.add(Conv2D(128, kernel_size=(3,3), input_shape=input_shape, padding=\"same\"))\n",
    "# model.add(MaxPooling2D(pool_size=(3, 1)))\n",
    "\n",
    "# model.add(Conv2D(64, (3, 3), padding=\"same\"))\n",
    "# model.add(Activation('relu'))\n",
    "# model.add(MaxPooling2D(pool_size=(3, 1)))\n",
    "\n",
    "# model.add(Conv2D(32, (3, 3), padding=\"same\"))\n",
    "# model.add(Activation('relu'))\n",
    "# model.add(MaxPooling2D(pool_size=(3, 4)))\n",
    "\n",
    "# model.add(Flatten()) # Flattening the 2D arrays for fully connected layers\n",
    "# model.add(Dense(128, activation=tf.nn.relu))\n",
    "# model.add(Dropout(0.5))\n",
    "# model.add(Dense(num_classes,activation=tf.nn.softmax))\n",
    "\n",
    "from keras.models import Sequential\n",
    "from keras.layers import Dense, Conv2D, Dropout, Flatten, MaxPooling2D, Activation\n",
    "from tensorflow.keras import optimizers\n",
    "\n",
    "model = Sequential()\n",
    "model.add(Conv2D(32, kernel_size=(3,3), padding=\"same\", input_shape=input_shape))\n",
    "model.add(MaxPooling2D(pool_size=(2, 1)))\n",
    "\n",
    "model.add(Conv2D(64, (3, 3), padding=\"same\"))\n",
    "model.add(Activation('relu'))\n",
    "model.add(MaxPooling2D(pool_size=(2, 1)))\n",
    "\n",
    "model.add(Conv2D(128, (3, 3), padding=\"same\"))\n",
    "model.add(Activation('relu'))\n",
    "model.add(MaxPooling2D(pool_size=(2, 2)))\n",
    "\n",
    "model.add(Flatten()) # Flattening the 2D arrays for fully connected layers\n",
    "model.add(Dense(128, activation=tf.nn.relu))\n",
    "model.add(Dropout(0.5))\n",
    "model.add(Dense(num_classes,activation=tf.nn.softmax))"
   ]
  },
  {
   "cell_type": "code",
   "execution_count": null,
   "metadata": {
    "execution": {
     "iopub.execute_input": "2022-08-05T15:33:49.159256Z",
     "iopub.status.busy": "2022-08-05T15:33:49.158885Z",
     "iopub.status.idle": "2022-08-05T15:33:49.166341Z",
     "shell.execute_reply": "2022-08-05T15:33:49.165023Z",
     "shell.execute_reply.started": "2022-08-05T15:33:49.159227Z"
    },
    "pycharm": {
     "name": "#%%\n"
    }
   },
   "outputs": [],
   "source": [
    "model.summary()"
   ]
  },
  {
   "cell_type": "code",
   "execution_count": null,
   "metadata": {
    "execution": {
     "iopub.execute_input": "2022-08-05T15:33:50.032507Z",
     "iopub.status.busy": "2022-08-05T15:33:50.031863Z",
     "iopub.status.idle": "2022-08-05T15:33:50.038850Z",
     "shell.execute_reply": "2022-08-05T15:33:50.037815Z",
     "shell.execute_reply.started": "2022-08-05T15:33:50.032472Z"
    },
    "pycharm": {
     "name": "#%%\n"
    }
   },
   "outputs": [],
   "source": [
    "counter = Counter(Y_train1.argmax(axis=1))\n",
    "max_val = float(max(counter.values()))       \n",
    "class_weights = {class_id : max_val/num_images for class_id, num_images in counter.items()}\n",
    "\n",
    "num_classes = Y_train1.shape[1] ######################################################################################################"
   ]
  },
  {
   "cell_type": "code",
   "execution_count": null,
   "metadata": {
    "execution": {
     "iopub.execute_input": "2022-08-05T15:33:52.192275Z",
     "iopub.status.busy": "2022-08-05T15:33:52.191378Z",
     "iopub.status.idle": "2022-08-05T15:33:52.202425Z",
     "shell.execute_reply": "2022-08-05T15:33:52.201405Z",
     "shell.execute_reply.started": "2022-08-05T15:33:52.192227Z"
    },
    "pycharm": {
     "name": "#%%\n"
    }
   },
   "outputs": [],
   "source": [
    "adadelta = optimizers.Adadelta(learning_rate=0.1, rho=0.95)\n",
    "model.compile(optimizer=adadelta , loss='binary_crossentropy', metrics=['accuracy'])"
   ]
  },
  {
   "cell_type": "code",
   "execution_count": null,
   "metadata": {
    "execution": {
     "iopub.execute_input": "2022-08-07T12:18:08.391053Z",
     "iopub.status.busy": "2022-08-07T12:18:08.389972Z",
     "iopub.status.idle": "2022-08-07T12:18:08.395442Z",
     "shell.execute_reply": "2022-08-07T12:18:08.394296Z",
     "shell.execute_reply.started": "2022-08-07T12:18:08.391009Z"
    },
    "pycharm": {
     "name": "#%%\n"
    }
   },
   "outputs": [],
   "source": [
    "# history = model.fit(train_gen, epochs = 30, shuffle=True, validation_data=test_gen, class_weight=class_weights)"
   ]
  },
  {
   "cell_type": "code",
   "execution_count": null,
   "metadata": {
    "execution": {
     "iopub.execute_input": "2022-08-07T12:18:08.397791Z",
     "iopub.status.busy": "2022-08-07T12:18:08.396830Z",
     "iopub.status.idle": "2022-08-07T12:18:08.406050Z",
     "shell.execute_reply": "2022-08-07T12:18:08.405014Z",
     "shell.execute_reply.started": "2022-08-07T12:18:08.397754Z"
    },
    "pycharm": {
     "name": "#%%\n"
    }
   },
   "outputs": [],
   "source": [
    "# history_1 = model.fit(train_gen, epochs = 50, shuffle=True, validation_data=test_gen, class_weight=class_weights)"
   ]
  },
  {
   "cell_type": "code",
   "execution_count": null,
   "metadata": {
    "execution": {
     "iopub.execute_input": "2022-08-05T15:10:28.276142Z",
     "iopub.status.busy": "2022-08-05T15:10:28.275779Z",
     "iopub.status.idle": "2022-08-05T15:10:28.301431Z",
     "shell.execute_reply": "2022-08-05T15:10:28.300086Z",
     "shell.execute_reply.started": "2022-08-05T15:10:28.276112Z"
    },
    "pycharm": {
     "name": "#%%\n"
    }
   },
   "outputs": [],
   "source": [
    "# Evaluate the model on the train data using `evaluate`\n",
    "print(\"Evaluate on train data\")\n",
    "results_train = model1.evaluate(X_train1, Y_train1, batch_size=256)\n",
    "print(\"train loss, train acc:\", results_train)\n",
    "\n",
    "# Generate predictions (probabilities -- the output of the last layer)\n",
    "# on new data using `predict`\n",
    "print(\"Generate predictions for 3 samples\")\n",
    "predictions_train = model1.predict(X_test1[:3])\n",
    "print(\"predictions shape:\", predictions_train.shape)\n",
    "\n",
    "print()\n",
    "\n",
    "# Evaluate the model on the test data using `evaluate`\n",
    "print(\"Evaluate on test data\")\n",
    "results = model1.evaluate(X_test1, Y_test1, batch_size=256)\n",
    "print(\"test loss, test acc:\", results)\n",
    "\n",
    "# Generate predictions (probabilities -- the output of the last layer)\n",
    "# on new data using `predict`\n",
    "print(\"Generate predictions for 3 samples\")\n",
    "predictions = model1.predict(X_test1[:3])\n",
    "print(\"predictions shape:\", predictions.shape)"
   ]
  },
  {
   "cell_type": "code",
   "execution_count": null,
   "metadata": {
    "execution": {
     "iopub.execute_input": "2022-07-31T09:58:07.642331Z",
     "iopub.status.busy": "2022-07-31T09:58:07.641664Z",
     "iopub.status.idle": "2022-07-31T09:58:08.907010Z",
     "shell.execute_reply": "2022-07-31T09:58:08.906047Z",
     "shell.execute_reply.started": "2022-07-31T09:58:07.642293Z"
    },
    "pycharm": {
     "name": "#%%\n"
    }
   },
   "outputs": [],
   "source": [
    "from sklearn.metrics import classification_report\n",
    "import numpy as np\n",
    "\n",
    "y_train1 = np.argmax(Y_train1, axis=1) # Convert one-hot to index\n",
    "y_pred_train1 = model1.predict(X_train1)\n",
    "print(classification_report(Y_train1, to_categorical(np.argmax(y_pred_train1, axis=1), num_classes=num_classes)))\n",
    "\n",
    "y_test1 = np.argmax(Y_test1, axis=1) # Convert one-hot to index\n",
    "y_pred_test1 = model1.predict(X_test1)\n",
    "print(classification_report(Y_test1, to_categorical(np.argmax(y_pred_test1, axis=1), num_classes=num_classes)))"
   ]
  },
  {
   "cell_type": "code",
   "execution_count": null,
   "metadata": {
    "execution": {
     "iopub.execute_input": "2022-07-31T09:59:42.937165Z",
     "iopub.status.busy": "2022-07-31T09:59:42.936577Z",
     "iopub.status.idle": "2022-07-31T09:59:42.950983Z",
     "shell.execute_reply": "2022-07-31T09:59:42.949880Z",
     "shell.execute_reply.started": "2022-07-31T09:59:42.937130Z"
    },
    "pycharm": {
     "name": "#%%\n"
    }
   },
   "outputs": [],
   "source": [
    "test_data[test_data['Cl'] == 0]"
   ]
  },
  {
   "cell_type": "code",
   "execution_count": null,
   "metadata": {
    "execution": {
     "iopub.execute_input": "2022-07-11T21:48:03.467554Z",
     "iopub.status.busy": "2022-07-11T21:48:03.467108Z",
     "iopub.status.idle": "2022-07-11T21:48:03.477019Z",
     "shell.execute_reply": "2022-07-11T21:48:03.475923Z",
     "shell.execute_reply.started": "2022-07-11T21:48:03.467519Z"
    },
    "pycharm": {
     "name": "#%%\n"
    }
   },
   "outputs": [],
   "source": [
    "# i = Input(input_shape)\n",
    "\n",
    "# #32----------------------------------------------------------------------------------\n",
    "# t11 = Conv2D(ks,kshape,kernel_regularizer = reg,padding = \"same\",activation = act)(i)\n",
    "# t11 = BatchNormalization()(t11)\n",
    "# t1i  = concatenate((i,t11))\n",
    "\n",
    "# t12 = Conv2D(ks*2,kshape,kernel_regularizer = reg,padding = \"same\",activation = act)(t1i)\n",
    "# t12 = BatchNormalization()(t12)\n",
    "# t2i = concatenate((i,t11,t12))\n",
    "\n",
    "# t13 = Conv2D(ks*4,kshape,kernel_regularizer = reg,padding = \"same\",activation = act)(t2i)\n",
    "# t13 = BatchNormalization()(t13)\n",
    "# t13 = MaxPooling2D(2,2)(t13)\n",
    "# t13 = Dropout(drop_size*3)(t13)\n",
    "# #16----------------------------------------------------------------------------------\n",
    "# t21 = Conv2D(ks*2,(3,3),kernel_regularizer = reg,padding = \"same\",activation = act)(t13)\n",
    "# t21 = BatchNormalization()(t21)\n",
    "# t2i2  = concatenate((t13,t21))\n",
    "# t22 = Conv2D(ks*4,(3,3),kernel_regularizer = reg,padding = \"same\",activation = act)(t2i2)\n",
    "# t22 = BatchNormalization()(t22)\n",
    "# t2i3 = concatenate((t13,t21,t22))\n",
    "# t23 = Conv2D(ks*8,(3,3),kernel_regularizer = reg,padding = \"same\",activation = act)(t2i3)\n",
    "# t23 = BatchNormalization()(t23)\n",
    "# t23 = MaxPooling2D(2,2)(t23)\n",
    "# t23 = Dropout(drop_size*3)(t23)\n",
    "# #8--------------------------------------------------------------------------------------\n",
    "# t31 = Conv2D(ks*2,(3,3),kernel_regularizer = reg,padding = \"same\",activation = act)(t23)\n",
    "# t31 = BatchNormalization()(t31)\n",
    "# t3i2  = concatenate((t23,t31))\n",
    "# t32 = Conv2D(ks*4,(3,3),kernel_regularizer = reg,padding = \"same\",activation = act)(t3i2)\n",
    "# t32 = BatchNormalization()(t32)\n",
    "# t3i3 = concatenate((t23,t31,t32))\n",
    "# t33 = Conv2D(ks*8,(3,3),kernel_regularizer = reg,padding = \"same\",activation = act)(t3i3)\n",
    "# t33 = BatchNormalization()(t33)\n",
    "# t33 = MaxPooling2D(2,2)(t33)\n",
    "# t33 = Dropout(drop_size*3)(t33)\n",
    "# #4------------------------------------------------------------------------------------\n",
    "# # output = concatenate((t12,t))\n",
    "# # output = BatchNormalization()(output)\n",
    "# # output = GlobalAveragePooling2D()(t6)\n",
    "# # output = GlobalMaxPooling2D()(t6)\n",
    "# output = Flatten()(t33)\n",
    "# # output = Dropout(drop_size*4)\n",
    "# output = Dense(16*ks,kernel_regularizer = reg,activation = act)(output)\n",
    "# output = BatchNormalization()(output)\n",
    "# output = Dropout(3*drop_size)(output)\n",
    "# output = Dense(16*ks,kernel_regularizer = reg,activation = act)(output)\n",
    "# output = BatchNormalization()(output)\n",
    "# output = Dropout(3*drop_size)(output)\n",
    "# output = Dense(16*ks,kernel_regularizer = reg,activation = act)(output)\n",
    "# output = BatchNormalization()(output)\n",
    "# output = Dropout(3*drop_size)(output)\n",
    "\n",
    "# output = Dense(num_classes,activation='softmax')(output)\n",
    "# model2 = Model(i,output)\n",
    "\n",
    "# model2.compile(optimizer =\"adam\",\n",
    "#                  loss = \"categorical_crossentropy\",\n",
    "#                   metrics = [\"accuracy\"])"
   ]
  },
  {
   "cell_type": "code",
   "execution_count": null,
   "metadata": {
    "execution": {
     "iopub.execute_input": "2022-07-11T21:48:07.520499Z",
     "iopub.status.busy": "2022-07-11T21:48:07.518628Z",
     "iopub.status.idle": "2022-07-11T21:48:07.525583Z",
     "shell.execute_reply": "2022-07-11T21:48:07.524276Z",
     "shell.execute_reply.started": "2022-07-11T21:48:07.520451Z"
    },
    "pycharm": {
     "name": "#%%\n"
    }
   },
   "outputs": [],
   "source": [
    "# model2.load_weights(checkpoint_filepath)"
   ]
  },
  {
   "cell_type": "code",
   "execution_count": null,
   "metadata": {
    "execution": {
     "iopub.execute_input": "2022-07-11T21:42:09.889117Z",
     "iopub.status.busy": "2022-07-11T21:42:09.888133Z",
     "iopub.status.idle": "2022-07-11T21:42:09.893483Z",
     "shell.execute_reply": "2022-07-11T21:42:09.892255Z",
     "shell.execute_reply.started": "2022-07-11T21:42:09.889077Z"
    },
    "pycharm": {
     "name": "#%%\n"
    }
   },
   "outputs": [],
   "source": [
    "# checkpoint_filepath_2 = './tmp_2/checkpoint'\n",
    "# model_checkpoint_callback_2 = tf.keras.callbacks.ModelCheckpoint(\n",
    "#     filepath=checkpoint_filepath,\n",
    "#     save_weights_only=True,\n",
    "#     monitor='val_accuracy',\n",
    "#     mode='max',\n",
    "#     save_best_only=True)"
   ]
  },
  {
   "cell_type": "code",
   "execution_count": null,
   "metadata": {
    "execution": {
     "iopub.execute_input": "2022-07-11T21:42:05.368745Z",
     "iopub.status.busy": "2022-07-11T21:42:05.368396Z",
     "iopub.status.idle": "2022-07-11T21:42:05.373112Z",
     "shell.execute_reply": "2022-07-11T21:42:05.372017Z",
     "shell.execute_reply.started": "2022-07-11T21:42:05.368715Z"
    },
    "pycharm": {
     "name": "#%%\n"
    }
   },
   "outputs": [],
   "source": [
    "# with tf.device('GPU:0'):\n",
    "#     history_2 = model2.fit(X_train1, Y_train1, epochs = 150, batch_size = 256, shuffle=True, validation_data=(X_test1, Y_test1), class_weight=class_weights, workers=-1, callbacks=[model_checkpoint_callback_2])"
   ]
  },
  {
   "cell_type": "code",
   "execution_count": null,
   "metadata": {
    "execution": {
     "iopub.execute_input": "2022-07-11T21:48:10.883234Z",
     "iopub.status.busy": "2022-07-11T21:48:10.882868Z",
     "iopub.status.idle": "2022-07-11T21:48:10.888592Z",
     "shell.execute_reply": "2022-07-11T21:48:10.887541Z",
     "shell.execute_reply.started": "2022-07-11T21:48:10.883184Z"
    },
    "pycharm": {
     "name": "#%%\n"
    }
   },
   "outputs": [],
   "source": [
    "# # Evaluate the model on the train data using `evaluate`\n",
    "# print(\"Evaluate on train data\")\n",
    "# results_train = model2.evaluate(X_train1, Y_train1, batch_size=256)\n",
    "# print(\"train loss, train acc:\", results_train)\n",
    "\n",
    "# # Generate predictions (probabilities -- the output of the last layer)\n",
    "# # on new data using `predict`\n",
    "# print(\"Generate predictions for 3 samples\")\n",
    "# predictions_train = model2.predict(X_test1[:3])\n",
    "# print(\"predictions shape:\", predictions_train.shape)\n",
    "\n",
    "# print()\n",
    "\n",
    "# # Evaluate the model on the test data using `evaluate`\n",
    "# print(\"Evaluate on test data\")\n",
    "# results = model2.evaluate(X_test1, Y_test1, batch_size=256)\n",
    "# print(\"test loss, test acc:\", results)\n",
    "\n",
    "# # Generate predictions (probabilities -- the output of the last layer)\n",
    "# # on new data using `predict`\n",
    "# print(\"Generate predictions for 3 samples\")\n",
    "# predictions = model2.predict(X_test1[:3])\n",
    "# print(\"predictions shape:\", predictions.shape)"
   ]
  },
  {
   "cell_type": "code",
   "execution_count": null,
   "metadata": {
    "execution": {
     "iopub.execute_input": "2022-07-11T21:48:13.599062Z",
     "iopub.status.busy": "2022-07-11T21:48:13.598403Z",
     "iopub.status.idle": "2022-07-11T21:48:13.603869Z",
     "shell.execute_reply": "2022-07-11T21:48:13.602733Z",
     "shell.execute_reply.started": "2022-07-11T21:48:13.599026Z"
    },
    "pycharm": {
     "name": "#%%\n"
    }
   },
   "outputs": [],
   "source": [
    "# from sklearn.metrics import classification_report\n",
    "# import numpy as np\n",
    "\n",
    "# y_train1 = np.argmax(Y_train1, axis=1) # Convert one-hot to index\n",
    "# y_pred_train1 = model2.predict(X_train1)\n",
    "# print(classification_report(Y_train1, to_categorical(np.argmax(y_pred_train1, axis=1), num_classes=num_classes)))\n",
    "\n",
    "# y_test1 = np.argmax(Y_test1, axis=1) # Convert one-hot to index\n",
    "# y_pred_test1 = model2.predict(X_test1)\n",
    "# print(classification_report(Y_test1, to_categorical(np.argmax(y_pred_test1, axis=1), num_classes=num_classes)))"
   ]
  },
  {
   "cell_type": "code",
   "execution_count": null,
   "metadata": {
    "execution": {
     "iopub.execute_input": "2022-07-11T21:48:16.298547Z",
     "iopub.status.busy": "2022-07-11T21:48:16.297844Z",
     "iopub.status.idle": "2022-07-11T21:48:16.303207Z",
     "shell.execute_reply": "2022-07-11T21:48:16.302276Z",
     "shell.execute_reply.started": "2022-07-11T21:48:16.298504Z"
    },
    "pycharm": {
     "name": "#%%\n"
    }
   },
   "outputs": [],
   "source": [
    "# y_pred_train1.shape, y_pred_test1.shape"
   ]
  },
  {
   "cell_type": "code",
   "execution_count": null,
   "metadata": {
    "execution": {
     "iopub.execute_input": "2022-07-11T21:48:24.726659Z",
     "iopub.status.busy": "2022-07-11T21:48:24.726274Z",
     "iopub.status.idle": "2022-07-11T21:48:24.735765Z",
     "shell.execute_reply": "2022-07-11T21:48:24.734645Z",
     "shell.execute_reply.started": "2022-07-11T21:48:24.726626Z"
    },
    "pycharm": {
     "name": "#%%\n"
    }
   },
   "outputs": [],
   "source": [
    "X_train2 = X_train1.reshape(X_train1.shape[0], -1)\n",
    "Y_train2 = Y_train1.argmax(axis=1)\n",
    "X_test2, Y_test2 = X_test1.reshape(X_test1.shape[0], -1), Y_test1.argmax(axis=1)"
   ]
  },
  {
   "cell_type": "code",
   "execution_count": null,
   "metadata": {
    "execution": {
     "iopub.execute_input": "2022-07-11T21:54:55.074510Z",
     "iopub.status.busy": "2022-07-11T21:54:55.073554Z"
    },
    "pycharm": {
     "name": "#%%\n"
    }
   },
   "outputs": [],
   "source": [
    "from sklearn.pipeline import make_pipeline\n",
    "from sklearn.preprocessing import StandardScaler\n",
    "from sklearn.svm import SVC\n",
    "clf = make_pipeline(StandardScaler(), SVC(kernel='poly', degree=25,gamma='auto'))\n",
    "clf.fit(X_train2, Y_train2)\n",
    "clf.score(X_train2, Y_train2), clf.score(X_test2, Y_test2)"
   ]
  },
  {
   "cell_type": "code",
   "execution_count": null,
   "metadata": {
    "execution": {
     "iopub.execute_input": "2022-07-11T21:52:23.366477Z",
     "iopub.status.busy": "2022-07-11T21:52:23.364976Z",
     "iopub.status.idle": "2022-07-11T21:52:26.006866Z",
     "shell.execute_reply": "2022-07-11T21:52:26.005904Z",
     "shell.execute_reply.started": "2022-07-11T21:52:23.366439Z"
    },
    "pycharm": {
     "name": "#%%\n"
    }
   },
   "outputs": [],
   "source": [
    "from sklearn.metrics import classification_report\n",
    "import numpy as np\n",
    "\n",
    "y_pred_train2 = clf.predict(X_train2)\n",
    "print(classification_report(Y_train2, y_pred_train2))\n",
    "\n",
    "y_pred_test2 = clf.predict(X_test2)\n",
    "print(classification_report(Y_test2, y_pred_test2))"
   ]
  },
  {
   "cell_type": "code",
   "execution_count": null,
   "metadata": {
    "execution": {
     "iopub.execute_input": "2022-07-11T21:53:08.670752Z",
     "iopub.status.busy": "2022-07-11T21:53:08.670313Z",
     "iopub.status.idle": "2022-07-11T21:53:08.679185Z",
     "shell.execute_reply": "2022-07-11T21:53:08.678241Z",
     "shell.execute_reply.started": "2022-07-11T21:53:08.670708Z"
    },
    "pycharm": {
     "name": "#%%\n"
    }
   },
   "outputs": [],
   "source": [
    "a = clf.steps[1][1]"
   ]
  }
 ],
 "metadata": {
  "kernelspec": {
   "display_name": "Python 3 (ipykernel)",
   "language": "python",
   "name": "python3"
  },
  "language_info": {
   "codemirror_mode": {
    "name": "ipython",
    "version": 3
   },
   "file_extension": ".py",
   "mimetype": "text/x-python",
   "name": "python",
   "nbconvert_exporter": "python",
   "pygments_lexer": "ipython3",
   "version": "3.9.13"
  }
 },
 "nbformat": 4,
 "nbformat_minor": 4
}
