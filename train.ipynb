{
 "cells": [
  {
   "cell_type": "markdown",
   "id": "8c02dbde",
   "metadata": {},
   "source": [
    "## Imports"
   ]
  },
  {
   "cell_type": "code",
   "execution_count": 1,
   "id": "59d7bcca",
   "metadata": {},
   "outputs": [],
   "source": [
    "import os\n",
    "import argparse\n",
    "import yaml\n",
    "\n",
    "import load_data, models, train\n",
    "\n",
    "import torch\n",
    "from torchsummary import summary"
   ]
  },
  {
   "cell_type": "markdown",
   "id": "8a4fae67",
   "metadata": {},
   "source": [
    "## Environment variables"
   ]
  },
  {
   "cell_type": "code",
   "execution_count": 2,
   "id": "6667861d",
   "metadata": {},
   "outputs": [],
   "source": [
    "# yaml_data = './configs/config.yaml'\n",
    "\n",
    "# with open(yaml_data) as file:\n",
    "#     config = yaml.safe_load(file)\n",
    "\n",
    "use_gpu = True"
   ]
  },
  {
   "cell_type": "code",
   "execution_count": 3,
   "id": "2cb5042b",
   "metadata": {},
   "outputs": [],
   "source": [
    "# Training Device\n",
    "if use_gpu:\n",
    "    device = torch.device(\"cuda:0\" if torch.cuda.is_available() else \"cpu\")\n",
    "else:\n",
    "    device = torch.device('cpu')"
   ]
  },
  {
   "cell_type": "markdown",
   "id": "a61e05b9",
   "metadata": {},
   "source": [
    "## Data path"
   ]
  },
  {
   "cell_type": "code",
   "execution_count": 4,
   "id": "381f9aea",
   "metadata": {},
   "outputs": [],
   "source": [
    "# Datasets\n",
    "data_root = f'./data'\n",
    "\n",
    "train_dir = os.path.join(data_root, 'train')\n",
    "val_dir = None\n",
    "test_dir = os.path.join(data_root, 'test')"
   ]
  },
  {
   "cell_type": "code",
   "execution_count": 5,
   "id": "de8b549f",
   "metadata": {},
   "outputs": [
    {
     "name": "stdout",
     "output_type": "stream",
     "text": [
      "Num classes: 10\n"
     ]
    }
   ],
   "source": [
    "print('Num classes:', len(os.listdir(train_dir)))"
   ]
  },
  {
   "cell_type": "markdown",
   "id": "e60e7140",
   "metadata": {},
   "source": [
    "## Project Parameters"
   ]
  },
  {
   "cell_type": "code",
   "execution_count": 6,
   "id": "5841a1af",
   "metadata": {},
   "outputs": [],
   "source": [
    "root_dir = os.path.abspath('./')"
   ]
  },
  {
   "cell_type": "code",
   "execution_count": 7,
   "id": "aedf70e2",
   "metadata": {},
   "outputs": [],
   "source": [
    "# Train Id is the unique name of the current training process.\n",
    "# It should be a descriptive name for the current training setup.\n",
    "train_id = 'Default_10_Notebook_Train_1'"
   ]
  },
  {
   "cell_type": "code",
   "execution_count": 8,
   "id": "383defd5",
   "metadata": {},
   "outputs": [],
   "source": [
    "# The model's final checkpoint will be saved in {model_dir}\n",
    "model_dir = f'{root_dir}/model/{train_id}'\n",
    "# All other checkpoints are saved in {checkpoints_dir}\n",
    "checkpoints_dir = f'{root_dir}/Checkpoint/{train_id}'\n",
    "\n",
    "save_model_path = f\"{model_dir}/final.pth\"\n",
    "\n",
    "if not os.path.exists(model_dir):\n",
    "    os.makedirs(model_dir)\n",
    "if not os.path.exists(checkpoints_dir):\n",
    "    os.makedirs(checkpoints_dir)"
   ]
  },
  {
   "cell_type": "markdown",
   "id": "376c0053",
   "metadata": {},
   "source": [
    "## Training Parameters"
   ]
  },
  {
   "cell_type": "code",
   "execution_count": 9,
   "id": "1e268b7e",
   "metadata": {},
   "outputs": [],
   "source": [
    "# Network parameters\n",
    "num_epochs = 301\n",
    "num_classes = len(os.listdir(train_dir))\n",
    "input_shape = (160, 50)"
   ]
  },
  {
   "cell_type": "code",
   "execution_count": 10,
   "id": "c80a0b81",
   "metadata": {},
   "outputs": [],
   "source": [
    "# Batch sizes\n",
    "train_batch_size = 64\n",
    "val_batch_size = 1\n",
    "test_batch_size = 32"
   ]
  },
  {
   "cell_type": "markdown",
   "id": "d5a2f9f1",
   "metadata": {},
   "source": [
    "#### Start the training from scratch"
   ]
  },
  {
   "cell_type": "code",
   "execution_count": 11,
   "id": "70d63fbd",
   "metadata": {},
   "outputs": [],
   "source": [
    "start_epoch = 0\n",
    "load_model_path = None"
   ]
  },
  {
   "cell_type": "markdown",
   "id": "f9b0008b",
   "metadata": {},
   "source": [
    "#### In case if you want to continue your training from a certain checkpoint"
   ]
  },
  {
   "cell_type": "code",
   "execution_count": 12,
   "id": "4e386f09",
   "metadata": {},
   "outputs": [],
   "source": [
    "# start_epoch = 6\n",
    "# load_model_path = f'{checkpoints_dir}/5.pth'"
   ]
  },
  {
   "cell_type": "markdown",
   "id": "077edf4c",
   "metadata": {},
   "source": [
    "## Data Loaders"
   ]
  },
  {
   "cell_type": "code",
   "execution_count": 13,
   "id": "b81093db",
   "metadata": {},
   "outputs": [
    {
     "name": "stdout",
     "output_type": "stream",
     "text": [
      "Loading 3009 images from ./data/train is over.\n",
      "Loading 571 images from ./data/test is over.\n"
     ]
    }
   ],
   "source": [
    "train_data, train_classes, train_proportions = load_data.load_images(train_dir, train_batch_size, 'train')\n",
    "val_data, val_classes, _ = load_data.load_images(val_dir, val_batch_size, 'val') if val_dir else (None, None, None)\n",
    "test_data, test_classes, _ = load_data.load_images(test_dir, test_batch_size, 'test') if test_dir else (None, None, None)"
   ]
  },
  {
   "cell_type": "markdown",
   "id": "4cb733f6",
   "metadata": {},
   "source": [
    "## Training Setup"
   ]
  },
  {
   "cell_type": "code",
   "execution_count": 14,
   "id": "bdfd2151",
   "metadata": {},
   "outputs": [],
   "source": [
    "net = models.Model(num_classes=num_classes, input_shape=input_shape).to(device)"
   ]
  },
  {
   "cell_type": "markdown",
   "id": "3c7ec6e5",
   "metadata": {},
   "source": [
    "### Layers"
   ]
  },
  {
   "cell_type": "code",
   "execution_count": 15,
   "id": "bce24efa",
   "metadata": {},
   "outputs": [
    {
     "name": "stdout",
     "output_type": "stream",
     "text": [
      "Model(\n",
      "  (classifier): Classifier(\n",
      "    (act1): LeakyReLU(negative_slope=0.05)\n",
      "    (act2): Softmax(dim=1)\n",
      "    (conv11): Conv2d(1, 32, kernel_size=(3, 3), stride=(1, 1), padding=same)\n",
      "    (conv12): Conv2d(32, 32, kernel_size=(3, 3), stride=(1, 1), padding=same)\n",
      "    (conv13): Conv2d(32, 32, kernel_size=(3, 3), stride=(1, 1), padding=same)\n",
      "    (mp1): MaxPool2d(kernel_size=2, stride=2, padding=0, dilation=1, ceil_mode=False)\n",
      "    (bn1): BatchNorm2d(32, eps=1e-05, momentum=0.1, affine=True, track_running_stats=True)\n",
      "    (drop1): Dropout(p=0.2, inplace=False)\n",
      "    (conv21): Conv2d(32, 64, kernel_size=(3, 3), stride=(1, 1), padding=same)\n",
      "    (conv22): Conv2d(64, 64, kernel_size=(3, 3), stride=(1, 1), padding=same)\n",
      "    (conv23): Conv2d(64, 64, kernel_size=(3, 3), stride=(1, 1), padding=same)\n",
      "    (mp2): MaxPool2d(kernel_size=2, stride=2, padding=0, dilation=1, ceil_mode=False)\n",
      "    (bn2): BatchNorm2d(64, eps=1e-05, momentum=0.1, affine=True, track_running_stats=True)\n",
      "    (drop2): Dropout(p=0.2, inplace=False)\n",
      "    (conv31): Conv2d(64, 128, kernel_size=(3, 3), stride=(1, 1), padding=same)\n",
      "    (conv32): Conv2d(128, 128, kernel_size=(3, 3), stride=(1, 1), padding=same)\n",
      "    (conv33): Conv2d(128, 128, kernel_size=(3, 3), stride=(1, 1), padding=same)\n",
      "    (mp3): MaxPool2d(kernel_size=2, stride=2, padding=0, dilation=1, ceil_mode=False)\n",
      "    (bn3): BatchNorm2d(128, eps=1e-05, momentum=0.1, affine=True, track_running_stats=True)\n",
      "    (drop3): Dropout(p=0.3, inplace=False)\n",
      "    (conv41): Conv2d(128, 256, kernel_size=(3, 3), stride=(1, 1), padding=same)\n",
      "    (conv42): Conv2d(256, 256, kernel_size=(3, 3), stride=(1, 1), padding=same)\n",
      "    (conv43): Conv2d(256, 256, kernel_size=(3, 3), stride=(1, 1), padding=same)\n",
      "    (mp4): MaxPool2d(kernel_size=2, stride=2, padding=0, dilation=1, ceil_mode=False)\n",
      "    (bn4): BatchNorm2d(256, eps=1e-05, momentum=0.1, affine=True, track_running_stats=True)\n",
      "    (fc1): Linear(in_features=7680, out_features=256, bias=True)\n",
      "    (drop4): Dropout(p=0.5, inplace=False)\n",
      "    (fc2): Linear(in_features=256, out_features=10, bias=True)\n",
      "  )\n",
      ")\n"
     ]
    }
   ],
   "source": [
    "print(net)"
   ]
  },
  {
   "cell_type": "markdown",
   "id": "328604f0",
   "metadata": {},
   "source": [
    "### Output Summary"
   ]
  },
  {
   "cell_type": "code",
   "execution_count": 16,
   "id": "76c21abb",
   "metadata": {},
   "outputs": [
    {
     "data": {
      "text/plain": [
       "==========================================================================================\n",
       "Layer (type:depth-idx)                   Output Shape              Param #\n",
       "==========================================================================================\n",
       "├─Classifier: 1-1                        [-1, 10]                  --\n",
       "|    └─Conv2d: 2-1                       [-1, 32, 160, 50]         320\n",
       "|    └─LeakyReLU: 2-2                    [-1, 32, 160, 50]         --\n",
       "|    └─Conv2d: 2-3                       [-1, 32, 160, 50]         9,248\n",
       "|    └─LeakyReLU: 2-4                    [-1, 32, 160, 50]         --\n",
       "|    └─Conv2d: 2-5                       [-1, 32, 160, 50]         9,248\n",
       "|    └─LeakyReLU: 2-6                    [-1, 32, 160, 50]         --\n",
       "|    └─MaxPool2d: 2-7                    [-1, 32, 80, 25]          --\n",
       "|    └─BatchNorm2d: 2-8                  [-1, 32, 80, 25]          64\n",
       "|    └─Dropout: 2-9                      [-1, 32, 80, 25]          --\n",
       "|    └─Conv2d: 2-10                      [-1, 64, 80, 25]          18,496\n",
       "|    └─LeakyReLU: 2-11                   [-1, 64, 80, 25]          --\n",
       "|    └─Conv2d: 2-12                      [-1, 64, 80, 25]          36,928\n",
       "|    └─LeakyReLU: 2-13                   [-1, 64, 80, 25]          --\n",
       "|    └─Conv2d: 2-14                      [-1, 64, 80, 25]          36,928\n",
       "|    └─LeakyReLU: 2-15                   [-1, 64, 80, 25]          --\n",
       "|    └─MaxPool2d: 2-16                   [-1, 64, 40, 12]          --\n",
       "|    └─BatchNorm2d: 2-17                 [-1, 64, 40, 12]          128\n",
       "|    └─Dropout: 2-18                     [-1, 64, 40, 12]          --\n",
       "|    └─Conv2d: 2-19                      [-1, 128, 40, 12]         73,856\n",
       "|    └─LeakyReLU: 2-20                   [-1, 128, 40, 12]         --\n",
       "|    └─Conv2d: 2-21                      [-1, 128, 40, 12]         147,584\n",
       "|    └─LeakyReLU: 2-22                   [-1, 128, 40, 12]         --\n",
       "|    └─Conv2d: 2-23                      [-1, 128, 40, 12]         147,584\n",
       "|    └─LeakyReLU: 2-24                   [-1, 128, 40, 12]         --\n",
       "|    └─MaxPool2d: 2-25                   [-1, 128, 20, 6]          --\n",
       "|    └─BatchNorm2d: 2-26                 [-1, 128, 20, 6]          256\n",
       "|    └─Conv2d: 2-27                      [-1, 256, 20, 6]          295,168\n",
       "|    └─LeakyReLU: 2-28                   [-1, 256, 20, 6]          --\n",
       "|    └─Conv2d: 2-29                      [-1, 256, 20, 6]          590,080\n",
       "|    └─LeakyReLU: 2-30                   [-1, 256, 20, 6]          --\n",
       "|    └─Conv2d: 2-31                      [-1, 256, 20, 6]          590,080\n",
       "|    └─LeakyReLU: 2-32                   [-1, 256, 20, 6]          --\n",
       "|    └─MaxPool2d: 2-33                   [-1, 256, 10, 3]          --\n",
       "|    └─BatchNorm2d: 2-34                 [-1, 256, 10, 3]          512\n",
       "|    └─Dropout: 2-35                     [-1, 7680]                --\n",
       "|    └─Linear: 2-36                      [-1, 256]                 1,966,336\n",
       "|    └─LeakyReLU: 2-37                   [-1, 256]                 --\n",
       "|    └─Dropout: 2-38                     [-1, 256]                 --\n",
       "|    └─Linear: 2-39                      [-1, 10]                  2,570\n",
       "==========================================================================================\n",
       "Total params: 3,925,386\n",
       "Trainable params: 3,925,386\n",
       "Non-trainable params: 0\n",
       "Total mult-adds (M): 693.87\n",
       "==========================================================================================\n",
       "Input size (MB): 0.03\n",
       "Forward/backward pass size (MB): 11.80\n",
       "Params size (MB): 14.97\n",
       "Estimated Total Size (MB): 26.80\n",
       "=========================================================================================="
      ]
     },
     "execution_count": 16,
     "metadata": {},
     "output_type": "execute_result"
    }
   ],
   "source": [
    "summary(net, [1, 160, 50], verbose=0)"
   ]
  },
  {
   "cell_type": "code",
   "execution_count": 17,
   "id": "09419879",
   "metadata": {},
   "outputs": [],
   "source": [
    "if load_model_path:\n",
    "    net.load_state_dict(torch.load(load_model_path))"
   ]
  },
  {
   "cell_type": "code",
   "execution_count": 18,
   "id": "03fb4c63",
   "metadata": {
    "scrolled": true
   },
   "outputs": [
    {
     "name": "stdout",
     "output_type": "stream",
     "text": [
      "\n",
      "Training started:\n",
      "Train Epoch: 0 [64/3009 (2%)]           Overall Loss: 3.137283\n",
      "Train Epoch: 0 [192/3009 (6%)]          Overall Loss: 2.912672\n",
      "Train Epoch: 0 [320/3009 (11%)]         Overall Loss: 1.999987\n",
      "Train Epoch: 0 [448/3009 (15%)]         Overall Loss: 1.782711\n",
      "Train Epoch: 0 [576/3009 (19%)]         Overall Loss: 2.330674\n",
      "Train Epoch: 0 [704/3009 (23%)]         Overall Loss: 1.707762\n",
      "Train Epoch: 0 [832/3009 (28%)]         Overall Loss: 1.715492\n",
      "Train Epoch: 0 [960/3009 (32%)]         Overall Loss: 2.189538\n",
      "Train Epoch: 0 [1088/3009 (36%)]        Overall Loss: 1.746654\n",
      "Train Epoch: 0 [1216/3009 (40%)]        Overall Loss: 1.967715\n",
      "Train Epoch: 0 [1344/3009 (45%)]        Overall Loss: 1.802936\n",
      "Train Epoch: 0 [1472/3009 (49%)]        Overall Loss: 1.861249\n",
      "Train Epoch: 0 [1600/3009 (53%)]        Overall Loss: 1.678034\n",
      "Train Epoch: 0 [1728/3009 (57%)]        Overall Loss: 1.976901\n",
      "Train Epoch: 0 [1856/3009 (62%)]        Overall Loss: 1.710286\n",
      "Train Epoch: 0 [1984/3009 (66%)]        Overall Loss: 1.625296\n",
      "Train Epoch: 0 [2112/3009 (70%)]        Overall Loss: 1.825933\n",
      "Train Epoch: 0 [2240/3009 (74%)]        Overall Loss: 1.541277\n",
      "Train Epoch: 0 [2368/3009 (79%)]        Overall Loss: 1.503239\n",
      "Train Epoch: 0 [2496/3009 (83%)]        Overall Loss: 1.846591\n",
      "Train Epoch: 0 [2624/3009 (87%)]        Overall Loss: 1.455480\n",
      "Train Epoch: 0 [2752/3009 (91%)]        Overall Loss: 1.673635\n",
      "Train Epoch: 0 [2880/3009 (96%)]        Overall Loss: 1.555973\n",
      "Epoch 0/300\n"
     ]
    },
    {
     "ename": "KeyboardInterrupt",
     "evalue": "",
     "output_type": "error",
     "traceback": [
      "\u001b[0;31m---------------------------------------------------------------------------\u001b[0m",
      "\u001b[0;31mKeyboardInterrupt\u001b[0m                         Traceback (most recent call last)",
      "Cell \u001b[0;32mIn [18], line 3\u001b[0m\n\u001b[1;32m      1\u001b[0m \u001b[38;5;28mprint\u001b[39m(\u001b[38;5;124m'\u001b[39m\u001b[38;5;130;01m\\n\u001b[39;00m\u001b[38;5;124mTraining started:\u001b[39m\u001b[38;5;124m'\u001b[39m)\n\u001b[0;32m----> 3\u001b[0m net \u001b[38;5;241m=\u001b[39m \u001b[43mtrain\u001b[49m\u001b[38;5;241;43m.\u001b[39;49m\u001b[43mtrain_model\u001b[49m\u001b[43m(\u001b[49m\n\u001b[1;32m      4\u001b[0m \u001b[43m    \u001b[49m\u001b[43mnet\u001b[49m\u001b[43m,\u001b[49m\n\u001b[1;32m      5\u001b[0m \u001b[43m    \u001b[49m\u001b[43mtrain\u001b[49m\u001b[38;5;241;43m=\u001b[39;49m\u001b[43mtrain_data\u001b[49m\u001b[43m,\u001b[49m\n\u001b[1;32m      6\u001b[0m \u001b[43m    \u001b[49m\u001b[43mval\u001b[49m\u001b[38;5;241;43m=\u001b[39;49m\u001b[43mval_data\u001b[49m\u001b[43m,\u001b[49m\n\u001b[1;32m      7\u001b[0m \u001b[43m    \u001b[49m\u001b[43mtest\u001b[49m\u001b[38;5;241;43m=\u001b[39;49m\u001b[43mtest_data\u001b[49m\u001b[43m,\u001b[49m\n\u001b[1;32m      8\u001b[0m \u001b[43m    \u001b[49m\u001b[43mepochs\u001b[49m\u001b[38;5;241;43m=\u001b[39;49m\u001b[43mnum_epochs\u001b[49m\u001b[43m,\u001b[49m\n\u001b[1;32m      9\u001b[0m \u001b[43m    \u001b[49m\u001b[43mstart_epoch\u001b[49m\u001b[38;5;241;43m=\u001b[39;49m\u001b[43mstart_epoch\u001b[49m\u001b[43m,\u001b[49m\n\u001b[1;32m     10\u001b[0m \u001b[43m    \u001b[49m\u001b[43mdevice\u001b[49m\u001b[38;5;241;43m=\u001b[39;49m\u001b[43mdevice\u001b[49m\u001b[43m,\u001b[49m\n\u001b[1;32m     11\u001b[0m \u001b[43m    \u001b[49m\u001b[43mmodel_folder\u001b[49m\u001b[38;5;241;43m=\u001b[39;49m\u001b[43mcheckpoints_dir\u001b[49m\u001b[43m,\u001b[49m\n\u001b[1;32m     12\u001b[0m \u001b[43m    \u001b[49m\u001b[43mtrain_id\u001b[49m\u001b[38;5;241;43m=\u001b[39;49m\u001b[43mtrain_id\u001b[49m\u001b[43m,\u001b[49m\n\u001b[1;32m     13\u001b[0m \u001b[43m    \u001b[49m\u001b[43mclasses\u001b[49m\u001b[38;5;241;43m=\u001b[39;49m\u001b[43mtest_classes\u001b[49m\u001b[43m,\u001b[49m\n\u001b[1;32m     14\u001b[0m \u001b[43m    \u001b[49m\u001b[43mtrain_proportions\u001b[49m\u001b[38;5;241;43m=\u001b[39;49m\u001b[43mtrain_proportions\u001b[49m\n\u001b[1;32m     15\u001b[0m \u001b[43m)\u001b[49m\n",
      "File \u001b[0;32m~/PycharmProjects/DFBS-Object-Classification/train.py:92\u001b[0m, in \u001b[0;36mtrain_model\u001b[0;34m(net, **kwargs)\u001b[0m\n\u001b[1;32m     89\u001b[0m \u001b[38;5;66;03m# net.to(torch.device(\"cpu\"))\u001b[39;00m\n\u001b[1;32m     91\u001b[0m \u001b[38;5;28;01mif\u001b[39;00m train_data:\n\u001b[0;32m---> 92\u001b[0m     train_acc \u001b[38;5;241m=\u001b[39m \u001b[43mevaluate\u001b[49m\u001b[43m(\u001b[49m\u001b[43mtrain_data\u001b[49m\u001b[43m,\u001b[49m\u001b[43m \u001b[49m\u001b[43mnet\u001b[49m\u001b[43m,\u001b[49m\u001b[43m \u001b[49m\u001b[43mdomain\u001b[49m\u001b[38;5;241;43m=\u001b[39;49m\u001b[38;5;124;43m'\u001b[39;49m\u001b[38;5;124;43mtrain\u001b[39;49m\u001b[38;5;124;43m'\u001b[39;49m\u001b[43m,\u001b[49m\u001b[43m \u001b[49m\u001b[43mclasses\u001b[49m\u001b[38;5;241;43m=\u001b[39;49m\u001b[43mclasses\u001b[49m\u001b[43m,\u001b[49m\u001b[43m \u001b[49m\u001b[43mdevice\u001b[49m\u001b[38;5;241;43m=\u001b[39;49m\u001b[43mdevice\u001b[49m\u001b[43m)\u001b[49m\n\u001b[1;32m     93\u001b[0m     stats[\u001b[38;5;124m'\u001b[39m\u001b[38;5;124mtrain\u001b[39m\u001b[38;5;124m'\u001b[39m] \u001b[38;5;241m=\u001b[39m train_acc\n\u001b[1;32m     94\u001b[0m \u001b[38;5;28;01mif\u001b[39;00m test_data:\n",
      "File \u001b[0;32m~/PycharmProjects/DFBS-Object-Classification/test.py:34\u001b[0m, in \u001b[0;36mevaluate\u001b[0;34m(dataloader, model, domain, classes, device)\u001b[0m\n\u001b[1;32m     32\u001b[0m predicted \u001b[38;5;241m=\u001b[39m torch\u001b[38;5;241m.\u001b[39margmax(outputs\u001b[38;5;241m.\u001b[39mdata, dim\u001b[38;5;241m=\u001b[39m\u001b[38;5;241m1\u001b[39m)\n\u001b[1;32m     33\u001b[0m total \u001b[38;5;241m+\u001b[39m\u001b[38;5;241m=\u001b[39m y\u001b[38;5;241m.\u001b[39msize(\u001b[38;5;241m0\u001b[39m)\n\u001b[0;32m---> 34\u001b[0m correct \u001b[38;5;241m+\u001b[39m\u001b[38;5;241m=\u001b[39m \u001b[43m(\u001b[49m\u001b[43mpredicted\u001b[49m\u001b[43m \u001b[49m\u001b[38;5;241;43m==\u001b[39;49m\u001b[43m \u001b[49m\u001b[43my\u001b[49m\u001b[43m)\u001b[49m\u001b[38;5;241;43m.\u001b[39;49m\u001b[43msum\u001b[49m\u001b[43m(\u001b[49m\u001b[43m)\u001b[49m\u001b[38;5;241;43m.\u001b[39;49m\u001b[43mitem\u001b[49m\u001b[43m(\u001b[49m\u001b[43m)\u001b[49m\n\u001b[1;32m     36\u001b[0m y_preds\u001b[38;5;241m.\u001b[39mextend(predicted\u001b[38;5;241m.\u001b[39mcpu()\u001b[38;5;241m.\u001b[39mnumpy())\n\u001b[1;32m     37\u001b[0m y_gts\u001b[38;5;241m.\u001b[39mextend(y\u001b[38;5;241m.\u001b[39mcpu()\u001b[38;5;241m.\u001b[39mnumpy())\n",
      "\u001b[0;31mKeyboardInterrupt\u001b[0m: "
     ]
    }
   ],
   "source": [
    "print('\\nTraining started:')\n",
    "\n",
    "net = train.train_model(\n",
    "    net,\n",
    "    train=train_data,\n",
    "    val=val_data,\n",
    "    test=test_data,\n",
    "    epochs=num_epochs,\n",
    "    start_epoch=start_epoch,\n",
    "    device=device,\n",
    "    model_folder=checkpoints_dir,\n",
    "    train_id=train_id,\n",
    "    classes=test_classes,\n",
    "    train_proportions=train_proportions\n",
    ")"
   ]
  },
  {
   "cell_type": "markdown",
   "id": "aa845c71",
   "metadata": {},
   "source": [
    "### Saving Final Checkpoint"
   ]
  },
  {
   "cell_type": "code",
   "execution_count": null,
   "id": "a7954dc6",
   "metadata": {},
   "outputs": [],
   "source": [
    "torch.save(net.state_dict(), save_model_path)"
   ]
  },
  {
   "cell_type": "code",
   "execution_count": null,
   "id": "0221d43b",
   "metadata": {},
   "outputs": [],
   "source": []
  }
 ],
 "metadata": {
  "kernelspec": {
   "display_name": "Python 3 (ipykernel)",
   "language": "python",
   "name": "python3"
  },
  "language_info": {
   "codemirror_mode": {
    "name": "ipython",
    "version": 3
   },
   "file_extension": ".py",
   "mimetype": "text/x-python",
   "name": "python",
   "nbconvert_exporter": "python",
   "pygments_lexer": "ipython3",
   "version": "3.9.13"
  }
 },
 "nbformat": 4,
 "nbformat_minor": 5
}
