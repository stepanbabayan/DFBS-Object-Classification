{
 "cells": [
  {
   "cell_type": "code",
   "execution_count": 23,
   "metadata": {
    "pycharm": {
     "name": "#%%\n"
    }
   },
   "outputs": [
    {
     "data": {
      "text/plain": [
       "['fbs0005_cor', 'fbs0013_cor', 'fbs0018_cor', 'fbs0037_cor', 'fbs0052_cor']"
      ]
     },
     "execution_count": 23,
     "metadata": {},
     "output_type": "execute_result"
    }
   ],
   "source": [
    "import os"
   ]
  },
  {
   "cell_type": "code",
   "execution_count": 35,
   "metadata": {
    "pycharm": {
     "name": "#%%\n"
    }
   },
   "outputs": [],
   "source": [
    "dir_path = './data/extractedContours_2/'\n",
    "abs_path = os.path.abspath(dir_path)\n",
    "plates = os.listdir(abs_path)[:5]\n",
    "for plate in plates:\n",
    "    for old_name in os.listdir(os.path.join(abs_path, plate)):\n",
    "        os.rename(os.path.join(abs_path, plate, old_name), os.path.join(abs_path, old_name))"
   ]
  },
  {
   "cell_type": "code",
   "execution_count": 6,
   "metadata": {
    "pycharm": {
     "name": "#%%\n"
    }
   },
   "outputs": [
    {
     "data": {
      "text/plain": [
       "'fbs0005_cor__1000008.png'"
      ]
     },
     "execution_count": 6,
     "metadata": {},
     "output_type": "execute_result"
    }
   ],
   "source": [
    "# dir_path = './data/extractedContours_2/'\n",
    "# abs_path = os.path.abspath(dir_path)\n",
    "# plates = os.listdir(abs_path)[:5]\n",
    "# for plate in plates:\n",
    "#     for old_name in os.listdir(os.path.join(abs_path, plate)):\n",
    "#         os.rename(os.path.join(abs_path, plate, old_name), os.path.join(abs_path, old_name))"
   ]
  },
  {
   "cell_type": "code",
   "execution_count": 9,
   "metadata": {
    "pycharm": {
     "name": "#%%\n"
    }
   },
   "outputs": [],
   "source": [
    "dir_path = './data/extractedContours_2/'\n",
    "abs_path = os.path.abspath(dir_path)\n",
    "for img in os.listdir(abs_path):\n",
    "    os.rename(os.path.join(abs_path, img), os.path.join(abs_path, img.split('.tiff')[0] + '.png'))"
   ]
  },
  {
   "cell_type": "code",
   "execution_count": 36,
   "metadata": {
    "pycharm": {
     "name": "#%%\n"
    }
   },
   "outputs": [
    {
     "data": {
      "text/plain": [
       "'e:\\\\Hamalsaran\\\\Thesis\\\\Code\\\\Data\\\\extractedContours_2.zip'"
      ]
     },
     "execution_count": 36,
     "metadata": {},
     "output_type": "execute_result"
    }
   ],
   "source": [
    "import shutil\n",
    "output_filename = 'extractedContours_2'\n",
    "shutil.make_archive(output_filename, 'zip', './data/extractedContours_2/')"
   ]
  }
 ],
 "metadata": {
  "kernelspec": {
   "display_name": "Python 3.9.5 64-bit",
   "language": "python",
   "name": "python3"
  },
  "language_info": {
   "codemirror_mode": {
    "name": "ipython",
    "version": 3
   },
   "file_extension": ".py",
   "mimetype": "text/x-python",
   "name": "python",
   "nbconvert_exporter": "python",
   "pygments_lexer": "ipython3",
   "version": "3.9.5"
  },
  "orig_nbformat": 4,
  "vscode": {
   "interpreter": {
    "hash": "abe97b4297a04eb9b59942013a51b5b6b6dd824dcfaba919a0d03fdddda38a68"
   }
  }
 },
 "nbformat": 4,
 "nbformat_minor": 2
}