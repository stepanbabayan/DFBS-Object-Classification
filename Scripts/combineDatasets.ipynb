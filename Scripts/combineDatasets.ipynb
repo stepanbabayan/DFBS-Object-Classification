{
 "cells": [
  {
   "cell_type": "code",
   "execution_count": 26,
   "id": "73ac14b6",
   "metadata": {
    "pycharm": {
     "name": "#%%\n"
    }
   },
   "outputs": [],
   "source": [
    "import pandas as pd\n",
    "import numpy as np"
   ]
  },
  {
   "cell_type": "code",
   "execution_count": 44,
   "id": "6a2d517d",
   "metadata": {
    "pycharm": {
     "name": "#%%\n"
    }
   },
   "outputs": [],
   "source": [
    "def prepareSubtypes(path):\n",
    "    df = pd.read_csv(path)\n",
    "    df.head()\n",
    "    df.drop([0,1], axis=0, inplace=True)\n",
    "    df.drop(df[df['Glon'].isna() | df['Glat'].isna()].index, inplace=True)\n",
    "    df.sort_values(by=['Spectral Type', 'Sp type', 'Mag type'], inplace=True)\n",
    "    df.drop_duplicates(subset='LAMOST', inplace=True)\n",
    "    \n",
    "    df.rename(columns={'Class': 'Cl', 'LAMOST': 'Name'}, inplace=True)\n",
    "\n",
    "    df['root'] = 'subtypes'\n",
    "    df[\"plate\"] = np.nan\n",
    "    df[\"path\"] = np.nan\n",
    "    df[\"dx\"] = np.zeros(df.shape[0])\n",
    "    df[\"dy\"] = np.zeros(df.shape[0])\n",
    "    df[['_RAJ2000', '_DEJ2000']] = df[['RAJ2000', 'DEJ2000']].astype(float)\n",
    "    return df"
   ]
  },
  {
   "cell_type": "code",
   "execution_count": 45,
   "id": "32209c2a",
   "metadata": {
    "pycharm": {
     "name": "#%%\n"
    }
   },
   "outputs": [
    {
     "data": {
      "text/html": [
       "<div>\n",
       "<style scoped>\n",
       "    .dataframe tbody tr th:only-of-type {\n",
       "        vertical-align: middle;\n",
       "    }\n",
       "\n",
       "    .dataframe tbody tr th {\n",
       "        vertical-align: top;\n",
       "    }\n",
       "\n",
       "    .dataframe thead th {\n",
       "        text-align: right;\n",
       "    }\n",
       "</style>\n",
       "<table border=\"1\" class=\"dataframe\">\n",
       "  <thead>\n",
       "    <tr style=\"text-align: right;\">\n",
       "      <th></th>\n",
       "      <th>No</th>\n",
       "      <th>Glon</th>\n",
       "      <th>Glat</th>\n",
       "      <th>RAJ2000</th>\n",
       "      <th>DEJ2000</th>\n",
       "      <th>Cl</th>\n",
       "      <th>Name</th>\n",
       "      <th>V</th>\n",
       "      <th>Spectral Type</th>\n",
       "      <th>Sp type</th>\n",
       "      <th>Mag type</th>\n",
       "      <th>root</th>\n",
       "      <th>plate</th>\n",
       "      <th>path</th>\n",
       "      <th>dx</th>\n",
       "      <th>dy</th>\n",
       "      <th>_RAJ2000</th>\n",
       "      <th>_DEJ2000</th>\n",
       "    </tr>\n",
       "  </thead>\n",
       "  <tbody>\n",
       "    <tr>\n",
       "      <th>9</th>\n",
       "      <td>NaN</td>\n",
       "      <td>122.74688757</td>\n",
       "      <td>-17.64003282</td>\n",
       "      <td>12.60909889</td>\n",
       "      <td>45.23135611</td>\n",
       "      <td>C</td>\n",
       "      <td>J005026.18+451352.8</td>\n",
       "      <td>12.61</td>\n",
       "      <td>Ba</td>\n",
       "      <td>C Ba</td>\n",
       "      <td>13.0</td>\n",
       "      <td>subtypes</td>\n",
       "      <td>NaN</td>\n",
       "      <td>NaN</td>\n",
       "      <td>0.0</td>\n",
       "      <td>0.0</td>\n",
       "      <td>12.609099</td>\n",
       "      <td>45.231356</td>\n",
       "    </tr>\n",
       "    <tr>\n",
       "      <th>10</th>\n",
       "      <td>NaN</td>\n",
       "      <td>158.77834522</td>\n",
       "      <td>-32.19019519</td>\n",
       "      <td>45.06175694</td>\n",
       "      <td>21.56800806</td>\n",
       "      <td>C</td>\n",
       "      <td>J030014.82+213404.8</td>\n",
       "      <td>12.69</td>\n",
       "      <td>Ba</td>\n",
       "      <td>C Ba</td>\n",
       "      <td>13.0</td>\n",
       "      <td>subtypes</td>\n",
       "      <td>NaN</td>\n",
       "      <td>NaN</td>\n",
       "      <td>0.0</td>\n",
       "      <td>0.0</td>\n",
       "      <td>45.061757</td>\n",
       "      <td>21.568008</td>\n",
       "    </tr>\n",
       "    <tr>\n",
       "      <th>11</th>\n",
       "      <td>NaN</td>\n",
       "      <td>15.57235887</td>\n",
       "      <td>24.42816973</td>\n",
       "      <td>253.34618889</td>\n",
       "      <td>-3.04951</td>\n",
       "      <td>C</td>\n",
       "      <td>J165323.08-030258.2</td>\n",
       "      <td>12.7</td>\n",
       "      <td>Ba</td>\n",
       "      <td>C Ba</td>\n",
       "      <td>13.0</td>\n",
       "      <td>subtypes</td>\n",
       "      <td>NaN</td>\n",
       "      <td>NaN</td>\n",
       "      <td>0.0</td>\n",
       "      <td>0.0</td>\n",
       "      <td>253.346189</td>\n",
       "      <td>-3.049510</td>\n",
       "    </tr>\n",
       "    <tr>\n",
       "      <th>12</th>\n",
       "      <td>NaN</td>\n",
       "      <td>121.4986598</td>\n",
       "      <td>-36.05014231</td>\n",
       "      <td>11.56118111</td>\n",
       "      <td>26.80715389</td>\n",
       "      <td>C</td>\n",
       "      <td>J004614.68+264825.7</td>\n",
       "      <td>12.71</td>\n",
       "      <td>Ba</td>\n",
       "      <td>C Ba</td>\n",
       "      <td>13.0</td>\n",
       "      <td>subtypes</td>\n",
       "      <td>NaN</td>\n",
       "      <td>NaN</td>\n",
       "      <td>0.0</td>\n",
       "      <td>0.0</td>\n",
       "      <td>11.561181</td>\n",
       "      <td>26.807154</td>\n",
       "    </tr>\n",
       "    <tr>\n",
       "      <th>13</th>\n",
       "      <td>NaN</td>\n",
       "      <td>97.64825928</td>\n",
       "      <td>63.20819967</td>\n",
       "      <td>210.412855</td>\n",
       "      <td>50.33292389</td>\n",
       "      <td>C</td>\n",
       "      <td>J140139.08+501958.5</td>\n",
       "      <td>12.71</td>\n",
       "      <td>Ba</td>\n",
       "      <td>C Ba</td>\n",
       "      <td>13.0</td>\n",
       "      <td>subtypes</td>\n",
       "      <td>NaN</td>\n",
       "      <td>NaN</td>\n",
       "      <td>0.0</td>\n",
       "      <td>0.0</td>\n",
       "      <td>210.412855</td>\n",
       "      <td>50.332924</td>\n",
       "    </tr>\n",
       "  </tbody>\n",
       "</table>\n",
       "</div>"
      ],
      "text/plain": [
       "    No          Glon          Glat       RAJ2000      DEJ2000 Cl  \\\n",
       "9  NaN  122.74688757  -17.64003282   12.60909889  45.23135611  C   \n",
       "10 NaN  158.77834522  -32.19019519   45.06175694  21.56800806  C   \n",
       "11 NaN   15.57235887   24.42816973  253.34618889     -3.04951  C   \n",
       "12 NaN   121.4986598  -36.05014231   11.56118111  26.80715389  C   \n",
       "13 NaN   97.64825928   63.20819967    210.412855  50.33292389  C   \n",
       "\n",
       "                   Name      V Spectral Type Sp type  Mag type      root  \\\n",
       "9   J005026.18+451352.8  12.61            Ba    C Ba      13.0  subtypes   \n",
       "10  J030014.82+213404.8  12.69            Ba    C Ba      13.0  subtypes   \n",
       "11  J165323.08-030258.2   12.7            Ba    C Ba      13.0  subtypes   \n",
       "12  J004614.68+264825.7  12.71            Ba    C Ba      13.0  subtypes   \n",
       "13  J140139.08+501958.5  12.71            Ba    C Ba      13.0  subtypes   \n",
       "\n",
       "    plate  path   dx   dy    _RAJ2000   _DEJ2000  \n",
       "9     NaN   NaN  0.0  0.0   12.609099  45.231356  \n",
       "10    NaN   NaN  0.0  0.0   45.061757  21.568008  \n",
       "11    NaN   NaN  0.0  0.0  253.346189  -3.049510  \n",
       "12    NaN   NaN  0.0  0.0   11.561181  26.807154  \n",
       "13    NaN   NaN  0.0  0.0  210.412855  50.332924  "
      ]
     },
     "execution_count": 45,
     "metadata": {},
     "output_type": "execute_result"
    }
   ],
   "source": [
    "df = prepareSubtypes('data/DFBS_subtypes.csv')\n",
    "df.head()"
   ]
  },
  {
   "cell_type": "code",
   "execution_count": 46,
   "id": "a66f767e",
   "metadata": {
    "pycharm": {
     "name": "#%%\n"
    }
   },
   "outputs": [
    {
     "data": {
      "text/plain": [
       "No               3610\n",
       "Glon                0\n",
       "Glat                0\n",
       "RAJ2000             0\n",
       "DEJ2000             0\n",
       "Cl                  0\n",
       "Name                0\n",
       "V                   0\n",
       "Spectral Type      39\n",
       "Sp type           545\n",
       "Mag type          844\n",
       "root                0\n",
       "plate            3610\n",
       "path             3610\n",
       "dx                  0\n",
       "dy                  0\n",
       "_RAJ2000            0\n",
       "_DEJ2000            0\n",
       "dtype: int64"
      ]
     },
     "execution_count": 46,
     "metadata": {},
     "output_type": "execute_result"
    }
   ],
   "source": [
    "df.isna().sum()"
   ]
  },
  {
   "cell_type": "code",
   "execution_count": 47,
   "id": "8e691e0b",
   "metadata": {
    "pycharm": {
     "name": "#%%\n"
    }
   },
   "outputs": [
    {
     "data": {
      "text/plain": [
       "sd     1668\n",
       "C      1088\n",
       "Mrk     854\n",
       "Name: Cl, dtype: int64"
      ]
     },
     "execution_count": 47,
     "metadata": {},
     "output_type": "execute_result"
    }
   ],
   "source": [
    "df['Cl'].value_counts()"
   ]
  },
  {
   "cell_type": "code",
   "execution_count": 48,
   "id": "dc967bf2",
   "metadata": {
    "pycharm": {
     "name": "#%%\n"
    }
   },
   "outputs": [],
   "source": [
    "def prepareData(path):\n",
    "    data = pd.read_csv(path)\n",
    "    data.drop([0,1], inplace=True)\n",
    "    data.reset_index(drop=True, inplace=True)\n",
    "    data.drop_duplicates(subset='Name', inplace=True)\n",
    "\n",
    "    data['root'] = 'initial'\n",
    "    data[\"plate\"] = np.nan\n",
    "    data[\"path\"] = np.nan\n",
    "    data[\"dx\"] = np.zeros(data.shape[0])\n",
    "    data[\"dy\"] = np.zeros(data.shape[0])\n",
    "    data[['_RAJ2000', '_DEJ2000']] = data[['_RAJ2000', '_DEJ2000']].astype(float)\n",
    "    return data"
   ]
  },
  {
   "cell_type": "code",
   "execution_count": 49,
   "id": "3993d062",
   "metadata": {
    "pycharm": {
     "name": "#%%\n"
    }
   },
   "outputs": [
    {
     "data": {
      "text/html": [
       "<div>\n",
       "<style scoped>\n",
       "    .dataframe tbody tr th:only-of-type {\n",
       "        vertical-align: middle;\n",
       "    }\n",
       "\n",
       "    .dataframe tbody tr th {\n",
       "        vertical-align: top;\n",
       "    }\n",
       "\n",
       "    .dataframe thead th {\n",
       "        text-align: right;\n",
       "    }\n",
       "</style>\n",
       "<table border=\"1\" class=\"dataframe\">\n",
       "  <thead>\n",
       "    <tr style=\"text-align: right;\">\n",
       "      <th></th>\n",
       "      <th>_Glon</th>\n",
       "      <th>_Glat</th>\n",
       "      <th>_RAJ2000</th>\n",
       "      <th>_DEJ2000</th>\n",
       "      <th>Cl</th>\n",
       "      <th>Name</th>\n",
       "      <th>Vmag</th>\n",
       "      <th>z</th>\n",
       "      <th>root</th>\n",
       "      <th>plate</th>\n",
       "      <th>path</th>\n",
       "      <th>dx</th>\n",
       "      <th>dy</th>\n",
       "    </tr>\n",
       "  </thead>\n",
       "  <tbody>\n",
       "    <tr>\n",
       "      <th>0</th>\n",
       "      <td>100.174423</td>\n",
       "      <td>-55.203358</td>\n",
       "      <td>0.048750</td>\n",
       "      <td>5.388056</td>\n",
       "      <td>Sy1</td>\n",
       "      <td>RXS J00001+0523</td>\n",
       "      <td>16.4</td>\n",
       "      <td>0.040</td>\n",
       "      <td>initial</td>\n",
       "      <td>NaN</td>\n",
       "      <td>NaN</td>\n",
       "      <td>0.0</td>\n",
       "      <td>0.0</td>\n",
       "    </tr>\n",
       "    <tr>\n",
       "      <th>1</th>\n",
       "      <td>99.844434</td>\n",
       "      <td>-57.30727</td>\n",
       "      <td>0.610000</td>\n",
       "      <td>3.351667</td>\n",
       "      <td>Sy1</td>\n",
       "      <td>MARK 543</td>\n",
       "      <td>14.68</td>\n",
       "      <td>0.026</td>\n",
       "      <td>initial</td>\n",
       "      <td>NaN</td>\n",
       "      <td>NaN</td>\n",
       "      <td>0.0</td>\n",
       "      <td>0.0</td>\n",
       "    </tr>\n",
       "    <tr>\n",
       "      <th>2</th>\n",
       "      <td>86.112841</td>\n",
       "      <td>-70.112882</td>\n",
       "      <td>0.883750</td>\n",
       "      <td>-10.744722</td>\n",
       "      <td>Sy1</td>\n",
       "      <td>NGC 7808</td>\n",
       "      <td>15.4</td>\n",
       "      <td>0.029</td>\n",
       "      <td>initial</td>\n",
       "      <td>NaN</td>\n",
       "      <td>NaN</td>\n",
       "      <td>0.0</td>\n",
       "      <td>0.0</td>\n",
       "    </tr>\n",
       "    <tr>\n",
       "      <th>3</th>\n",
       "      <td>114.304767</td>\n",
       "      <td>-16.638006</td>\n",
       "      <td>1.039583</td>\n",
       "      <td>45.440278</td>\n",
       "      <td>Sy1</td>\n",
       "      <td>RXS J00041+4526</td>\n",
       "      <td>16.9</td>\n",
       "      <td>0.120</td>\n",
       "      <td>initial</td>\n",
       "      <td>NaN</td>\n",
       "      <td>NaN</td>\n",
       "      <td>0.0</td>\n",
       "      <td>0.0</td>\n",
       "    </tr>\n",
       "    <tr>\n",
       "      <th>4</th>\n",
       "      <td>104.972206</td>\n",
       "      <td>-50.897341</td>\n",
       "      <td>1.456250</td>\n",
       "      <td>10.376944</td>\n",
       "      <td>Sy1</td>\n",
       "      <td>RXS J00058+1022</td>\n",
       "      <td>16.7</td>\n",
       "      <td>0.095</td>\n",
       "      <td>initial</td>\n",
       "      <td>NaN</td>\n",
       "      <td>NaN</td>\n",
       "      <td>0.0</td>\n",
       "      <td>0.0</td>\n",
       "    </tr>\n",
       "  </tbody>\n",
       "</table>\n",
       "</div>"
      ],
      "text/plain": [
       "        _Glon       _Glat  _RAJ2000   _DEJ2000   Cl             Name   Vmag  \\\n",
       "0  100.174423  -55.203358  0.048750   5.388056  Sy1  RXS J00001+0523   16.4   \n",
       "1   99.844434   -57.30727  0.610000   3.351667  Sy1         MARK 543  14.68   \n",
       "2   86.112841  -70.112882  0.883750 -10.744722  Sy1         NGC 7808   15.4   \n",
       "3  114.304767  -16.638006  1.039583  45.440278  Sy1  RXS J00041+4526   16.9   \n",
       "4  104.972206  -50.897341  1.456250  10.376944  Sy1  RXS J00058+1022   16.7   \n",
       "\n",
       "       z     root  plate  path   dx   dy  \n",
       "0  0.040  initial    NaN   NaN  0.0  0.0  \n",
       "1  0.026  initial    NaN   NaN  0.0  0.0  \n",
       "2  0.029  initial    NaN   NaN  0.0  0.0  \n",
       "3  0.120  initial    NaN   NaN  0.0  0.0  \n",
       "4  0.095  initial    NaN   NaN  0.0  0.0  "
      ]
     },
     "execution_count": 49,
     "metadata": {},
     "output_type": "execute_result"
    }
   ],
   "source": [
    "data = prepareData('data/DFBS.csv')\n",
    "data.head()"
   ]
  },
  {
   "cell_type": "code",
   "execution_count": 50,
   "id": "2df0080a",
   "metadata": {
    "pycharm": {
     "name": "#%%\n"
    }
   },
   "outputs": [],
   "source": [
    "merge_columns = ['root', '_RAJ2000', '_DEJ2000', 'Cl', 'Name', 'plate', 'path', 'dx', 'dy']"
   ]
  },
  {
   "cell_type": "code",
   "execution_count": 51,
   "id": "60c47204",
   "metadata": {
    "pycharm": {
     "name": "#%%\n"
    }
   },
   "outputs": [],
   "source": [
    "all_data = pd.concat([data[merge_columns], df[merge_columns]])\n",
    "all_data.reset_index(inplace=True)\n",
    "all_data.drop_duplicates(subset=['_RAJ2000', '_DEJ2000', 'Cl'], inplace=True)"
   ]
  },
  {
   "cell_type": "code",
   "execution_count": 52,
   "id": "1459d903",
   "metadata": {
    "pycharm": {
     "name": "#%%\n"
    }
   },
   "outputs": [
    {
     "data": {
      "text/html": [
       "<div>\n",
       "<style scoped>\n",
       "    .dataframe tbody tr th:only-of-type {\n",
       "        vertical-align: middle;\n",
       "    }\n",
       "\n",
       "    .dataframe tbody tr th {\n",
       "        vertical-align: top;\n",
       "    }\n",
       "\n",
       "    .dataframe thead th {\n",
       "        text-align: right;\n",
       "    }\n",
       "</style>\n",
       "<table border=\"1\" class=\"dataframe\">\n",
       "  <thead>\n",
       "    <tr style=\"text-align: right;\">\n",
       "      <th></th>\n",
       "      <th>index</th>\n",
       "      <th>root</th>\n",
       "      <th>_RAJ2000</th>\n",
       "      <th>_DEJ2000</th>\n",
       "      <th>Cl</th>\n",
       "      <th>Name</th>\n",
       "      <th>plate</th>\n",
       "      <th>path</th>\n",
       "      <th>dx</th>\n",
       "      <th>dy</th>\n",
       "    </tr>\n",
       "  </thead>\n",
       "  <tbody>\n",
       "    <tr>\n",
       "      <th>0</th>\n",
       "      <td>0</td>\n",
       "      <td>initial</td>\n",
       "      <td>0.048750</td>\n",
       "      <td>5.388056</td>\n",
       "      <td>Sy1</td>\n",
       "      <td>RXS J00001+0523</td>\n",
       "      <td>NaN</td>\n",
       "      <td>NaN</td>\n",
       "      <td>0.0</td>\n",
       "      <td>0.0</td>\n",
       "    </tr>\n",
       "    <tr>\n",
       "      <th>1</th>\n",
       "      <td>1</td>\n",
       "      <td>initial</td>\n",
       "      <td>0.610000</td>\n",
       "      <td>3.351667</td>\n",
       "      <td>Sy1</td>\n",
       "      <td>MARK 543</td>\n",
       "      <td>NaN</td>\n",
       "      <td>NaN</td>\n",
       "      <td>0.0</td>\n",
       "      <td>0.0</td>\n",
       "    </tr>\n",
       "    <tr>\n",
       "      <th>2</th>\n",
       "      <td>2</td>\n",
       "      <td>initial</td>\n",
       "      <td>0.883750</td>\n",
       "      <td>-10.744722</td>\n",
       "      <td>Sy1</td>\n",
       "      <td>NGC 7808</td>\n",
       "      <td>NaN</td>\n",
       "      <td>NaN</td>\n",
       "      <td>0.0</td>\n",
       "      <td>0.0</td>\n",
       "    </tr>\n",
       "    <tr>\n",
       "      <th>3</th>\n",
       "      <td>3</td>\n",
       "      <td>initial</td>\n",
       "      <td>1.039583</td>\n",
       "      <td>45.440278</td>\n",
       "      <td>Sy1</td>\n",
       "      <td>RXS J00041+4526</td>\n",
       "      <td>NaN</td>\n",
       "      <td>NaN</td>\n",
       "      <td>0.0</td>\n",
       "      <td>0.0</td>\n",
       "    </tr>\n",
       "    <tr>\n",
       "      <th>4</th>\n",
       "      <td>4</td>\n",
       "      <td>initial</td>\n",
       "      <td>1.456250</td>\n",
       "      <td>10.376944</td>\n",
       "      <td>Sy1</td>\n",
       "      <td>RXS J00058+1022</td>\n",
       "      <td>NaN</td>\n",
       "      <td>NaN</td>\n",
       "      <td>0.0</td>\n",
       "      <td>0.0</td>\n",
       "    </tr>\n",
       "  </tbody>\n",
       "</table>\n",
       "</div>"
      ],
      "text/plain": [
       "   index     root  _RAJ2000   _DEJ2000   Cl             Name  plate  path  \\\n",
       "0      0  initial  0.048750   5.388056  Sy1  RXS J00001+0523    NaN   NaN   \n",
       "1      1  initial  0.610000   3.351667  Sy1         MARK 543    NaN   NaN   \n",
       "2      2  initial  0.883750 -10.744722  Sy1         NGC 7808    NaN   NaN   \n",
       "3      3  initial  1.039583  45.440278  Sy1  RXS J00041+4526    NaN   NaN   \n",
       "4      4  initial  1.456250  10.376944  Sy1  RXS J00058+1022    NaN   NaN   \n",
       "\n",
       "    dx   dy  \n",
       "0  0.0  0.0  \n",
       "1  0.0  0.0  \n",
       "2  0.0  0.0  \n",
       "3  0.0  0.0  \n",
       "4  0.0  0.0  "
      ]
     },
     "execution_count": 52,
     "metadata": {},
     "output_type": "execute_result"
    }
   ],
   "source": [
    "all_data.head()"
   ]
  },
  {
   "cell_type": "code",
   "execution_count": 53,
   "id": "88d2aa1a",
   "metadata": {
    "pycharm": {
     "name": "#%%\n"
    }
   },
   "outputs": [
    {
     "data": {
      "text/html": [
       "<div>\n",
       "<style scoped>\n",
       "    .dataframe tbody tr th:only-of-type {\n",
       "        vertical-align: middle;\n",
       "    }\n",
       "\n",
       "    .dataframe tbody tr th {\n",
       "        vertical-align: top;\n",
       "    }\n",
       "\n",
       "    .dataframe thead th {\n",
       "        text-align: right;\n",
       "    }\n",
       "</style>\n",
       "<table border=\"1\" class=\"dataframe\">\n",
       "  <thead>\n",
       "    <tr style=\"text-align: right;\">\n",
       "      <th></th>\n",
       "      <th>index</th>\n",
       "      <th>root</th>\n",
       "      <th>_RAJ2000</th>\n",
       "      <th>_DEJ2000</th>\n",
       "      <th>Cl</th>\n",
       "      <th>Name</th>\n",
       "      <th>plate</th>\n",
       "      <th>path</th>\n",
       "      <th>dx</th>\n",
       "      <th>dy</th>\n",
       "    </tr>\n",
       "  </thead>\n",
       "  <tbody>\n",
       "    <tr>\n",
       "      <th>4961</th>\n",
       "      <td>4963</td>\n",
       "      <td>initial</td>\n",
       "      <td>253.889333</td>\n",
       "      <td>63.242528</td>\n",
       "      <td>Mrk</td>\n",
       "      <td>503</td>\n",
       "      <td>NaN</td>\n",
       "      <td>NaN</td>\n",
       "      <td>0.0</td>\n",
       "      <td>0.0</td>\n",
       "    </tr>\n",
       "  </tbody>\n",
       "</table>\n",
       "</div>"
      ],
      "text/plain": [
       "      index     root    _RAJ2000   _DEJ2000   Cl Name  plate  path   dx   dy\n",
       "4961   4963  initial  253.889333  63.242528  Mrk  503    NaN   NaN  0.0  0.0"
      ]
     },
     "execution_count": 53,
     "metadata": {},
     "output_type": "execute_result"
    }
   ],
   "source": [
    "all_data[all_data['_DEJ2000'] == 63.2425278]"
   ]
  },
  {
   "cell_type": "code",
   "execution_count": 54,
   "id": "e396c6ff",
   "metadata": {
    "pycharm": {
     "name": "#%%\n"
    }
   },
   "outputs": [],
   "source": [
    "all_data.to_csv('data/Combined.csv', index=False)"
   ]
  },
  {
   "cell_type": "code",
   "execution_count": null,
   "id": "89404a55",
   "metadata": {
    "pycharm": {
     "name": "#%%\n"
    }
   },
   "outputs": [],
   "source": []
  }
 ],
 "metadata": {
  "kernelspec": {
   "display_name": "Python 3 (ipykernel)",
   "language": "python",
   "name": "python3"
  },
  "language_info": {
   "codemirror_mode": {
    "name": "ipython",
    "version": 3
   },
   "file_extension": ".py",
   "mimetype": "text/x-python",
   "name": "python",
   "nbconvert_exporter": "python",
   "pygments_lexer": "ipython3",
   "version": "3.9.13"
  }
 },
 "nbformat": 4,
 "nbformat_minor": 5
}
