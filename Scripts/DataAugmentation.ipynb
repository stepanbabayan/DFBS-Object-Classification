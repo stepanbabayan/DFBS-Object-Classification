{
 "cells": [
  {
   "cell_type": "code",
   "execution_count": 4,
   "metadata": {
    "pycharm": {
     "name": "#%%\n"
    }
   },
   "outputs": [],
   "source": [
    "import numpy as np\n",
    "import os\n",
    "import sys\n",
    "from PIL import Image\n",
    "import tensorflow as tf\n",
    "import tensorflow_datasets as tfds\n",
    "import pandas as pd\n",
    "from fnmatch import fnmatch\n",
    "import matplotlib.pyplot as plt\n",
    "from sklearn.model_selection import train_test_split\n",
    "from tensorflow.keras.preprocessing.image import ImageDataGenerator"
   ]
  },
  {
   "cell_type": "code",
   "execution_count": 5,
   "metadata": {
    "pycharm": {
     "name": "#%%\n"
    }
   },
   "outputs": [
    {
     "name": "stdout",
     "output_type": "stream",
     "text": [
      "2.7.0\n"
     ]
    }
   ],
   "source": [
    "print(tf.__version__)"
   ]
  },
  {
   "cell_type": "code",
   "execution_count": 6,
   "metadata": {
    "pycharm": {
     "name": "#%%\n"
    }
   },
   "outputs": [
    {
     "data": {
      "text/html": [
       "<div>\n",
       "<style scoped>\n",
       "    .dataframe tbody tr th:only-of-type {\n",
       "        vertical-align: middle;\n",
       "    }\n",
       "\n",
       "    .dataframe tbody tr th {\n",
       "        vertical-align: top;\n",
       "    }\n",
       "\n",
       "    .dataframe thead th {\n",
       "        text-align: right;\n",
       "    }\n",
       "</style>\n",
       "<table border=\"1\" class=\"dataframe\">\n",
       "  <thead>\n",
       "    <tr style=\"text-align: right;\">\n",
       "      <th></th>\n",
       "      <th>_Glon</th>\n",
       "      <th>_Glat</th>\n",
       "      <th>_RAJ2000</th>\n",
       "      <th>_DEJ2000</th>\n",
       "      <th>Cl</th>\n",
       "      <th>Name</th>\n",
       "      <th>Vmag</th>\n",
       "      <th>z</th>\n",
       "      <th>plate</th>\n",
       "      <th>path</th>\n",
       "      <th>dx</th>\n",
       "      <th>dy</th>\n",
       "    </tr>\n",
       "  </thead>\n",
       "  <tbody>\n",
       "    <tr>\n",
       "      <th>22</th>\n",
       "      <td>120.963506</td>\n",
       "      <td>-22.480532</td>\n",
       "      <td>10.472500</td>\n",
       "      <td>40.354722</td>\n",
       "      <td>Sy1</td>\n",
       "      <td>MARK 957</td>\n",
       "      <td>15.14</td>\n",
       "      <td>0.073</td>\n",
       "      <td>fbs0809_cor</td>\n",
       "      <td>data/images/Sy1/22__MARK 957.tiff</td>\n",
       "      <td>4310.0</td>\n",
       "      <td>7798.0</td>\n",
       "    </tr>\n",
       "    <tr>\n",
       "      <th>23</th>\n",
       "      <td>121.040282</td>\n",
       "      <td>-22.511401</td>\n",
       "      <td>10.567083</td>\n",
       "      <td>40.326667</td>\n",
       "      <td>Sy1</td>\n",
       "      <td>IV Zw 29</td>\n",
       "      <td>16.30</td>\n",
       "      <td>0.102</td>\n",
       "      <td>fbs0809_cor</td>\n",
       "      <td>data/images/Sy1/23__IV Zw 29.tiff</td>\n",
       "      <td>4140.0</td>\n",
       "      <td>7738.0</td>\n",
       "    </tr>\n",
       "    <tr>\n",
       "      <th>37</th>\n",
       "      <td>129.448039</td>\n",
       "      <td>-49.313722</td>\n",
       "      <td>17.220000</td>\n",
       "      <td>13.337222</td>\n",
       "      <td>Sy1</td>\n",
       "      <td>3C 33.0</td>\n",
       "      <td>15.90</td>\n",
       "      <td>0.060</td>\n",
       "      <td>fbs0089_cor</td>\n",
       "      <td>data/images/Sy1/37__3C 33.0.tiff</td>\n",
       "      <td>2645.0</td>\n",
       "      <td>316.0</td>\n",
       "    </tr>\n",
       "    <tr>\n",
       "      <th>38</th>\n",
       "      <td>133.401721</td>\n",
       "      <td>-62.040063</td>\n",
       "      <td>17.747083</td>\n",
       "      <td>0.433611</td>\n",
       "      <td>Sy1</td>\n",
       "      <td>SDSS J01109+0026</td>\n",
       "      <td>15.72</td>\n",
       "      <td>0.019</td>\n",
       "      <td>fbs1175_cor</td>\n",
       "      <td>data/images/Sy1/38__SDSS J01109+0026.tiff</td>\n",
       "      <td>7944.0</td>\n",
       "      <td>7561.0</td>\n",
       "    </tr>\n",
       "    <tr>\n",
       "      <th>43</th>\n",
       "      <td>136.759790</td>\n",
       "      <td>-62.174109</td>\n",
       "      <td>19.265000</td>\n",
       "      <td>0.007778</td>\n",
       "      <td>Sy1</td>\n",
       "      <td>2E 0114-0015</td>\n",
       "      <td>16.79</td>\n",
       "      <td>0.046</td>\n",
       "      <td>fbs1175_cor</td>\n",
       "      <td>data/images/Sy1/43__2E 0114-0015.tiff</td>\n",
       "      <td>4394.0</td>\n",
       "      <td>6680.0</td>\n",
       "    </tr>\n",
       "  </tbody>\n",
       "</table>\n",
       "</div>"
      ],
      "text/plain": [
       "         _Glon      _Glat   _RAJ2000   _DEJ2000   Cl              Name   Vmag  \\\n",
       "22  120.963506 -22.480532  10.472500  40.354722  Sy1          MARK 957  15.14   \n",
       "23  121.040282 -22.511401  10.567083  40.326667  Sy1          IV Zw 29  16.30   \n",
       "37  129.448039 -49.313722  17.220000  13.337222  Sy1           3C 33.0  15.90   \n",
       "38  133.401721 -62.040063  17.747083   0.433611  Sy1  SDSS J01109+0026  15.72   \n",
       "43  136.759790 -62.174109  19.265000   0.007778  Sy1      2E 0114-0015  16.79   \n",
       "\n",
       "        z        plate                                       path      dx  \\\n",
       "22  0.073  fbs0809_cor          data/images/Sy1/22__MARK 957.tiff  4310.0   \n",
       "23  0.102  fbs0809_cor          data/images/Sy1/23__IV Zw 29.tiff  4140.0   \n",
       "37  0.060  fbs0089_cor           data/images/Sy1/37__3C 33.0.tiff  2645.0   \n",
       "38  0.019  fbs1175_cor  data/images/Sy1/38__SDSS J01109+0026.tiff  7944.0   \n",
       "43  0.046  fbs1175_cor      data/images/Sy1/43__2E 0114-0015.tiff  4394.0   \n",
       "\n",
       "        dy  \n",
       "22  7798.0  \n",
       "23  7738.0  \n",
       "37   316.0  \n",
       "38  7561.0  \n",
       "43  6680.0  "
      ]
     },
     "execution_count": 6,
     "metadata": {},
     "output_type": "execute_result"
    }
   ],
   "source": [
    "data = pd.read_csv('./data/DFBS_extracted.csv', index_col='Unnamed: 0')\n",
    "data.head()"
   ]
  },
  {
   "cell_type": "code",
   "execution_count": 41,
   "metadata": {
    "pycharm": {
     "name": "#%%\n"
    }
   },
   "outputs": [],
   "source": [
    "data['fname'] = data.path.str.split('/', expand=True).iloc[:,-1]"
   ]
  },
  {
   "cell_type": "code",
   "execution_count": 42,
   "metadata": {
    "pycharm": {
     "name": "#%%\n"
    }
   },
   "outputs": [
    {
     "data": {
      "text/plain": [
       "('./data/images_2/1036__RXS J00281+3103.tiff', 990)"
      ]
     },
     "execution_count": 42,
     "metadata": {},
     "output_type": "execute_result"
    }
   ],
   "source": [
    "all_tiff_files = []\n",
    "listOfFiles = os.listdir('./data/images_2/')\n",
    "pattern = \"*.tiff\"\n",
    "for entry in listOfFiles:\n",
    "    if fnmatch(entry, pattern):\n",
    "        all_tiff_files.append('./data/images_2/'+entry)\n",
    "\n",
    "all_tiff_files[0], len(all_tiff_files)"
   ]
  },
  {
   "cell_type": "code",
   "execution_count": 72,
   "metadata": {
    "pycharm": {
     "name": "#%%\n"
    }
   },
   "outputs": [],
   "source": [
    "DATA_AUG_BATCH_SIZE = 32  # batch size for data augmentation"
   ]
  },
  {
   "cell_type": "code",
   "execution_count": 73,
   "metadata": {
    "pycharm": {
     "name": "#%%\n"
    }
   },
   "outputs": [],
   "source": [
    "n_steps_data_aug = np.ceil(data.shape[0]/DATA_AUG_BATCH_SIZE).astype(int)"
   ]
  },
  {
   "cell_type": "code",
   "execution_count": 74,
   "metadata": {
    "pycharm": {
     "name": "#%%\n"
    }
   },
   "outputs": [],
   "source": [
    "datagen = ImageDataGenerator(\n",
    "    rotation_range=1,\n",
    "    width_shift_range=0.05,\n",
    "    height_shift_range=0.05,\n",
    "    shear_range=0.1,\n",
    "    zoom_range=0.1,\n",
    "    horizontal_flip=True,\n",
    "    vertical_flip=False,\n",
    "    fill_mode=\"nearest\"\n",
    "    # rescale = 1./0xff\n",
    ")"
   ]
  },
  {
   "cell_type": "code",
   "execution_count": 75,
   "metadata": {
    "pycharm": {
     "name": "#%%\n"
    }
   },
   "outputs": [],
   "source": [
    "img_size = (140, 20)  # input image size to model\n",
    "img_path = \"./data/images_2/\"\n",
    "aug_img_path = \"./data/images_22/\"\n",
    "SEED = 1"
   ]
  },
  {
   "cell_type": "code",
   "execution_count": 76,
   "metadata": {
    "pycharm": {
     "name": "#%%\n"
    }
   },
   "outputs": [
    {
     "name": "stdout",
     "output_type": "stream",
     "text": [
      "Found 990 validated image filenames belonging to 9 classes.\n"
     ]
    }
   ],
   "source": [
    "# Feed images to the data generator \n",
    "aug_gen = datagen.flow_from_dataframe(dataframe=data, directory=img_path, save_to_dir=aug_img_path, save_prefix='aug', save_format='tiff', x_col='fname', y_col=\"Cl\", batch_size=DATA_AUG_BATCH_SIZE, seed=SEED, shuffle=False, color_mode='grayscale', class_mode=\"categorical\", target_size=img_size)"
   ]
  },
  {
   "cell_type": "code",
   "execution_count": 80,
   "metadata": {
    "pycharm": {
     "name": "#%%\n"
    }
   },
   "outputs": [],
   "source": [
    "for i in range(2*n_steps_data_aug):\n",
    "    next(aug_gen)"
   ]
  },
  {
   "cell_type": "code",
   "execution_count": 209,
   "metadata": {
    "pycharm": {
     "name": "#%%\n"
    }
   },
   "outputs": [],
   "source": [
    "augmented_images = np.array(os.listdir('./data/images_22/'))\n",
    "aug_data = pd.concat([pd.Series(augmented_images).str.split('_', expand=True)[1], './data/images_22/' + pd.Series(augmented_images)], axis=1)"
   ]
  },
  {
   "cell_type": "code",
   "execution_count": 210,
   "metadata": {
    "pycharm": {
     "name": "#%%\n"
    }
   },
   "outputs": [
    {
     "data": {
      "text/html": [
       "<div>\n",
       "<style scoped>\n",
       "    .dataframe tbody tr th:only-of-type {\n",
       "        vertical-align: middle;\n",
       "    }\n",
       "\n",
       "    .dataframe tbody tr th {\n",
       "        vertical-align: top;\n",
       "    }\n",
       "\n",
       "    .dataframe thead th {\n",
       "        text-align: right;\n",
       "    }\n",
       "</style>\n",
       "<table border=\"1\" class=\"dataframe\">\n",
       "  <thead>\n",
       "    <tr style=\"text-align: right;\">\n",
       "      <th></th>\n",
       "      <th>data_index</th>\n",
       "      <th>path</th>\n",
       "      <th>Cl</th>\n",
       "      <th>Name</th>\n",
       "    </tr>\n",
       "  </thead>\n",
       "  <tbody>\n",
       "    <tr>\n",
       "      <th>0</th>\n",
       "      <td>22</td>\n",
       "      <td>./data/images_22/aug_0_1091330.tiff</td>\n",
       "      <td>Sy1</td>\n",
       "      <td>MARK 957</td>\n",
       "    </tr>\n",
       "    <tr>\n",
       "      <th>1</th>\n",
       "      <td>22</td>\n",
       "      <td>./data/images_22/aug_0_1166945.tiff</td>\n",
       "      <td>Sy1</td>\n",
       "      <td>MARK 957</td>\n",
       "    </tr>\n",
       "    <tr>\n",
       "      <th>2</th>\n",
       "      <td>22</td>\n",
       "      <td>./data/images_22/aug_0_1441761.tiff</td>\n",
       "      <td>Sy1</td>\n",
       "      <td>MARK 957</td>\n",
       "    </tr>\n",
       "    <tr>\n",
       "      <th>3</th>\n",
       "      <td>22</td>\n",
       "      <td>./data/images_22/aug_0_1466666.tiff</td>\n",
       "      <td>Sy1</td>\n",
       "      <td>MARK 957</td>\n",
       "    </tr>\n",
       "    <tr>\n",
       "      <th>4</th>\n",
       "      <td>22</td>\n",
       "      <td>./data/images_22/aug_0_1680659.tiff</td>\n",
       "      <td>Sy1</td>\n",
       "      <td>MARK 957</td>\n",
       "    </tr>\n",
       "  </tbody>\n",
       "</table>\n",
       "</div>"
      ],
      "text/plain": [
       "   data_index                                 path   Cl      Name\n",
       "0          22  ./data/images_22/aug_0_1091330.tiff  Sy1  MARK 957\n",
       "1          22  ./data/images_22/aug_0_1166945.tiff  Sy1  MARK 957\n",
       "2          22  ./data/images_22/aug_0_1441761.tiff  Sy1  MARK 957\n",
       "3          22  ./data/images_22/aug_0_1466666.tiff  Sy1  MARK 957\n",
       "4          22  ./data/images_22/aug_0_1680659.tiff  Sy1  MARK 957"
      ]
     },
     "execution_count": 210,
     "metadata": {},
     "output_type": "execute_result"
    }
   ],
   "source": [
    "aug_data['Cl'] = data['Cl'].iloc[aug_data[1]].values\n",
    "aug_data['Name'] = data['Name'].iloc[aug_data[1]].values\n",
    "aug_data[1] = data.iloc[aug_data[1]].index\n",
    "aug_data.rename(columns={0: \"path\", 1: \"data_index\"}, inplace=True)\n",
    "aug_data.head()"
   ]
  },
  {
   "cell_type": "code",
   "execution_count": 211,
   "metadata": {
    "pycharm": {
     "name": "#%%\n"
    }
   },
   "outputs": [
    {
     "data": {
      "text/plain": [
       "M      16482\n",
       "sd     13119\n",
       "Mrk     9782\n",
       "PN      8785\n",
       "WD      5712\n",
       "Sy1     5644\n",
       "QSO     5508\n",
       "cv      1273\n",
       "C        201\n",
       "Name: Cl, dtype: int64"
      ]
     },
     "execution_count": 211,
     "metadata": {},
     "output_type": "execute_result"
    }
   ],
   "source": [
    "aug_data['Cl'].value_counts()"
   ]
  },
  {
   "cell_type": "code",
   "execution_count": 212,
   "metadata": {
    "pycharm": {
     "name": "#%%\n"
    }
   },
   "outputs": [
    {
     "data": {
      "text/html": [
       "<div>\n",
       "<style scoped>\n",
       "    .dataframe tbody tr th:only-of-type {\n",
       "        vertical-align: middle;\n",
       "    }\n",
       "\n",
       "    .dataframe tbody tr th {\n",
       "        vertical-align: top;\n",
       "    }\n",
       "\n",
       "    .dataframe thead th {\n",
       "        text-align: right;\n",
       "    }\n",
       "</style>\n",
       "<table border=\"1\" class=\"dataframe\">\n",
       "  <thead>\n",
       "    <tr style=\"text-align: right;\">\n",
       "      <th></th>\n",
       "      <th>data_index</th>\n",
       "      <th>path</th>\n",
       "      <th>Cl</th>\n",
       "      <th>Name</th>\n",
       "    </tr>\n",
       "  </thead>\n",
       "  <tbody>\n",
       "    <tr>\n",
       "      <th>0</th>\n",
       "      <td>22</td>\n",
       "      <td>./data/images_22/aug_0_1091330.tiff</td>\n",
       "      <td>5</td>\n",
       "      <td>MARK 957</td>\n",
       "    </tr>\n",
       "    <tr>\n",
       "      <th>1</th>\n",
       "      <td>22</td>\n",
       "      <td>./data/images_22/aug_0_1166945.tiff</td>\n",
       "      <td>5</td>\n",
       "      <td>MARK 957</td>\n",
       "    </tr>\n",
       "    <tr>\n",
       "      <th>2</th>\n",
       "      <td>22</td>\n",
       "      <td>./data/images_22/aug_0_1441761.tiff</td>\n",
       "      <td>5</td>\n",
       "      <td>MARK 957</td>\n",
       "    </tr>\n",
       "    <tr>\n",
       "      <th>3</th>\n",
       "      <td>22</td>\n",
       "      <td>./data/images_22/aug_0_1466666.tiff</td>\n",
       "      <td>5</td>\n",
       "      <td>MARK 957</td>\n",
       "    </tr>\n",
       "    <tr>\n",
       "      <th>4</th>\n",
       "      <td>22</td>\n",
       "      <td>./data/images_22/aug_0_1680659.tiff</td>\n",
       "      <td>5</td>\n",
       "      <td>MARK 957</td>\n",
       "    </tr>\n",
       "  </tbody>\n",
       "</table>\n",
       "</div>"
      ],
      "text/plain": [
       "   data_index                                 path  Cl      Name\n",
       "0          22  ./data/images_22/aug_0_1091330.tiff   5  MARK 957\n",
       "1          22  ./data/images_22/aug_0_1166945.tiff   5  MARK 957\n",
       "2          22  ./data/images_22/aug_0_1441761.tiff   5  MARK 957\n",
       "3          22  ./data/images_22/aug_0_1466666.tiff   5  MARK 957\n",
       "4          22  ./data/images_22/aug_0_1680659.tiff   5  MARK 957"
      ]
     },
     "execution_count": 212,
     "metadata": {},
     "output_type": "execute_result"
    }
   ],
   "source": [
    "from sklearn.preprocessing import LabelEncoder\n",
    "le = LabelEncoder()\n",
    "le.fit(aug_data['Cl'])\n",
    "aug_data['Cl']=le.transform(aug_data['Cl'])\n",
    "aug_data.head()"
   ]
  },
  {
   "cell_type": "code",
   "execution_count": 213,
   "metadata": {
    "pycharm": {
     "name": "#%%\n"
    }
   },
   "outputs": [
    {
     "data": {
      "text/plain": [
       "1    16482\n",
       "8    13119\n",
       "2     9782\n",
       "3     8785\n",
       "6     5712\n",
       "5     5644\n",
       "4     5508\n",
       "7     1273\n",
       "0      201\n",
       "Name: Cl, dtype: int64"
      ]
     },
     "execution_count": 213,
     "metadata": {},
     "output_type": "execute_result"
    }
   ],
   "source": [
    "values = aug_data['Cl'].value_counts()\n",
    "num_classes = len(values)\n",
    "values"
   ]
  },
  {
   "cell_type": "code",
   "execution_count": 214,
   "metadata": {
    "pycharm": {
     "name": "#%%\n"
    }
   },
   "outputs": [],
   "source": [
    "X = aug_data.loc[:, 'path']\n",
    "Y = aug_data.loc[:, 'Cl']"
   ]
  },
  {
   "cell_type": "code",
   "execution_count": 215,
   "metadata": {
    "pycharm": {
     "name": "#%%\n"
    }
   },
   "outputs": [],
   "source": [
    "X = X.values\n",
    "Y = Y.values"
   ]
  },
  {
   "cell_type": "code",
   "execution_count": 217,
   "metadata": {
    "pycharm": {
     "name": "#%%\n"
    }
   },
   "outputs": [
    {
     "name": "stderr",
     "output_type": "stream",
     "text": [
      " 19%|█▊        | 12307/66506 [02:06<09:15, 97.54it/s] \n"
     ]
    },
    {
     "ename": "KeyboardInterrupt",
     "evalue": "",
     "output_type": "error",
     "traceback": [
      "\u001B[1;31m---------------------------------------------------------------------------\u001B[0m",
      "\u001B[1;31mKeyboardInterrupt\u001B[0m                         Traceback (most recent call last)",
      "\u001B[1;32m<ipython-input-217-40dd71ae1274>\u001B[0m in \u001B[0;36m<module>\u001B[1;34m\u001B[0m\n\u001B[0;32m      6\u001B[0m \u001B[0mind\u001B[0m \u001B[1;33m=\u001B[0m \u001B[1;36m0\u001B[0m\u001B[1;33m\u001B[0m\u001B[1;33m\u001B[0m\u001B[0m\n\u001B[0;32m      7\u001B[0m \u001B[1;32mfor\u001B[0m \u001B[0mi\u001B[0m \u001B[1;32min\u001B[0m \u001B[0mtqdm\u001B[0m\u001B[1;33m(\u001B[0m\u001B[0mrange\u001B[0m\u001B[1;33m(\u001B[0m\u001B[0mlen\u001B[0m\u001B[1;33m(\u001B[0m\u001B[0mX\u001B[0m\u001B[1;33m)\u001B[0m\u001B[1;33m)\u001B[0m\u001B[1;33m)\u001B[0m\u001B[1;33m:\u001B[0m\u001B[1;33m\u001B[0m\u001B[1;33m\u001B[0m\u001B[0m\n\u001B[1;32m----> 8\u001B[1;33m     \u001B[0mim\u001B[0m \u001B[1;33m=\u001B[0m \u001B[0mImage\u001B[0m\u001B[1;33m.\u001B[0m\u001B[0mopen\u001B[0m\u001B[1;33m(\u001B[0m\u001B[0mX\u001B[0m\u001B[1;33m[\u001B[0m\u001B[0mi\u001B[0m\u001B[1;33m]\u001B[0m\u001B[1;33m)\u001B[0m\u001B[1;33m\u001B[0m\u001B[1;33m\u001B[0m\u001B[0m\n\u001B[0m\u001B[0;32m      9\u001B[0m     \u001B[0marr\u001B[0m \u001B[1;33m=\u001B[0m \u001B[0mnp\u001B[0m\u001B[1;33m.\u001B[0m\u001B[0marray\u001B[0m\u001B[1;33m(\u001B[0m\u001B[0mim\u001B[0m\u001B[1;33m)\u001B[0m\u001B[1;31m#.flatten()\u001B[0m\u001B[1;33m\u001B[0m\u001B[1;33m\u001B[0m\u001B[0m\n\u001B[0;32m     10\u001B[0m \u001B[1;33m\u001B[0m\u001B[0m\n",
      "\u001B[1;32me:\\Program Files\\Python39\\lib\\site-packages\\PIL\\Image.py\u001B[0m in \u001B[0;36mopen\u001B[1;34m(fp, mode, formats)\u001B[0m\n\u001B[0;32m   2910\u001B[0m \u001B[1;33m\u001B[0m\u001B[0m\n\u001B[0;32m   2911\u001B[0m     \u001B[1;32mif\u001B[0m \u001B[0mfilename\u001B[0m\u001B[1;33m:\u001B[0m\u001B[1;33m\u001B[0m\u001B[1;33m\u001B[0m\u001B[0m\n\u001B[1;32m-> 2912\u001B[1;33m         \u001B[0mfp\u001B[0m \u001B[1;33m=\u001B[0m \u001B[0mbuiltins\u001B[0m\u001B[1;33m.\u001B[0m\u001B[0mopen\u001B[0m\u001B[1;33m(\u001B[0m\u001B[0mfilename\u001B[0m\u001B[1;33m,\u001B[0m \u001B[1;34m\"rb\"\u001B[0m\u001B[1;33m)\u001B[0m\u001B[1;33m\u001B[0m\u001B[1;33m\u001B[0m\u001B[0m\n\u001B[0m\u001B[0;32m   2913\u001B[0m         \u001B[0mexclusive_fp\u001B[0m \u001B[1;33m=\u001B[0m \u001B[1;32mTrue\u001B[0m\u001B[1;33m\u001B[0m\u001B[1;33m\u001B[0m\u001B[0m\n\u001B[0;32m   2914\u001B[0m \u001B[1;33m\u001B[0m\u001B[0m\n",
      "\u001B[1;31mKeyboardInterrupt\u001B[0m: "
     ]
    }
   ],
   "source": [
    "from tqdm import tqdm\n",
    "\n",
    "images_list = []\n",
    "max_width = 0\n",
    "max_height = 0\n",
    "ind = 0\n",
    "for i in tqdm(range(len(X))):\n",
    "    im = Image.open(X[i])\n",
    "    arr = np.array(im)#.flatten()\n",
    "    \n",
    "    arr=(arr-arr.min())/(arr.max()-arr.min())\n",
    "    #arr = arr / 0xffff\n",
    "    s = arr.shape\n",
    "    if s[0] > max_height:\n",
    "        max_height = s[0]\n",
    "    if s[1] > max_width:\n",
    "        max_width = s[1]\n",
    "        ind = i\n",
    "    images_list.append(arr)"
   ]
  },
  {
   "cell_type": "code",
   "execution_count": null,
   "metadata": {
    "pycharm": {
     "name": "#%%\n"
    }
   },
   "outputs": [
    {
     "data": {
      "text/plain": [
       "14556"
      ]
     },
     "execution_count": 216,
     "metadata": {},
     "output_type": "execute_result"
    }
   ],
   "source": [
    "images_list.__len__()"
   ]
  },
  {
   "cell_type": "code",
   "execution_count": null,
   "metadata": {
    "pycharm": {
     "name": "#%%\n"
    }
   },
   "outputs": [],
   "source": [
    "print(max_width, max_height)\n",
    "max_width, max_height = 20, 140"
   ]
  },
  {
   "cell_type": "code",
   "execution_count": null,
   "metadata": {
    "pycharm": {
     "name": "#%%\n"
    }
   },
   "outputs": [],
   "source": [
    "for i in range(len(images_list)):\n",
    "    s = images_list[i].shape\n",
    "    d_width = (max_width - s[1])\n",
    "    d_height = (max_height - s[0])\n",
    "    \n",
    "    d_top = int(d_height / 2)\n",
    "    d_bottom = int(d_height - d_top)\n",
    "    \n",
    "    d_left = int(d_width / 2)\n",
    "    d_right = int(d_width - d_left)\n",
    "    #print(d_top, d_bottom, d_left, d_right)\n",
    "    \n",
    "    arr = images_list[i]\n",
    "    for l in range(d_left):\n",
    "        arr = np.insert(arr, 0, 0, axis = 1)\n",
    "    \n",
    "    for r in range(d_right):\n",
    "        b = np.zeros((s[0],1))\n",
    "        arr = np.append(arr, b, axis = 1)\n",
    "    \n",
    "    for t in range(d_top):\n",
    "        arr = np.insert(arr, 0, 0, axis = 0)\n",
    "    \n",
    "    for b in range(d_bottom):\n",
    "        b = np.zeros((1, arr.shape[1],))\n",
    "        arr = np.append(arr, b, axis = 0)\n",
    "    \n",
    "    images_list[i] = arr#.flatten()"
   ]
  },
  {
   "cell_type": "code",
   "execution_count": null,
   "metadata": {
    "pycharm": {
     "name": "#%%\n"
    }
   },
   "outputs": [],
   "source": [
    "width = max_width\n",
    "height = max_height\n",
    "print(width, height)\n",
    "plt.imshow(images_list[100])\n",
    "plt.gray()\n",
    "plt.show()"
   ]
  },
  {
   "cell_type": "code",
   "execution_count": null,
   "metadata": {
    "pycharm": {
     "name": "#%%\n"
    }
   },
   "outputs": [],
   "source": [
    "from tensorflow.python.client import device_lib\n",
    "import tensorflow as tf\n",
    "import keras\n",
    "# print(device_lib.list_local_devices())"
   ]
  },
  {
   "cell_type": "code",
   "execution_count": null,
   "metadata": {
    "pycharm": {
     "name": "#%%\n"
    }
   },
   "outputs": [],
   "source": [
    "images_np = np.array(images_list)\n",
    "file_names_np = np.array(all_tiff_files)"
   ]
  },
  {
   "cell_type": "code",
   "execution_count": null,
   "metadata": {
    "pycharm": {
     "name": "#%%\n"
    }
   },
   "outputs": [],
   "source": [
    "X_train, X_test, Y_train, Y_test = train_test_split(images_np, Y, test_size=0.1, shuffle=True, stratify=Y)\n",
    "Y_train = tf.keras.utils.to_categorical(Y_train, num_classes)\n",
    "Y_test = tf.keras.utils.to_categorical(Y_test, num_classes)"
   ]
  },
  {
   "cell_type": "code",
   "execution_count": null,
   "metadata": {
    "pycharm": {
     "name": "#%%\n"
    }
   },
   "outputs": [],
   "source": [
    "input_shape = (140, 20, 1)\n",
    "X_train = X_train.reshape(X_train.shape[0], input_shape[0], input_shape[1], input_shape[2])\n",
    "X_test = X_test.reshape(X_test.shape[0], input_shape[0], input_shape[1], input_shape[2])"
   ]
  },
  {
   "cell_type": "code",
   "execution_count": null,
   "metadata": {
    "pycharm": {
     "name": "#%%\n"
    }
   },
   "outputs": [],
   "source": [
    "print('x_train shape:', X_train.shape)\n",
    "print(X_train.shape[0], 'train samples')\n",
    "print(X_test.shape[0], 'test samples')"
   ]
  },
  {
   "cell_type": "code",
   "execution_count": null,
   "metadata": {
    "pycharm": {
     "name": "#%%\n"
    }
   },
   "outputs": [],
   "source": [
    "from keras.models import Sequential, Model, Input\n",
    "from keras.layers import Dense, Conv2D, Dropout, Flatten, MaxPooling2D, Activation, BatchNormalization, concatenate\n",
    "from tensorflow.keras import regularizers"
   ]
  },
  {
   "cell_type": "code",
   "execution_count": null,
   "metadata": {
    "pycharm": {
     "name": "#%%\n"
    }
   },
   "outputs": [],
   "source": [
    "reg  = None\n",
    "reg_l1 = regularizers.l1()\n",
    "reg_l2 = regularizers.l2()\n",
    "ks = 16 \n",
    "drop_size = 0.1\n",
    "act = \"relu\"\n",
    "from keras.callbacks import LearningRateScheduler\n",
    "def lr_schedule(epoch):\n",
    "    lrate = 0.001\n",
    "    if epoch > 6:\n",
    "        lrate = 0.0005\n",
    "    if epoch > 12:\n",
    "        lrate = 0.00025\n",
    "    if epoch > 18:\n",
    "        lrate = 0.0001\n",
    "    if epoch > 25:\n",
    "        lrate = 0.00001\n",
    "    return lrate"
   ]
  },
  {
   "cell_type": "code",
   "execution_count": null,
   "metadata": {
    "pycharm": {
     "name": "#%%\n"
    }
   },
   "outputs": [],
   "source": [
    "model = Sequential()\n",
    "model.add(Conv2D(32, kernel_size=(3,3), input_shape=input_shape, padding=\"same\"))\n",
    "model.add(MaxPooling2D(pool_size=(3, 1)))\n",
    "\n",
    "model.add(Conv2D(64, (3, 3), padding=\"same\"))\n",
    "model.add(Activation('relu'))\n",
    "model.add(MaxPooling2D(pool_size=(3, 1)))\n",
    "\n",
    "model.add(Conv2D(128, (3, 3), padding=\"same\"))\n",
    "model.add(Activation('relu'))\n",
    "model.add(MaxPooling2D(pool_size=(3, 4)))\n",
    "\n",
    "model.add(Flatten()) # Flattening the 2D arrays for fully connected layers\n",
    "model.add(Dense(128, activation=tf.nn.relu))\n",
    "model.add(Dropout(0.5))\n",
    "model.add(Dense(128, activation=tf.nn.relu))\n",
    "model.add(Dense(num_classes,activation=tf.nn.softmax))"
   ]
  },
  {
   "cell_type": "code",
   "execution_count": null,
   "metadata": {
    "pycharm": {
     "name": "#%%\n"
    }
   },
   "outputs": [],
   "source": [
    "i = Input(input_shape)\n",
    "\n",
    "#32----------------------------------------------------------------------------------\n",
    "t11 = Conv2D(ks,(2,2),kernel_regularizer = reg,padding = \"same\",activation = act)(i)\n",
    "t11 = BatchNormalization()(t11)\n",
    "t1i  = concatenate((i,t11))\n",
    "\n",
    "t12 = Conv2D(ks*2,(2,2),kernel_regularizer = reg,padding = \"same\",activation = act)(t1i)\n",
    "t12 = BatchNormalization()(t12)\n",
    "t2i = concatenate((i,t11,t12))\n",
    "\n",
    "t13 = Conv2D(ks*4,(2,2),kernel_regularizer = reg,padding = \"same\",activation = act)(t2i)\n",
    "t13 = BatchNormalization()(t13)\n",
    "t13 = MaxPooling2D(2,2)(t13)\n",
    "t13 = Dropout(drop_size*2)(t13)\n",
    "#16----------------------------------------------------------------------------------\n",
    "t21 = Conv2D(ks*2,(3,3),kernel_regularizer = reg,padding = \"same\",activation = act)(t13)\n",
    "t21 = BatchNormalization()(t21)\n",
    "t2i2  = concatenate((t13,t21))\n",
    "t22 = Conv2D(ks*4,(3,3),kernel_regularizer = reg,padding = \"same\",activation = act)(t2i2)\n",
    "t22 = BatchNormalization()(t22)\n",
    "t2i3 = concatenate((t13,t21,t22))\n",
    "t23 = Conv2D(ks*8,(3,3),kernel_regularizer = reg,padding = \"same\",activation = act)(t2i3)\n",
    "t23 = BatchNormalization()(t23)\n",
    "t23 = MaxPooling2D(2,2)(t23)\n",
    "t23 = Dropout(drop_size*2)(t23)\n",
    "#8--------------------------------------------------------------------------------------\n",
    "t31 = Conv2D(ks*2,(3,3),kernel_regularizer = reg,padding = \"same\",activation = act)(t23)\n",
    "t31 = BatchNormalization()(t31)\n",
    "t3i2  = concatenate((t23,t31))\n",
    "t32 = Conv2D(ks*4,(3,3),kernel_regularizer = reg,padding = \"same\",activation = act)(t3i2)\n",
    "t32 = BatchNormalization()(t32)\n",
    "t3i3 = concatenate((t23,t31,t32))\n",
    "t33 = Conv2D(ks*8,(3,3),kernel_regularizer = reg,padding = \"same\",activation = act)(t3i3)\n",
    "t33 = BatchNormalization()(t33)\n",
    "t33 = MaxPooling2D(2,2)(t33)\n",
    "t33 = Dropout(drop_size*2)(t33)\n",
    "#4------------------------------------------------------------------------------------\n",
    "# output = concatenate((t12,t))\n",
    "# output = BatchNormalization()(output)\n",
    "# output = GlobalAveragePooling2D()(t6)\n",
    "# output = GlobalMaxPooling2D()(t6)\n",
    "output = Flatten()(t33)\n",
    "# output = Dropout(drop_size*4)\n",
    "output = Dense(16*ks,kernel_regularizer = reg,activation = act)(output)\n",
    "output = BatchNormalization()(output)\n",
    "output = Dropout(2*drop_size)(output)\n",
    "output = Dense(16*ks,kernel_regularizer = reg,activation = act)(output)\n",
    "output = BatchNormalization()(output)\n",
    "output = Dropout(2*drop_size)(output)\n",
    "output = Dense(16*ks,kernel_regularizer = reg,activation = act)(output)\n",
    "output = BatchNormalization()(output)\n",
    "output = Dropout(2*drop_size)(output)\n",
    "\n",
    "output = Dense(num_classes,activation='softmax')(output)\n",
    "model = Model(i,output)\n",
    "\n",
    "model.compile(optimizer =\"adam\",\n",
    "                     loss = \"categorical_crossentropy\",\n",
    "                      metrics = [\"accuracy\"])"
   ]
  },
  {
   "cell_type": "code",
   "execution_count": null,
   "metadata": {
    "pycharm": {
     "name": "#%%\n"
    }
   },
   "outputs": [],
   "source": []
  }
 ],
 "metadata": {
  "kernelspec": {
   "display_name": "Python 3.9.5 64-bit",
   "language": "python",
   "name": "python3"
  },
  "language_info": {
   "codemirror_mode": {
    "name": "ipython",
    "version": 3
   },
   "file_extension": ".py",
   "mimetype": "text/x-python",
   "name": "python",
   "nbconvert_exporter": "python",
   "pygments_lexer": "ipython3",
   "version": "3.9.5"
  },
  "orig_nbformat": 4,
  "vscode": {
   "interpreter": {
    "hash": "abe97b4297a04eb9b59942013a51b5b6b6dd824dcfaba919a0d03fdddda38a68"
   }
  }
 },
 "nbformat": 4,
 "nbformat_minor": 2
}