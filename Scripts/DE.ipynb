{
 "cells": [
  {
   "cell_type": "markdown",
   "metadata": {
    "pycharm": {
     "name": "#%% md\n"
    }
   },
   "source": [
    "### TO BE DELETED"
   ]
  },
  {
   "cell_type": "markdown",
   "metadata": {
    "pycharm": {
     "name": "#%% md\n"
    }
   },
   "source": [
    "### Imports"
   ]
  },
  {
   "cell_type": "code",
   "execution_count": 2,
   "metadata": {
    "pycharm": {
     "name": "#%%\n"
    }
   },
   "outputs": [],
   "source": [
    "import pandas as pd\n",
    "from os import listdir\n",
    "from fnmatch import fnmatch\n",
    "import numpy as np\n",
    "from astropy.io import fits\n",
    "from astropy import wcs\n",
    "import matplotlib.pyplot as plt\n",
    "import cv2 as cv\n",
    "import sys\n",
    "sys.path.insert(1, 'TPA/pavlidis/build/lib.win-amd64-3.9')\n",
    "from pavlidis import pavlidis"
   ]
  },
  {
   "cell_type": "markdown",
   "metadata": {
    "pycharm": {
     "name": "#%% md\n"
    }
   },
   "source": [
    "### Function Definitions"
   ]
  },
  {
   "cell_type": "code",
   "execution_count": 3,
   "metadata": {
    "pycharm": {
     "name": "#%%\n"
    }
   },
   "outputs": [],
   "source": [
    "def insideCoordinate(img, x, y):\n",
    "    if img[y,x-1] == 255 and img[y,x+1] == 255 and img[y-1,x] == 255 and img[y+1,x] == 255:\n",
    "        return True\n",
    "    return False\n",
    "\n",
    "def getEdgeCoordinates(array_2d, cx, cy):\n",
    "    y1, x1, y2, x2 = array_2d[:,0].min(), array_2d[:,1].min(), array_2d[:,0].max()+1, array_2d[:,1].max()+1\n",
    "    vertical_diff = 0\n",
    "    if y2 - y1 < 81:\n",
    "        vertical_diff = 81 - (y2 - y1)\n",
    "        # print(\"Top alignment:\", )\n",
    "        y1 = max(0, y2 - 81)\n",
    "    if x2 - x1 < 20:\n",
    "        if cx - x1 < 10:\n",
    "            # print(\"Left alignment:\", 10 - (cx - x1))\n",
    "            x1 = max(0, cx - 10)\n",
    "        if x2 - cx < 11:\n",
    "            # print(\"Right alignment:\", 11 - (x2 - cx))\n",
    "            x2 = min(9600, cx + 11)\n",
    "    return y1, x1, y2, x2, vertical_diff\n",
    "\n",
    "def prepareData(path):\n",
    "    data = pd.read_csv(path)\n",
    "    data.drop(0, inplace=True)\n",
    "    data.reset_index(drop=True, inplace=True)\n",
    "\n",
    "    data[\"plate\"] = np.nan\n",
    "    data[\"path\"] = np.nan\n",
    "    data[\"dx\"] = np.zeros(data.shape[0])\n",
    "    data[\"dy\"] = np.zeros(data.shape[0])\n",
    "    data[['_RAJ2000', '_DEJ2000']] = data[['_RAJ2000', '_DEJ2000']].astype(float)\n",
    "\n",
    "    # print(data.head())\n",
    "    return data\n",
    "\n",
    "def prepareFits(headers_path, fits_path, headers_pattern, fits_pattern):\n",
    "    headers_folder = listdir(headers_path)\n",
    "    fits_folder = listdir(fits_path)\n",
    "\n",
    "    fits_headers = []\n",
    "    fits_files = []\n",
    "\n",
    "    headers_pattern = headers_pattern\n",
    "    fits_pattern = fits_pattern\n",
    "\n",
    "    for entry in headers_folder:\n",
    "        if fnmatch(entry, headers_pattern):\n",
    "                fits_headers.append('./data/fits_headers/' + entry)\n",
    "\n",
    "    for entry in fits_folder:\n",
    "        if fnmatch(entry, fits_pattern):\n",
    "                fits_files.append('./data/fits_files/' + entry)\n",
    "\n",
    "    # print(fits_headers[:5])\n",
    "    # print('Files in headers folder:', len(headers_folder))\n",
    "    # print('Headers in headers folder:', len(fits_headers))\n",
    "    # print()\n",
    "    # print(fits_files[:5])\n",
    "    # print('Files in fits folder:', len(fits_folder))\n",
    "    # print('Fits files in fits folder:', len(fits_files))\n",
    "\n",
    "    fits_headers = np.array(fits_headers)\n",
    "    fits_files = np.array(fits_files)\n",
    "    fits_set = set(map(lambda x: x.split('/')[-1].split('.')[0], fits_files))\n",
    "\n",
    "    return fits_headers, fits_files, fits_set\n",
    "\n",
    "def getCoordinates(fits_headers, data):\n",
    "    coordinates = np.ones((len(fits_headers), data.shape[0], 2)) * (-1)\n",
    "\n",
    "    for i in range(len(fits_headers)):\n",
    "        hdulist = fits.open(fits_headers[i])\n",
    "        w = wcs.WCS(hdulist[0].header)\n",
    "\n",
    "        xy = w.all_world2pix(data[['_RAJ2000', '_DEJ2000']], 1, quiet=True)\n",
    "\n",
    "        matching_indices = np.where((xy[:,0] >= 0) & (xy[:,0] <= 9601) & (xy[:,1] >= 0) & (xy[:,1] <= 9601))[0]\n",
    "\n",
    "        coordinates[i][matching_indices] = xy[matching_indices]\n",
    "\n",
    "    return coordinates\n"
   ]
  },
  {
   "cell_type": "code",
   "execution_count": 4,
   "metadata": {
    "pycharm": {
     "name": "#%%\n"
    }
   },
   "outputs": [],
   "source": [
    "data = prepareData(\n",
    "    path='data/DFBS.csv')\n",
    "\n",
    "fits_headers, fits_files, fits_set = prepareFits(\n",
    "    headers_path='data/fits_headers',\n",
    "    fits_path='data/fits_files',\n",
    "    headers_pattern=\"*.hdr\",\n",
    "    fits_pattern=\"*.fits\")\n"
   ]
  },
  {
   "cell_type": "code",
   "execution_count": 6,
   "metadata": {
    "pycharm": {
     "name": "#%%\n"
    }
   },
   "outputs": [],
   "source": [
    "# coordinates = getCoordinates(\n",
    "#     fits_headers=fits_headers,\n",
    "#     data=data)\n",
    "# np.save('data/coordinates.csv', coordinates+1)\n",
    "coordinates = np.load('data/coordinates.csv.npy') - 1"
   ]
  },
  {
   "cell_type": "code",
   "execution_count": 7,
   "metadata": {
    "pycharm": {
     "name": "#%%\n"
    }
   },
   "outputs": [
    {
     "name": "stderr",
     "output_type": "stream",
     "text": [
      "WARNING: File may have been truncated: actual file length (184386248) is smaller than the expected size (184389120) [astropy.io.fits.file]\n"
     ]
    },
    {
     "name": "stdout",
     "output_type": "stream",
     "text": [
      "2505\n",
      "3455\n",
      "6273\n",
      "6851\n",
      "1211\n",
      "1219\n",
      "2937\n",
      "2940\n",
      "1466\n",
      "2257\n",
      "2269\n",
      "2272\n",
      "2294\n",
      "5079\n",
      "7118\n",
      "7119\n",
      "7120\n",
      "405\n",
      "2476\n",
      "2498\n",
      "2513\n",
      "2529\n",
      "3607\n",
      "4614\n",
      "5461\n",
      "6267\n",
      "6277\n",
      "6376\n",
      "6389\n",
      "455\n",
      "2482\n",
      "2507\n",
      "2537\n",
      "5495\n",
      "6228\n",
      "6328\n",
      "2441\n",
      "3847\n",
      "5373\n",
      "6037\n",
      "6155\n",
      "6178\n",
      "1612\n",
      "1616\n",
      "2547\n",
      "2549\n",
      "6239\n",
      "6295\n",
      "6338\n",
      "6346\n",
      "2662\n",
      "2705\n",
      "3355\n",
      "5049\n",
      "6511\n",
      "6681\n",
      "1361\n",
      "2637\n",
      "2649\n",
      "2666\n",
      "2701\n",
      "6528\n",
      "7251\n",
      "2188\n",
      "2247\n",
      "3801\n",
      "4003\n",
      "6762\n",
      "7094\n",
      "7095\n",
      "7096\n",
      "7097\n",
      "7098\n",
      "7103\n",
      "7104\n",
      "7105\n",
      "7106\n",
      "7107\n",
      "7111\n",
      "7113\n",
      "49\n",
      "3335\n",
      "4134\n",
      "4847\n",
      "4854\n",
      "4864\n",
      "6191\n",
      "6201\n",
      "6217\n",
      "6319\n",
      "6337\n",
      "6722\n",
      "6790\n",
      "49\n",
      "52\n",
      "1047\n",
      "2520\n",
      "4854\n",
      "4862\n",
      "4863\n",
      "4864\n",
      "6319\n",
      "6334\n",
      "6356\n",
      "6428\n",
      "6430\n",
      "6790\n",
      "6929\n",
      "47\n",
      "48\n",
      "3335\n",
      "4134\n",
      "4854\n",
      "4862\n",
      "4863\n",
      "4864\n",
      "6275\n",
      "6282\n",
      "6319\n",
      "6334\n",
      "6419\n",
      "6801\n",
      "6929\n",
      "1065\n",
      "4362\n",
      "6474\n",
      "6497\n",
      "6514\n",
      "6527\n",
      "6909\n",
      "6942\n",
      "5373\n",
      "6178\n",
      "6210\n",
      "6280\n",
      "6305\n",
      "6869\n",
      "1813\n",
      "1815\n",
      "2462\n",
      "2483\n",
      "2516\n",
      "5521\n",
      "5522\n",
      "5531\n",
      "6284\n",
      "765\n",
      "2188\n",
      "2247\n",
      "4003\n",
      "7097\n",
      "7103\n",
      "7104\n",
      "7105\n",
      "7106\n",
      "7107\n",
      "7111\n",
      "7113\n",
      "4362\n",
      "6479\n",
      "6497\n",
      "6519\n",
      "6909\n",
      "6913\n",
      "6942\n",
      "4031\n",
      "4580\n",
      "4609\n",
      "6897\n",
      "1909\n",
      "1466\n",
      "2257\n",
      "2269\n",
      "2272\n",
      "2294\n",
      "6906\n",
      "7118\n",
      "7119\n",
      "7120\n",
      "1466\n",
      "2257\n",
      "2269\n",
      "2294\n",
      "5778\n",
      "6906\n",
      "2488\n",
      "6245\n",
      "6399\n",
      "7209\n",
      "7211\n",
      "3620\n",
      "5974\n",
      "5987\n",
      "5993\n",
      "6022\n",
      "6134\n",
      "6171\n",
      "2454\n",
      "2455\n",
      "2462\n",
      "5536\n",
      "6069\n",
      "6715\n",
      "1211\n",
      "1219\n",
      "2937\n",
      "2940\n",
      "1219\n",
      "2940\n"
     ]
    }
   ],
   "source": [
    "incorrect_coordinate_count = 0\n",
    "\n",
    "datapoint_plates = dict({})\n",
    "all_datapoints = set({})\n",
    "\n",
    "for i in range(len(fits_headers)):\n",
    "    plate = fits_headers[i].split('/')[-1].split('.')[0]\n",
    "    if plate in fits_set:\n",
    "        fbs_plate = fits.open('./data/fits_files/' + plate + '.fits')\n",
    "\n",
    "        plate_img = fbs_plate[0].data\n",
    "        del fbs_plate\n",
    "        \n",
    "        scaled_img = ((plate_img/plate_img.max())*255).astype(np.uint8)\n",
    "        del plate_img\n",
    "\n",
    "        if np.mean(scaled_img) < 127.5:\n",
    "            scaled_img = np.invert(scaled_img)\n",
    "\n",
    "        gblur = cv.GaussianBlur(scaled_img, (3, 3), 2, 2)\n",
    "        # mblur = cv.medianBlur(scaled_img, 3)\n",
    "\n",
    "        # del scaled_img #########################################################################\n",
    "\n",
    "        g_th = cv.adaptiveThreshold(gblur, 255, cv.ADAPTIVE_THRESH_GAUSSIAN_C,\\\n",
    "                    cv.THRESH_BINARY_INV,21,2)\n",
    "        # m_th = cv.adaptiveThreshold(mblur, 255, cv.ADAPTIVE_THRESH_GAUSSIAN_C,\\\n",
    "        #             cv.THRESH_BINARY_INV,11,2)\n",
    "\n",
    "        g_th_m = cv.adaptiveThreshold(gblur, 255, cv.ADAPTIVE_THRESH_MEAN_C,\\\n",
    "                    cv.THRESH_BINARY_INV,21,2)\n",
    "        # m_th_m = cv.adaptiveThreshold(mblur, 255, cv.ADAPTIVE_THRESH_MEAN_C,\\\n",
    "        #             cv.THRESH_BINARY_INV,11,2)\n",
    "\n",
    "        \n",
    "        del gblur #########################################################################\n",
    "        # del mblur #########################################################################\n",
    "\n",
    "        plate_datapoints = np.where(coordinates[i,:,0] >= 0)[0]\n",
    "        for pd_i in plate_datapoints:\n",
    "            if pd_i not in all_datapoints: ###############################################################################\n",
    "                all_datapoints.add(pd_i)\n",
    "            if pd_i not in datapoint_plates:\n",
    "                dx, dy = np.round(coordinates[i, pd_i]).astype(int)\n",
    "                if g_th[dy,dx] == 255:\n",
    "                    while insideCoordinate(g_th, dx, dy):\n",
    "                        dy += 1\n",
    "\n",
    "                    try:\n",
    "                        pavl_res = pavlidis(g_th, dy, dx)\n",
    "                        y1, x1, y2, x2, vd = getEdgeCoordinates(pavl_res, dx, dy)\n",
    "                        if y2 - y1 - vd > 20:\n",
    "                            # print(pd_i)\n",
    "                            # fig = plt.figure()\n",
    "                            # plt.gray()\n",
    "                            # ax1 = fig.add_subplot(221)\n",
    "                            # ax2 = fig.add_subplot(222)\n",
    "                            # ax3 = fig.add_subplot(223)\n",
    "                            # ax4 = fig.add_subplot(224)\n",
    "                            # ax1.imshow(scaled_img[y1:y2,x1:x2])\n",
    "                            # ax2.imshow(scaled_img[dy-100:dy+16,dx-15:dx+16])\n",
    "                            # ax3.imshow(g_th[y1:y2,x1:x2])\n",
    "                            # ax4.imshow(g_th_m[y1:y2,x1:x2])\n",
    "                            # plt.show()\n",
    "                            \n",
    "                            result = scaled_img[y1:y2,x1:x2]\n",
    "                            \n",
    "                            datapoint_plates[pd_i] = dict({\n",
    "                                'plate': plate,\n",
    "                                'dx': dx,\n",
    "                                'dy': dy,\n",
    "                            })\n",
    "                            \n",
    "                            image_path = f'data/images/{pd_i}__{data.loc[pd_i, \"Name\"]}.tiff'\n",
    "\n",
    "                            data.loc[pd_i, 'dx'] = dx\n",
    "                            data.loc[pd_i, 'dy'] = dy\n",
    "                            data.loc[pd_i, 'plate'] = plate\n",
    "                            data.loc[pd_i, 'path'] = image_path\n",
    "\n",
    "                            cv.imwrite(image_path, result)\n",
    "\n",
    "                            # img = cv.imread(image_path, cv.IMREAD_GRAYSCALE)\n",
    "                            # fig = plt.figure()\n",
    "                            # plt.gray()\n",
    "                            # ax1 = fig.add_subplot(121)\n",
    "                            # ax2 = fig.add_subplot(122)\n",
    "                            # ax1.imshow(result)\n",
    "                            # ax2.imshow(img)\n",
    "                            # plt.show()\n",
    "                    except AssertionError as err:\n",
    "                        print(err)\n",
    "                    except Exception as err2:\n",
    "                        print(err2)\n",
    "                        \n",
    "                else:\n",
    "                    # fig = plt.figure()\n",
    "                    # plt.gray()\n",
    "                    # ax1 = fig.add_subplot(131)\n",
    "                    # ax2 = fig.add_subplot(132)\n",
    "                    # ax3 = fig.add_subplot(133)\n",
    "                    # p = np.copy(g_th[dy-30:dy+10,dx-7:dx+8])\n",
    "                    # if g_th[dy,dx-1] == 0:\n",
    "                    #     g_th[dy,dx-1] = 50\n",
    "                    # else:\n",
    "                    #     g_th[dy,dx-1] = 200\n",
    "                    # if g_th[dy,dx+1] == 0:\n",
    "                    #     g_th[dy,dx+1] = 50\n",
    "                    # else:\n",
    "                    #     g_th[dy,dx+1] = 200\n",
    "                    # if g_th[dy-1,dx] == 0:\n",
    "                    #     g_th[dy-1,dx] = 50\n",
    "                    # else:\n",
    "                    #     g_th[dy-1,dx] = 200\n",
    "                    # if g_th[dy+1,dx] == 0:\n",
    "                    #     g_th[dy+1,dx] = 50\n",
    "                    # else:\n",
    "                    #     g_th[dy+1,dx] = 200\n",
    "                    print(pd_i)\n",
    "                    # ax1.imshow(g_th[dy-30:dy+10,dx-7:dx+8])\n",
    "                    # ax2.imshow(p)\n",
    "                    # ax3.imshow(scaled_img[dy-50:dy+10,dx-7:dx+8])\n",
    "                    # plt.show()\n",
    "                    incorrect_coordinate_count += 1\n",
    "            else:\n",
    "                continue\n"
   ]
  },
  {
   "cell_type": "code",
   "execution_count": 21,
   "metadata": {
    "pycharm": {
     "name": "#%%\n"
    }
   },
   "outputs": [
    {
     "name": "stdout",
     "output_type": "stream",
     "text": [
      "414\n",
      "209\n"
     ]
    }
   ],
   "source": [
    "data = data[data['plate'].notna()]\n",
    "data.to_csv('data/DFBS_extracted.csv')\n",
    "print(len(all_datapoints))\n",
    "print(incorrect_coordinate_count)"
   ]
  },
  {
   "cell_type": "code",
   "execution_count": null,
   "metadata": {
    "pycharm": {
     "name": "#%%\n"
    }
   },
   "outputs": [],
   "source": []
  },
  {
   "cell_type": "code",
   "execution_count": null,
   "metadata": {
    "pycharm": {
     "name": "#%%\n"
    }
   },
   "outputs": [],
   "source": []
  },
  {
   "cell_type": "code",
   "execution_count": null,
   "metadata": {
    "pycharm": {
     "name": "#%%\n"
    }
   },
   "outputs": [],
   "source": []
  },
  {
   "cell_type": "code",
   "execution_count": null,
   "metadata": {
    "pycharm": {
     "name": "#%%\n"
    }
   },
   "outputs": [],
   "source": []
  },
  {
   "cell_type": "code",
   "execution_count": null,
   "metadata": {
    "pycharm": {
     "name": "#%%\n"
    }
   },
   "outputs": [],
   "source": []
  },
  {
   "cell_type": "code",
   "execution_count": null,
   "metadata": {
    "pycharm": {
     "name": "#%%\n"
    }
   },
   "outputs": [],
   "source": []
  },
  {
   "cell_type": "code",
   "execution_count": null,
   "metadata": {
    "pycharm": {
     "name": "#%%\n"
    }
   },
   "outputs": [],
   "source": []
  },
  {
   "cell_type": "code",
   "execution_count": null,
   "metadata": {
    "pycharm": {
     "name": "#%%\n"
    }
   },
   "outputs": [],
   "source": []
  },
  {
   "cell_type": "markdown",
   "metadata": {
    "pycharm": {
     "name": "#%% md\n"
    }
   },
   "source": [
    "### Data Preparation"
   ]
  },
  {
   "cell_type": "code",
   "execution_count": 9,
   "metadata": {
    "pycharm": {
     "name": "#%%\n"
    }
   },
   "outputs": [
    {
     "data": {
      "text/html": [
       "<div>\n",
       "<style scoped>\n",
       "    .dataframe tbody tr th:only-of-type {\n",
       "        vertical-align: middle;\n",
       "    }\n",
       "\n",
       "    .dataframe tbody tr th {\n",
       "        vertical-align: top;\n",
       "    }\n",
       "\n",
       "    .dataframe thead th {\n",
       "        text-align: right;\n",
       "    }\n",
       "</style>\n",
       "<table border=\"1\" class=\"dataframe\">\n",
       "  <thead>\n",
       "    <tr style=\"text-align: right;\">\n",
       "      <th></th>\n",
       "      <th>_Glon</th>\n",
       "      <th>_Glat</th>\n",
       "      <th>_RAJ2000</th>\n",
       "      <th>_DEJ2000</th>\n",
       "      <th>Cl</th>\n",
       "      <th>Name</th>\n",
       "      <th>Vmag</th>\n",
       "      <th>z</th>\n",
       "    </tr>\n",
       "  </thead>\n",
       "  <tbody>\n",
       "    <tr>\n",
       "      <th>0</th>\n",
       "      <td>100.174423</td>\n",
       "      <td>-55.203358</td>\n",
       "      <td>0.04875</td>\n",
       "      <td>5.388056</td>\n",
       "      <td>Sy1</td>\n",
       "      <td>RXS J00001+0523</td>\n",
       "      <td>16.4</td>\n",
       "      <td>0.040</td>\n",
       "    </tr>\n",
       "    <tr>\n",
       "      <th>1</th>\n",
       "      <td>99.844434</td>\n",
       "      <td>-57.30727</td>\n",
       "      <td>0.61</td>\n",
       "      <td>3.351667</td>\n",
       "      <td>Sy1</td>\n",
       "      <td>MARK 543</td>\n",
       "      <td>14.68</td>\n",
       "      <td>0.026</td>\n",
       "    </tr>\n",
       "    <tr>\n",
       "      <th>2</th>\n",
       "      <td>86.112841</td>\n",
       "      <td>-70.112882</td>\n",
       "      <td>0.88375</td>\n",
       "      <td>-10.744722</td>\n",
       "      <td>Sy1</td>\n",
       "      <td>NGC 7808</td>\n",
       "      <td>15.4</td>\n",
       "      <td>0.029</td>\n",
       "    </tr>\n",
       "    <tr>\n",
       "      <th>3</th>\n",
       "      <td>114.304767</td>\n",
       "      <td>-16.638006</td>\n",
       "      <td>1.039583</td>\n",
       "      <td>45.440278</td>\n",
       "      <td>Sy1</td>\n",
       "      <td>RXS J00041+4526</td>\n",
       "      <td>16.9</td>\n",
       "      <td>0.120</td>\n",
       "    </tr>\n",
       "    <tr>\n",
       "      <th>4</th>\n",
       "      <td>104.972206</td>\n",
       "      <td>-50.897341</td>\n",
       "      <td>1.45625</td>\n",
       "      <td>10.376944</td>\n",
       "      <td>Sy1</td>\n",
       "      <td>RXS J00058+1022</td>\n",
       "      <td>16.7</td>\n",
       "      <td>0.095</td>\n",
       "    </tr>\n",
       "  </tbody>\n",
       "</table>\n",
       "</div>"
      ],
      "text/plain": [
       "        _Glon       _Glat  _RAJ2000    _DEJ2000   Cl             Name   Vmag  \\\n",
       "0  100.174423  -55.203358   0.04875    5.388056  Sy1  RXS J00001+0523   16.4   \n",
       "1   99.844434   -57.30727      0.61    3.351667  Sy1         MARK 543  14.68   \n",
       "2   86.112841  -70.112882   0.88375  -10.744722  Sy1         NGC 7808   15.4   \n",
       "3  114.304767  -16.638006  1.039583   45.440278  Sy1  RXS J00041+4526   16.9   \n",
       "4  104.972206  -50.897341   1.45625   10.376944  Sy1  RXS J00058+1022   16.7   \n",
       "\n",
       "       z  \n",
       "0  0.040  \n",
       "1  0.026  \n",
       "2  0.029  \n",
       "3  0.120  \n",
       "4  0.095  "
      ]
     },
     "execution_count": 9,
     "metadata": {},
     "output_type": "execute_result"
    }
   ],
   "source": [
    "data = pd.read_csv('data/DFBS.csv')\n",
    "data.drop(0, inplace=True)\n",
    "data.reset_index(drop=True, inplace=True)\n",
    "data.head()"
   ]
  },
  {
   "cell_type": "code",
   "execution_count": 17,
   "metadata": {
    "pycharm": {
     "name": "#%%\n"
    }
   },
   "outputs": [
    {
     "data": {
      "text/html": [
       "<div>\n",
       "<style scoped>\n",
       "    .dataframe tbody tr th:only-of-type {\n",
       "        vertical-align: middle;\n",
       "    }\n",
       "\n",
       "    .dataframe tbody tr th {\n",
       "        vertical-align: top;\n",
       "    }\n",
       "\n",
       "    .dataframe thead th {\n",
       "        text-align: right;\n",
       "    }\n",
       "</style>\n",
       "<table border=\"1\" class=\"dataframe\">\n",
       "  <thead>\n",
       "    <tr style=\"text-align: right;\">\n",
       "      <th></th>\n",
       "      <th>_Glon</th>\n",
       "      <th>_Glat</th>\n",
       "      <th>_RAJ2000</th>\n",
       "      <th>_DEJ2000</th>\n",
       "      <th>Cl</th>\n",
       "      <th>Name</th>\n",
       "      <th>Vmag</th>\n",
       "      <th>z</th>\n",
       "      <th>plate</th>\n",
       "      <th>dx</th>\n",
       "      <th>dy</th>\n",
       "    </tr>\n",
       "  </thead>\n",
       "  <tbody>\n",
       "    <tr>\n",
       "      <th>0</th>\n",
       "      <td>100.174423</td>\n",
       "      <td>-55.203358</td>\n",
       "      <td>0.048750</td>\n",
       "      <td>5.388056</td>\n",
       "      <td>Sy1</td>\n",
       "      <td>RXS J00001+0523</td>\n",
       "      <td>16.4</td>\n",
       "      <td>0.040</td>\n",
       "      <td>NaN</td>\n",
       "      <td>0.0</td>\n",
       "      <td>0.0</td>\n",
       "    </tr>\n",
       "    <tr>\n",
       "      <th>1</th>\n",
       "      <td>99.844434</td>\n",
       "      <td>-57.30727</td>\n",
       "      <td>0.610000</td>\n",
       "      <td>3.351667</td>\n",
       "      <td>Sy1</td>\n",
       "      <td>MARK 543</td>\n",
       "      <td>14.68</td>\n",
       "      <td>0.026</td>\n",
       "      <td>NaN</td>\n",
       "      <td>0.0</td>\n",
       "      <td>0.0</td>\n",
       "    </tr>\n",
       "    <tr>\n",
       "      <th>2</th>\n",
       "      <td>86.112841</td>\n",
       "      <td>-70.112882</td>\n",
       "      <td>0.883750</td>\n",
       "      <td>-10.744722</td>\n",
       "      <td>Sy1</td>\n",
       "      <td>NGC 7808</td>\n",
       "      <td>15.4</td>\n",
       "      <td>0.029</td>\n",
       "      <td>NaN</td>\n",
       "      <td>0.0</td>\n",
       "      <td>0.0</td>\n",
       "    </tr>\n",
       "    <tr>\n",
       "      <th>3</th>\n",
       "      <td>114.304767</td>\n",
       "      <td>-16.638006</td>\n",
       "      <td>1.039583</td>\n",
       "      <td>45.440278</td>\n",
       "      <td>Sy1</td>\n",
       "      <td>RXS J00041+4526</td>\n",
       "      <td>16.9</td>\n",
       "      <td>0.120</td>\n",
       "      <td>NaN</td>\n",
       "      <td>0.0</td>\n",
       "      <td>0.0</td>\n",
       "    </tr>\n",
       "    <tr>\n",
       "      <th>4</th>\n",
       "      <td>104.972206</td>\n",
       "      <td>-50.897341</td>\n",
       "      <td>1.456250</td>\n",
       "      <td>10.376944</td>\n",
       "      <td>Sy1</td>\n",
       "      <td>RXS J00058+1022</td>\n",
       "      <td>16.7</td>\n",
       "      <td>0.095</td>\n",
       "      <td>NaN</td>\n",
       "      <td>0.0</td>\n",
       "      <td>0.0</td>\n",
       "    </tr>\n",
       "  </tbody>\n",
       "</table>\n",
       "</div>"
      ],
      "text/plain": [
       "        _Glon       _Glat  _RAJ2000   _DEJ2000   Cl             Name   Vmag  \\\n",
       "0  100.174423  -55.203358  0.048750   5.388056  Sy1  RXS J00001+0523   16.4   \n",
       "1   99.844434   -57.30727  0.610000   3.351667  Sy1         MARK 543  14.68   \n",
       "2   86.112841  -70.112882  0.883750 -10.744722  Sy1         NGC 7808   15.4   \n",
       "3  114.304767  -16.638006  1.039583  45.440278  Sy1  RXS J00041+4526   16.9   \n",
       "4  104.972206  -50.897341  1.456250  10.376944  Sy1  RXS J00058+1022   16.7   \n",
       "\n",
       "       z  plate   dx   dy  \n",
       "0  0.040    NaN  0.0  0.0  \n",
       "1  0.026    NaN  0.0  0.0  \n",
       "2  0.029    NaN  0.0  0.0  \n",
       "3  0.120    NaN  0.0  0.0  \n",
       "4  0.095    NaN  0.0  0.0  "
      ]
     },
     "execution_count": 17,
     "metadata": {},
     "output_type": "execute_result"
    }
   ],
   "source": [
    "data[\"plate\"] = np.nan\n",
    "data[\"dx\"] = np.zeros(data.shape[0])\n",
    "data[\"dy\"] = np.zeros(data.shape[0])\n",
    "data[['_RAJ2000', '_DEJ2000']] = data[['_RAJ2000', '_DEJ2000']].astype(float)\n",
    "data.head()"
   ]
  },
  {
   "cell_type": "code",
   "execution_count": 20,
   "metadata": {
    "pycharm": {
     "name": "#%%\n"
    }
   },
   "outputs": [
    {
     "data": {
      "text/html": [
       "<div>\n",
       "<style scoped>\n",
       "    .dataframe tbody tr th:only-of-type {\n",
       "        vertical-align: middle;\n",
       "    }\n",
       "\n",
       "    .dataframe tbody tr th {\n",
       "        vertical-align: top;\n",
       "    }\n",
       "\n",
       "    .dataframe thead th {\n",
       "        text-align: right;\n",
       "    }\n",
       "</style>\n",
       "<table border=\"1\" class=\"dataframe\">\n",
       "  <thead>\n",
       "    <tr style=\"text-align: right;\">\n",
       "      <th></th>\n",
       "      <th>_Glon</th>\n",
       "      <th>_Glat</th>\n",
       "      <th>_RAJ2000</th>\n",
       "      <th>_DEJ2000</th>\n",
       "      <th>Cl</th>\n",
       "      <th>Name</th>\n",
       "      <th>Vmag</th>\n",
       "      <th>z</th>\n",
       "      <th>plate</th>\n",
       "      <th>dx</th>\n",
       "      <th>dy</th>\n",
       "    </tr>\n",
       "  </thead>\n",
       "  <tbody>\n",
       "    <tr>\n",
       "      <th>0</th>\n",
       "      <td>100.174423</td>\n",
       "      <td>-55.203358</td>\n",
       "      <td>0.048750</td>\n",
       "      <td>5.388056</td>\n",
       "      <td>Sy1</td>\n",
       "      <td>RXS J00001+0523</td>\n",
       "      <td>16.4</td>\n",
       "      <td>0.040</td>\n",
       "      <td>fbs0005_cor</td>\n",
       "      <td>1.0</td>\n",
       "      <td>1.0</td>\n",
       "    </tr>\n",
       "    <tr>\n",
       "      <th>1</th>\n",
       "      <td>99.844434</td>\n",
       "      <td>-57.30727</td>\n",
       "      <td>0.610000</td>\n",
       "      <td>3.351667</td>\n",
       "      <td>Sy1</td>\n",
       "      <td>MARK 543</td>\n",
       "      <td>14.68</td>\n",
       "      <td>0.026</td>\n",
       "      <td>NaN</td>\n",
       "      <td>0.0</td>\n",
       "      <td>0.0</td>\n",
       "    </tr>\n",
       "    <tr>\n",
       "      <th>2</th>\n",
       "      <td>86.112841</td>\n",
       "      <td>-70.112882</td>\n",
       "      <td>0.883750</td>\n",
       "      <td>-10.744722</td>\n",
       "      <td>Sy1</td>\n",
       "      <td>NGC 7808</td>\n",
       "      <td>15.4</td>\n",
       "      <td>0.029</td>\n",
       "      <td>NaN</td>\n",
       "      <td>0.0</td>\n",
       "      <td>0.0</td>\n",
       "    </tr>\n",
       "    <tr>\n",
       "      <th>3</th>\n",
       "      <td>114.304767</td>\n",
       "      <td>-16.638006</td>\n",
       "      <td>1.039583</td>\n",
       "      <td>45.440278</td>\n",
       "      <td>Sy1</td>\n",
       "      <td>RXS J00041+4526</td>\n",
       "      <td>16.9</td>\n",
       "      <td>0.120</td>\n",
       "      <td>NaN</td>\n",
       "      <td>0.0</td>\n",
       "      <td>0.0</td>\n",
       "    </tr>\n",
       "    <tr>\n",
       "      <th>4</th>\n",
       "      <td>104.972206</td>\n",
       "      <td>-50.897341</td>\n",
       "      <td>1.456250</td>\n",
       "      <td>10.376944</td>\n",
       "      <td>Sy1</td>\n",
       "      <td>RXS J00058+1022</td>\n",
       "      <td>16.7</td>\n",
       "      <td>0.095</td>\n",
       "      <td>NaN</td>\n",
       "      <td>0.0</td>\n",
       "      <td>0.0</td>\n",
       "    </tr>\n",
       "  </tbody>\n",
       "</table>\n",
       "</div>"
      ],
      "text/plain": [
       "        _Glon       _Glat  _RAJ2000   _DEJ2000   Cl             Name   Vmag  \\\n",
       "0  100.174423  -55.203358  0.048750   5.388056  Sy1  RXS J00001+0523   16.4   \n",
       "1   99.844434   -57.30727  0.610000   3.351667  Sy1         MARK 543  14.68   \n",
       "2   86.112841  -70.112882  0.883750 -10.744722  Sy1         NGC 7808   15.4   \n",
       "3  114.304767  -16.638006  1.039583  45.440278  Sy1  RXS J00041+4526   16.9   \n",
       "4  104.972206  -50.897341  1.456250  10.376944  Sy1  RXS J00058+1022   16.7   \n",
       "\n",
       "       z        plate   dx   dy  \n",
       "0  0.040  fbs0005_cor  1.0  1.0  \n",
       "1  0.026          NaN  0.0  0.0  \n",
       "2  0.029          NaN  0.0  0.0  \n",
       "3  0.120          NaN  0.0  0.0  \n",
       "4  0.095          NaN  0.0  0.0  "
      ]
     },
     "execution_count": 20,
     "metadata": {},
     "output_type": "execute_result"
    }
   ],
   "source": [
    "data.loc[0, 'dx'] = 1\n",
    "data.loc[0, 'dy'] = 1\n",
    "data.loc[0, 'plate'] = 'fbs0005_cor'\n",
    "data.head()"
   ]
  },
  {
   "cell_type": "code",
   "execution_count": 4,
   "metadata": {
    "pycharm": {
     "name": "#%%\n"
    }
   },
   "outputs": [
    {
     "name": "stdout",
     "output_type": "stream",
     "text": [
      "['./data/fits_headers/fbs0005_cor.fits.hdr', './data/fits_headers/fbs0006_cor.fits.hdr', './data/fits_headers/fbs0007_cor.fits.hdr', './data/fits_headers/fbs0010_cor.fits.hdr', './data/fits_headers/fbs0013_cor.fits.hdr']\n",
      "Files in headers folder: 1700\n",
      "Headers in headers folder: 1700\n",
      "\n",
      "['./data/fits_files/fbs0191_cor.fits', './data/fits_files/fbs0258_cor.fits', './data/fits_files/fbs0398_cor.fits', './data/fits_files/fbs0561_cor.fits', './data/fits_files/fbs0809_cor.fits']\n",
      "Files in fits folder: 12\n",
      "Fits files in fits folder: 12\n"
     ]
    }
   ],
   "source": [
    "headers_folder = listdir('data/fits_headers')\n",
    "fits_folder = listdir('data/fits_files')\n",
    "\n",
    "fits_headers = []\n",
    "fits_files = []\n",
    "\n",
    "headers_pattern = \"*.hdr\"\n",
    "fits_pattern = \"*.fits\"\n",
    "\n",
    "for entry in headers_folder:\n",
    "    if fnmatch(entry, headers_pattern):\n",
    "            fits_headers.append('./data/fits_headers/' + entry)\n",
    "\n",
    "for entry in fits_folder:\n",
    "    if fnmatch(entry, fits_pattern):\n",
    "            fits_files.append('./data/fits_files/' + entry)\n",
    "\n",
    "print(fits_headers[:5])\n",
    "print('Files in headers folder:', len(headers_folder))\n",
    "print('Headers in headers folder:', len(fits_headers))\n",
    "print()\n",
    "print(fits_files[:5])\n",
    "print('Files in fits folder:', len(fits_folder))\n",
    "print('Fits files in fits folder:', len(fits_files))\n",
    "\n",
    "fits_headers = np.array(fits_headers)\n",
    "fits_files = np.array(fits_files)\n",
    "fits_set = set(map(lambda x: x.split('/')[-1].split('.')[0], fits_files))"
   ]
  },
  {
   "cell_type": "markdown",
   "metadata": {
    "pycharm": {
     "name": "#%% md\n"
    }
   },
   "source": [
    "### Finding headers for each datapoint"
   ]
  },
  {
   "cell_type": "code",
   "execution_count": 5,
   "metadata": {
    "pycharm": {
     "name": "#%%\n"
    }
   },
   "outputs": [
    {
     "name": "stderr",
     "output_type": "stream",
     "text": [
      "WARNING: FITSFixedWarning: The WCS transformation has more axes (2) than the image it is associated with (0) [astropy.wcs.wcs]\n"
     ]
    }
   ],
   "source": [
    "coordinates = np.ones((len(fits_headers), data.shape[0], 2)) * (-1)\n",
    "\n",
    "for i in range(len(fits_headers)):\n",
    "    hdulist = fits.open(fits_headers[i])\n",
    "    w = wcs.WCS(hdulist[0].header)\n",
    "\n",
    "    xy = w.all_world2pix(data[['_RAJ2000', '_DEJ2000']], 1, quiet=True)\n",
    "\n",
    "    matching_indices = np.where((xy[:,0] >= 0) & (xy[:,0] <= 9601) & (xy[:,1] >= 0) & (xy[:,1] <= 9601))[0]\n",
    "    \n",
    "    coordinates[i][matching_indices] = xy[matching_indices]\n"
   ]
  },
  {
   "cell_type": "code",
   "execution_count": 6,
   "metadata": {
    "pycharm": {
     "name": "#%%\n"
    }
   },
   "outputs": [],
   "source": [
    "from time import perf_counter"
   ]
  },
  {
   "cell_type": "code",
   "execution_count": 6,
   "metadata": {
    "pycharm": {
     "name": "#%%\n"
    }
   },
   "outputs": [
    {
     "data": {
      "text/plain": [
       "array([1, 2, 3, 4, 5, 6, 7])"
      ]
     },
     "execution_count": 6,
     "metadata": {},
     "output_type": "execute_result"
    }
   ],
   "source": [
    "np.array([1,2,3,4,5,6,7,8,9,10])[:-3]"
   ]
  },
  {
   "cell_type": "code",
   "execution_count": 7,
   "metadata": {
    "pycharm": {
     "name": "#%%\n"
    }
   },
   "outputs": [],
   "source": [
    "sys.path.insert(1, 'TPA/pavlidis/build/lib.win-amd64-3.9')\n",
    "from pavlidis import pavlidis"
   ]
  },
  {
   "cell_type": "code",
   "execution_count": 23,
   "metadata": {
    "pycharm": {
     "name": "#%%\n"
    }
   },
   "outputs": [],
   "source": [
    "def insideCoordinate(img, x, y):\n",
    "    if img[y,x-1] == 255 and img[y,x+1] == 255 and img[y-1,x] == 255 and img[y+1,x] == 255:\n",
    "        return True\n",
    "    return False"
   ]
  },
  {
   "cell_type": "code",
   "execution_count": 26,
   "metadata": {
    "pycharm": {
     "name": "#%%\n"
    }
   },
   "outputs": [
    {
     "name": "stdout",
     "output_type": "stream",
     "text": [
      "FBS Plate: fbs0191_cor\n",
      "Datapoint indices: [1451 2480 2505 3405 3455 3521 3862 4347 4497 5084 6229 6251 6273 6276\n",
      " 6289 6290 6294 6298 6307 6329 6333 6358 6369 6387 6393 6851]\n",
      "Stacvec G 5084 2797 3125\n",
      "4.467443900000035\n",
      "FBS Plate: fbs0258_cor\n",
      "Datapoint indices: [ 719  724  725  726  727 1211 1219 1229 2937 2940 3570 4308 4933 7324\n",
      " 7325 7326 7327 7328 7329 7330 7331 7332 7333 7334 7335 7336 7337 7338]\n",
      "3.7564336000000367\n",
      "FBS Plate: fbs0398_cor\n",
      "Datapoint indices: [2441 3626 3847 5349 5359 5373 5972 5992 5995 6001 6037 6065 6071 6091\n",
      " 6095 6117 6138 6149 6154 6155 6157 6178 6819]\n",
      "3.4137894000000415\n",
      "FBS Plate: fbs0561_cor\n",
      "Datapoint indices: [ 753  754  755  756  759 2188 2199 2225 2239 2247 3462 3780 3801 4003\n",
      " 4357 6762 6903 7094 7095 7096 7097 7098 7103 7104 7105 7106 7107 7108\n",
      " 7109 7110 7111 7112 7113]\n",
      "3.8558657999997195\n"
     ]
    }
   ],
   "source": [
    "t = False\n",
    "count_g_s = 0\n",
    "count_g_s_25 = 0\n",
    "count_m_s = 0\n",
    "count_m_s_25 = 0\n",
    "count_g_e = 0\n",
    "count_m_e = 0\n",
    "count_e = 0\n",
    "\n",
    "datapoint_plates = dict({})\n",
    "\n",
    "for i in range(len(fits_headers)):\n",
    "    plate = fits_headers[i].split('/')[-1].split('.')[0]\n",
    "    if plate in fits_set:\n",
    "        t0 = perf_counter()  \n",
    "        fbs_plate = fits.open('./data/fits_files/' + plate + '.fits')\n",
    "        # print(fbs_plate.info())\n",
    "\n",
    "        plate_img = fbs_plate[0].data\n",
    "        del fbs_plate #########################################################################\n",
    "\n",
    "        scaled_img = ((plate_img/plate_img.max())*255).astype(np.uint8)\n",
    "        del plate_img #########################################################################\n",
    "        if np.mean(scaled_img) < 127.5:\n",
    "            scaled_img = np.invert(scaled_img)\n",
    "\n",
    "        gblur = cv.GaussianBlur(scaled_img, (3, 3), 2, 2)\n",
    "        mblur = cv.medianBlur(scaled_img, 3)\n",
    "        \n",
    "        # del scaled_img #########################################################################\n",
    "\n",
    "        # g_th = cv.adaptiveThreshold(gblur, 255, cv.ADAPTIVE_THRESH_GAUSSIAN_C,\\\n",
    "        #             cv.THRESH_BINARY,11,2)\n",
    "\n",
    "        # m_th = cv.adaptiveThreshold(mblur, 255, cv.ADAPTIVE_THRESH_GAUSSIAN_C,\\\n",
    "        #             cv.THRESH_BINARY,11,2)\n",
    "\n",
    "        g_th_m = cv.adaptiveThreshold(gblur, 255, cv.ADAPTIVE_THRESH_MEAN_C,\\\n",
    "                    cv.THRESH_BINARY,11,2)\n",
    "        g_th_m_custom = cv.adaptiveThreshold(gblur, 255, cv.ADAPTIVE_THRESH_GAUSSIAN_C,\\\n",
    "                    cv.THRESH_BINARY_INV,15,2)\n",
    "        m_th_m = cv.adaptiveThreshold(mblur, 255, cv.ADAPTIVE_THRESH_MEAN_C,\\\n",
    "                    cv.THRESH_BINARY,11,2)\n",
    "        \n",
    "        del gblur #########################################################################\n",
    "        del mblur #########################################################################\n",
    "\n",
    "        # ret3, th3 = cv.threshold(gblur,0,255,cv.THRESH_BINARY+cv.THRESH_OTSU)\n",
    "        # ret4, th4 = cv.threshold(mblur,0,255,cv.THRESH_BINARY+cv.THRESH_OTSU)\n",
    "\n",
    "        plate_datapoints = np.where(coordinates[i,:,0] >= 0)[0]\n",
    "        print('FBS Plate:', plate + '\\nDatapoint indices:', plate_datapoints)\n",
    "        for pd_i in plate_datapoints:\n",
    "            if pd_i not in datapoint_plates:\n",
    "                dx, dy = coordinates[i, pd_i].astype(int)\n",
    "                while insideCoordinate(g_th_m, dx, dy):\n",
    "                    dy += 1\n",
    "                \n",
    "                try:\n",
    "                    pavl_res = pavlidis(g_th_m, dx, dy)\n",
    "                    datapoint_plates[pd_i] = dict({\n",
    "                        'plate': plate,\n",
    "                        'dx': dx,\n",
    "                        'dy': dy,\n",
    "                    #     'location': pavl_res\n",
    "                    })\n",
    "                    # t = True\n",
    "                    # break\n",
    "                    if pavl_res[:,0].max() - pavl_res[:,0].min() > 25:\n",
    "                        print('Stacvec G', pd_i, dx, dy)\n",
    "                        count_g_s += 1\n",
    "                        # fig = plt.figure()\n",
    "                        # plt.gray()\n",
    "                        # ax1 = fig.add_subplot(121)  # top left side\n",
    "                        # ax2 = fig.add_subplot(122)  # top right side\n",
    "                        # ax1.imshow(scaled_img[pavl_res[:,0].min():pavl_res[:,0].max()+2, pavl_res[:,1].min():pavl_res[:,1].max()+2])\n",
    "                        # ax2.imshow(g_th_m[pavl_res[:,0].min():pavl_res[:,0].max()+2, pavl_res[:,1].min():pavl_res[:,1].max()+2])\n",
    "                        # plt.show()\n",
    "                    else:\n",
    "                        count_g_s_25 += 1\n",
    "                except AssertionError:\n",
    "                    count_g_e += 1\n",
    "                    # print('Gaussian ERROR:', pd_i, dx, dy)\n",
    "                    try:\n",
    "                        pavl_res = pavlidis(m_th_m, dx, dy)\n",
    "                        datapoint_plates[pd_i] = dict({\n",
    "                            'plate': plate,\n",
    "                            'dx': dx,\n",
    "                            'dy': dy,\n",
    "                            # 'location': pavl_res\n",
    "                        })\n",
    "                        # t = True\n",
    "                        # break\n",
    "                        if pavl_res[:,0].max() - pavl_res[:,0].min() > 25:\n",
    "                            print('Stacvec M', pd_i, dx, dy)\n",
    "                            count_m_s += 1\n",
    "                            # fig = plt.figure()\n",
    "                            # plt.gray()\n",
    "                            # ax1 = fig.add_subplot(121)  # top left side\n",
    "                            # ax2 = fig.add_subplot(122)  # top right side\n",
    "                            # ax1.imshow(scaled_img[pavl_res[:,0].min():pavl_res[:,0].max()+2, pavl_res[:,1].min():pavl_res[:,1].max()+2])\n",
    "                            # ax2.imshow(m_th_m[pavl_res[:,0].min():pavl_res[:,0].max()+2, pavl_res[:,1].min():pavl_res[:,1].max()+2])\n",
    "                            # plt.show()\n",
    "                        else:\n",
    "                            count_m_s_25 += 1\n",
    "                    except AssertionError:\n",
    "                        count_m_e += 1\n",
    "                        pass\n",
    "                        # print('Median ERROR:', pd_i, dx, dy)\n",
    "                except:\n",
    "                    count_e += 1\n",
    "                    print(\"Eshchyo smth happened\")\n",
    "        # t = True\n",
    "        # break\n",
    "        print(perf_counter() - t0)\n",
    "    if t:\n",
    "        break"
   ]
  },
  {
   "cell_type": "code",
   "execution_count": 15,
   "metadata": {
    "pycharm": {
     "name": "#%%\n"
    }
   },
   "outputs": [
    {
     "data": {
      "text/plain": [
       "_Glon         193.067574\n",
       "_Glat          47.967587\n",
       "_RAJ2000      144.369167\n",
       "_DEJ2000       32.763333\n",
       "Cl                   QSO\n",
       "Name        HS 0934+3259\n",
       "Vmag               16.27\n",
       "z                   0.13\n",
       "plate                NaN\n",
       "dx                   0.0\n",
       "dy                   0.0\n",
       "Name: 1451, dtype: object"
      ]
     },
     "execution_count": 15,
     "metadata": {},
     "output_type": "execute_result"
    }
   ],
   "source": [
    "data.iloc[1451]"
   ]
  },
  {
   "cell_type": "code",
   "execution_count": 7,
   "metadata": {
    "pycharm": {
     "name": "#%%\n"
    }
   },
   "outputs": [],
   "source": [
    "def getHeader(row):\n",
    "    global count\n",
    "    index, value = row\n",
    "    indices = np.where(coordinates[:, index] >= 0)[0]\n",
    "    # for i in indices:\n",
    "        # print(fits_headers[i], end=' ')"
   ]
  },
  {
   "cell_type": "code",
   "execution_count": 10,
   "metadata": {
    "pycharm": {
     "name": "#%%\n"
    }
   },
   "outputs": [],
   "source": [
    "# list(map(getHeader, data.iterrows()))"
   ]
  },
  {
   "cell_type": "code",
   "execution_count": 113,
   "metadata": {
    "pycharm": {
     "name": "#%%\n"
    }
   },
   "outputs": [
    {
     "data": {
      "text/plain": [
       "'fbs0005'"
      ]
     },
     "execution_count": 113,
     "metadata": {},
     "output_type": "execute_result"
    }
   ],
   "source": [
    "fits_headers[0].split('/')[-1].split('_')[0]"
   ]
  },
  {
   "cell_type": "code",
   "execution_count": 16,
   "metadata": {
    "pycharm": {
     "name": "#%%\n"
    }
   },
   "outputs": [
    {
     "data": {
      "text/plain": [
       "6"
      ]
     },
     "execution_count": 16,
     "metadata": {},
     "output_type": "execute_result"
    }
   ],
   "source": [
    "a = set({1,2,3,6,'derfed','adfrd'})\n",
    "len(a)"
   ]
  },
  {
   "cell_type": "code",
   "execution_count": 18,
   "metadata": {
    "pycharm": {
     "name": "#%%\n"
    }
   },
   "outputs": [
    {
     "ename": "TypeError",
     "evalue": "'set' object is not subscriptable",
     "output_type": "error",
     "traceback": [
      "\u001b[1;31m---------------------------------------------------------------------------\u001b[0m",
      "\u001b[1;31mTypeError\u001b[0m                                 Traceback (most recent call last)",
      "\u001b[1;32m<ipython-input-18-8bc71255a22e>\u001b[0m in \u001b[0;36m<module>\u001b[1;34m\u001b[0m\n\u001b[1;32m----> 1\u001b[1;33m \u001b[0ma\u001b[0m\u001b[1;33m[\u001b[0m\u001b[1;36m1\u001b[0m\u001b[1;33m]\u001b[0m\u001b[1;33m\u001b[0m\u001b[1;33m\u001b[0m\u001b[0m\n\u001b[0m",
      "\u001b[1;31mTypeError\u001b[0m: 'set' object is not subscriptable"
     ]
    }
   ],
   "source": []
  }
 ],
 "metadata": {
  "interpreter": {
   "hash": "abe97b4297a04eb9b59942013a51b5b6b6dd824dcfaba919a0d03fdddda38a68"
  },
  "kernelspec": {
   "display_name": "Python 3 (ipykernel)",
   "language": "python",
   "name": "python3"
  },
  "language_info": {
   "codemirror_mode": {
    "name": "ipython",
    "version": 3
   },
   "file_extension": ".py",
   "mimetype": "text/x-python",
   "name": "python",
   "nbconvert_exporter": "python",
   "pygments_lexer": "ipython3",
   "version": "3.9.13"
  }
 },
 "nbformat": 4,
 "nbformat_minor": 2
}
