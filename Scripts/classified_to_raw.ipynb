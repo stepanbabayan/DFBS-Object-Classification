{
 "cells": [
  {
   "cell_type": "code",
   "execution_count": 38,
   "id": "682a9644",
   "metadata": {
    "pycharm": {
     "name": "#%%\n"
    }
   },
   "outputs": [],
   "source": [
    "from os import listdir, mkdir, path as os_path\n",
    "from shutil import rmtree, copyfile\n",
    "from fnmatch import fnmatch\n",
    "\n",
    "from sklearn.model_selection import train_test_split\n",
    "\n",
    "from _helpers import make_directory"
   ]
  },
  {
   "cell_type": "code",
   "execution_count": 56,
   "id": "a54f90d4",
   "metadata": {},
   "outputs": [],
   "source": [
    "# Existing\n",
    "input_path = 'data/AstroDataset/'\n",
    "output_path = 'data/FinalDataset/'\n",
    "\n",
    "csv_name = 'Subtypes'\n",
    "setting = '99_12'\n",
    "# allowed_classes = {'C', 'M', 'Mrk', 'sd', 'PN'}\n",
    "allowed_classes = {'C-R', 'sdA', 'sdB', 'Mrk AGN', 'C-H', 'C Ba', 'C-N', 'Mrk Abs', 'sdO', 'Mrk SB'}\n",
    "pattern = '*.tiff'\n",
    "\n",
    "# Own\n",
    "input_path = f'data/Extracted/{csv_name}/{setting}/images_classified/'\n",
    "output_path = f'data/Extracted/{csv_name}/{setting}/images_classified_raw/'"
   ]
  },
  {
   "cell_type": "code",
   "execution_count": 57,
   "id": "93312dd3",
   "metadata": {
    "pycharm": {
     "name": "#%%\n"
    }
   },
   "outputs": [],
   "source": [
    "make_directory(output_path)"
   ]
  },
  {
   "cell_type": "code",
   "execution_count": 58,
   "id": "5fdf419c",
   "metadata": {
    "pycharm": {
     "name": "#%%\n"
    }
   },
   "outputs": [],
   "source": [
    "# # TRAIN_TEST_SPLIT\n",
    "# train_path = os_path.join(output_path, 'train')\n",
    "# test_path = os_path.join(output_path, 'test')\n",
    "\n",
    "# make_directory(train_path)\n",
    "# make_directory(test_path)"
   ]
  },
  {
   "cell_type": "code",
   "execution_count": 59,
   "id": "448764eb",
   "metadata": {
    "pycharm": {
     "name": "#%%\n"
    }
   },
   "outputs": [],
   "source": [
    "# for class_name in listdir(input_path):\n",
    "#     if class_name in allowed_classes:\n",
    "#         class_path = os_path.join(input_path, class_name)\n",
    "#         train_entries, test_entries = train_test_split(listdir(class_path), test_size=0.2, shuffle=True)\n",
    "\n",
    "#         for entry in train_entries:\n",
    "#             if fnmatch(entry, pattern):\n",
    "#                 entry_path = os_path.join(class_path, entry)\n",
    "#                 entry_output_path = os_path.join(output_path, 'train', f\"{class_name}~~~{entry}\")\n",
    "#                 copyfile(entry_path, entry_output_path)\n",
    "\n",
    "#         for entry in test_entries:\n",
    "#             if fnmatch(entry, pattern):\n",
    "\n",
    "#                 entry_path = os_path.join(class_path, entry)\n",
    "#                 entry_output_path = os_path.join(output_path, 'test', f\"{class_name}~~~{entry}\")\n",
    "#                 copyfile(entry_path, entry_output_path)"
   ]
  },
  {
   "cell_type": "code",
   "execution_count": 60,
   "id": "802e9f3e",
   "metadata": {},
   "outputs": [],
   "source": [
    "# JUST CLASSIFIED TO RAW\n",
    "out_path = os_path.join(output_path, 'out')\n",
    "\n",
    "make_directory(out_path)\n",
    "\n",
    "for class_name in listdir(input_path):\n",
    "    if class_name in allowed_classes:\n",
    "        class_path = os_path.join(input_path, class_name)\n",
    "        entries = listdir(class_path)\n",
    "\n",
    "        for entry in entries:\n",
    "            if fnmatch(entry, pattern):\n",
    "                entry_path = os_path.join(class_path, entry)\n",
    "                entry_output_path = os_path.join(output_path, 'out', f\"{class_name}~~~{entry}\")\n",
    "                copyfile(entry_path, entry_output_path)"
   ]
  },
  {
   "cell_type": "code",
   "execution_count": 35,
   "id": "cae5033c",
   "metadata": {},
   "outputs": [],
   "source": []
  },
  {
   "cell_type": "code",
   "execution_count": null,
   "id": "a6f3a32c",
   "metadata": {},
   "outputs": [],
   "source": []
  }
 ],
 "metadata": {
  "kernelspec": {
   "display_name": "Python 3 (ipykernel)",
   "language": "python",
   "name": "python3"
  },
  "language_info": {
   "codemirror_mode": {
    "name": "ipython",
    "version": 3
   },
   "file_extension": ".py",
   "mimetype": "text/x-python",
   "name": "python",
   "nbconvert_exporter": "python",
   "pygments_lexer": "ipython3",
   "version": "3.9.13"
  }
 },
 "nbformat": 4,
 "nbformat_minor": 5
}
