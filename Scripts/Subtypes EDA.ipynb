{
 "cells": [
  {
   "cell_type": "code",
   "execution_count": 1,
   "id": "b92a84d3",
   "metadata": {
    "pycharm": {
     "name": "#%%\n"
    }
   },
   "outputs": [],
   "source": [
    "import pandas as pd"
   ]
  },
  {
   "cell_type": "code",
   "execution_count": 3,
   "id": "4a96c96b",
   "metadata": {
    "pycharm": {
     "name": "#%%\n"
    }
   },
   "outputs": [
    {
     "data": {
      "text/plain": "   No          Glon          Glat       RAJ2000      DEJ2000 Class  \\\n0 NaN           deg           deg           deg          deg   NaN   \n1 NaN           NaN           NaN           NaN          NaN   NaN   \n2 NaN  122.14417615  -16.27839305   11.75918694  46.58662389     C   \n3 NaN   56.80289514   44.77540086  245.48502389  35.22789194     C   \n4 NaN  139.57374304  -17.21497856   34.75323389  42.80906306     C   \n\n                LAMOST      V Spectral Type Sp type  Mag type  \n0                  NaN    mag           NaN     NaN       NaN  \n1                  NaN    NaN           NaN     NaN       NaN  \n2  J004702.20+463511.8   12.5            Ba    C Ba       NaN  \n3  J162156.40+351340.4  12.53            Ba    C Ba       NaN  \n4  J021900.77+424832.6  12.54            Ba    C Ba       NaN  ",
      "text/html": "<div>\n<style scoped>\n    .dataframe tbody tr th:only-of-type {\n        vertical-align: middle;\n    }\n\n    .dataframe tbody tr th {\n        vertical-align: top;\n    }\n\n    .dataframe thead th {\n        text-align: right;\n    }\n</style>\n<table border=\"1\" class=\"dataframe\">\n  <thead>\n    <tr style=\"text-align: right;\">\n      <th></th>\n      <th>No</th>\n      <th>Glon</th>\n      <th>Glat</th>\n      <th>RAJ2000</th>\n      <th>DEJ2000</th>\n      <th>Class</th>\n      <th>LAMOST</th>\n      <th>V</th>\n      <th>Spectral Type</th>\n      <th>Sp type</th>\n      <th>Mag type</th>\n    </tr>\n  </thead>\n  <tbody>\n    <tr>\n      <th>0</th>\n      <td>NaN</td>\n      <td>deg</td>\n      <td>deg</td>\n      <td>deg</td>\n      <td>deg</td>\n      <td>NaN</td>\n      <td>NaN</td>\n      <td>mag</td>\n      <td>NaN</td>\n      <td>NaN</td>\n      <td>NaN</td>\n    </tr>\n    <tr>\n      <th>1</th>\n      <td>NaN</td>\n      <td>NaN</td>\n      <td>NaN</td>\n      <td>NaN</td>\n      <td>NaN</td>\n      <td>NaN</td>\n      <td>NaN</td>\n      <td>NaN</td>\n      <td>NaN</td>\n      <td>NaN</td>\n      <td>NaN</td>\n    </tr>\n    <tr>\n      <th>2</th>\n      <td>NaN</td>\n      <td>122.14417615</td>\n      <td>-16.27839305</td>\n      <td>11.75918694</td>\n      <td>46.58662389</td>\n      <td>C</td>\n      <td>J004702.20+463511.8</td>\n      <td>12.5</td>\n      <td>Ba</td>\n      <td>C Ba</td>\n      <td>NaN</td>\n    </tr>\n    <tr>\n      <th>3</th>\n      <td>NaN</td>\n      <td>56.80289514</td>\n      <td>44.77540086</td>\n      <td>245.48502389</td>\n      <td>35.22789194</td>\n      <td>C</td>\n      <td>J162156.40+351340.4</td>\n      <td>12.53</td>\n      <td>Ba</td>\n      <td>C Ba</td>\n      <td>NaN</td>\n    </tr>\n    <tr>\n      <th>4</th>\n      <td>NaN</td>\n      <td>139.57374304</td>\n      <td>-17.21497856</td>\n      <td>34.75323389</td>\n      <td>42.80906306</td>\n      <td>C</td>\n      <td>J021900.77+424832.6</td>\n      <td>12.54</td>\n      <td>Ba</td>\n      <td>C Ba</td>\n      <td>NaN</td>\n    </tr>\n  </tbody>\n</table>\n</div>"
     },
     "execution_count": 3,
     "metadata": {},
     "output_type": "execute_result"
    }
   ],
   "source": [
    "df = pd.read_csv('../data/Datasets/DFBS_subtypes.csv')\n",
    "df.head()"
   ]
  },
  {
   "cell_type": "code",
   "execution_count": 4,
   "id": "b3dcb88c",
   "metadata": {
    "pycharm": {
     "name": "#%%\n"
    }
   },
   "outputs": [],
   "source": [
    "df.drop([0,1], axis=0, inplace=True)\n",
    "df.drop(df[df['RAJ2000'].isna() | df['DEJ2000'].isna() | df['Sp type'].isna()].index, inplace=True)\n",
    "df.drop(columns=['No'], inplace=True)\n",
    "df.rename(columns={'Class': 'Cl', 'LAMOST': 'Name', 'RAJ2000': '_RAJ2000', 'DEJ2000': '_DEJ2000'}, inplace=True)\n",
    "df[['_RAJ2000', '_DEJ2000']] = df[['_RAJ2000', '_DEJ2000']].astype(float)"
   ]
  },
  {
   "cell_type": "code",
   "execution_count": 5,
   "id": "dadf8319",
   "metadata": {
    "pycharm": {
     "name": "#%%\n"
    }
   },
   "outputs": [
    {
     "data": {
      "text/plain": "           Glon          Glat    _RAJ2000   _DEJ2000 Cl                 Name  \\\n2  122.14417615  -16.27839305   11.759187  46.586624  C  J004702.20+463511.8   \n3   56.80289514   44.77540086  245.485024  35.227892  C  J162156.40+351340.4   \n4  139.57374304  -17.21497856   34.753234  42.809063  C  J021900.77+424832.6   \n5  202.70005544  -15.47788815   84.455417   1.757550  C  J053749.30+014527.1   \n6  171.45855211  -17.19588769   65.240196  25.357196  C  J042057.64+252125.9   \n\n       V Spectral Type Sp type  Mag type  \n2   12.5            Ba    C Ba       NaN  \n3  12.53            Ba    C Ba       NaN  \n4  12.54            Ba    C Ba       NaN  \n5  12.54            Ba    C Ba       NaN  \n6  12.55            Ba    C Ba       NaN  ",
      "text/html": "<div>\n<style scoped>\n    .dataframe tbody tr th:only-of-type {\n        vertical-align: middle;\n    }\n\n    .dataframe tbody tr th {\n        vertical-align: top;\n    }\n\n    .dataframe thead th {\n        text-align: right;\n    }\n</style>\n<table border=\"1\" class=\"dataframe\">\n  <thead>\n    <tr style=\"text-align: right;\">\n      <th></th>\n      <th>Glon</th>\n      <th>Glat</th>\n      <th>_RAJ2000</th>\n      <th>_DEJ2000</th>\n      <th>Cl</th>\n      <th>Name</th>\n      <th>V</th>\n      <th>Spectral Type</th>\n      <th>Sp type</th>\n      <th>Mag type</th>\n    </tr>\n  </thead>\n  <tbody>\n    <tr>\n      <th>2</th>\n      <td>122.14417615</td>\n      <td>-16.27839305</td>\n      <td>11.759187</td>\n      <td>46.586624</td>\n      <td>C</td>\n      <td>J004702.20+463511.8</td>\n      <td>12.5</td>\n      <td>Ba</td>\n      <td>C Ba</td>\n      <td>NaN</td>\n    </tr>\n    <tr>\n      <th>3</th>\n      <td>56.80289514</td>\n      <td>44.77540086</td>\n      <td>245.485024</td>\n      <td>35.227892</td>\n      <td>C</td>\n      <td>J162156.40+351340.4</td>\n      <td>12.53</td>\n      <td>Ba</td>\n      <td>C Ba</td>\n      <td>NaN</td>\n    </tr>\n    <tr>\n      <th>4</th>\n      <td>139.57374304</td>\n      <td>-17.21497856</td>\n      <td>34.753234</td>\n      <td>42.809063</td>\n      <td>C</td>\n      <td>J021900.77+424832.6</td>\n      <td>12.54</td>\n      <td>Ba</td>\n      <td>C Ba</td>\n      <td>NaN</td>\n    </tr>\n    <tr>\n      <th>5</th>\n      <td>202.70005544</td>\n      <td>-15.47788815</td>\n      <td>84.455417</td>\n      <td>1.757550</td>\n      <td>C</td>\n      <td>J053749.30+014527.1</td>\n      <td>12.54</td>\n      <td>Ba</td>\n      <td>C Ba</td>\n      <td>NaN</td>\n    </tr>\n    <tr>\n      <th>6</th>\n      <td>171.45855211</td>\n      <td>-17.19588769</td>\n      <td>65.240196</td>\n      <td>25.357196</td>\n      <td>C</td>\n      <td>J042057.64+252125.9</td>\n      <td>12.55</td>\n      <td>Ba</td>\n      <td>C Ba</td>\n      <td>NaN</td>\n    </tr>\n  </tbody>\n</table>\n</div>"
     },
     "execution_count": 5,
     "metadata": {},
     "output_type": "execute_result"
    }
   ],
   "source": [
    "df.head()"
   ]
  },
  {
   "cell_type": "code",
   "execution_count": 6,
   "id": "5965377c",
   "metadata": {
    "pycharm": {
     "name": "#%%\n"
    }
   },
   "outputs": [
    {
     "data": {
      "text/plain": "Glon               0\nGlat               0\n_RAJ2000           0\n_DEJ2000           0\nCl                 0\nName               0\nV                  0\nSpectral Type      0\nSp type            0\nMag type         299\ndtype: int64"
     },
     "execution_count": 6,
     "metadata": {},
     "output_type": "execute_result"
    }
   ],
   "source": [
    "df.isna().sum()"
   ]
  },
  {
   "cell_type": "code",
   "execution_count": 7,
   "id": "eaeb3845",
   "metadata": {
    "pycharm": {
     "name": "#%%\n"
    }
   },
   "outputs": [
    {
     "data": {
      "text/plain": "sdB        901\nC-H        626\nMrk SB     600\nC Ba       241\nsdO        209\nsdA        183\nMrk AGN    100\nMrk Abs     84\nC-N         65\nC-R         58\nName: Sp type, dtype: int64"
     },
     "execution_count": 7,
     "metadata": {},
     "output_type": "execute_result"
    }
   ],
   "source": [
    "df['Sp type'].value_counts()"
   ]
  },
  {
   "cell_type": "code",
   "execution_count": 8,
   "id": "d7d9302b",
   "metadata": {
    "pycharm": {
     "name": "#%%\n"
    }
   },
   "outputs": [],
   "source": [
    "df.head();"
   ]
  },
  {
   "cell_type": "code",
   "execution_count": 8,
   "id": "28a147f3",
   "metadata": {
    "pycharm": {
     "name": "#%%\n"
    }
   },
   "outputs": [],
   "source": [
    "df.to_csv('../data/Subtypes.csv')"
   ]
  },
  {
   "cell_type": "code",
   "execution_count": 10,
   "id": "561a0c8e",
   "metadata": {
    "pycharm": {
     "name": "#%%\n"
    }
   },
   "outputs": [
    {
     "data": {
      "text/plain": "              Glon          Glat    _RAJ2000   _DEJ2000  Cl  \\\n2     122.14417615  -16.27839305   11.759187  46.586624   C   \n3      56.80289514   44.77540086  245.485024  35.227892   C   \n4     139.57374304  -17.21497856   34.753234  42.809063   C   \n5     202.70005544  -15.47788815   84.455417   1.757550   C   \n6     171.45855211  -17.19588769   65.240196  25.357196   C   \n...            ...           ...         ...        ...  ..   \n3073  130.30191305  -21.62016106   21.913958  40.732722  sd   \n3074   83.35875521  -28.77872148  335.693083  22.442572  sd   \n3075  300.96433086   66.69440859  192.079417   3.834581  sd   \n3076   30.19117666   21.59339424  262.329333   7.367917  sd   \n3077   30.34028373   44.73476698  240.767083  16.998453  sd   \n\n                          Name      V Spectral Type Sp type  Mag type  \n2          J004702.20+463511.8   12.5            Ba    C Ba       NaN  \n3          J162156.40+351340.4  12.53            Ba    C Ba       NaN  \n4          J021900.77+424832.6  12.54            Ba    C Ba       NaN  \n5          J053749.30+014527.1  12.54            Ba    C Ba       NaN  \n6          J042057.64+252125.9  12.55            Ba    C Ba       NaN  \n...                        ...    ...           ...     ...       ...  \n3073   SDSSJ012739.35+404357.8   16.9           sdO     sdO       NaN  \n3074  SDSSJ222246.34+222633.26  16.92           sdO     sdO       NaN  \n3075                PG1245+041  16.94           sdO     sdO       NaN  \n3076   SDSSJ172919.04+072204.5  16.95           sdO     sdO       NaN  \n3077                PG1600+171  16.98        He-sdO     sdO       NaN  \n\n[3067 rows x 10 columns]",
      "text/html": "<div>\n<style scoped>\n    .dataframe tbody tr th:only-of-type {\n        vertical-align: middle;\n    }\n\n    .dataframe tbody tr th {\n        vertical-align: top;\n    }\n\n    .dataframe thead th {\n        text-align: right;\n    }\n</style>\n<table border=\"1\" class=\"dataframe\">\n  <thead>\n    <tr style=\"text-align: right;\">\n      <th></th>\n      <th>Glon</th>\n      <th>Glat</th>\n      <th>_RAJ2000</th>\n      <th>_DEJ2000</th>\n      <th>Cl</th>\n      <th>Name</th>\n      <th>V</th>\n      <th>Spectral Type</th>\n      <th>Sp type</th>\n      <th>Mag type</th>\n    </tr>\n  </thead>\n  <tbody>\n    <tr>\n      <th>2</th>\n      <td>122.14417615</td>\n      <td>-16.27839305</td>\n      <td>11.759187</td>\n      <td>46.586624</td>\n      <td>C</td>\n      <td>J004702.20+463511.8</td>\n      <td>12.5</td>\n      <td>Ba</td>\n      <td>C Ba</td>\n      <td>NaN</td>\n    </tr>\n    <tr>\n      <th>3</th>\n      <td>56.80289514</td>\n      <td>44.77540086</td>\n      <td>245.485024</td>\n      <td>35.227892</td>\n      <td>C</td>\n      <td>J162156.40+351340.4</td>\n      <td>12.53</td>\n      <td>Ba</td>\n      <td>C Ba</td>\n      <td>NaN</td>\n    </tr>\n    <tr>\n      <th>4</th>\n      <td>139.57374304</td>\n      <td>-17.21497856</td>\n      <td>34.753234</td>\n      <td>42.809063</td>\n      <td>C</td>\n      <td>J021900.77+424832.6</td>\n      <td>12.54</td>\n      <td>Ba</td>\n      <td>C Ba</td>\n      <td>NaN</td>\n    </tr>\n    <tr>\n      <th>5</th>\n      <td>202.70005544</td>\n      <td>-15.47788815</td>\n      <td>84.455417</td>\n      <td>1.757550</td>\n      <td>C</td>\n      <td>J053749.30+014527.1</td>\n      <td>12.54</td>\n      <td>Ba</td>\n      <td>C Ba</td>\n      <td>NaN</td>\n    </tr>\n    <tr>\n      <th>6</th>\n      <td>171.45855211</td>\n      <td>-17.19588769</td>\n      <td>65.240196</td>\n      <td>25.357196</td>\n      <td>C</td>\n      <td>J042057.64+252125.9</td>\n      <td>12.55</td>\n      <td>Ba</td>\n      <td>C Ba</td>\n      <td>NaN</td>\n    </tr>\n    <tr>\n      <th>...</th>\n      <td>...</td>\n      <td>...</td>\n      <td>...</td>\n      <td>...</td>\n      <td>...</td>\n      <td>...</td>\n      <td>...</td>\n      <td>...</td>\n      <td>...</td>\n      <td>...</td>\n    </tr>\n    <tr>\n      <th>3073</th>\n      <td>130.30191305</td>\n      <td>-21.62016106</td>\n      <td>21.913958</td>\n      <td>40.732722</td>\n      <td>sd</td>\n      <td>SDSSJ012739.35+404357.8</td>\n      <td>16.9</td>\n      <td>sdO</td>\n      <td>sdO</td>\n      <td>NaN</td>\n    </tr>\n    <tr>\n      <th>3074</th>\n      <td>83.35875521</td>\n      <td>-28.77872148</td>\n      <td>335.693083</td>\n      <td>22.442572</td>\n      <td>sd</td>\n      <td>SDSSJ222246.34+222633.26</td>\n      <td>16.92</td>\n      <td>sdO</td>\n      <td>sdO</td>\n      <td>NaN</td>\n    </tr>\n    <tr>\n      <th>3075</th>\n      <td>300.96433086</td>\n      <td>66.69440859</td>\n      <td>192.079417</td>\n      <td>3.834581</td>\n      <td>sd</td>\n      <td>PG1245+041</td>\n      <td>16.94</td>\n      <td>sdO</td>\n      <td>sdO</td>\n      <td>NaN</td>\n    </tr>\n    <tr>\n      <th>3076</th>\n      <td>30.19117666</td>\n      <td>21.59339424</td>\n      <td>262.329333</td>\n      <td>7.367917</td>\n      <td>sd</td>\n      <td>SDSSJ172919.04+072204.5</td>\n      <td>16.95</td>\n      <td>sdO</td>\n      <td>sdO</td>\n      <td>NaN</td>\n    </tr>\n    <tr>\n      <th>3077</th>\n      <td>30.34028373</td>\n      <td>44.73476698</td>\n      <td>240.767083</td>\n      <td>16.998453</td>\n      <td>sd</td>\n      <td>PG1600+171</td>\n      <td>16.98</td>\n      <td>He-sdO</td>\n      <td>sdO</td>\n      <td>NaN</td>\n    </tr>\n  </tbody>\n</table>\n<p>3067 rows × 10 columns</p>\n</div>"
     },
     "execution_count": 10,
     "metadata": {},
     "output_type": "execute_result"
    }
   ],
   "source": [
    "df"
   ]
  }
 ],
 "metadata": {
  "kernelspec": {
   "display_name": "Python 3 (ipykernel)",
   "language": "python",
   "name": "python3"
  },
  "language_info": {
   "codemirror_mode": {
    "name": "ipython",
    "version": 3
   },
   "file_extension": ".py",
   "mimetype": "text/x-python",
   "name": "python",
   "nbconvert_exporter": "python",
   "pygments_lexer": "ipython3",
   "version": "3.9.13"
  }
 },
 "nbformat": 4,
 "nbformat_minor": 5
}