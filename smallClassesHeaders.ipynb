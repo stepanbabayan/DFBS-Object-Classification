{
 "cells": [
  {
   "cell_type": "code",
   "execution_count": 1,
   "metadata": {
    "pycharm": {
     "name": "#%%\n"
    }
   },
   "outputs": [],
   "source": [
    "import pandas as pd\n",
    "import numpy as np\n",
    "\n",
    "from os import listdir\n",
    "from fnmatch import fnmatch\n",
    "\n",
    "from astropy import wcs\n",
    "from astropy.io import fits"
   ]
  },
  {
   "cell_type": "code",
   "execution_count": 2,
   "metadata": {
    "pycharm": {
     "name": "#%%\n"
    }
   },
   "outputs": [],
   "source": [
    "def prepareData(path):\n",
    "    data = pd.read_csv(path)\n",
    "    data.drop(0, inplace=True)\n",
    "    data.reset_index(drop=True, inplace=True)\n",
    "\n",
    "    data[\"plate\"] = np.nan\n",
    "    data[\"path\"] = np.nan\n",
    "    data[\"dx\"] = np.zeros(data.shape[0])\n",
    "    data[\"dy\"] = np.zeros(data.shape[0])\n",
    "    data[['_RAJ2000', '_DEJ2000']] = data[['_RAJ2000', '_DEJ2000']].astype(float)\n",
    "\n",
    "    # print(data.head())\n",
    "    return data\n",
    "\n",
    "def prepareFits(headers_path, fits_path, headers_pattern, fits_pattern):\n",
    "    headers_folder = listdir(headers_path)\n",
    "    fits_folder = listdir(fits_path)\n",
    "\n",
    "    fits_headers = []\n",
    "    fits_files = []\n",
    "\n",
    "    headers_pattern = headers_pattern\n",
    "    fits_pattern = fits_pattern\n",
    "\n",
    "    for entry in headers_folder:\n",
    "        if fnmatch(entry, headers_pattern):\n",
    "                fits_headers.append('./data/fits_headers/' + entry)\n",
    "\n",
    "    for entry in fits_folder:\n",
    "        if fnmatch(entry, fits_pattern):\n",
    "                fits_files.append('./data/fits_files/' + entry)\n",
    "\n",
    "    # print(fits_headers[:5])\n",
    "    # print('Files in headers folder:', len(headers_folder))\n",
    "    # print('Headers in headers folder:', len(fits_headers))\n",
    "    # print()\n",
    "    # print(fits_files[:5])\n",
    "    # print('Files in fits folder:', len(fits_folder))\n",
    "    # print('Fits files in fits folder:', len(fits_files))\n",
    "\n",
    "    fits_headers = np.array(fits_headers)\n",
    "    fits_files = np.array(fits_files)\n",
    "    fits_set = set(map(lambda x: x.split('/')[-1].split('.')[0], fits_files))\n",
    "\n",
    "    return fits_headers, fits_files, fits_set\n",
    "\n",
    "def getCoordinates(fits_headers, data):\n",
    "    coordinates = np.ones((len(fits_headers), data.shape[0], 2)) * (-1)\n",
    "\n",
    "    for i in range(len(fits_headers)):\n",
    "        hdulist = fits.open(fits_headers[i])\n",
    "        w = wcs.WCS(hdulist[0].header)\n",
    "\n",
    "        xy = w.all_world2pix(data[['_RAJ2000', '_DEJ2000']], 1, quiet=True)\n",
    "\n",
    "        matching_indices = np.where((xy[:,0] >= 0) & (xy[:,0] <= 9601) & (xy[:,1] >= 0) & (xy[:,1] <= 9601))[0]\n",
    "\n",
    "        coordinates[i][matching_indices] = xy[matching_indices]\n",
    "\n",
    "    return coordinates"
   ]
  },
  {
   "cell_type": "code",
   "execution_count": 3,
   "metadata": {
    "pycharm": {
     "name": "#%%\n"
    }
   },
   "outputs": [
    {
     "data": {
      "text/html": [
       "<div>\n",
       "<style scoped>\n",
       "    .dataframe tbody tr th:only-of-type {\n",
       "        vertical-align: middle;\n",
       "    }\n",
       "\n",
       "    .dataframe tbody tr th {\n",
       "        vertical-align: top;\n",
       "    }\n",
       "\n",
       "    .dataframe thead th {\n",
       "        text-align: right;\n",
       "    }\n",
       "</style>\n",
       "<table border=\"1\" class=\"dataframe\">\n",
       "  <thead>\n",
       "    <tr style=\"text-align: right;\">\n",
       "      <th></th>\n",
       "      <th>_Glon</th>\n",
       "      <th>_Glat</th>\n",
       "      <th>_RAJ2000</th>\n",
       "      <th>_DEJ2000</th>\n",
       "      <th>Cl</th>\n",
       "      <th>Name</th>\n",
       "      <th>Vmag</th>\n",
       "      <th>z</th>\n",
       "      <th>plate</th>\n",
       "      <th>path</th>\n",
       "      <th>dx</th>\n",
       "      <th>dy</th>\n",
       "    </tr>\n",
       "  </thead>\n",
       "  <tbody>\n",
       "    <tr>\n",
       "      <th>0</th>\n",
       "      <td>100.174423</td>\n",
       "      <td>-55.203358</td>\n",
       "      <td>0.048750</td>\n",
       "      <td>5.388056</td>\n",
       "      <td>Sy1</td>\n",
       "      <td>RXS J00001+0523</td>\n",
       "      <td>16.4</td>\n",
       "      <td>0.040</td>\n",
       "      <td>NaN</td>\n",
       "      <td>NaN</td>\n",
       "      <td>0.0</td>\n",
       "      <td>0.0</td>\n",
       "    </tr>\n",
       "    <tr>\n",
       "      <th>1</th>\n",
       "      <td>99.844434</td>\n",
       "      <td>-57.30727</td>\n",
       "      <td>0.610000</td>\n",
       "      <td>3.351667</td>\n",
       "      <td>Sy1</td>\n",
       "      <td>MARK 543</td>\n",
       "      <td>14.68</td>\n",
       "      <td>0.026</td>\n",
       "      <td>NaN</td>\n",
       "      <td>NaN</td>\n",
       "      <td>0.0</td>\n",
       "      <td>0.0</td>\n",
       "    </tr>\n",
       "    <tr>\n",
       "      <th>2</th>\n",
       "      <td>86.112841</td>\n",
       "      <td>-70.112882</td>\n",
       "      <td>0.883750</td>\n",
       "      <td>-10.744722</td>\n",
       "      <td>Sy1</td>\n",
       "      <td>NGC 7808</td>\n",
       "      <td>15.4</td>\n",
       "      <td>0.029</td>\n",
       "      <td>NaN</td>\n",
       "      <td>NaN</td>\n",
       "      <td>0.0</td>\n",
       "      <td>0.0</td>\n",
       "    </tr>\n",
       "    <tr>\n",
       "      <th>3</th>\n",
       "      <td>114.304767</td>\n",
       "      <td>-16.638006</td>\n",
       "      <td>1.039583</td>\n",
       "      <td>45.440278</td>\n",
       "      <td>Sy1</td>\n",
       "      <td>RXS J00041+4526</td>\n",
       "      <td>16.9</td>\n",
       "      <td>0.120</td>\n",
       "      <td>NaN</td>\n",
       "      <td>NaN</td>\n",
       "      <td>0.0</td>\n",
       "      <td>0.0</td>\n",
       "    </tr>\n",
       "    <tr>\n",
       "      <th>4</th>\n",
       "      <td>104.972206</td>\n",
       "      <td>-50.897341</td>\n",
       "      <td>1.456250</td>\n",
       "      <td>10.376944</td>\n",
       "      <td>Sy1</td>\n",
       "      <td>RXS J00058+1022</td>\n",
       "      <td>16.7</td>\n",
       "      <td>0.095</td>\n",
       "      <td>NaN</td>\n",
       "      <td>NaN</td>\n",
       "      <td>0.0</td>\n",
       "      <td>0.0</td>\n",
       "    </tr>\n",
       "  </tbody>\n",
       "</table>\n",
       "</div>"
      ],
      "text/plain": [
       "        _Glon       _Glat  _RAJ2000   _DEJ2000   Cl             Name   Vmag  \\\n",
       "0  100.174423  -55.203358  0.048750   5.388056  Sy1  RXS J00001+0523   16.4   \n",
       "1   99.844434   -57.30727  0.610000   3.351667  Sy1         MARK 543  14.68   \n",
       "2   86.112841  -70.112882  0.883750 -10.744722  Sy1         NGC 7808   15.4   \n",
       "3  114.304767  -16.638006  1.039583  45.440278  Sy1  RXS J00041+4526   16.9   \n",
       "4  104.972206  -50.897341  1.456250  10.376944  Sy1  RXS J00058+1022   16.7   \n",
       "\n",
       "       z  plate  path   dx   dy  \n",
       "0  0.040    NaN   NaN  0.0  0.0  \n",
       "1  0.026    NaN   NaN  0.0  0.0  \n",
       "2  0.029    NaN   NaN  0.0  0.0  \n",
       "3  0.120    NaN   NaN  0.0  0.0  \n",
       "4  0.095    NaN   NaN  0.0  0.0  "
      ]
     },
     "execution_count": 3,
     "metadata": {},
     "output_type": "execute_result"
    }
   ],
   "source": [
    "data = prepareData(\n",
    "    path='data/DFBS.csv')\n",
    "data.head()"
   ]
  },
  {
   "cell_type": "code",
   "execution_count": 4,
   "metadata": {
    "pycharm": {
     "name": "#%%\n"
    }
   },
   "outputs": [
    {
     "data": {
      "text/plain": [
       "sd     1668\n",
       "WD     1161\n",
       "M      1136\n",
       "QSO     978\n",
       "Mrk     858\n",
       "Sy1     839\n",
       "PN      409\n",
       "cv      272\n",
       "C        36\n",
       "Name: Cl, dtype: int64"
      ]
     },
     "execution_count": 4,
     "metadata": {},
     "output_type": "execute_result"
    }
   ],
   "source": [
    "data['Cl'].value_counts()"
   ]
  },
  {
   "cell_type": "code",
   "execution_count": 5,
   "metadata": {
    "pycharm": {
     "name": "#%%\n"
    }
   },
   "outputs": [
    {
     "data": {
      "text/plain": [
       "817.4444444444445"
      ]
     },
     "execution_count": 5,
     "metadata": {},
     "output_type": "execute_result"
    }
   ],
   "source": [
    "mean_number_of_class_samples = data['Cl'].value_counts().mean()\n",
    "mean_number_of_class_samples"
   ]
  },
  {
   "cell_type": "code",
   "execution_count": 6,
   "metadata": {
    "pycharm": {
     "name": "#%%\n"
    }
   },
   "outputs": [
    {
     "data": {
      "text/plain": [
       "['C', 'cv', 'PN']"
      ]
     },
     "execution_count": 6,
     "metadata": {},
     "output_type": "execute_result"
    }
   ],
   "source": [
    "aug_classes = []\n",
    "for c in data['Cl'].unique():\n",
    "    if mean_number_of_class_samples/(data['Cl']==c).sum() > 1.5:\n",
    "        aug_classes.append(c)\n",
    "\n",
    "aug_classes"
   ]
  },
  {
   "cell_type": "code",
   "execution_count": 7,
   "metadata": {
    "pycharm": {
     "name": "#%%\n"
    }
   },
   "outputs": [],
   "source": [
    "data = data[data['Cl'].isin(aug_classes)]\n",
    "data.reset_index(inplace=True)"
   ]
  },
  {
   "cell_type": "code",
   "execution_count": 8,
   "metadata": {
    "pycharm": {
     "name": "#%%\n"
    }
   },
   "outputs": [
    {
     "name": "stderr",
     "output_type": "stream",
     "text": [
      "WARNING: FITSFixedWarning: The WCS transformation has more axes (2) than the image it is associated with (0) [astropy.wcs.wcs]\n"
     ]
    }
   ],
   "source": [
    "fits_headers, fits_files, fits_set = prepareFits(\n",
    "    headers_path='data/fits_headers',\n",
    "    fits_path='data/fits_files',\n",
    "    headers_pattern=\"*.hdr\",\n",
    "    fits_pattern=\"*.fits\")\n",
    "\n",
    "coordinates = getCoordinates(\n",
    "    fits_headers=fits_headers,\n",
    "    data=data)\n",
    "np.save('data/small_class_coordinates.csv', coordinates+1)\n",
    "# coordinates = np.load('data/small_class_coordinates.csv.npy') - 1"
   ]
  },
  {
   "cell_type": "code",
   "execution_count": 34,
   "metadata": {
    "pycharm": {
     "name": "#%%\n"
    }
   },
   "outputs": [],
   "source": [
    "# np.where((coordinates[:,:,0]>=0))[0]\n",
    "# .sum(axis=1).argsort()[-31]"
   ]
  },
  {
   "cell_type": "code",
   "execution_count": 35,
   "metadata": {
    "pycharm": {
     "name": "#%%\n"
    }
   },
   "outputs": [
    {
     "name": "stdout",
     "output_type": "stream",
     "text": [
      "[   4   30   30  119  193  224  244  376  407  408  415  415  455  605\n",
      "  659  692  747  749  762  811  901  916  921  944 1159 1256 1303 1304\n",
      " 1329 1330 1331 1338 1364 1381 1404 1420 1433 1447 1474 1479 1552 1584]\n"
     ]
    }
   ],
   "source": [
    "for aug_c in aug_classes:\n",
    "    indices = data[data['Cl'] == aug_c].index\n",
    "    where = np.where((coordinates[:,indices,0]>=0))\n",
    "    header_indices = where[0]\n",
    "    print(header_indices)\n",
    "    break"
   ]
  },
  {
   "cell_type": "code",
   "execution_count": 36,
   "metadata": {
    "pycharm": {
     "name": "#%%\n"
    }
   },
   "outputs": [
    {
     "data": {
      "text/plain": [
       "array(['./data/fits_headers/fbs0013_cor.fits.hdr',\n",
       "       './data/fits_headers/fbs0047_cor.fits.hdr',\n",
       "       './data/fits_headers/fbs0047_cor.fits.hdr',\n",
       "       './data/fits_headers/fbs0138a_cor.fits.hdr',\n",
       "       './data/fits_headers/fbs0214_cor.fits.hdr',\n",
       "       './data/fits_headers/fbs0248_cor.fits.hdr',\n",
       "       './data/fits_headers/fbs0281_cor.fits.hdr',\n",
       "       './data/fits_headers/fbs0424_cor.fits.hdr',\n",
       "       './data/fits_headers/fbs0462_cor.fits.hdr',\n",
       "       './data/fits_headers/fbs0463_cor.fits.hdr',\n",
       "       './data/fits_headers/fbs0473_cor.fits.hdr',\n",
       "       './data/fits_headers/fbs0473_cor.fits.hdr',\n",
       "       './data/fits_headers/fbs0519_cor.fits.hdr',\n",
       "       './data/fits_headers/fbs0695_cor.fits.hdr',\n",
       "       './data/fits_headers/fbs0752_cor.fits.hdr',\n",
       "       './data/fits_headers/fbs0779_cor.fits.hdr',\n",
       "       './data/fits_headers/fbs0814M_cor.fits.hdr',\n",
       "       './data/fits_headers/fbs0815M_cor.fits.hdr',\n",
       "       './data/fits_headers/fbs0824M_cor.fits.hdr',\n",
       "       './data/fits_headers/fbs0864_cor.fits.hdr',\n",
       "       './data/fits_headers/fbs0955_cor.fits.hdr',\n",
       "       './data/fits_headers/fbs0970_cor.fits.hdr',\n",
       "       './data/fits_headers/fbs0975_cor.fits.hdr',\n",
       "       './data/fits_headers/fbs1000_cor.fits.hdr',\n",
       "       './data/fits_headers/fbs1196_cor.fits.hdr',\n",
       "       './data/fits_headers/fbs1260_cor.fits.hdr',\n",
       "       './data/fits_headers/fbs1298_cor.fits.hdr',\n",
       "       './data/fits_headers/fbs1299_cor.fits.hdr',\n",
       "       './data/fits_headers/fbs1329_cor.fits.hdr',\n",
       "       './data/fits_headers/fbs1330_cor.fits.hdr',\n",
       "       './data/fits_headers/fbs1331_cor.fits.hdr',\n",
       "       './data/fits_headers/fbs1339_cor.fits.hdr',\n",
       "       './data/fits_headers/fbs1367_cor.fits.hdr',\n",
       "       './data/fits_headers/fbs1387_cor.fits.hdr',\n",
       "       './data/fits_headers/fbs1411_cor.fits.hdr',\n",
       "       './data/fits_headers/fbs1436_cor.fits.hdr',\n",
       "       './data/fits_headers/fbs1454_cor.fits.hdr',\n",
       "       './data/fits_headers/fbs1476_cor.fits.hdr',\n",
       "       './data/fits_headers/fbs1507_cor.fits.hdr',\n",
       "       './data/fits_headers/fbs1512_cor.fits.hdr',\n",
       "       './data/fits_headers/fbs1606_cor.fits.hdr',\n",
       "       './data/fits_headers/fbs1640_cor.fits.hdr'], dtype='<U43')"
      ]
     },
     "execution_count": 36,
     "metadata": {},
     "output_type": "execute_result"
    }
   ],
   "source": [
    "fits_headers[header_indices]"
   ]
  },
  {
   "cell_type": "code",
   "execution_count": 72,
   "metadata": {
    "pycharm": {
     "name": "#%%\n"
    }
   },
   "outputs": [
    {
     "data": {
      "text/plain": [
       "array([[3032.07126066, 3537.96057995],\n",
       "       [7712.99113625, 2310.31818115],\n",
       "       [7390.02859932, 2700.50219885],\n",
       "       [2716.53633868, 7883.53162908],\n",
       "       [ 663.9076957 , 3654.76869535],\n",
       "       [4972.8344308 , 5494.6883189 ],\n",
       "       [2917.67632742, 4580.38040568],\n",
       "       [8195.35088564, 3972.50653914],\n",
       "       [2964.49113115, 3675.71395803],\n",
       "       [2970.06612048, 3620.99688778],\n",
       "       [7698.047972  , 2390.00302107],\n",
       "       [7375.78215878, 2780.74364225],\n",
       "       [7497.26974577, 6532.66062903],\n",
       "       [1915.50901787, 3028.17465342],\n",
       "       [9253.88655179,  315.12788116],\n",
       "       [7271.01693821, 3288.78578884],\n",
       "       [ 255.39412035,  951.38083506],\n",
       "       [9037.78949679,  696.08344086],\n",
       "       [5557.19456276, 7719.60729292],\n",
       "       [4602.26409214,  435.95297966],\n",
       "       [2846.29010793, 7952.43892295],\n",
       "       [1331.81523462,  877.07288299],\n",
       "       [ 483.11699807,  526.99071842],\n",
       "       [2998.8054555 , 4133.70732508],\n",
       "       [ 391.70514175, 4609.98326429],\n",
       "       [8125.55153232, 5042.95687943],\n",
       "       [5847.24667285, 5962.14313371],\n",
       "       [8745.11543763, 4184.66118737],\n",
       "       [8665.36956934,  598.94860718],\n",
       "       [8908.01656928, 4224.85639028],\n",
       "       [3990.15650466, 2155.13307667],\n",
       "       [3112.37757217, 4477.28128527],\n",
       "       [5723.82252436, 5991.77269237],\n",
       "       [8638.12808416, 5732.76521264],\n",
       "       [8578.45076549, 5834.95321437],\n",
       "       [7773.95435087, 1508.77610325],\n",
       "       [8053.35797681, 4951.35372874],\n",
       "       [8540.05529927, 5793.24570886],\n",
       "       [5330.27597332, 6006.73367247],\n",
       "       [3326.06953815, 2403.13755722],\n",
       "       [2856.23801518, 3779.2203781 ],\n",
       "       [8191.88136849, 5235.25222983]])"
      ]
     },
     "execution_count": 72,
     "metadata": {},
     "output_type": "execute_result"
    }
   ],
   "source": [
    "coordinates[where[0], where[1]]"
   ]
  },
  {
   "cell_type": "code",
   "execution_count": null,
   "metadata": {
    "pycharm": {
     "name": "#%%\n"
    }
   },
   "outputs": [],
   "source": []
  },
  {
   "cell_type": "code",
   "execution_count": null,
   "metadata": {
    "pycharm": {
     "name": "#%%\n"
    }
   },
   "outputs": [],
   "source": []
  },
  {
   "cell_type": "code",
   "execution_count": 24,
   "metadata": {
    "pycharm": {
     "name": "#%%\n"
    }
   },
   "outputs": [
    {
     "name": "stdout",
     "output_type": "stream",
     "text": [
      "22\n",
      "2\n",
      "1\n"
     ]
    }
   ],
   "source": [
    "# for aug_c in aug_classes:\n",
    "#     coef = (np.round(mean_number_of_class_samples/(data['Cl']==aug_c).sum())).astype(int) - 1\n",
    "    "
   ]
  },
  {
   "cell_type": "code",
   "execution_count": null,
   "metadata": {
    "pycharm": {
     "name": "#%%\n"
    }
   },
   "outputs": [],
   "source": []
  },
  {
   "cell_type": "code",
   "execution_count": null,
   "metadata": {
    "pycharm": {
     "name": "#%%\n"
    }
   },
   "outputs": [],
   "source": []
  },
  {
   "cell_type": "code",
   "execution_count": 10,
   "metadata": {
    "pycharm": {
     "name": "#%%\n"
    }
   },
   "outputs": [],
   "source": [
    "# data['fname'] = data.path.str.split('/', expand=True).iloc[:,-1]"
   ]
  },
  {
   "cell_type": "code",
   "execution_count": null,
   "metadata": {
    "pycharm": {
     "name": "#%%\n"
    }
   },
   "outputs": [],
   "source": [
    "# 1) Find the plates where are C-type stars\n",
    "# 2) Extract them from plates into DFBS_extracted\n",
    "# 3) Augment C-type stars and add to the data\n",
    "# 4) Retrain the model on augmented data\n",
    "# 5) Infer the model's results with current"
   ]
  }
 ],
 "metadata": {
  "kernelspec": {
   "display_name": "Python 3.9.5 64-bit",
   "language": "python",
   "name": "python3"
  },
  "language_info": {
   "codemirror_mode": {
    "name": "ipython",
    "version": 3
   },
   "file_extension": ".py",
   "mimetype": "text/x-python",
   "name": "python",
   "nbconvert_exporter": "python",
   "pygments_lexer": "ipython3",
   "version": "3.9.5"
  },
  "orig_nbformat": 4,
  "vscode": {
   "interpreter": {
    "hash": "abe97b4297a04eb9b59942013a51b5b6b6dd824dcfaba919a0d03fdddda38a68"
   }
  }
 },
 "nbformat": 4,
 "nbformat_minor": 2
}