{
 "cells": [
  {
   "cell_type": "code",
   "execution_count": 8,
   "id": "8d6d2a67",
   "metadata": {},
   "outputs": [],
   "source": [
    "import sys\n",
    "\n",
    "sys.path.append('../Classification_PyTorch/')"
   ]
  },
  {
   "cell_type": "code",
   "execution_count": 9,
   "id": "59d7bcca",
   "metadata": {},
   "outputs": [],
   "source": [
    "import os\n",
    "import argparse\n",
    "import yaml\n",
    "\n",
    "# import load_data, models, train\n",
    "\n",
    "import torch"
   ]
  },
  {
   "cell_type": "code",
   "execution_count": 10,
   "id": "6667861d",
   "metadata": {},
   "outputs": [],
   "source": [
    "yaml_data = '../Classification_PyTorch/configs/config.yaml'\n",
    "\n",
    "with open(yaml_data) as file:\n",
    "    config = yaml.safe_load(file)\n",
    "\n",
    "use_gpu = True"
   ]
  },
  {
   "cell_type": "code",
   "execution_count": 11,
   "id": "2cb5042b",
   "metadata": {},
   "outputs": [],
   "source": [
    "# Training Device\n",
    "if use_gpu:\n",
    "    device = torch.device(\"cuda:0\" if torch.cuda.is_available() else \"cpu\")\n",
    "else:\n",
    "    device = torch.device('cpu')"
   ]
  },
  {
   "cell_type": "code",
   "execution_count": 16,
   "id": "d67c3a9f",
   "metadata": {},
   "outputs": [],
   "source": [
    "# Root\n",
    "project_root = '/home/sargis/Datasets/Stepan'"
   ]
  },
  {
   "cell_type": "code",
   "execution_count": 17,
   "id": "381f9aea",
   "metadata": {},
   "outputs": [],
   "source": [
    "# Datasets\n",
    "data_root = f'{project_root}/DFBS_Combine'\n",
    "\n",
    "train_dir = os.path.join(data_root, 'train')\n",
    "val_dir = None\n",
    "test_dir = os.path.join(data_root, 'test')"
   ]
  },
  {
   "cell_type": "code",
   "execution_count": 18,
   "id": "c80a0b81",
   "metadata": {},
   "outputs": [],
   "source": [
    "# Batch sizes\n",
    "train_batch_size = 256\n",
    "val_batch_size = 1\n",
    "test_batch_size = 128"
   ]
  },
  {
   "cell_type": "code",
   "execution_count": 19,
   "id": "1e268b7e",
   "metadata": {},
   "outputs": [],
   "source": [
    "# Network parameters\n",
    "num_epochs = 301\n",
    "num_classes = len(os.listdir(train_dir))\n",
    "input_shape = (160, 50)"
   ]
  },
  {
   "cell_type": "code",
   "execution_count": 20,
   "id": "5841a1af",
   "metadata": {},
   "outputs": [],
   "source": [
    "# Project\n",
    "root_dir = f'{project_root}/DFBS_Classification'\n",
    "\n",
    "# Train Id is the unique name of the current training process.\n",
    "# It should be a descriptive name for the current training setup.\n",
    "train_id = 'Default_10_Notebook_Train_1'"
   ]
  },
  {
   "cell_type": "code",
   "execution_count": 21,
   "id": "383defd5",
   "metadata": {},
   "outputs": [],
   "source": [
    "# Models\n",
    "\n",
    "# The model's final checkpoint will be saved in {model_dir}\n",
    "model_dir = f'{root_dir}/model/{train_id}'\n",
    "# All other checkpoints are saved in {checkpoints_dir}\n",
    "checkpoints_dir = f'{root_dir}/Checkpoint/{train_id}'\n",
    "\n",
    "if not os.path.exists(model_dir):\n",
    "    os.makedirs(model_dir)\n",
    "if not os.path.exists(checkpoints_dir):\n",
    "    os.makedirs(checkpoints_dir)"
   ]
  },
  {
   "cell_type": "code",
   "execution_count": null,
   "id": "221e3d12",
   "metadata": {},
   "outputs": [],
   "source": [
    "# In case if you want to continue your training from a certain checkpoint\n",
    "start_epoch = 0\n",
    "load_model_path = None  # f'{checkpoints_dir}/100.pth'\n",
    "save_model_path = f\"{model_dir}/final.pth\"\n",
    "\n",
    "# start_epoch = 6\n",
    "# load_model_path = f'{checkpoints_dir}/5.pth'\n",
    "\n",
    "train_data, train_classes, train_proportions = load_data.load_images(train_dir, train_batch_size, 'train')\n",
    "val_data, val_classes, _ = load_data.load_images(val_dir, val_batch_size, 'val') if val_dir else (None, None, None)\n",
    "test_data, test_classes, _ = load_data.load_images(test_dir, test_batch_size, 'test') if test_dir else (None, None, None)\n",
    "\n",
    "print('\\nTraining started:')\n",
    "\n",
    "net = models.Model(num_classes=num_classes, input_shape=input_shape).to(device)\n",
    "print(net)\n",
    "\n",
    "if load_model_path:\n",
    "    net.load_state_dict(torch.load(load_model_path))\n",
    "\n",
    "net = train.train_model(\n",
    "    net,\n",
    "    train=train_data,\n",
    "    val=val_data,\n",
    "    test=test_data,\n",
    "    epochs=num_epochs,\n",
    "    start_epoch=start_epoch,\n",
    "    device=device,\n",
    "    model_folder=checkpoints_dir,\n",
    "    train_id=train_id,\n",
    "    classes=test_classes,\n",
    "    train_proportions=train_proportions\n",
    ")\n",
    "\n",
    "torch.save(net.state_dict(), save_model_path)"
   ]
  },
  {
   "cell_type": "code",
   "execution_count": null,
   "id": "03fb4c63",
   "metadata": {},
   "outputs": [],
   "source": []
  }
 ],
 "metadata": {
  "kernelspec": {
   "display_name": "Python 3 (ipykernel)",
   "language": "python",
   "name": "python3"
  },
  "language_info": {
   "codemirror_mode": {
    "name": "ipython",
    "version": 3
   },
   "file_extension": ".py",
   "mimetype": "text/x-python",
   "name": "python",
   "nbconvert_exporter": "python",
   "pygments_lexer": "ipython3",
   "version": "3.10.8"
  }
 },
 "nbformat": 4,
 "nbformat_minor": 5
}
