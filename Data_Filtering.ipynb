{
 "cells": [
  {
   "cell_type": "code",
   "execution_count": 70,
   "metadata": {
    "pycharm": {
     "name": "#%%\n"
    }
   },
   "outputs": [],
   "source": [
    "import numpy as np\n",
    "import pandas as pd\n",
    "import os\n",
    "from fnmatch import fnmatch\n",
    "from PIL import Image\n",
    "import matplotlib.pyplot as plt\n",
    "from sklearn.model_selection import train_test_split"
   ]
  },
  {
   "cell_type": "code",
   "execution_count": 71,
   "metadata": {
    "pycharm": {
     "name": "#%%\n"
    }
   },
   "outputs": [
    {
     "data": {
      "text/html": [
       "<div>\n",
       "<style scoped>\n",
       "    .dataframe tbody tr th:only-of-type {\n",
       "        vertical-align: middle;\n",
       "    }\n",
       "\n",
       "    .dataframe tbody tr th {\n",
       "        vertical-align: top;\n",
       "    }\n",
       "\n",
       "    .dataframe thead th {\n",
       "        text-align: right;\n",
       "    }\n",
       "</style>\n",
       "<table border=\"1\" class=\"dataframe\">\n",
       "  <thead>\n",
       "    <tr style=\"text-align: right;\">\n",
       "      <th></th>\n",
       "      <th>_Glon</th>\n",
       "      <th>_Glat</th>\n",
       "      <th>_RAJ2000</th>\n",
       "      <th>_DEJ2000</th>\n",
       "      <th>Cl</th>\n",
       "      <th>Name</th>\n",
       "      <th>Vmag</th>\n",
       "      <th>z</th>\n",
       "      <th>plate</th>\n",
       "      <th>path</th>\n",
       "      <th>dx</th>\n",
       "      <th>dy</th>\n",
       "    </tr>\n",
       "  </thead>\n",
       "  <tbody>\n",
       "    <tr>\n",
       "      <th>22</th>\n",
       "      <td>120.963506</td>\n",
       "      <td>-22.480532</td>\n",
       "      <td>10.472500</td>\n",
       "      <td>40.354722</td>\n",
       "      <td>Sy1</td>\n",
       "      <td>MARK 957</td>\n",
       "      <td>15.14</td>\n",
       "      <td>0.073</td>\n",
       "      <td>fbs0809_cor</td>\n",
       "      <td>data/images/22__MARK 957.tiff</td>\n",
       "      <td>4310.0</td>\n",
       "      <td>7798.0</td>\n",
       "    </tr>\n",
       "    <tr>\n",
       "      <th>23</th>\n",
       "      <td>121.040282</td>\n",
       "      <td>-22.511401</td>\n",
       "      <td>10.567083</td>\n",
       "      <td>40.326667</td>\n",
       "      <td>Sy1</td>\n",
       "      <td>IV Zw 29</td>\n",
       "      <td>16.30</td>\n",
       "      <td>0.102</td>\n",
       "      <td>fbs0809_cor</td>\n",
       "      <td>data/images/23__IV Zw 29.tiff</td>\n",
       "      <td>4140.0</td>\n",
       "      <td>7738.0</td>\n",
       "    </tr>\n",
       "    <tr>\n",
       "      <th>37</th>\n",
       "      <td>129.448039</td>\n",
       "      <td>-49.313722</td>\n",
       "      <td>17.220000</td>\n",
       "      <td>13.337222</td>\n",
       "      <td>Sy1</td>\n",
       "      <td>3C 33.0</td>\n",
       "      <td>15.90</td>\n",
       "      <td>0.060</td>\n",
       "      <td>fbs0089_cor</td>\n",
       "      <td>data/images/37__3C 33.0.tiff</td>\n",
       "      <td>2645.0</td>\n",
       "      <td>316.0</td>\n",
       "    </tr>\n",
       "    <tr>\n",
       "      <th>48</th>\n",
       "      <td>131.278073</td>\n",
       "      <td>-30.182368</td>\n",
       "      <td>21.380833</td>\n",
       "      <td>32.136389</td>\n",
       "      <td>Sy1</td>\n",
       "      <td>MARK 993</td>\n",
       "      <td>13.96</td>\n",
       "      <td>0.017</td>\n",
       "      <td>fbs0675a_cor</td>\n",
       "      <td>data/images/48__MARK 993.tiff</td>\n",
       "      <td>8208.0</td>\n",
       "      <td>7323.0</td>\n",
       "    </tr>\n",
       "    <tr>\n",
       "      <th>52</th>\n",
       "      <td>132.490266</td>\n",
       "      <td>-28.985106</td>\n",
       "      <td>22.849583</td>\n",
       "      <td>33.143889</td>\n",
       "      <td>Sy1</td>\n",
       "      <td>KUG 0128+328</td>\n",
       "      <td>16.50</td>\n",
       "      <td>0.070</td>\n",
       "      <td>fbs0768M_cor</td>\n",
       "      <td>data/images/52__KUG 0128+328.tiff</td>\n",
       "      <td>5245.0</td>\n",
       "      <td>7784.0</td>\n",
       "    </tr>\n",
       "  </tbody>\n",
       "</table>\n",
       "</div>"
      ],
      "text/plain": [
       "         _Glon      _Glat   _RAJ2000   _DEJ2000   Cl          Name   Vmag  \\\n",
       "22  120.963506 -22.480532  10.472500  40.354722  Sy1      MARK 957  15.14   \n",
       "23  121.040282 -22.511401  10.567083  40.326667  Sy1      IV Zw 29  16.30   \n",
       "37  129.448039 -49.313722  17.220000  13.337222  Sy1       3C 33.0  15.90   \n",
       "48  131.278073 -30.182368  21.380833  32.136389  Sy1      MARK 993  13.96   \n",
       "52  132.490266 -28.985106  22.849583  33.143889  Sy1  KUG 0128+328  16.50   \n",
       "\n",
       "        z         plate                               path      dx      dy  \n",
       "22  0.073   fbs0809_cor      data/images/22__MARK 957.tiff  4310.0  7798.0  \n",
       "23  0.102   fbs0809_cor      data/images/23__IV Zw 29.tiff  4140.0  7738.0  \n",
       "37  0.060   fbs0089_cor       data/images/37__3C 33.0.tiff  2645.0   316.0  \n",
       "48  0.017  fbs0675a_cor      data/images/48__MARK 993.tiff  8208.0  7323.0  \n",
       "52  0.070  fbs0768M_cor  data/images/52__KUG 0128+328.tiff  5245.0  7784.0  "
      ]
     },
     "execution_count": 71,
     "metadata": {},
     "output_type": "execute_result"
    }
   ],
   "source": [
    "data = pd.read_csv('./data/DFBS_extracted.csv', index_col='Unnamed: 0')\n",
    "data.head()"
   ]
  },
  {
   "cell_type": "code",
   "execution_count": 72,
   "metadata": {
    "pycharm": {
     "name": "#%%\n"
    }
   },
   "outputs": [],
   "source": [
    "# data = data[data['plate'].notna()]"
   ]
  },
  {
   "cell_type": "code",
   "execution_count": 73,
   "metadata": {
    "pycharm": {
     "name": "#%%\n"
    }
   },
   "outputs": [
    {
     "data": {
      "text/plain": [
       "('./data/images_2/1036__RXS J00281+3103.tiff', 364)"
      ]
     },
     "execution_count": 73,
     "metadata": {},
     "output_type": "execute_result"
    }
   ],
   "source": [
    "all_tiff_files = []\n",
    "listOfFiles = os.listdir('./data/images_2/')\n",
    "pattern = \"*.tiff\"\n",
    "for entry in listOfFiles:\n",
    "    if fnmatch(entry, pattern):\n",
    "        all_tiff_files.append('./data/images_2/'+entry)\n",
    "\n",
    "all_tiff_files[0], len(all_tiff_files)"
   ]
  },
  {
   "cell_type": "code",
   "execution_count": 74,
   "metadata": {
    "pycharm": {
     "name": "#%%\n"
    }
   },
   "outputs": [],
   "source": [
    "# data = data.drop_duplicates(subset=['Name'])"
   ]
  },
  {
   "cell_type": "code",
   "execution_count": 75,
   "metadata": {
    "pycharm": {
     "name": "#%%\n"
    }
   },
   "outputs": [],
   "source": [
    "from time import perf_counter"
   ]
  },
  {
   "cell_type": "code",
   "execution_count": 76,
   "metadata": {
    "pycharm": {
     "name": "#%%\n"
    }
   },
   "outputs": [
    {
     "name": "stdout",
     "output_type": "stream",
     "text": [
      "0.1503668000000289\n"
     ]
    },
    {
     "data": {
      "text/plain": [
       "(356, None)"
      ]
     },
     "execution_count": 76,
     "metadata": {},
     "output_type": "execute_result"
    }
   ],
   "source": [
    "new_index = 0\n",
    "arr_data = []\n",
    "t1 = perf_counter()\n",
    "for index, row in data.iterrows():\n",
    "    # if index == 0: continue\n",
    "    glon = row[\"_Glon\"]\n",
    "    glat = row[\"_Glat\"]\n",
    "    raj = row[\"_RAJ2000\"]\n",
    "    dej = row[\"_DEJ2000\"]\n",
    "    cl = row[\"Cl\"]\n",
    "    name = row[\"Name\"]\n",
    "    vmag = row[\"Vmag\"]\n",
    "    z = row[\"z\"]\n",
    "    plate = row[\"plate\"]\n",
    "    dx = row[\"dx\"]\n",
    "    dy = row[\"dy\"]\n",
    "    if cl == \"C\" or cl == \"cv\" : \n",
    "        continue\n",
    "        \n",
    "    for i in range(len(all_tiff_files)):\n",
    "        tiff_index, file_name = all_tiff_files[i].split(\"/\")[-1].split(\".tiff\")[0].split('__');\n",
    "        if (name == file_name) and (index == int(tiff_index)):\n",
    "            arr_data.append([name, cl, all_tiff_files[i]])\n",
    "            break\n",
    "\n",
    "len(arr_data), print(perf_counter() - t1)"
   ]
  },
  {
   "cell_type": "code",
   "execution_count": 77,
   "metadata": {
    "pycharm": {
     "name": "#%%\n"
    }
   },
   "outputs": [
    {
     "data": {
      "text/html": [
       "<div>\n",
       "<style scoped>\n",
       "    .dataframe tbody tr th:only-of-type {\n",
       "        vertical-align: middle;\n",
       "    }\n",
       "\n",
       "    .dataframe tbody tr th {\n",
       "        vertical-align: top;\n",
       "    }\n",
       "\n",
       "    .dataframe thead th {\n",
       "        text-align: right;\n",
       "    }\n",
       "</style>\n",
       "<table border=\"1\" class=\"dataframe\">\n",
       "  <thead>\n",
       "    <tr style=\"text-align: right;\">\n",
       "      <th></th>\n",
       "      <th>0</th>\n",
       "      <th>1</th>\n",
       "      <th>2</th>\n",
       "    </tr>\n",
       "  </thead>\n",
       "  <tbody>\n",
       "    <tr>\n",
       "      <th>0</th>\n",
       "      <td>MARK 957</td>\n",
       "      <td>Sy1</td>\n",
       "      <td>./data/images_2/22__MARK 957.tiff</td>\n",
       "    </tr>\n",
       "    <tr>\n",
       "      <th>1</th>\n",
       "      <td>IV Zw 29</td>\n",
       "      <td>Sy1</td>\n",
       "      <td>./data/images_2/23__IV Zw 29.tiff</td>\n",
       "    </tr>\n",
       "    <tr>\n",
       "      <th>2</th>\n",
       "      <td>3C 33.0</td>\n",
       "      <td>Sy1</td>\n",
       "      <td>./data/images_2/37__3C 33.0.tiff</td>\n",
       "    </tr>\n",
       "    <tr>\n",
       "      <th>3</th>\n",
       "      <td>MARK 993</td>\n",
       "      <td>Sy1</td>\n",
       "      <td>./data/images_2/48__MARK 993.tiff</td>\n",
       "    </tr>\n",
       "    <tr>\n",
       "      <th>4</th>\n",
       "      <td>KUG 0128+328</td>\n",
       "      <td>Sy1</td>\n",
       "      <td>./data/images_2/52__KUG 0128+328.tiff</td>\n",
       "    </tr>\n",
       "  </tbody>\n",
       "</table>\n",
       "</div>"
      ],
      "text/plain": [
       "              0    1                                      2\n",
       "0      MARK 957  Sy1      ./data/images_2/22__MARK 957.tiff\n",
       "1      IV Zw 29  Sy1      ./data/images_2/23__IV Zw 29.tiff\n",
       "2       3C 33.0  Sy1       ./data/images_2/37__3C 33.0.tiff\n",
       "3      MARK 993  Sy1      ./data/images_2/48__MARK 993.tiff\n",
       "4  KUG 0128+328  Sy1  ./data/images_2/52__KUG 0128+328.tiff"
      ]
     },
     "execution_count": 77,
     "metadata": {},
     "output_type": "execute_result"
    }
   ],
   "source": [
    "cl_data = pd.DataFrame(arr_data)\n",
    "cl_data.head()"
   ]
  },
  {
   "cell_type": "code",
   "execution_count": 78,
   "metadata": {
    "pycharm": {
     "name": "#%%\n"
    }
   },
   "outputs": [
    {
     "data": {
      "text/plain": [
       "M      113\n",
       "sd      61\n",
       "PN      61\n",
       "Mrk     45\n",
       "Sy1     38\n",
       "QSO     21\n",
       "WD      17\n",
       "Name: 1, dtype: int64"
      ]
     },
     "execution_count": 78,
     "metadata": {},
     "output_type": "execute_result"
    }
   ],
   "source": [
    "cl_data[1].value_counts()"
   ]
  },
  {
   "cell_type": "code",
   "execution_count": 79,
   "metadata": {
    "pycharm": {
     "name": "#%%\n"
    }
   },
   "outputs": [
    {
     "data": {
      "text/html": [
       "<div>\n",
       "<style scoped>\n",
       "    .dataframe tbody tr th:only-of-type {\n",
       "        vertical-align: middle;\n",
       "    }\n",
       "\n",
       "    .dataframe tbody tr th {\n",
       "        vertical-align: top;\n",
       "    }\n",
       "\n",
       "    .dataframe thead th {\n",
       "        text-align: right;\n",
       "    }\n",
       "</style>\n",
       "<table border=\"1\" class=\"dataframe\">\n",
       "  <thead>\n",
       "    <tr style=\"text-align: right;\">\n",
       "      <th></th>\n",
       "      <th>0</th>\n",
       "      <th>1</th>\n",
       "      <th>2</th>\n",
       "    </tr>\n",
       "  </thead>\n",
       "  <tbody>\n",
       "    <tr>\n",
       "      <th>0</th>\n",
       "      <td>MARK 957</td>\n",
       "      <td>4</td>\n",
       "      <td>./data/images_2/22__MARK 957.tiff</td>\n",
       "    </tr>\n",
       "    <tr>\n",
       "      <th>1</th>\n",
       "      <td>IV Zw 29</td>\n",
       "      <td>4</td>\n",
       "      <td>./data/images_2/23__IV Zw 29.tiff</td>\n",
       "    </tr>\n",
       "    <tr>\n",
       "      <th>2</th>\n",
       "      <td>3C 33.0</td>\n",
       "      <td>4</td>\n",
       "      <td>./data/images_2/37__3C 33.0.tiff</td>\n",
       "    </tr>\n",
       "    <tr>\n",
       "      <th>3</th>\n",
       "      <td>MARK 993</td>\n",
       "      <td>4</td>\n",
       "      <td>./data/images_2/48__MARK 993.tiff</td>\n",
       "    </tr>\n",
       "    <tr>\n",
       "      <th>4</th>\n",
       "      <td>KUG 0128+328</td>\n",
       "      <td>4</td>\n",
       "      <td>./data/images_2/52__KUG 0128+328.tiff</td>\n",
       "    </tr>\n",
       "  </tbody>\n",
       "</table>\n",
       "</div>"
      ],
      "text/plain": [
       "              0  1                                      2\n",
       "0      MARK 957  4      ./data/images_2/22__MARK 957.tiff\n",
       "1      IV Zw 29  4      ./data/images_2/23__IV Zw 29.tiff\n",
       "2       3C 33.0  4       ./data/images_2/37__3C 33.0.tiff\n",
       "3      MARK 993  4      ./data/images_2/48__MARK 993.tiff\n",
       "4  KUG 0128+328  4  ./data/images_2/52__KUG 0128+328.tiff"
      ]
     },
     "execution_count": 79,
     "metadata": {},
     "output_type": "execute_result"
    }
   ],
   "source": [
    "from sklearn.preprocessing import LabelEncoder\n",
    "le = LabelEncoder()\n",
    "le.fit(cl_data[1])\n",
    "cl_data[1]=le.transform(cl_data[1])\n",
    "cl_data.head()"
   ]
  },
  {
   "cell_type": "code",
   "execution_count": 80,
   "metadata": {
    "pycharm": {
     "name": "#%%\n"
    }
   },
   "outputs": [
    {
     "data": {
      "text/plain": [
       "0    113\n",
       "2     61\n",
       "6     61\n",
       "1     45\n",
       "4     38\n",
       "3     21\n",
       "5     17\n",
       "Name: 1, dtype: int64"
      ]
     },
     "execution_count": 80,
     "metadata": {},
     "output_type": "execute_result"
    }
   ],
   "source": [
    "cl_data[1].value_counts()"
   ]
  },
  {
   "cell_type": "code",
   "execution_count": 81,
   "metadata": {
    "pycharm": {
     "name": "#%%\n"
    }
   },
   "outputs": [],
   "source": [
    "X = cl_data.iloc[:, 2]\n",
    "Y = cl_data.iloc[:, 1]"
   ]
  },
  {
   "cell_type": "code",
   "execution_count": 82,
   "metadata": {
    "pycharm": {
     "name": "#%%\n"
    }
   },
   "outputs": [],
   "source": [
    "X = X.values\n",
    "Y = Y.values"
   ]
  },
  {
   "cell_type": "code",
   "execution_count": 83,
   "metadata": {
    "pycharm": {
     "name": "#%%\n"
    }
   },
   "outputs": [],
   "source": [
    "images_list = []\n",
    "max_width = 0\n",
    "max_height = 0\n",
    "ind = 0\n",
    "for i in range(len(X)):\n",
    "    im = Image.open(X[i])\n",
    "    arr = np.array(im)#.flatten()\n",
    "    \n",
    "    arr=(arr-arr.min())/(arr.max()-arr.min())\n",
    "    #arr = arr / 0xffff\n",
    "    s = arr.shape\n",
    "    if s[0] > max_height:\n",
    "        max_height = s[0]\n",
    "    if s[1] > max_width:\n",
    "        max_width = s[1]\n",
    "        ind = i\n",
    "    images_list.append(arr)"
   ]
  },
  {
   "cell_type": "code",
   "execution_count": 84,
   "metadata": {
    "pycharm": {
     "name": "#%%\n"
    }
   },
   "outputs": [
    {
     "name": "stdout",
     "output_type": "stream",
     "text": [
      "20 140\n"
     ]
    }
   ],
   "source": [
    "print(max_width, max_height)\n",
    "max_width, max_height = 20, 140"
   ]
  },
  {
   "cell_type": "code",
   "execution_count": 85,
   "metadata": {
    "pycharm": {
     "name": "#%%\n"
    }
   },
   "outputs": [],
   "source": [
    "for i in range(len(images_list)):\n",
    "    s = images_list[i].shape\n",
    "    d_width = (max_width - s[1])\n",
    "    d_height = (max_height - s[0])\n",
    "    \n",
    "    d_top = int(d_height / 2)\n",
    "    d_bottom = int(d_height - d_top)\n",
    "    \n",
    "    d_left = int(d_width / 2)\n",
    "    d_right = int(d_width - d_left)\n",
    "    #print(d_top, d_bottom, d_left, d_right)\n",
    "    \n",
    "    arr = images_list[i]\n",
    "    for l in range(d_left):\n",
    "        arr = np.insert(arr, 0, 0, axis = 1)\n",
    "    \n",
    "    for r in range(d_right):\n",
    "        b = np.zeros((s[0],1))\n",
    "        arr = np.append(arr, b, axis = 1)\n",
    "    \n",
    "    for t in range(d_top):\n",
    "        arr = np.insert(arr, 0, 0, axis = 0)\n",
    "    \n",
    "    for b in range(d_bottom):\n",
    "        b = np.zeros((1, arr.shape[1],))\n",
    "        arr = np.append(arr, b, axis = 0)\n",
    "    \n",
    "    images_list[i] = arr#.flatten()"
   ]
  },
  {
   "cell_type": "code",
   "execution_count": 86,
   "metadata": {
    "pycharm": {
     "name": "#%%\n"
    }
   },
   "outputs": [
    {
     "name": "stdout",
     "output_type": "stream",
     "text": [
      "20 140\n"
     ]
    },
    {
     "data": {
      "image/png": "[encoded data removed]",
      "text/plain": [
       "<Figure size 432x288 with 1 Axes>"
      ]
     },
     "metadata": {
      "needs_background": "light"
     },
     "output_type": "display_data"
    }
   ],
   "source": [
    "width = max_width\n",
    "height = max_height\n",
    "print(width, height)\n",
    "plt.imshow(images_list[100])\n",
    "plt.gray()\n",
    "plt.show()"
   ]
  },
  {
   "cell_type": "code",
   "execution_count": 87,
   "metadata": {
    "pycharm": {
     "name": "#%%\n"
    }
   },
   "outputs": [
    {
     "name": "stdout",
     "output_type": "stream",
     "text": [
      "[name: \"/device:CPU:0\"\n",
      "device_type: \"CPU\"\n",
      "memory_limit: 268435456\n",
      "locality {\n",
      "}\n",
      "incarnation: 9225545404051689851\n",
      "xla_global_id: -1\n",
      ", name: \"/device:GPU:0\"\n",
      "device_type: \"GPU\"\n",
      "memory_limit: 1425070491\n",
      "locality {\n",
      "  bus_id: 1\n",
      "  links {\n",
      "  }\n",
      "}\n",
      "incarnation: 13721973650599192449\n",
      "physical_device_desc: \"device: 0, name: NVIDIA GeForce 940MX, pci bus id: 0000:01:00.0, compute capability: 5.0\"\n",
      "xla_global_id: 416903419\n",
      "]\n"
     ]
    }
   ],
   "source": [
    "from tensorflow.python.client import device_lib\n",
    "import tensorflow as tf\n",
    "import keras\n",
    "print(device_lib.list_local_devices())"
   ]
  },
  {
   "cell_type": "code",
   "execution_count": 88,
   "metadata": {
    "pycharm": {
     "name": "#%%\n"
    }
   },
   "outputs": [],
   "source": [
    "images_np = np.array(images_list)\n",
    "file_names_np = np.array(all_tiff_files)"
   ]
  },
  {
   "cell_type": "code",
   "execution_count": 89,
   "metadata": {
    "pycharm": {
     "name": "#%%\n"
    }
   },
   "outputs": [],
   "source": [
    "X_train, X_test, Y_train, Y_test = train_test_split(images_np, Y, test_size=0.2, random_state=100, stratify=Y)\n",
    "Y_train = tf.keras.utils.to_categorical(Y_train, 7)\n",
    "Y_test = tf.keras.utils.to_categorical(Y_test, 7)"
   ]
  },
  {
   "cell_type": "code",
   "execution_count": 90,
   "metadata": {
    "pycharm": {
     "name": "#%%\n"
    }
   },
   "outputs": [],
   "source": [
    "X_train = X_train.reshape(X_train.shape[0], 140, 20, 1)\n",
    "X_test = X_test.reshape(X_test.shape[0], 140, 20, 1)\n",
    "input_shape = (140, 20, 1)"
   ]
  },
  {
   "cell_type": "code",
   "execution_count": 91,
   "metadata": {
    "pycharm": {
     "name": "#%%\n"
    }
   },
   "outputs": [
    {
     "name": "stdout",
     "output_type": "stream",
     "text": [
      "x_train shape: (284, 140, 20, 1)\n",
      "284 train samples\n",
      "72 test samples\n"
     ]
    }
   ],
   "source": [
    "print('x_train shape:', X_train.shape)\n",
    "print(X_train.shape[0], 'train samples')\n",
    "print(X_test.shape[0], 'test samples')"
   ]
  },
  {
   "cell_type": "code",
   "execution_count": 92,
   "metadata": {
    "pycharm": {
     "name": "#%%\n"
    }
   },
   "outputs": [],
   "source": [
    "from keras.models import Sequential\n",
    "from keras.layers import Dense, Conv2D, Dropout, Flatten, MaxPooling2D, Activation\n",
    "\n",
    "model = Sequential()\n",
    "model.add(Conv2D(128, kernel_size=(3,3), input_shape=input_shape, padding=\"same\"))\n",
    "model.add(MaxPooling2D(pool_size=(3, 1)))\n",
    "\n",
    "model.add(Conv2D(64, (3, 3), padding=\"same\"))\n",
    "model.add(Activation('relu'))\n",
    "model.add(MaxPooling2D(pool_size=(3, 1)))\n",
    "\n",
    "model.add(Conv2D(32, (3, 3), padding=\"same\"))\n",
    "model.add(Activation('relu'))\n",
    "model.add(MaxPooling2D(pool_size=(3, 4)))\n",
    "\n",
    "model.add(Flatten()) # Flattening the 2D arrays for fully connected layers\n",
    "model.add(Dense(128, activation=tf.nn.relu))\n",
    "model.add(Dropout(0.5))\n",
    "model.add(Dense(7,activation=tf.nn.softmax))"
   ]
  },
  {
   "cell_type": "code",
   "execution_count": 93,
   "metadata": {
    "pycharm": {
     "name": "#%%\n"
    }
   },
   "outputs": [],
   "source": [
    "from keras.regularizers import l2\n",
    "from keras.regularizers import l1\n",
    "from keras.layers import Dropout, BatchNormalization, Input\n",
    "from tensorflow.keras import Model\n",
    "inpu_dim = X_train.shape[1]\n",
    "h_1 = 2048\n",
    "h_2 = 1024\n",
    "h_3 = 512\n",
    "out_shape = 7\n",
    "\n",
    "input_vect = Input(shape = (inpu_dim,))\n",
    "x = BatchNormalization()(input_vect)\n",
    "x = Dropout(0.5)(x)\n",
    "x = Dense(h_1, activation=\"relu\")(x)\n",
    "x = BatchNormalization()(x)\n",
    "x = Dropout(0.5)(x)\n",
    "x = Dense(h_2, activation=\"relu\")(x)\n",
    "x = BatchNormalization()(x)\n",
    "x = Dropout(0.5)(x)\n",
    "x = Dense(h_3, activation=\"relu\")(x)\n",
    "x = BatchNormalization()(x)\n",
    "x = Dropout(0.5)(x)\n",
    "encoded = Dense(out_shape, activation='softmax')(x)\n",
    "\n",
    "encoder = Model(input_vect, encoded)"
   ]
  },
  {
   "cell_type": "code",
   "execution_count": 94,
   "metadata": {
    "pycharm": {
     "name": "#%%\n"
    }
   },
   "outputs": [
    {
     "name": "stdout",
     "output_type": "stream",
     "text": [
      "Model: \"sequential_1\"\n",
      "_________________________________________________________________\n",
      " Layer (type)                Output Shape              Param #   \n",
      "=================================================================\n",
      " conv2d_3 (Conv2D)           (None, 140, 20, 128)      1280      \n",
      "                                                                 \n",
      " max_pooling2d_3 (MaxPooling  (None, 46, 20, 128)      0         \n",
      " 2D)                                                             \n",
      "                                                                 \n",
      " conv2d_4 (Conv2D)           (None, 46, 20, 64)        73792     \n",
      "                                                                 \n",
      " activation_2 (Activation)   (None, 46, 20, 64)        0         \n",
      "                                                                 \n",
      " max_pooling2d_4 (MaxPooling  (None, 15, 20, 64)       0         \n",
      " 2D)                                                             \n",
      "                                                                 \n",
      " conv2d_5 (Conv2D)           (None, 15, 20, 32)        18464     \n",
      "                                                                 \n",
      " activation_3 (Activation)   (None, 15, 20, 32)        0         \n",
      "                                                                 \n",
      " max_pooling2d_5 (MaxPooling  (None, 5, 5, 32)         0         \n",
      " 2D)                                                             \n",
      "                                                                 \n",
      " flatten_1 (Flatten)         (None, 800)               0         \n",
      "                                                                 \n",
      " dense_6 (Dense)             (None, 128)               102528    \n",
      "                                                                 \n",
      " dropout_5 (Dropout)         (None, 128)               0         \n",
      "                                                                 \n",
      " dense_7 (Dense)             (None, 7)                 903       \n",
      "                                                                 \n",
      "=================================================================\n",
      "Total params: 196,967\n",
      "Trainable params: 196,967\n",
      "Non-trainable params: 0\n",
      "_________________________________________________________________\n"
     ]
    }
   ],
   "source": [
    "model.summary()"
   ]
  },
  {
   "cell_type": "code",
   "execution_count": 95,
   "metadata": {
    "pycharm": {
     "name": "#%%\n"
    }
   },
   "outputs": [],
   "source": [
    "#image data generator keras\n",
    "cw = {0:1, 1:1, 2:4, 3:1, 4:4, 5:1, 6:1}\n",
    "adadelta = tf.keras.optimizers.Adadelta(learning_rate=0.1, rho=0.95)\n",
    "model.compile(optimizer=adadelta , loss='binary_crossentropy', metrics=['accuracy'])"
   ]
  },
  {
   "cell_type": "code",
   "execution_count": 96,
   "metadata": {
    "pycharm": {
     "name": "#%%\n"
    }
   },
   "outputs": [
    {
     "name": "stdout",
     "output_type": "stream",
     "text": [
      "Epoch 1/100\n",
      "5/5 [==============================] - 3s 403ms/step - loss: 0.7526 - accuracy: 0.1232 - val_loss: 0.4075 - val_accuracy: 0.1667\n",
      "Epoch 2/100\n",
      "5/5 [==============================] - 1s 106ms/step - loss: 0.7266 - accuracy: 0.1796 - val_loss: 0.4084 - val_accuracy: 0.1667\n",
      "Epoch 3/100\n",
      "5/5 [==============================] - 1s 105ms/step - loss: 0.7058 - accuracy: 0.1725 - val_loss: 0.4127 - val_accuracy: 0.1667\n",
      "Epoch 4/100\n",
      "5/5 [==============================] - 1s 103ms/step - loss: 0.7007 - accuracy: 0.1725 - val_loss: 0.4099 - val_accuracy: 0.1667\n",
      "Epoch 5/100\n",
      "5/5 [==============================] - 1s 110ms/step - loss: 0.6855 - accuracy: 0.1585 - val_loss: 0.4071 - val_accuracy: 0.1667\n",
      "Epoch 6/100\n",
      "5/5 [==============================] - 1s 101ms/step - loss: 0.6756 - accuracy: 0.1655 - val_loss: 0.4050 - val_accuracy: 0.1667\n",
      "Epoch 7/100\n",
      "5/5 [==============================] - 1s 105ms/step - loss: 0.6626 - accuracy: 0.1866 - val_loss: 0.4100 - val_accuracy: 0.1667\n",
      "Epoch 8/100\n",
      "5/5 [==============================] - 1s 102ms/step - loss: 0.6654 - accuracy: 0.1690 - val_loss: 0.4060 - val_accuracy: 0.1667\n",
      "Epoch 9/100\n",
      "5/5 [==============================] - 0s 101ms/step - loss: 0.6571 - accuracy: 0.2113 - val_loss: 0.4072 - val_accuracy: 0.1667\n",
      "Epoch 10/100\n",
      "5/5 [==============================] - 1s 101ms/step - loss: 0.6516 - accuracy: 0.1937 - val_loss: 0.4074 - val_accuracy: 0.1667\n",
      "Epoch 11/100\n",
      "5/5 [==============================] - 1s 103ms/step - loss: 0.6485 - accuracy: 0.1796 - val_loss: 0.4113 - val_accuracy: 0.1667\n",
      "Epoch 12/100\n",
      "5/5 [==============================] - 1s 102ms/step - loss: 0.6489 - accuracy: 0.2007 - val_loss: 0.4033 - val_accuracy: 0.1667\n",
      "Epoch 13/100\n",
      "5/5 [==============================] - 1s 102ms/step - loss: 0.6376 - accuracy: 0.1901 - val_loss: 0.4031 - val_accuracy: 0.1667\n",
      "Epoch 14/100\n",
      "5/5 [==============================] - 0s 100ms/step - loss: 0.6398 - accuracy: 0.2077 - val_loss: 0.4039 - val_accuracy: 0.1667\n",
      "Epoch 15/100\n",
      "5/5 [==============================] - 1s 101ms/step - loss: 0.6378 - accuracy: 0.1796 - val_loss: 0.4016 - val_accuracy: 0.1667\n",
      "Epoch 16/100\n",
      "5/5 [==============================] - 0s 101ms/step - loss: 0.6252 - accuracy: 0.2148 - val_loss: 0.4106 - val_accuracy: 0.1667\n",
      "Epoch 17/100\n",
      "5/5 [==============================] - 1s 101ms/step - loss: 0.6306 - accuracy: 0.1901 - val_loss: 0.3963 - val_accuracy: 0.1667\n",
      "Epoch 18/100\n",
      "5/5 [==============================] - 0s 100ms/step - loss: 0.6186 - accuracy: 0.2042 - val_loss: 0.4116 - val_accuracy: 0.1667\n",
      "Epoch 19/100\n",
      "5/5 [==============================] - 0s 101ms/step - loss: 0.6341 - accuracy: 0.1796 - val_loss: 0.3948 - val_accuracy: 0.1667\n",
      "Epoch 20/100\n",
      "5/5 [==============================] - 1s 111ms/step - loss: 0.6339 - accuracy: 0.1761 - val_loss: 0.4024 - val_accuracy: 0.1667\n",
      "Epoch 21/100\n",
      "5/5 [==============================] - 1s 102ms/step - loss: 0.5990 - accuracy: 0.2254 - val_loss: 0.4154 - val_accuracy: 0.1667\n",
      "Epoch 22/100\n",
      "5/5 [==============================] - 0s 100ms/step - loss: 0.6285 - accuracy: 0.1866 - val_loss: 0.3940 - val_accuracy: 0.1806\n",
      "Epoch 23/100\n",
      "5/5 [==============================] - 1s 103ms/step - loss: 0.6106 - accuracy: 0.1972 - val_loss: 0.3892 - val_accuracy: 0.1667\n",
      "Epoch 24/100\n",
      "5/5 [==============================] - 1s 106ms/step - loss: 0.6101 - accuracy: 0.2394 - val_loss: 0.3923 - val_accuracy: 0.1667\n",
      "Epoch 25/100\n",
      "5/5 [==============================] - 1s 102ms/step - loss: 0.6013 - accuracy: 0.2113 - val_loss: 0.3861 - val_accuracy: 0.1667\n",
      "Epoch 26/100\n",
      "5/5 [==============================] - 1s 103ms/step - loss: 0.5961 - accuracy: 0.2394 - val_loss: 0.3878 - val_accuracy: 0.1667\n",
      "Epoch 27/100\n",
      "5/5 [==============================] - 1s 105ms/step - loss: 0.6067 - accuracy: 0.2535 - val_loss: 0.3766 - val_accuracy: 0.2639\n",
      "Epoch 28/100\n",
      "5/5 [==============================] - 1s 104ms/step - loss: 0.6040 - accuracy: 0.2394 - val_loss: 0.3889 - val_accuracy: 0.1667\n",
      "Epoch 29/100\n",
      "5/5 [==============================] - 1s 102ms/step - loss: 0.6037 - accuracy: 0.2570 - val_loss: 0.3719 - val_accuracy: 0.2639\n",
      "Epoch 30/100\n",
      "5/5 [==============================] - 1s 102ms/step - loss: 0.5809 - accuracy: 0.2570 - val_loss: 0.3827 - val_accuracy: 0.1667\n",
      "Epoch 31/100\n",
      "5/5 [==============================] - 1s 105ms/step - loss: 0.5947 - accuracy: 0.2570 - val_loss: 0.3890 - val_accuracy: 0.1667\n",
      "Epoch 32/100\n",
      "5/5 [==============================] - 1s 102ms/step - loss: 0.5793 - accuracy: 0.2324 - val_loss: 0.3774 - val_accuracy: 0.1667\n",
      "Epoch 33/100\n",
      "5/5 [==============================] - 1s 102ms/step - loss: 0.5870 - accuracy: 0.2500 - val_loss: 0.3640 - val_accuracy: 0.2639\n",
      "Epoch 34/100\n",
      "5/5 [==============================] - 1s 104ms/step - loss: 0.5724 - accuracy: 0.2606 - val_loss: 0.3508 - val_accuracy: 0.4861\n",
      "Epoch 35/100\n",
      "5/5 [==============================] - 1s 105ms/step - loss: 0.5828 - accuracy: 0.2958 - val_loss: 0.3755 - val_accuracy: 0.2222\n",
      "Epoch 36/100\n",
      "5/5 [==============================] - 1s 102ms/step - loss: 0.5695 - accuracy: 0.2465 - val_loss: 0.3625 - val_accuracy: 0.1667\n",
      "Epoch 37/100\n",
      "5/5 [==============================] - 0s 100ms/step - loss: 0.5605 - accuracy: 0.2852 - val_loss: 0.3570 - val_accuracy: 0.2639\n",
      "Epoch 38/100\n",
      "5/5 [==============================] - 1s 110ms/step - loss: 0.5684 - accuracy: 0.2887 - val_loss: 0.3526 - val_accuracy: 0.2639\n",
      "Epoch 39/100\n",
      "5/5 [==============================] - 1s 106ms/step - loss: 0.5739 - accuracy: 0.2606 - val_loss: 0.3629 - val_accuracy: 0.2500\n",
      "Epoch 40/100\n",
      "5/5 [==============================] - 1s 125ms/step - loss: 0.5613 - accuracy: 0.2746 - val_loss: 0.3796 - val_accuracy: 0.1667\n",
      "Epoch 41/100\n",
      "5/5 [==============================] - 1s 104ms/step - loss: 0.5574 - accuracy: 0.2676 - val_loss: 0.3617 - val_accuracy: 0.2222\n",
      "Epoch 42/100\n",
      "5/5 [==============================] - 1s 105ms/step - loss: 0.5549 - accuracy: 0.2852 - val_loss: 0.3534 - val_accuracy: 0.2778\n",
      "Epoch 43/100\n",
      "5/5 [==============================] - 1s 104ms/step - loss: 0.5511 - accuracy: 0.2887 - val_loss: 0.3460 - val_accuracy: 0.2917\n",
      "Epoch 44/100\n",
      "5/5 [==============================] - 1s 106ms/step - loss: 0.5614 - accuracy: 0.2923 - val_loss: 0.3566 - val_accuracy: 0.2222\n",
      "Epoch 45/100\n",
      "5/5 [==============================] - 1s 106ms/step - loss: 0.5648 - accuracy: 0.2465 - val_loss: 0.3568 - val_accuracy: 0.2778\n",
      "Epoch 46/100\n",
      "5/5 [==============================] - 0s 100ms/step - loss: 0.5385 - accuracy: 0.3486 - val_loss: 0.3490 - val_accuracy: 0.4583\n",
      "Epoch 47/100\n",
      "5/5 [==============================] - 0s 100ms/step - loss: 0.5625 - accuracy: 0.3028 - val_loss: 0.3366 - val_accuracy: 0.4722\n",
      "Epoch 48/100\n",
      "5/5 [==============================] - 0s 101ms/step - loss: 0.5503 - accuracy: 0.3310 - val_loss: 0.3486 - val_accuracy: 0.2361\n",
      "Epoch 49/100\n",
      "5/5 [==============================] - 1s 102ms/step - loss: 0.5488 - accuracy: 0.2887 - val_loss: 0.3512 - val_accuracy: 0.2639\n",
      "Epoch 50/100\n",
      "5/5 [==============================] - 1s 109ms/step - loss: 0.5426 - accuracy: 0.2817 - val_loss: 0.3490 - val_accuracy: 0.2778\n",
      "Epoch 51/100\n",
      "5/5 [==============================] - 1s 104ms/step - loss: 0.5279 - accuracy: 0.3451 - val_loss: 0.3499 - val_accuracy: 0.2361\n",
      "Epoch 52/100\n",
      "5/5 [==============================] - 1s 102ms/step - loss: 0.5433 - accuracy: 0.2993 - val_loss: 0.3412 - val_accuracy: 0.4028\n",
      "Epoch 53/100\n",
      "5/5 [==============================] - 1s 103ms/step - loss: 0.5281 - accuracy: 0.3275 - val_loss: 0.3681 - val_accuracy: 0.2361\n",
      "Epoch 54/100\n",
      "5/5 [==============================] - 0s 100ms/step - loss: 0.5417 - accuracy: 0.2993 - val_loss: 0.3544 - val_accuracy: 0.2778\n",
      "Epoch 55/100\n",
      "5/5 [==============================] - 1s 103ms/step - loss: 0.5362 - accuracy: 0.3204 - val_loss: 0.3489 - val_accuracy: 0.2778\n",
      "Epoch 56/100\n",
      "5/5 [==============================] - 1s 104ms/step - loss: 0.5283 - accuracy: 0.3415 - val_loss: 0.3480 - val_accuracy: 0.2778\n",
      "Epoch 57/100\n",
      "5/5 [==============================] - 1s 102ms/step - loss: 0.5237 - accuracy: 0.3451 - val_loss: 0.3355 - val_accuracy: 0.4167\n",
      "Epoch 58/100\n",
      "5/5 [==============================] - 0s 100ms/step - loss: 0.5281 - accuracy: 0.3521 - val_loss: 0.3332 - val_accuracy: 0.3056\n",
      "Epoch 59/100\n",
      "5/5 [==============================] - 1s 115ms/step - loss: 0.5140 - accuracy: 0.3310 - val_loss: 0.3334 - val_accuracy: 0.4861\n",
      "Epoch 60/100\n",
      "5/5 [==============================] - 1s 106ms/step - loss: 0.5185 - accuracy: 0.3521 - val_loss: 0.3444 - val_accuracy: 0.2639\n",
      "Epoch 61/100\n",
      "5/5 [==============================] - 1s 113ms/step - loss: 0.5151 - accuracy: 0.2887 - val_loss: 0.3282 - val_accuracy: 0.4861\n",
      "Epoch 62/100\n",
      "5/5 [==============================] - 1s 105ms/step - loss: 0.5214 - accuracy: 0.3345 - val_loss: 0.3378 - val_accuracy: 0.2778\n",
      "Epoch 63/100\n",
      "5/5 [==============================] - 1s 104ms/step - loss: 0.5235 - accuracy: 0.3380 - val_loss: 0.3456 - val_accuracy: 0.2778\n",
      "Epoch 64/100\n",
      "5/5 [==============================] - 1s 103ms/step - loss: 0.5249 - accuracy: 0.3134 - val_loss: 0.3264 - val_accuracy: 0.5139\n",
      "Epoch 65/100\n",
      "5/5 [==============================] - 1s 101ms/step - loss: 0.5197 - accuracy: 0.3451 - val_loss: 0.3336 - val_accuracy: 0.2778\n",
      "Epoch 66/100\n",
      "5/5 [==============================] - 0s 101ms/step - loss: 0.5119 - accuracy: 0.3169 - val_loss: 0.3283 - val_accuracy: 0.4722\n",
      "Epoch 67/100\n",
      "5/5 [==============================] - 0s 101ms/step - loss: 0.5109 - accuracy: 0.3486 - val_loss: 0.3470 - val_accuracy: 0.2500\n",
      "Epoch 68/100\n",
      "5/5 [==============================] - 0s 100ms/step - loss: 0.5025 - accuracy: 0.3592 - val_loss: 0.3361 - val_accuracy: 0.2778\n",
      "Epoch 69/100\n",
      "5/5 [==============================] - 1s 104ms/step - loss: 0.5158 - accuracy: 0.3204 - val_loss: 0.3331 - val_accuracy: 0.2778\n",
      "Epoch 70/100\n",
      "5/5 [==============================] - 1s 102ms/step - loss: 0.5061 - accuracy: 0.3415 - val_loss: 0.3233 - val_accuracy: 0.3889\n",
      "Epoch 71/100\n",
      "5/5 [==============================] - 1s 102ms/step - loss: 0.5033 - accuracy: 0.3310 - val_loss: 0.3324 - val_accuracy: 0.2778\n",
      "Epoch 72/100\n",
      "5/5 [==============================] - 0s 100ms/step - loss: 0.5104 - accuracy: 0.2887 - val_loss: 0.3231 - val_accuracy: 0.4306\n",
      "Epoch 73/100\n",
      "5/5 [==============================] - 1s 109ms/step - loss: 0.4886 - accuracy: 0.3697 - val_loss: 0.3377 - val_accuracy: 0.2778\n",
      "Epoch 74/100\n",
      "5/5 [==============================] - 1s 103ms/step - loss: 0.5083 - accuracy: 0.3239 - val_loss: 0.3399 - val_accuracy: 0.2778\n",
      "Epoch 75/100\n",
      "5/5 [==============================] - 1s 107ms/step - loss: 0.4965 - accuracy: 0.3239 - val_loss: 0.3274 - val_accuracy: 0.4306\n",
      "Epoch 76/100\n",
      "5/5 [==============================] - 1s 104ms/step - loss: 0.4963 - accuracy: 0.3380 - val_loss: 0.3234 - val_accuracy: 0.4028\n",
      "Epoch 77/100\n",
      "5/5 [==============================] - 1s 104ms/step - loss: 0.4951 - accuracy: 0.3979 - val_loss: 0.3373 - val_accuracy: 0.2778\n",
      "Epoch 78/100\n",
      "5/5 [==============================] - 1s 102ms/step - loss: 0.4848 - accuracy: 0.3239 - val_loss: 0.3283 - val_accuracy: 0.2778\n",
      "Epoch 79/100\n",
      "5/5 [==============================] - 1s 115ms/step - loss: 0.4959 - accuracy: 0.3028 - val_loss: 0.3397 - val_accuracy: 0.2778\n",
      "Epoch 80/100\n",
      "5/5 [==============================] - 1s 108ms/step - loss: 0.4867 - accuracy: 0.3275 - val_loss: 0.3805 - val_accuracy: 0.2361\n",
      "Epoch 81/100\n",
      "5/5 [==============================] - 1s 104ms/step - loss: 0.5031 - accuracy: 0.3345 - val_loss: 0.3215 - val_accuracy: 0.4167\n",
      "Epoch 82/100\n",
      "5/5 [==============================] - 1s 102ms/step - loss: 0.4948 - accuracy: 0.3451 - val_loss: 0.3258 - val_accuracy: 0.4167\n",
      "Epoch 83/100\n",
      "5/5 [==============================] - 0s 100ms/step - loss: 0.4781 - accuracy: 0.3803 - val_loss: 0.3416 - val_accuracy: 0.2778\n",
      "Epoch 84/100\n",
      "5/5 [==============================] - 1s 103ms/step - loss: 0.4766 - accuracy: 0.3134 - val_loss: 0.3177 - val_accuracy: 0.4722\n",
      "Epoch 85/100\n",
      "5/5 [==============================] - 1s 102ms/step - loss: 0.4836 - accuracy: 0.3768 - val_loss: 0.3217 - val_accuracy: 0.5000\n",
      "Epoch 86/100\n",
      "5/5 [==============================] - 1s 125ms/step - loss: 0.4720 - accuracy: 0.4366 - val_loss: 0.3300 - val_accuracy: 0.2917\n",
      "Epoch 87/100\n",
      "5/5 [==============================] - 1s 103ms/step - loss: 0.4881 - accuracy: 0.3873 - val_loss: 0.3243 - val_accuracy: 0.2778\n",
      "Epoch 88/100\n",
      "5/5 [==============================] - 1s 101ms/step - loss: 0.4708 - accuracy: 0.3768 - val_loss: 0.3337 - val_accuracy: 0.2778\n",
      "Epoch 89/100\n",
      "5/5 [==============================] - 1s 106ms/step - loss: 0.4828 - accuracy: 0.3627 - val_loss: 0.3380 - val_accuracy: 0.2778\n",
      "Epoch 90/100\n",
      "5/5 [==============================] - 1s 102ms/step - loss: 0.4634 - accuracy: 0.3451 - val_loss: 0.3282 - val_accuracy: 0.2778\n",
      "Epoch 91/100\n",
      "5/5 [==============================] - 1s 102ms/step - loss: 0.4728 - accuracy: 0.3662 - val_loss: 0.3308 - val_accuracy: 0.2778\n",
      "Epoch 92/100\n",
      "5/5 [==============================] - 1s 107ms/step - loss: 0.4734 - accuracy: 0.3451 - val_loss: 0.3143 - val_accuracy: 0.4861\n",
      "Epoch 93/100\n",
      "5/5 [==============================] - 1s 102ms/step - loss: 0.4690 - accuracy: 0.3803 - val_loss: 0.3078 - val_accuracy: 0.5139\n",
      "Epoch 94/100\n",
      "5/5 [==============================] - 1s 101ms/step - loss: 0.4731 - accuracy: 0.4014 - val_loss: 0.3094 - val_accuracy: 0.5278\n",
      "Epoch 95/100\n",
      "5/5 [==============================] - 1s 102ms/step - loss: 0.4649 - accuracy: 0.3873 - val_loss: 0.3332 - val_accuracy: 0.3611\n",
      "Epoch 96/100\n",
      "5/5 [==============================] - 0s 100ms/step - loss: 0.4759 - accuracy: 0.3768 - val_loss: 0.3134 - val_accuracy: 0.5278\n",
      "Epoch 97/100\n",
      "5/5 [==============================] - 0s 101ms/step - loss: 0.4727 - accuracy: 0.3979 - val_loss: 0.3110 - val_accuracy: 0.5278\n",
      "Epoch 98/100\n",
      "5/5 [==============================] - 1s 101ms/step - loss: 0.4577 - accuracy: 0.4014 - val_loss: 0.3199 - val_accuracy: 0.2917\n",
      "Epoch 99/100\n",
      "5/5 [==============================] - 1s 102ms/step - loss: 0.4759 - accuracy: 0.3627 - val_loss: 0.3161 - val_accuracy: 0.3056\n",
      "Epoch 100/100\n",
      "5/5 [==============================] - 1s 117ms/step - loss: 0.4665 - accuracy: 0.3732 - val_loss: 0.3196 - val_accuracy: 0.5278\n"
     ]
    }
   ],
   "source": [
    "with tf.device('GPU:0'):\n",
    "    history = model.fit(X_train, Y_train, epochs = 100, batch_size = 64, shuffle=True, validation_data=(X_test, Y_test), class_weight=cw)"
   ]
  },
  {
   "cell_type": "code",
   "execution_count": 97,
   "metadata": {
    "pycharm": {
     "name": "#%%\n"
    }
   },
   "outputs": [
    {
     "name": "stdout",
     "output_type": "stream",
     "text": [
      "Epoch 1/100\n",
      "5/5 [==============================] - 1s 112ms/step - loss: 0.4574 - accuracy: 0.3838 - val_loss: 0.3080 - val_accuracy: 0.5417\n",
      "Epoch 2/100\n",
      "5/5 [==============================] - 0s 100ms/step - loss: 0.4688 - accuracy: 0.3979 - val_loss: 0.3012 - val_accuracy: 0.5417\n",
      "Epoch 3/100\n",
      "5/5 [==============================] - 0s 100ms/step - loss: 0.4573 - accuracy: 0.4120 - val_loss: 0.3383 - val_accuracy: 0.2917\n",
      "Epoch 4/100\n",
      "5/5 [==============================] - 1s 102ms/step - loss: 0.4635 - accuracy: 0.3486 - val_loss: 0.3105 - val_accuracy: 0.5139\n",
      "Epoch 5/100\n",
      "5/5 [==============================] - 1s 105ms/step - loss: 0.4630 - accuracy: 0.3697 - val_loss: 0.3045 - val_accuracy: 0.4861\n",
      "Epoch 6/100\n",
      "5/5 [==============================] - 1s 108ms/step - loss: 0.4517 - accuracy: 0.4296 - val_loss: 0.3258 - val_accuracy: 0.3194\n",
      "Epoch 7/100\n",
      "5/5 [==============================] - 1s 101ms/step - loss: 0.4537 - accuracy: 0.3979 - val_loss: 0.3204 - val_accuracy: 0.3194\n",
      "Epoch 8/100\n",
      "5/5 [==============================] - 1s 105ms/step - loss: 0.4693 - accuracy: 0.3556 - val_loss: 0.3051 - val_accuracy: 0.5694\n",
      "Epoch 9/100\n",
      "5/5 [==============================] - 1s 104ms/step - loss: 0.4552 - accuracy: 0.4049 - val_loss: 0.3145 - val_accuracy: 0.2917\n",
      "Epoch 10/100\n",
      "5/5 [==============================] - 1s 105ms/step - loss: 0.4513 - accuracy: 0.3768 - val_loss: 0.2964 - val_accuracy: 0.5694\n",
      "Epoch 11/100\n",
      "5/5 [==============================] - 1s 102ms/step - loss: 0.4561 - accuracy: 0.4261 - val_loss: 0.3020 - val_accuracy: 0.5417\n",
      "Epoch 12/100\n",
      "5/5 [==============================] - 1s 102ms/step - loss: 0.4648 - accuracy: 0.4331 - val_loss: 0.3061 - val_accuracy: 0.3056\n",
      "Epoch 13/100\n",
      "5/5 [==============================] - 1s 108ms/step - loss: 0.4543 - accuracy: 0.4014 - val_loss: 0.3060 - val_accuracy: 0.5417\n",
      "Epoch 14/100\n",
      "5/5 [==============================] - 1s 105ms/step - loss: 0.4692 - accuracy: 0.4085 - val_loss: 0.3084 - val_accuracy: 0.3194\n",
      "Epoch 15/100\n",
      "5/5 [==============================] - 1s 108ms/step - loss: 0.4659 - accuracy: 0.4014 - val_loss: 0.2952 - val_accuracy: 0.5833\n",
      "Epoch 16/100\n",
      "5/5 [==============================] - 1s 102ms/step - loss: 0.4629 - accuracy: 0.4261 - val_loss: 0.3087 - val_accuracy: 0.4583\n",
      "Epoch 17/100\n",
      "5/5 [==============================] - 1s 101ms/step - loss: 0.4504 - accuracy: 0.4401 - val_loss: 0.3106 - val_accuracy: 0.4722\n",
      "Epoch 18/100\n",
      "5/5 [==============================] - 1s 109ms/step - loss: 0.4467 - accuracy: 0.3803 - val_loss: 0.2965 - val_accuracy: 0.5694\n",
      "Epoch 19/100\n",
      "5/5 [==============================] - 1s 104ms/step - loss: 0.4491 - accuracy: 0.4331 - val_loss: 0.3092 - val_accuracy: 0.5694\n",
      "Epoch 20/100\n",
      "5/5 [==============================] - 1s 103ms/step - loss: 0.4700 - accuracy: 0.3979 - val_loss: 0.3105 - val_accuracy: 0.3611\n",
      "Epoch 21/100\n",
      "5/5 [==============================] - 1s 102ms/step - loss: 0.4488 - accuracy: 0.4190 - val_loss: 0.2995 - val_accuracy: 0.4722\n",
      "Epoch 22/100\n",
      "5/5 [==============================] - 1s 107ms/step - loss: 0.4321 - accuracy: 0.4437 - val_loss: 0.3067 - val_accuracy: 0.4861\n",
      "Epoch 23/100\n",
      "5/5 [==============================] - 1s 105ms/step - loss: 0.4419 - accuracy: 0.4366 - val_loss: 0.2960 - val_accuracy: 0.5556\n",
      "Epoch 24/100\n",
      "5/5 [==============================] - 1s 102ms/step - loss: 0.4485 - accuracy: 0.4894 - val_loss: 0.3156 - val_accuracy: 0.3194\n",
      "Epoch 25/100\n",
      "5/5 [==============================] - 1s 106ms/step - loss: 0.4362 - accuracy: 0.4472 - val_loss: 0.3387 - val_accuracy: 0.2778\n",
      "Epoch 26/100\n",
      "5/5 [==============================] - 1s 110ms/step - loss: 0.4495 - accuracy: 0.4225 - val_loss: 0.3043 - val_accuracy: 0.5417\n",
      "Epoch 27/100\n",
      "5/5 [==============================] - 1s 106ms/step - loss: 0.4335 - accuracy: 0.4472 - val_loss: 0.2954 - val_accuracy: 0.5694\n",
      "Epoch 28/100\n",
      "5/5 [==============================] - 0s 100ms/step - loss: 0.4309 - accuracy: 0.4824 - val_loss: 0.2977 - val_accuracy: 0.5556\n",
      "Epoch 29/100\n",
      "5/5 [==============================] - 1s 104ms/step - loss: 0.4380 - accuracy: 0.4613 - val_loss: 0.3070 - val_accuracy: 0.5556\n",
      "Epoch 30/100\n",
      "5/5 [==============================] - 1s 102ms/step - loss: 0.4585 - accuracy: 0.4366 - val_loss: 0.2952 - val_accuracy: 0.5556\n",
      "Epoch 31/100\n",
      "5/5 [==============================] - 1s 114ms/step - loss: 0.4413 - accuracy: 0.4472 - val_loss: 0.2934 - val_accuracy: 0.5417\n",
      "Epoch 32/100\n",
      "5/5 [==============================] - 1s 102ms/step - loss: 0.4342 - accuracy: 0.4613 - val_loss: 0.3142 - val_accuracy: 0.4306\n",
      "Epoch 33/100\n",
      "5/5 [==============================] - 1s 107ms/step - loss: 0.4263 - accuracy: 0.4120 - val_loss: 0.3008 - val_accuracy: 0.5417\n",
      "Epoch 34/100\n",
      "5/5 [==============================] - 1s 104ms/step - loss: 0.4474 - accuracy: 0.4507 - val_loss: 0.2974 - val_accuracy: 0.5417\n",
      "Epoch 35/100\n",
      "5/5 [==============================] - 1s 105ms/step - loss: 0.4343 - accuracy: 0.4683 - val_loss: 0.2969 - val_accuracy: 0.5833\n",
      "Epoch 36/100\n",
      "5/5 [==============================] - 1s 105ms/step - loss: 0.4423 - accuracy: 0.4754 - val_loss: 0.2958 - val_accuracy: 0.5278\n",
      "Epoch 37/100\n",
      "5/5 [==============================] - 1s 102ms/step - loss: 0.4404 - accuracy: 0.4366 - val_loss: 0.2988 - val_accuracy: 0.5833\n",
      "Epoch 38/100\n",
      "5/5 [==============================] - 0s 100ms/step - loss: 0.4278 - accuracy: 0.4613 - val_loss: 0.2904 - val_accuracy: 0.5556\n",
      "Epoch 39/100\n",
      "5/5 [==============================] - 1s 105ms/step - loss: 0.4202 - accuracy: 0.5035 - val_loss: 0.2838 - val_accuracy: 0.5833\n",
      "Epoch 40/100\n",
      "5/5 [==============================] - 0s 101ms/step - loss: 0.4379 - accuracy: 0.4507 - val_loss: 0.3061 - val_accuracy: 0.3333\n",
      "Epoch 41/100\n",
      "5/5 [==============================] - 1s 103ms/step - loss: 0.4279 - accuracy: 0.4366 - val_loss: 0.2900 - val_accuracy: 0.5556\n",
      "Epoch 42/100\n",
      "5/5 [==============================] - 0s 101ms/step - loss: 0.4295 - accuracy: 0.4754 - val_loss: 0.2871 - val_accuracy: 0.5972\n",
      "Epoch 43/100\n",
      "5/5 [==============================] - 1s 107ms/step - loss: 0.4320 - accuracy: 0.5000 - val_loss: 0.2926 - val_accuracy: 0.5556\n",
      "Epoch 44/100\n",
      "5/5 [==============================] - 1s 102ms/step - loss: 0.4217 - accuracy: 0.4754 - val_loss: 0.2959 - val_accuracy: 0.5694\n",
      "Epoch 45/100\n",
      "5/5 [==============================] - 1s 173ms/step - loss: 0.4254 - accuracy: 0.4613 - val_loss: 0.2995 - val_accuracy: 0.5417\n",
      "Epoch 46/100\n",
      "5/5 [==============================] - 1s 109ms/step - loss: 0.4191 - accuracy: 0.4789 - val_loss: 0.2873 - val_accuracy: 0.5556\n",
      "Epoch 47/100\n",
      "5/5 [==============================] - 1s 101ms/step - loss: 0.4314 - accuracy: 0.5070 - val_loss: 0.2973 - val_accuracy: 0.5278\n",
      "Epoch 48/100\n",
      "5/5 [==============================] - 1s 103ms/step - loss: 0.4304 - accuracy: 0.4577 - val_loss: 0.2967 - val_accuracy: 0.5417\n",
      "Epoch 49/100\n",
      "5/5 [==============================] - 1s 102ms/step - loss: 0.4308 - accuracy: 0.4859 - val_loss: 0.3009 - val_accuracy: 0.3611\n",
      "Epoch 50/100\n",
      "5/5 [==============================] - 1s 105ms/step - loss: 0.4349 - accuracy: 0.4577 - val_loss: 0.3187 - val_accuracy: 0.3056\n",
      "Epoch 51/100\n",
      "5/5 [==============================] - 1s 105ms/step - loss: 0.4338 - accuracy: 0.4789 - val_loss: 0.3481 - val_accuracy: 0.2778\n",
      "Epoch 52/100\n",
      "5/5 [==============================] - 0s 100ms/step - loss: 0.4488 - accuracy: 0.4261 - val_loss: 0.3009 - val_accuracy: 0.4306\n",
      "Epoch 53/100\n",
      "5/5 [==============================] - 1s 104ms/step - loss: 0.4257 - accuracy: 0.4894 - val_loss: 0.3214 - val_accuracy: 0.3056\n",
      "Epoch 54/100\n",
      "5/5 [==============================] - 1s 106ms/step - loss: 0.4277 - accuracy: 0.4507 - val_loss: 0.3112 - val_accuracy: 0.3889\n",
      "Epoch 55/100\n",
      "5/5 [==============================] - 1s 105ms/step - loss: 0.4125 - accuracy: 0.5000 - val_loss: 0.3064 - val_accuracy: 0.3611\n",
      "Epoch 56/100\n",
      "5/5 [==============================] - 1s 103ms/step - loss: 0.4295 - accuracy: 0.4789 - val_loss: 0.2837 - val_accuracy: 0.5972\n",
      "Epoch 57/100\n",
      "5/5 [==============================] - 1s 101ms/step - loss: 0.4189 - accuracy: 0.4859 - val_loss: 0.3031 - val_accuracy: 0.4028\n",
      "Epoch 58/100\n",
      "5/5 [==============================] - 1s 101ms/step - loss: 0.4105 - accuracy: 0.5070 - val_loss: 0.3143 - val_accuracy: 0.3194\n",
      "Epoch 59/100\n",
      "5/5 [==============================] - 0s 101ms/step - loss: 0.4105 - accuracy: 0.4472 - val_loss: 0.3050 - val_accuracy: 0.3472\n",
      "Epoch 60/100\n",
      "5/5 [==============================] - 0s 101ms/step - loss: 0.4178 - accuracy: 0.4965 - val_loss: 0.2899 - val_accuracy: 0.5000\n",
      "Epoch 61/100\n",
      "5/5 [==============================] - 1s 109ms/step - loss: 0.4170 - accuracy: 0.4577 - val_loss: 0.2881 - val_accuracy: 0.5556\n",
      "Epoch 62/100\n",
      "5/5 [==============================] - 1s 102ms/step - loss: 0.4173 - accuracy: 0.4965 - val_loss: 0.2944 - val_accuracy: 0.5417\n",
      "Epoch 63/100\n",
      "5/5 [==============================] - 0s 99ms/step - loss: 0.4161 - accuracy: 0.4894 - val_loss: 0.2831 - val_accuracy: 0.5417\n",
      "Epoch 64/100\n",
      "5/5 [==============================] - 1s 105ms/step - loss: 0.4110 - accuracy: 0.4859 - val_loss: 0.3141 - val_accuracy: 0.3333\n",
      "Epoch 65/100\n",
      "5/5 [==============================] - 1s 104ms/step - loss: 0.4159 - accuracy: 0.4296 - val_loss: 0.2815 - val_accuracy: 0.5833\n",
      "Epoch 66/100\n",
      "5/5 [==============================] - 0s 99ms/step - loss: 0.4185 - accuracy: 0.5141 - val_loss: 0.2886 - val_accuracy: 0.5417\n",
      "Epoch 67/100\n",
      "5/5 [==============================] - 1s 102ms/step - loss: 0.4102 - accuracy: 0.5070 - val_loss: 0.2892 - val_accuracy: 0.5833\n",
      "Epoch 68/100\n",
      "5/5 [==============================] - 0s 100ms/step - loss: 0.4139 - accuracy: 0.4789 - val_loss: 0.2760 - val_accuracy: 0.6111\n",
      "Epoch 69/100\n",
      "5/5 [==============================] - 1s 102ms/step - loss: 0.3966 - accuracy: 0.5352 - val_loss: 0.2868 - val_accuracy: 0.6111\n",
      "Epoch 70/100\n",
      "5/5 [==============================] - 1s 118ms/step - loss: 0.4143 - accuracy: 0.5246 - val_loss: 0.3064 - val_accuracy: 0.4028\n",
      "Epoch 71/100\n",
      "5/5 [==============================] - 1s 166ms/step - loss: 0.4098 - accuracy: 0.4648 - val_loss: 0.3211 - val_accuracy: 0.4722\n",
      "Epoch 72/100\n",
      "5/5 [==============================] - 1s 157ms/step - loss: 0.4044 - accuracy: 0.4894 - val_loss: 0.2878 - val_accuracy: 0.5694\n",
      "Epoch 73/100\n",
      "5/5 [==============================] - 1s 102ms/step - loss: 0.3962 - accuracy: 0.5528 - val_loss: 0.2839 - val_accuracy: 0.6111\n",
      "Epoch 74/100\n",
      "5/5 [==============================] - 1s 105ms/step - loss: 0.4083 - accuracy: 0.5141 - val_loss: 0.2898 - val_accuracy: 0.5833\n",
      "Epoch 75/100\n",
      "5/5 [==============================] - 0s 100ms/step - loss: 0.4032 - accuracy: 0.5211 - val_loss: 0.3278 - val_accuracy: 0.3611\n",
      "Epoch 76/100\n",
      "5/5 [==============================] - 1s 106ms/step - loss: 0.3955 - accuracy: 0.4754 - val_loss: 0.3022 - val_accuracy: 0.4167\n",
      "Epoch 77/100\n",
      "5/5 [==============================] - 0s 99ms/step - loss: 0.4145 - accuracy: 0.5070 - val_loss: 0.2864 - val_accuracy: 0.5417\n",
      "Epoch 78/100\n",
      "5/5 [==============================] - 0s 100ms/step - loss: 0.4029 - accuracy: 0.5035 - val_loss: 0.2929 - val_accuracy: 0.4583\n",
      "Epoch 79/100\n",
      "5/5 [==============================] - 1s 105ms/step - loss: 0.4023 - accuracy: 0.5387 - val_loss: 0.3016 - val_accuracy: 0.4028\n",
      "Epoch 80/100\n",
      "5/5 [==============================] - 1s 103ms/step - loss: 0.4059 - accuracy: 0.5141 - val_loss: 0.3027 - val_accuracy: 0.4861\n",
      "Epoch 81/100\n",
      "5/5 [==============================] - 1s 112ms/step - loss: 0.4044 - accuracy: 0.4965 - val_loss: 0.3005 - val_accuracy: 0.4028\n",
      "Epoch 82/100\n",
      "5/5 [==============================] - 1s 110ms/step - loss: 0.3996 - accuracy: 0.4894 - val_loss: 0.2693 - val_accuracy: 0.6528\n",
      "Epoch 83/100\n",
      "5/5 [==============================] - 1s 107ms/step - loss: 0.4036 - accuracy: 0.5563 - val_loss: 0.2943 - val_accuracy: 0.5556\n",
      "Epoch 84/100\n",
      "5/5 [==============================] - 1s 110ms/step - loss: 0.4075 - accuracy: 0.5070 - val_loss: 0.3103 - val_accuracy: 0.3333\n",
      "Epoch 85/100\n",
      "5/5 [==============================] - 1s 111ms/step - loss: 0.3898 - accuracy: 0.4965 - val_loss: 0.2712 - val_accuracy: 0.5972\n",
      "Epoch 86/100\n",
      "5/5 [==============================] - 1s 104ms/step - loss: 0.4107 - accuracy: 0.4965 - val_loss: 0.3032 - val_accuracy: 0.4722\n",
      "Epoch 87/100\n",
      "5/5 [==============================] - 1s 110ms/step - loss: 0.4277 - accuracy: 0.4507 - val_loss: 0.2778 - val_accuracy: 0.5694\n",
      "Epoch 88/100\n",
      "5/5 [==============================] - 1s 105ms/step - loss: 0.4042 - accuracy: 0.5458 - val_loss: 0.2695 - val_accuracy: 0.6528\n",
      "Epoch 89/100\n",
      "5/5 [==============================] - 1s 110ms/step - loss: 0.3863 - accuracy: 0.5528 - val_loss: 0.2903 - val_accuracy: 0.5417\n",
      "Epoch 90/100\n",
      "5/5 [==============================] - 1s 111ms/step - loss: 0.3998 - accuracy: 0.5493 - val_loss: 0.3115 - val_accuracy: 0.3750\n",
      "Epoch 91/100\n",
      "5/5 [==============================] - 1s 115ms/step - loss: 0.3853 - accuracy: 0.5387 - val_loss: 0.3115 - val_accuracy: 0.3472\n",
      "Epoch 92/100\n",
      "5/5 [==============================] - 1s 112ms/step - loss: 0.3903 - accuracy: 0.5070 - val_loss: 0.2692 - val_accuracy: 0.5972\n",
      "Epoch 93/100\n",
      "5/5 [==============================] - 1s 103ms/step - loss: 0.4105 - accuracy: 0.5634 - val_loss: 0.2835 - val_accuracy: 0.5556\n",
      "Epoch 94/100\n",
      "5/5 [==============================] - 1s 107ms/step - loss: 0.3958 - accuracy: 0.5106 - val_loss: 0.2781 - val_accuracy: 0.5833\n",
      "Epoch 95/100\n",
      "5/5 [==============================] - 1s 115ms/step - loss: 0.3930 - accuracy: 0.5423 - val_loss: 0.2711 - val_accuracy: 0.5833\n",
      "Epoch 96/100\n",
      "5/5 [==============================] - 1s 107ms/step - loss: 0.3721 - accuracy: 0.5493 - val_loss: 0.2781 - val_accuracy: 0.5833\n",
      "Epoch 97/100\n",
      "5/5 [==============================] - 1s 107ms/step - loss: 0.3887 - accuracy: 0.5352 - val_loss: 0.3027 - val_accuracy: 0.5417\n",
      "Epoch 98/100\n",
      "5/5 [==============================] - 1s 116ms/step - loss: 0.4051 - accuracy: 0.5387 - val_loss: 0.2767 - val_accuracy: 0.5833\n",
      "Epoch 99/100\n",
      "5/5 [==============================] - 1s 110ms/step - loss: 0.3761 - accuracy: 0.5775 - val_loss: 0.2953 - val_accuracy: 0.5417\n",
      "Epoch 100/100\n",
      "5/5 [==============================] - 1s 110ms/step - loss: 0.3816 - accuracy: 0.5317 - val_loss: 0.2954 - val_accuracy: 0.5556\n"
     ]
    }
   ],
   "source": [
    "with tf.device('GPU:0'):\n",
    "    history1 = model.fit(X_train, Y_train, epochs = 100, batch_size = 64, shuffle=True, validation_data=(X_test, Y_test), class_weight=cw)"
   ]
  },
  {
   "cell_type": "code",
   "execution_count": 98,
   "metadata": {
    "pycharm": {
     "name": "#%%\n"
    }
   },
   "outputs": [
    {
     "name": "stdout",
     "output_type": "stream",
     "text": [
      "Epoch 1/100\n",
      "5/5 [==============================] - 2s 365ms/step - loss: 0.3941 - accuracy: 0.5176 - val_loss: 0.2697 - val_accuracy: 0.6250\n",
      "Epoch 2/100\n",
      "5/5 [==============================] - 1s 106ms/step - loss: 0.3920 - accuracy: 0.5669 - val_loss: 0.2814 - val_accuracy: 0.5694\n",
      "Epoch 3/100\n",
      "5/5 [==============================] - 0s 100ms/step - loss: 0.3836 - accuracy: 0.5176 - val_loss: 0.2767 - val_accuracy: 0.5417\n",
      "Epoch 4/100\n",
      "5/5 [==============================] - 1s 102ms/step - loss: 0.3861 - accuracy: 0.5599 - val_loss: 0.2628 - val_accuracy: 0.5833\n",
      "Epoch 5/100\n",
      "5/5 [==============================] - 1s 104ms/step - loss: 0.4004 - accuracy: 0.5563 - val_loss: 0.2853 - val_accuracy: 0.5833\n",
      "Epoch 6/100\n",
      "5/5 [==============================] - 0s 100ms/step - loss: 0.3976 - accuracy: 0.5176 - val_loss: 0.2991 - val_accuracy: 0.3889\n",
      "Epoch 7/100\n",
      "5/5 [==============================] - 1s 104ms/step - loss: 0.3930 - accuracy: 0.5070 - val_loss: 0.3018 - val_accuracy: 0.5139\n",
      "Epoch 8/100\n",
      "5/5 [==============================] - 1s 122ms/step - loss: 0.3770 - accuracy: 0.5387 - val_loss: 0.2811 - val_accuracy: 0.5556\n",
      "Epoch 9/100\n",
      "5/5 [==============================] - 1s 105ms/step - loss: 0.3869 - accuracy: 0.5317 - val_loss: 0.3222 - val_accuracy: 0.3472\n",
      "Epoch 10/100\n",
      "5/5 [==============================] - 1s 104ms/step - loss: 0.3776 - accuracy: 0.5211 - val_loss: 0.2651 - val_accuracy: 0.6111\n",
      "Epoch 11/100\n",
      "5/5 [==============================] - 1s 104ms/step - loss: 0.4000 - accuracy: 0.5845 - val_loss: 0.2857 - val_accuracy: 0.5417\n",
      "Epoch 12/100\n",
      "5/5 [==============================] - 1s 106ms/step - loss: 0.3739 - accuracy: 0.5493 - val_loss: 0.2726 - val_accuracy: 0.5417\n",
      "Epoch 13/100\n",
      "5/5 [==============================] - 1s 104ms/step - loss: 0.3763 - accuracy: 0.5458 - val_loss: 0.2983 - val_accuracy: 0.4722\n",
      "Epoch 14/100\n",
      "5/5 [==============================] - 1s 104ms/step - loss: 0.3891 - accuracy: 0.5563 - val_loss: 0.2941 - val_accuracy: 0.5694\n",
      "Epoch 15/100\n",
      "5/5 [==============================] - 1s 112ms/step - loss: 0.3738 - accuracy: 0.5775 - val_loss: 0.2724 - val_accuracy: 0.5833\n",
      "Epoch 16/100\n",
      "5/5 [==============================] - 1s 112ms/step - loss: 0.3782 - accuracy: 0.5704 - val_loss: 0.2736 - val_accuracy: 0.5694\n",
      "Epoch 17/100\n",
      "5/5 [==============================] - 1s 106ms/step - loss: 0.3848 - accuracy: 0.5634 - val_loss: 0.2623 - val_accuracy: 0.6250\n",
      "Epoch 18/100\n",
      "5/5 [==============================] - 1s 111ms/step - loss: 0.3771 - accuracy: 0.5880 - val_loss: 0.2695 - val_accuracy: 0.6250\n",
      "Epoch 19/100\n",
      "5/5 [==============================] - 1s 103ms/step - loss: 0.3776 - accuracy: 0.5810 - val_loss: 0.2705 - val_accuracy: 0.5972\n",
      "Epoch 20/100\n",
      "5/5 [==============================] - 1s 101ms/step - loss: 0.3864 - accuracy: 0.5599 - val_loss: 0.2931 - val_accuracy: 0.4722\n",
      "Epoch 21/100\n",
      "5/5 [==============================] - 1s 111ms/step - loss: 0.3837 - accuracy: 0.5458 - val_loss: 0.2756 - val_accuracy: 0.5833\n",
      "Epoch 22/100\n",
      "5/5 [==============================] - 0s 100ms/step - loss: 0.3722 - accuracy: 0.5845 - val_loss: 0.2902 - val_accuracy: 0.5694\n",
      "Epoch 23/100\n",
      "5/5 [==============================] - 1s 102ms/step - loss: 0.3713 - accuracy: 0.5458 - val_loss: 0.2701 - val_accuracy: 0.6250\n",
      "Epoch 24/100\n",
      "5/5 [==============================] - 1s 102ms/step - loss: 0.3652 - accuracy: 0.5845 - val_loss: 0.2962 - val_accuracy: 0.4306\n",
      "Epoch 25/100\n",
      "5/5 [==============================] - 1s 104ms/step - loss: 0.3682 - accuracy: 0.5704 - val_loss: 0.2910 - val_accuracy: 0.5000\n",
      "Epoch 26/100\n",
      "5/5 [==============================] - 1s 105ms/step - loss: 0.3797 - accuracy: 0.5246 - val_loss: 0.2747 - val_accuracy: 0.5833\n",
      "Epoch 27/100\n",
      "5/5 [==============================] - 1s 101ms/step - loss: 0.3686 - accuracy: 0.5810 - val_loss: 0.2712 - val_accuracy: 0.6111\n",
      "Epoch 28/100\n",
      "5/5 [==============================] - 0s 100ms/step - loss: 0.3761 - accuracy: 0.5669 - val_loss: 0.2924 - val_accuracy: 0.4722\n",
      "Epoch 29/100\n",
      "5/5 [==============================] - 1s 107ms/step - loss: 0.3694 - accuracy: 0.5704 - val_loss: 0.2927 - val_accuracy: 0.5694\n",
      "Epoch 30/100\n",
      "5/5 [==============================] - 1s 134ms/step - loss: 0.3554 - accuracy: 0.5880 - val_loss: 0.2665 - val_accuracy: 0.6250\n",
      "Epoch 31/100\n",
      "5/5 [==============================] - 1s 183ms/step - loss: 0.3688 - accuracy: 0.5634 - val_loss: 0.2713 - val_accuracy: 0.5833\n",
      "Epoch 32/100\n",
      "5/5 [==============================] - 1s 121ms/step - loss: 0.3704 - accuracy: 0.5317 - val_loss: 0.2664 - val_accuracy: 0.5833\n",
      "Epoch 33/100\n",
      "5/5 [==============================] - 1s 111ms/step - loss: 0.3750 - accuracy: 0.5634 - val_loss: 0.2788 - val_accuracy: 0.5833\n",
      "Epoch 34/100\n",
      "5/5 [==============================] - 1s 106ms/step - loss: 0.3769 - accuracy: 0.5528 - val_loss: 0.2830 - val_accuracy: 0.5556\n",
      "Epoch 35/100\n",
      "5/5 [==============================] - 1s 101ms/step - loss: 0.3682 - accuracy: 0.5845 - val_loss: 0.2586 - val_accuracy: 0.6389\n",
      "Epoch 36/100\n",
      "5/5 [==============================] - 0s 101ms/step - loss: 0.3662 - accuracy: 0.5599 - val_loss: 0.2700 - val_accuracy: 0.5556\n",
      "Epoch 37/100\n",
      "5/5 [==============================] - 0s 100ms/step - loss: 0.3635 - accuracy: 0.5880 - val_loss: 0.2862 - val_accuracy: 0.5139\n",
      "Epoch 38/100\n",
      "5/5 [==============================] - 1s 102ms/step - loss: 0.3554 - accuracy: 0.5739 - val_loss: 0.2967 - val_accuracy: 0.5833\n",
      "Epoch 39/100\n",
      "5/5 [==============================] - 1s 104ms/step - loss: 0.3700 - accuracy: 0.5634 - val_loss: 0.3187 - val_accuracy: 0.4167\n",
      "Epoch 40/100\n",
      "5/5 [==============================] - 1s 116ms/step - loss: 0.3609 - accuracy: 0.5634 - val_loss: 0.3044 - val_accuracy: 0.4028\n",
      "Epoch 41/100\n",
      "5/5 [==============================] - 1s 191ms/step - loss: 0.3578 - accuracy: 0.5669 - val_loss: 0.2785 - val_accuracy: 0.5694\n",
      "Epoch 42/100\n",
      "5/5 [==============================] - 1s 135ms/step - loss: 0.3666 - accuracy: 0.5775 - val_loss: 0.2768 - val_accuracy: 0.5694\n",
      "Epoch 43/100\n",
      "5/5 [==============================] - 1s 102ms/step - loss: 0.3713 - accuracy: 0.5563 - val_loss: 0.2683 - val_accuracy: 0.6250\n",
      "Epoch 44/100\n",
      "5/5 [==============================] - 1s 103ms/step - loss: 0.3626 - accuracy: 0.5845 - val_loss: 0.2613 - val_accuracy: 0.5278\n",
      "Epoch 45/100\n",
      "5/5 [==============================] - 1s 140ms/step - loss: 0.3621 - accuracy: 0.5775 - val_loss: 0.3173 - val_accuracy: 0.3750\n",
      "Epoch 46/100\n",
      "5/5 [==============================] - 1s 130ms/step - loss: 0.3584 - accuracy: 0.5282 - val_loss: 0.2598 - val_accuracy: 0.5694\n",
      "Epoch 47/100\n",
      "5/5 [==============================] - 1s 102ms/step - loss: 0.3483 - accuracy: 0.6021 - val_loss: 0.2662 - val_accuracy: 0.5972\n",
      "Epoch 48/100\n",
      "5/5 [==============================] - 0s 101ms/step - loss: 0.3502 - accuracy: 0.5880 - val_loss: 0.2932 - val_accuracy: 0.5417\n",
      "Epoch 49/100\n",
      "5/5 [==============================] - 1s 103ms/step - loss: 0.3578 - accuracy: 0.5951 - val_loss: 0.2573 - val_accuracy: 0.6389\n",
      "Epoch 50/100\n",
      "5/5 [==============================] - 1s 122ms/step - loss: 0.3515 - accuracy: 0.5669 - val_loss: 0.2564 - val_accuracy: 0.5972\n",
      "Epoch 51/100\n",
      "5/5 [==============================] - 1s 124ms/step - loss: 0.3524 - accuracy: 0.5951 - val_loss: 0.2532 - val_accuracy: 0.5833\n",
      "Epoch 52/100\n",
      "5/5 [==============================] - 1s 102ms/step - loss: 0.3506 - accuracy: 0.5845 - val_loss: 0.2706 - val_accuracy: 0.5694\n",
      "Epoch 53/100\n",
      "5/5 [==============================] - 0s 100ms/step - loss: 0.3458 - accuracy: 0.5704 - val_loss: 0.2565 - val_accuracy: 0.5833\n",
      "Epoch 54/100\n",
      "5/5 [==============================] - 0s 101ms/step - loss: 0.3406 - accuracy: 0.6232 - val_loss: 0.3066 - val_accuracy: 0.4444\n",
      "Epoch 55/100\n",
      "5/5 [==============================] - 0s 100ms/step - loss: 0.3540 - accuracy: 0.5775 - val_loss: 0.2555 - val_accuracy: 0.6111\n",
      "Epoch 56/100\n",
      "5/5 [==============================] - 1s 105ms/step - loss: 0.3617 - accuracy: 0.5915 - val_loss: 0.2896 - val_accuracy: 0.5417\n",
      "Epoch 57/100\n",
      "5/5 [==============================] - 1s 103ms/step - loss: 0.3541 - accuracy: 0.5599 - val_loss: 0.2803 - val_accuracy: 0.5833\n",
      "Epoch 58/100\n",
      "5/5 [==============================] - 0s 100ms/step - loss: 0.3534 - accuracy: 0.5739 - val_loss: 0.2620 - val_accuracy: 0.6528\n",
      "Epoch 59/100\n",
      "5/5 [==============================] - 1s 104ms/step - loss: 0.3466 - accuracy: 0.5845 - val_loss: 0.2687 - val_accuracy: 0.5694\n",
      "Epoch 60/100\n",
      "5/5 [==============================] - 0s 100ms/step - loss: 0.3396 - accuracy: 0.5810 - val_loss: 0.2635 - val_accuracy: 0.6250\n",
      "Epoch 61/100\n",
      "5/5 [==============================] - 0s 100ms/step - loss: 0.3651 - accuracy: 0.5915 - val_loss: 0.2644 - val_accuracy: 0.5694\n",
      "Epoch 62/100\n",
      "5/5 [==============================] - 1s 106ms/step - loss: 0.3650 - accuracy: 0.5739 - val_loss: 0.2774 - val_accuracy: 0.5694\n",
      "Epoch 63/100\n",
      "5/5 [==============================] - 1s 105ms/step - loss: 0.3420 - accuracy: 0.6162 - val_loss: 0.2735 - val_accuracy: 0.5694\n",
      "Epoch 64/100\n",
      "5/5 [==============================] - 1s 114ms/step - loss: 0.3411 - accuracy: 0.6021 - val_loss: 0.2834 - val_accuracy: 0.5694\n",
      "Epoch 65/100\n",
      "5/5 [==============================] - 1s 106ms/step - loss: 0.3424 - accuracy: 0.5845 - val_loss: 0.2598 - val_accuracy: 0.5833\n",
      "Epoch 66/100\n",
      "5/5 [==============================] - 1s 126ms/step - loss: 0.3398 - accuracy: 0.6162 - val_loss: 0.2866 - val_accuracy: 0.5417\n",
      "Epoch 67/100\n",
      "5/5 [==============================] - 1s 111ms/step - loss: 0.3606 - accuracy: 0.5739 - val_loss: 0.3269 - val_accuracy: 0.4167\n",
      "Epoch 68/100\n",
      "5/5 [==============================] - 1s 105ms/step - loss: 0.3519 - accuracy: 0.5845 - val_loss: 0.2836 - val_accuracy: 0.5833\n",
      "Epoch 69/100\n",
      "5/5 [==============================] - 1s 102ms/step - loss: 0.3447 - accuracy: 0.6232 - val_loss: 0.2926 - val_accuracy: 0.4583\n",
      "Epoch 70/100\n",
      "5/5 [==============================] - 1s 118ms/step - loss: 0.3257 - accuracy: 0.6021 - val_loss: 0.2679 - val_accuracy: 0.5833\n",
      "Epoch 71/100\n",
      "5/5 [==============================] - 1s 104ms/step - loss: 0.3265 - accuracy: 0.6127 - val_loss: 0.2676 - val_accuracy: 0.6528\n",
      "Epoch 72/100\n",
      "5/5 [==============================] - 1s 103ms/step - loss: 0.3332 - accuracy: 0.6162 - val_loss: 0.2683 - val_accuracy: 0.5972\n",
      "Epoch 73/100\n",
      "5/5 [==============================] - 1s 101ms/step - loss: 0.3364 - accuracy: 0.6056 - val_loss: 0.2620 - val_accuracy: 0.5833\n",
      "Epoch 74/100\n",
      "5/5 [==============================] - 0s 101ms/step - loss: 0.3420 - accuracy: 0.6162 - val_loss: 0.2544 - val_accuracy: 0.5556\n",
      "Epoch 75/100\n",
      "5/5 [==============================] - 1s 101ms/step - loss: 0.3390 - accuracy: 0.6232 - val_loss: 0.2788 - val_accuracy: 0.5694\n",
      "Epoch 76/100\n",
      "5/5 [==============================] - 0s 101ms/step - loss: 0.3279 - accuracy: 0.6127 - val_loss: 0.2586 - val_accuracy: 0.5833\n",
      "Epoch 77/100\n",
      "5/5 [==============================] - 0s 100ms/step - loss: 0.3431 - accuracy: 0.6092 - val_loss: 0.2545 - val_accuracy: 0.5694\n",
      "Epoch 78/100\n",
      "5/5 [==============================] - 1s 103ms/step - loss: 0.3586 - accuracy: 0.5951 - val_loss: 0.2561 - val_accuracy: 0.5833\n",
      "Epoch 79/100\n",
      "5/5 [==============================] - 0s 100ms/step - loss: 0.3353 - accuracy: 0.5845 - val_loss: 0.2634 - val_accuracy: 0.5972\n",
      "Epoch 80/100\n",
      "5/5 [==============================] - 1s 107ms/step - loss: 0.3430 - accuracy: 0.6056 - val_loss: 0.2718 - val_accuracy: 0.5556\n",
      "Epoch 81/100\n",
      "5/5 [==============================] - 0s 100ms/step - loss: 0.3514 - accuracy: 0.6268 - val_loss: 0.2746 - val_accuracy: 0.5417\n",
      "Epoch 82/100\n",
      "5/5 [==============================] - 1s 101ms/step - loss: 0.3392 - accuracy: 0.6162 - val_loss: 0.2722 - val_accuracy: 0.5694\n",
      "Epoch 83/100\n",
      "5/5 [==============================] - 0s 101ms/step - loss: 0.3552 - accuracy: 0.5739 - val_loss: 0.2599 - val_accuracy: 0.6111\n",
      "Epoch 84/100\n",
      "5/5 [==============================] - 0s 100ms/step - loss: 0.3283 - accuracy: 0.6373 - val_loss: 0.2807 - val_accuracy: 0.5556\n",
      "Epoch 85/100\n",
      "5/5 [==============================] - 0s 100ms/step - loss: 0.3278 - accuracy: 0.5986 - val_loss: 0.2505 - val_accuracy: 0.5833\n",
      "Epoch 86/100\n",
      "5/5 [==============================] - 0s 100ms/step - loss: 0.3196 - accuracy: 0.6408 - val_loss: 0.2656 - val_accuracy: 0.5833\n",
      "Epoch 87/100\n",
      "5/5 [==============================] - 0s 101ms/step - loss: 0.3267 - accuracy: 0.6232 - val_loss: 0.2554 - val_accuracy: 0.5833\n",
      "Epoch 88/100\n",
      "5/5 [==============================] - 1s 101ms/step - loss: 0.3264 - accuracy: 0.6127 - val_loss: 0.2566 - val_accuracy: 0.5833\n",
      "Epoch 89/100\n",
      "5/5 [==============================] - 0s 100ms/step - loss: 0.3165 - accuracy: 0.6303 - val_loss: 0.2797 - val_accuracy: 0.5694\n",
      "Epoch 90/100\n",
      "5/5 [==============================] - 1s 101ms/step - loss: 0.3307 - accuracy: 0.6197 - val_loss: 0.2690 - val_accuracy: 0.5833\n",
      "Epoch 91/100\n",
      "5/5 [==============================] - 0s 101ms/step - loss: 0.3308 - accuracy: 0.5951 - val_loss: 0.2510 - val_accuracy: 0.6250\n",
      "Epoch 92/100\n",
      "5/5 [==============================] - 0s 100ms/step - loss: 0.3408 - accuracy: 0.6127 - val_loss: 0.2540 - val_accuracy: 0.5694\n",
      "Epoch 93/100\n",
      "5/5 [==============================] - 0s 100ms/step - loss: 0.3132 - accuracy: 0.6303 - val_loss: 0.2647 - val_accuracy: 0.5833\n",
      "Epoch 94/100\n",
      "5/5 [==============================] - 0s 100ms/step - loss: 0.3333 - accuracy: 0.6162 - val_loss: 0.2590 - val_accuracy: 0.6389\n",
      "Epoch 95/100\n",
      "5/5 [==============================] - 1s 104ms/step - loss: 0.3191 - accuracy: 0.6585 - val_loss: 0.3326 - val_accuracy: 0.4167\n",
      "Epoch 96/100\n",
      "5/5 [==============================] - 1s 106ms/step - loss: 0.3415 - accuracy: 0.5880 - val_loss: 0.2655 - val_accuracy: 0.5972\n",
      "Epoch 97/100\n",
      "5/5 [==============================] - 0s 101ms/step - loss: 0.3221 - accuracy: 0.5986 - val_loss: 0.2472 - val_accuracy: 0.5972\n",
      "Epoch 98/100\n",
      "5/5 [==============================] - 1s 103ms/step - loss: 0.3119 - accuracy: 0.6444 - val_loss: 0.2641 - val_accuracy: 0.5833\n",
      "Epoch 99/100\n",
      "5/5 [==============================] - 1s 106ms/step - loss: 0.3311 - accuracy: 0.6373 - val_loss: 0.2834 - val_accuracy: 0.5000\n",
      "Epoch 100/100\n",
      "5/5 [==============================] - 1s 114ms/step - loss: 0.3083 - accuracy: 0.6127 - val_loss: 0.2550 - val_accuracy: 0.6111\n"
     ]
    }
   ],
   "source": [
    "with tf.device('GPU:0'):\n",
    "    history2 = model.fit(X_train, Y_train, epochs = 100, batch_size = 64, shuffle=True, validation_data=(X_test, Y_test), class_weight=cw)"
   ]
  },
  {
   "cell_type": "code",
   "execution_count": 101,
   "metadata": {
    "pycharm": {
     "name": "#%%\n"
    }
   },
   "outputs": [
    {
     "name": "stdout",
     "output_type": "stream",
     "text": [
      "Epoch 1/100\n",
      "5/5 [==============================] - 1s 119ms/step - loss: 0.3235 - accuracy: 0.6197 - val_loss: 0.2604 - val_accuracy: 0.5833\n",
      "Epoch 2/100\n",
      "5/5 [==============================] - 1s 118ms/step - loss: 0.3223 - accuracy: 0.6162 - val_loss: 0.2479 - val_accuracy: 0.5972\n",
      "Epoch 3/100\n",
      "5/5 [==============================] - 1s 121ms/step - loss: 0.2996 - accuracy: 0.6549 - val_loss: 0.2529 - val_accuracy: 0.6250\n",
      "Epoch 4/100\n",
      "5/5 [==============================] - 1s 106ms/step - loss: 0.3191 - accuracy: 0.6268 - val_loss: 0.2499 - val_accuracy: 0.5694\n",
      "Epoch 5/100\n",
      "5/5 [==============================] - 1s 104ms/step - loss: 0.3293 - accuracy: 0.6197 - val_loss: 0.2640 - val_accuracy: 0.5972\n",
      "Epoch 6/100\n",
      "5/5 [==============================] - 1s 103ms/step - loss: 0.3003 - accuracy: 0.6373 - val_loss: 0.2570 - val_accuracy: 0.6389\n",
      "Epoch 7/100\n",
      "5/5 [==============================] - 1s 142ms/step - loss: 0.3135 - accuracy: 0.6408 - val_loss: 0.2523 - val_accuracy: 0.5694\n",
      "Epoch 8/100\n",
      "5/5 [==============================] - 1s 105ms/step - loss: 0.3050 - accuracy: 0.6479 - val_loss: 0.2614 - val_accuracy: 0.5833\n",
      "Epoch 9/100\n",
      "5/5 [==============================] - 0s 100ms/step - loss: 0.3002 - accuracy: 0.6232 - val_loss: 0.2496 - val_accuracy: 0.6111\n",
      "Epoch 10/100\n",
      "5/5 [==============================] - 1s 102ms/step - loss: 0.3135 - accuracy: 0.6268 - val_loss: 0.2541 - val_accuracy: 0.5972\n",
      "Epoch 11/100\n",
      "5/5 [==============================] - 0s 101ms/step - loss: 0.3125 - accuracy: 0.6479 - val_loss: 0.2533 - val_accuracy: 0.6111\n",
      "Epoch 12/100\n",
      "5/5 [==============================] - 1s 101ms/step - loss: 0.3138 - accuracy: 0.6549 - val_loss: 0.2526 - val_accuracy: 0.6111\n",
      "Epoch 13/100\n",
      "5/5 [==============================] - 0s 100ms/step - loss: 0.3046 - accuracy: 0.6620 - val_loss: 0.2771 - val_accuracy: 0.5417\n",
      "Epoch 14/100\n",
      "5/5 [==============================] - 0s 101ms/step - loss: 0.3064 - accuracy: 0.6444 - val_loss: 0.2562 - val_accuracy: 0.5833\n",
      "Epoch 15/100\n",
      "5/5 [==============================] - 1s 115ms/step - loss: 0.3040 - accuracy: 0.6408 - val_loss: 0.2515 - val_accuracy: 0.5972\n",
      "Epoch 16/100\n",
      "5/5 [==============================] - 1s 104ms/step - loss: 0.3011 - accuracy: 0.6444 - val_loss: 0.2941 - val_accuracy: 0.5278\n",
      "Epoch 17/100\n",
      "5/5 [==============================] - 1s 104ms/step - loss: 0.3121 - accuracy: 0.6127 - val_loss: 0.2539 - val_accuracy: 0.5972\n",
      "Epoch 18/100\n",
      "5/5 [==============================] - 1s 106ms/step - loss: 0.2915 - accuracy: 0.6585 - val_loss: 0.2521 - val_accuracy: 0.6250\n",
      "Epoch 19/100\n",
      "5/5 [==============================] - 1s 104ms/step - loss: 0.3040 - accuracy: 0.6268 - val_loss: 0.2552 - val_accuracy: 0.5972\n",
      "Epoch 20/100\n",
      "5/5 [==============================] - 1s 103ms/step - loss: 0.3079 - accuracy: 0.6585 - val_loss: 0.2636 - val_accuracy: 0.5833\n",
      "Epoch 21/100\n",
      "5/5 [==============================] - 1s 106ms/step - loss: 0.3187 - accuracy: 0.6232 - val_loss: 0.2477 - val_accuracy: 0.5972\n",
      "Epoch 22/100\n",
      "5/5 [==============================] - 1s 110ms/step - loss: 0.3157 - accuracy: 0.6373 - val_loss: 0.2611 - val_accuracy: 0.5833\n",
      "Epoch 23/100\n",
      "5/5 [==============================] - 1s 106ms/step - loss: 0.3149 - accuracy: 0.6373 - val_loss: 0.2573 - val_accuracy: 0.6111\n",
      "Epoch 24/100\n",
      "5/5 [==============================] - 1s 173ms/step - loss: 0.2982 - accuracy: 0.6514 - val_loss: 0.2997 - val_accuracy: 0.5000\n",
      "Epoch 25/100\n",
      "5/5 [==============================] - 1s 109ms/step - loss: 0.3229 - accuracy: 0.6303 - val_loss: 0.2558 - val_accuracy: 0.6389\n",
      "Epoch 26/100\n",
      "5/5 [==============================] - 1s 116ms/step - loss: 0.3012 - accuracy: 0.6444 - val_loss: 0.2880 - val_accuracy: 0.5694\n",
      "Epoch 27/100\n",
      "5/5 [==============================] - 1s 105ms/step - loss: 0.2993 - accuracy: 0.6303 - val_loss: 0.2753 - val_accuracy: 0.5694\n",
      "Epoch 28/100\n",
      "5/5 [==============================] - 1s 118ms/step - loss: 0.2900 - accuracy: 0.6162 - val_loss: 0.2629 - val_accuracy: 0.6250\n",
      "Epoch 29/100\n",
      "5/5 [==============================] - 1s 107ms/step - loss: 0.2943 - accuracy: 0.6373 - val_loss: 0.2516 - val_accuracy: 0.5972\n",
      "Epoch 30/100\n",
      "5/5 [==============================] - 1s 102ms/step - loss: 0.3089 - accuracy: 0.6690 - val_loss: 0.2525 - val_accuracy: 0.6250\n",
      "Epoch 31/100\n",
      "5/5 [==============================] - 1s 103ms/step - loss: 0.3121 - accuracy: 0.6444 - val_loss: 0.2642 - val_accuracy: 0.5694\n",
      "Epoch 32/100\n",
      "5/5 [==============================] - 1s 103ms/step - loss: 0.3062 - accuracy: 0.6690 - val_loss: 0.2515 - val_accuracy: 0.5972\n",
      "Epoch 33/100\n",
      "5/5 [==============================] - 1s 101ms/step - loss: 0.3033 - accuracy: 0.6514 - val_loss: 0.2442 - val_accuracy: 0.6250\n",
      "Epoch 34/100\n",
      "5/5 [==============================] - 1s 103ms/step - loss: 0.2854 - accuracy: 0.6690 - val_loss: 0.2519 - val_accuracy: 0.5833\n",
      "Epoch 35/100\n",
      "5/5 [==============================] - 1s 101ms/step - loss: 0.2865 - accuracy: 0.6761 - val_loss: 0.2457 - val_accuracy: 0.6250\n",
      "Epoch 36/100\n",
      "5/5 [==============================] - 1s 101ms/step - loss: 0.3151 - accuracy: 0.6408 - val_loss: 0.2460 - val_accuracy: 0.6111\n",
      "Epoch 37/100\n",
      "5/5 [==============================] - 1s 103ms/step - loss: 0.2876 - accuracy: 0.6901 - val_loss: 0.2619 - val_accuracy: 0.6111\n",
      "Epoch 38/100\n",
      "5/5 [==============================] - 1s 101ms/step - loss: 0.3164 - accuracy: 0.6408 - val_loss: 0.2491 - val_accuracy: 0.6111\n",
      "Epoch 39/100\n",
      "5/5 [==============================] - 1s 115ms/step - loss: 0.2914 - accuracy: 0.6761 - val_loss: 0.2593 - val_accuracy: 0.5694\n",
      "Epoch 40/100\n",
      "5/5 [==============================] - 1s 109ms/step - loss: 0.2903 - accuracy: 0.6690 - val_loss: 0.2766 - val_accuracy: 0.5833\n",
      "Epoch 41/100\n",
      "5/5 [==============================] - 1s 140ms/step - loss: 0.2810 - accuracy: 0.6444 - val_loss: 0.2678 - val_accuracy: 0.5833\n",
      "Epoch 42/100\n",
      "5/5 [==============================] - 1s 107ms/step - loss: 0.2878 - accuracy: 0.6549 - val_loss: 0.2596 - val_accuracy: 0.6389\n",
      "Epoch 43/100\n",
      "5/5 [==============================] - 1s 102ms/step - loss: 0.2792 - accuracy: 0.6761 - val_loss: 0.2759 - val_accuracy: 0.5833\n",
      "Epoch 44/100\n",
      "5/5 [==============================] - 1s 105ms/step - loss: 0.3025 - accuracy: 0.6197 - val_loss: 0.2508 - val_accuracy: 0.6389\n",
      "Epoch 45/100\n",
      "5/5 [==============================] - 1s 113ms/step - loss: 0.2874 - accuracy: 0.6690 - val_loss: 0.2504 - val_accuracy: 0.6111\n",
      "Epoch 46/100\n",
      "5/5 [==============================] - 1s 107ms/step - loss: 0.2687 - accuracy: 0.6655 - val_loss: 0.2550 - val_accuracy: 0.6389\n",
      "Epoch 47/100\n",
      "5/5 [==============================] - 1s 122ms/step - loss: 0.2930 - accuracy: 0.6761 - val_loss: 0.2568 - val_accuracy: 0.6389\n",
      "Epoch 48/100\n",
      "5/5 [==============================] - 0s 101ms/step - loss: 0.2750 - accuracy: 0.6831 - val_loss: 0.2495 - val_accuracy: 0.5972\n",
      "Epoch 49/100\n",
      "5/5 [==============================] - 0s 101ms/step - loss: 0.3037 - accuracy: 0.6549 - val_loss: 0.2488 - val_accuracy: 0.5833\n",
      "Epoch 50/100\n",
      "5/5 [==============================] - 0s 101ms/step - loss: 0.2656 - accuracy: 0.6866 - val_loss: 0.2495 - val_accuracy: 0.6250\n",
      "Epoch 51/100\n",
      "5/5 [==============================] - 0s 101ms/step - loss: 0.2897 - accuracy: 0.6690 - val_loss: 0.2967 - val_accuracy: 0.5278\n",
      "Epoch 52/100\n",
      "5/5 [==============================] - 1s 101ms/step - loss: 0.2866 - accuracy: 0.6549 - val_loss: 0.2502 - val_accuracy: 0.6250\n",
      "Epoch 53/100\n",
      "5/5 [==============================] - 1s 105ms/step - loss: 0.2981 - accuracy: 0.6444 - val_loss: 0.2607 - val_accuracy: 0.6111\n",
      "Epoch 54/100\n",
      "5/5 [==============================] - 1s 110ms/step - loss: 0.2644 - accuracy: 0.6690 - val_loss: 0.2645 - val_accuracy: 0.5833\n",
      "Epoch 55/100\n",
      "5/5 [==============================] - 1s 107ms/step - loss: 0.2853 - accuracy: 0.6937 - val_loss: 0.3165 - val_accuracy: 0.4722\n",
      "Epoch 56/100\n",
      "5/5 [==============================] - 1s 115ms/step - loss: 0.2995 - accuracy: 0.6408 - val_loss: 0.2515 - val_accuracy: 0.5833\n",
      "Epoch 57/100\n",
      "5/5 [==============================] - 1s 112ms/step - loss: 0.2843 - accuracy: 0.6620 - val_loss: 0.2557 - val_accuracy: 0.5833\n",
      "Epoch 58/100\n",
      "5/5 [==============================] - 1s 102ms/step - loss: 0.3015 - accuracy: 0.6655 - val_loss: 0.2564 - val_accuracy: 0.5833\n",
      "Epoch 59/100\n",
      "5/5 [==============================] - 1s 109ms/step - loss: 0.2782 - accuracy: 0.7042 - val_loss: 0.2627 - val_accuracy: 0.6111\n",
      "Epoch 60/100\n",
      "5/5 [==============================] - 1s 104ms/step - loss: 0.2662 - accuracy: 0.7007 - val_loss: 0.2538 - val_accuracy: 0.6111\n",
      "Epoch 61/100\n",
      "5/5 [==============================] - 1s 100ms/step - loss: 0.2833 - accuracy: 0.6725 - val_loss: 0.2641 - val_accuracy: 0.5833\n",
      "Epoch 62/100\n",
      "5/5 [==============================] - 1s 101ms/step - loss: 0.2635 - accuracy: 0.6796 - val_loss: 0.2544 - val_accuracy: 0.6250\n",
      "Epoch 63/100\n",
      "5/5 [==============================] - 1s 102ms/step - loss: 0.2875 - accuracy: 0.6620 - val_loss: 0.2502 - val_accuracy: 0.5972\n",
      "Epoch 64/100\n",
      "5/5 [==============================] - 1s 120ms/step - loss: 0.2901 - accuracy: 0.6901 - val_loss: 0.2801 - val_accuracy: 0.5833\n",
      "Epoch 65/100\n",
      "5/5 [==============================] - 1s 103ms/step - loss: 0.2924 - accuracy: 0.6620 - val_loss: 0.2479 - val_accuracy: 0.6250\n",
      "Epoch 66/100\n",
      "5/5 [==============================] - 1s 106ms/step - loss: 0.2764 - accuracy: 0.6620 - val_loss: 0.2589 - val_accuracy: 0.6528\n",
      "Epoch 67/100\n",
      "5/5 [==============================] - 0s 100ms/step - loss: 0.2710 - accuracy: 0.7077 - val_loss: 0.2568 - val_accuracy: 0.6111\n",
      "Epoch 68/100\n",
      "5/5 [==============================] - 0s 100ms/step - loss: 0.2708 - accuracy: 0.6549 - val_loss: 0.2520 - val_accuracy: 0.6250\n",
      "Epoch 69/100\n",
      "5/5 [==============================] - 1s 127ms/step - loss: 0.2734 - accuracy: 0.6761 - val_loss: 0.2491 - val_accuracy: 0.6528\n",
      "Epoch 70/100\n",
      "5/5 [==============================] - 1s 107ms/step - loss: 0.2893 - accuracy: 0.6479 - val_loss: 0.2505 - val_accuracy: 0.6250\n",
      "Epoch 71/100\n",
      "5/5 [==============================] - 1s 116ms/step - loss: 0.2798 - accuracy: 0.6585 - val_loss: 0.2543 - val_accuracy: 0.6111\n",
      "Epoch 72/100\n",
      "5/5 [==============================] - 1s 104ms/step - loss: 0.2795 - accuracy: 0.6937 - val_loss: 0.2744 - val_accuracy: 0.5694\n",
      "Epoch 73/100\n",
      "5/5 [==============================] - 1s 102ms/step - loss: 0.2728 - accuracy: 0.6620 - val_loss: 0.2594 - val_accuracy: 0.6250\n",
      "Epoch 74/100\n",
      "5/5 [==============================] - 1s 105ms/step - loss: 0.2822 - accuracy: 0.6761 - val_loss: 0.2536 - val_accuracy: 0.5972\n",
      "Epoch 75/100\n",
      "5/5 [==============================] - 1s 104ms/step - loss: 0.2864 - accuracy: 0.6620 - val_loss: 0.2516 - val_accuracy: 0.6111\n",
      "Epoch 76/100\n",
      "5/5 [==============================] - 1s 107ms/step - loss: 0.2820 - accuracy: 0.6937 - val_loss: 0.2614 - val_accuracy: 0.5833\n",
      "Epoch 77/100\n",
      "5/5 [==============================] - 1s 112ms/step - loss: 0.2740 - accuracy: 0.6796 - val_loss: 0.2729 - val_accuracy: 0.5833\n",
      "Epoch 78/100\n",
      "5/5 [==============================] - 1s 113ms/step - loss: 0.2687 - accuracy: 0.6866 - val_loss: 0.2617 - val_accuracy: 0.6250\n",
      "Epoch 79/100\n",
      "5/5 [==============================] - 1s 103ms/step - loss: 0.2656 - accuracy: 0.6655 - val_loss: 0.2624 - val_accuracy: 0.5972\n",
      "Epoch 80/100\n",
      "5/5 [==============================] - 1s 102ms/step - loss: 0.2606 - accuracy: 0.6937 - val_loss: 0.3152 - val_accuracy: 0.4861\n",
      "Epoch 81/100\n",
      "5/5 [==============================] - 1s 102ms/step - loss: 0.2782 - accuracy: 0.6549 - val_loss: 0.2513 - val_accuracy: 0.6250\n",
      "Epoch 82/100\n",
      "5/5 [==============================] - 1s 106ms/step - loss: 0.2609 - accuracy: 0.6831 - val_loss: 0.2655 - val_accuracy: 0.6389\n",
      "Epoch 83/100\n",
      "5/5 [==============================] - 1s 111ms/step - loss: 0.2719 - accuracy: 0.7007 - val_loss: 0.2568 - val_accuracy: 0.6111\n",
      "Epoch 84/100\n",
      "5/5 [==============================] - 1s 111ms/step - loss: 0.2738 - accuracy: 0.6796 - val_loss: 0.2816 - val_accuracy: 0.5694\n",
      "Epoch 85/100\n",
      "5/5 [==============================] - 1s 151ms/step - loss: 0.2478 - accuracy: 0.6725 - val_loss: 0.2553 - val_accuracy: 0.5972\n",
      "Epoch 86/100\n",
      "5/5 [==============================] - 1s 101ms/step - loss: 0.2663 - accuracy: 0.6796 - val_loss: 0.2480 - val_accuracy: 0.6111\n",
      "Epoch 87/100\n",
      "5/5 [==============================] - 1s 130ms/step - loss: 0.2727 - accuracy: 0.7042 - val_loss: 0.2731 - val_accuracy: 0.5972\n",
      "Epoch 88/100\n",
      "5/5 [==============================] - 1s 103ms/step - loss: 0.2477 - accuracy: 0.6937 - val_loss: 0.2457 - val_accuracy: 0.6389\n",
      "Epoch 89/100\n",
      "5/5 [==============================] - 0s 100ms/step - loss: 0.2602 - accuracy: 0.7007 - val_loss: 0.2512 - val_accuracy: 0.6250\n",
      "Epoch 90/100\n",
      "5/5 [==============================] - 0s 100ms/step - loss: 0.2644 - accuracy: 0.7077 - val_loss: 0.2591 - val_accuracy: 0.5833\n",
      "Epoch 91/100\n",
      "5/5 [==============================] - 1s 107ms/step - loss: 0.2643 - accuracy: 0.6866 - val_loss: 0.2620 - val_accuracy: 0.5972\n",
      "Epoch 92/100\n",
      "5/5 [==============================] - 1s 106ms/step - loss: 0.2675 - accuracy: 0.6761 - val_loss: 0.2466 - val_accuracy: 0.6250\n",
      "Epoch 93/100\n",
      "5/5 [==============================] - 0s 101ms/step - loss: 0.2559 - accuracy: 0.7289 - val_loss: 0.3112 - val_accuracy: 0.5000\n",
      "Epoch 94/100\n",
      "5/5 [==============================] - 0s 100ms/step - loss: 0.2726 - accuracy: 0.6620 - val_loss: 0.2620 - val_accuracy: 0.6111\n",
      "Epoch 95/100\n",
      "5/5 [==============================] - 0s 100ms/step - loss: 0.2704 - accuracy: 0.6901 - val_loss: 0.2891 - val_accuracy: 0.5139\n",
      "Epoch 96/100\n",
      "5/5 [==============================] - 0s 100ms/step - loss: 0.2769 - accuracy: 0.6690 - val_loss: 0.2486 - val_accuracy: 0.6250\n",
      "Epoch 97/100\n",
      "5/5 [==============================] - 1s 103ms/step - loss: 0.2447 - accuracy: 0.7007 - val_loss: 0.2493 - val_accuracy: 0.6111\n",
      "Epoch 98/100\n",
      "5/5 [==============================] - 1s 105ms/step - loss: 0.2600 - accuracy: 0.7007 - val_loss: 0.2566 - val_accuracy: 0.6250\n",
      "Epoch 99/100\n",
      "5/5 [==============================] - 1s 103ms/step - loss: 0.2810 - accuracy: 0.6690 - val_loss: 0.2503 - val_accuracy: 0.6389\n",
      "Epoch 100/100\n",
      "5/5 [==============================] - 1s 102ms/step - loss: 0.2529 - accuracy: 0.6866 - val_loss: 0.2505 - val_accuracy: 0.6528\n"
     ]
    }
   ],
   "source": [
    "with tf.device('GPU:0'):\n",
    "    history3 = model.fit(X_train, Y_train, epochs = 100, batch_size = 64, shuffle=True, validation_data=(X_test, Y_test), class_weight=cw)"
   ]
  },
  {
   "cell_type": "code",
   "execution_count": 102,
   "metadata": {
    "pycharm": {
     "name": "#%%\n"
    }
   },
   "outputs": [],
   "source": [
    "accuracy = np.concatenate([history.history['accuracy'],history1.history['accuracy'], history2.history['accuracy'], history3.history['accuracy']])\n",
    "val_accuracy = np.concatenate([history.history['val_accuracy'],history1.history['val_accuracy'], history2.history['val_accuracy'], history3.history['val_accuracy']])\n",
    "loss = np.concatenate([history.history['loss'],history1.history['loss'], history2.history['loss'], history3.history['loss']])\n",
    "val_loss = np.concatenate([history.history['val_loss'],history1.history['val_loss'], history2.history['val_loss'], history3.history['val_loss']])"
   ]
  },
  {
   "cell_type": "code",
   "execution_count": 103,
   "metadata": {
    "pycharm": {
     "name": "#%%\n"
    }
   },
   "outputs": [
    {
     "data": {
      "image/png": "[encoded data removed]",
      "text/plain": [
       "<Figure size 432x288 with 1 Axes>"
      ]
     },
     "metadata": {
      "needs_background": "light"
     },
     "output_type": "display_data"
    }
   ],
   "source": [
    "plt.plot(accuracy, label='MSE (train data)')\n",
    "plt.plot(val_accuracy, label='MSE (val data)')\n",
    "plt.title('MSE for Chennai Reservoir Levels')\n",
    "plt.ylabel('MSE value')\n",
    "plt.xlabel('No. epoch')\n",
    "plt.legend(loc=\"upper left\")\n",
    "plt.show()"
   ]
  },
  {
   "cell_type": "code",
   "execution_count": 68,
   "metadata": {
    "pycharm": {
     "name": "#%%\n"
    }
   },
   "outputs": [
    {
     "data": {
      "image/png": "[encoded data removed]",
      "text/plain": [
       "<Figure size 432x288 with 1 Axes>"
      ]
     },
     "metadata": {
      "needs_background": "light"
     },
     "output_type": "display_data"
    }
   ],
   "source": [
    "plt.plot(accuracy, label='MSE (train data)')\n",
    "plt.plot(val_accuracy, label='MSE (val data)')\n",
    "plt.title('MSE for Chennai Reservoir Levels')\n",
    "plt.ylabel('MSE value')\n",
    "plt.xlabel('No. epoch')\n",
    "plt.legend(loc=\"upper left\")\n",
    "plt.show()"
   ]
  },
  {
   "cell_type": "code",
   "execution_count": 69,
   "metadata": {
    "pycharm": {
     "name": "#%%\n"
    }
   },
   "outputs": [
    {
     "data": {
      "image/png": "[encoded data removed]",
      "text/plain": [
       "<Figure size 432x288 with 1 Axes>"
      ]
     },
     "metadata": {
      "needs_background": "light"
     },
     "output_type": "display_data"
    }
   ],
   "source": [
    "plt.plot(loss, label='MSE (train data)')\n",
    "plt.plot(val_loss, label='MSE (val data)')\n",
    "plt.title('MSE for Chennai Reservoir Levels')\n",
    "plt.ylabel('MSE value')\n",
    "plt.xlabel('No. epoch')\n",
    "plt.legend(loc=\"upper left\")\n",
    "plt.show()"
   ]
  },
  {
   "cell_type": "code",
   "execution_count": 65,
   "metadata": {
    "pycharm": {
     "name": "#%%\n"
    }
   },
   "outputs": [
    {
     "data": {
      "text/plain": [
       "[0.4720279574394226,\n",
       " 0.45104894042015076,\n",
       " 0.47902098298072815,\n",
       " 0.5314685106277466,\n",
       " 0.46503496170043945,\n",
       " 0.43706294894218445,\n",
       " 0.5244755148887634,\n",
       " 0.47902098298072815,\n",
       " 0.5559440851211548,\n",
       " 0.5174825191497803,\n",
       " 0.4860139787197113,\n",
       " 0.4895104765892029,\n",
       " 0.47902098298072815,\n",
       " 0.5559440851211548,\n",
       " 0.5104895234107971,\n",
       " 0.5699300765991211,\n",
       " 0.503496527671814,\n",
       " 0.5174825191497803,\n",
       " 0.5174825191497803,\n",
       " 0.4895104765892029,\n",
       " 0.5384615659713745,\n",
       " 0.5174825191497803,\n",
       " 0.503496527671814,\n",
       " 0.559440553188324,\n",
       " 0.5454545617103577,\n",
       " 0.47902098298072815,\n",
       " 0.5699300765991211,\n",
       " 0.5279720425605774,\n",
       " 0.5104895234107971,\n",
       " 0.5489510297775269,\n",
       " 0.5489510297775269,\n",
       " 0.5664335489273071,\n",
       " 0.5209790468215942,\n",
       " 0.5209790468215942,\n",
       " 0.5244755148887634,\n",
       " 0.5104895234107971,\n",
       " 0.5489510297775269,\n",
       " 0.5559440851211548,\n",
       " 0.5769230723381042,\n",
       " 0.5419580340385437,\n",
       " 0.5384615659713745,\n",
       " 0.5699300765991211,\n",
       " 0.5629370808601379,\n",
       " 0.5384615659713745,\n",
       " 0.5804196000099182,\n",
       " 0.5944055914878845,\n",
       " 0.5839160680770874,\n",
       " 0.5769230723381042,\n",
       " 0.5699300765991211,\n",
       " 0.6048951148986816,\n",
       " 0.5769230723381042,\n",
       " 0.5909090638160706,\n",
       " 0.5839160680770874,\n",
       " 0.5944055914878845,\n",
       " 0.5629370808601379,\n",
       " 0.5909090638160706,\n",
       " 0.5839160680770874,\n",
       " 0.5874125957489014,\n",
       " 0.5314685106277466,\n",
       " 0.6083915829658508,\n",
       " 0.6083915829658508,\n",
       " 0.5559440851211548,\n",
       " 0.6468531489372253,\n",
       " 0.6258741021156311,\n",
       " 0.5734265446662903,\n",
       " 0.6013985872268677,\n",
       " 0.5629370808601379,\n",
       " 0.5979021191596985,\n",
       " 0.5839160680770874,\n",
       " 0.5944055914878845,\n",
       " 0.5909090638160706,\n",
       " 0.5769230723381042,\n",
       " 0.6433566212654114,\n",
       " 0.6153846383094788,\n",
       " 0.6223776340484619,\n",
       " 0.5804196000099182,\n",
       " 0.618881106376648,\n",
       " 0.6223776340484619,\n",
       " 0.5839160680770874,\n",
       " 0.6258741021156311,\n",
       " 0.632867157459259,\n",
       " 0.6643356680870056,\n",
       " 0.5874125957489014,\n",
       " 0.6083915829658508,\n",
       " 0.632867157459259,\n",
       " 0.6643356680870056,\n",
       " 0.6223776340484619,\n",
       " 0.6293706297874451,\n",
       " 0.6573426723480225,\n",
       " 0.5979021191596985,\n",
       " 0.6083915829658508,\n",
       " 0.618881106376648,\n",
       " 0.6363636255264282,\n",
       " 0.6468531489372253,\n",
       " 0.6293706297874451,\n",
       " 0.6153846383094788,\n",
       " 0.6398601531982422,\n",
       " 0.6503496766090393,\n",
       " 0.6608391404151917,\n",
       " 0.6783216595649719]"
      ]
     },
     "execution_count": 65,
     "metadata": {},
     "output_type": "execute_result"
    }
   ],
   "source": []
  }
 ],
 "metadata": {
  "kernelspec": {
   "display_name": "Python 3.9.5 64-bit",
   "language": "python",
   "name": "python3"
  },
  "language_info": {
   "codemirror_mode": {
    "name": "ipython",
    "version": 3
   },
   "file_extension": ".py",
   "mimetype": "text/x-python",
   "name": "python",
   "nbconvert_exporter": "python",
   "pygments_lexer": "ipython3",
   "version": "3.9.5"
  },
  "orig_nbformat": 4,
  "vscode": {
   "interpreter": {
    "hash": "abe97b4297a04eb9b59942013a51b5b6b6dd824dcfaba919a0d03fdddda38a68"
   }
  }
 },
 "nbformat": 4,
 "nbformat_minor": 2
}