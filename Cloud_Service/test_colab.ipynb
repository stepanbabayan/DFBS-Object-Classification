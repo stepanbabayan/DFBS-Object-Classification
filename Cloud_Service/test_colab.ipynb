{
  "nbformat": 4,
  "nbformat_minor": 0,
  "metadata": {
    "colab": {
      "provenance": [],
      "gpuType": "T4",
      "include_colab_link": true
    },
    "kernelspec": {
      "name": "python3",
      "display_name": "Python 3"
    },
    "language_info": {
      "name": "python"
    },
    "accelerator": "GPU"
  },
  "cells": [
    {
      "cell_type": "markdown",
      "metadata": {
        "id": "view-in-github",
        "colab_type": "text"
      },
      "source": [
        "<a href=\"https://colab.research.google.com/github/stepanbabayan/DFBS-Object-Classification/blob/colab/test_colab.ipynb\" target=\"_parent\"><img src=\"https://colab.research.google.com/assets/colab-badge.svg\" alt=\"Open In Colab\"/></a>"
      ]
    },
    {
      "cell_type": "markdown",
      "source": [
        "## Clone Repository"
      ],
      "metadata": {
        "id": "CfrjY2P2f6md"
      }
    },
    {
      "cell_type": "code",
      "execution_count": null,
      "metadata": {
        "id": "7PDkmcJ2yw_w"
      },
      "outputs": [],
      "source": [
        "!git clone https://github.com/stepanbabayan/DFBS-Object-Classification.git"
      ]
    },
    {
      "cell_type": "markdown",
      "source": [
        "## Switch to colab branch "
      ],
      "metadata": {
        "id": "znKlNicrf-sj"
      }
    },
    {
      "cell_type": "code",
      "source": [
        "mv ./DFBS-Object-Classification/ ./Model/"
      ],
      "metadata": {
        "id": "RFHOd3ALy0QO"
      },
      "execution_count": null,
      "outputs": []
    },
    {
      "cell_type": "code",
      "source": [
        "cd Model"
      ],
      "metadata": {
        "id": "BGL_XGaqy9bL"
      },
      "execution_count": null,
      "outputs": []
    },
    {
      "cell_type": "code",
      "source": [
        "!git checkout colab"
      ],
      "metadata": {
        "id": "aAPm5L32y_IN"
      },
      "execution_count": null,
      "outputs": []
    },
    {
      "cell_type": "code",
      "source": [
        "# !git pull"
      ],
      "metadata": {
        "id": "ipZcn9b2noJ9"
      },
      "execution_count": null,
      "outputs": []
    },
    {
      "cell_type": "markdown",
      "source": [
        "## Additional Environment Setups"
      ],
      "metadata": {
        "id": "vQtEDBepgJuW"
      }
    },
    {
      "cell_type": "code",
      "source": [
        "import zipfile\n",
        "with zipfile.ZipFile('./data.zip', 'r') as zip_ref:\n",
        "    zip_ref.extractall('')"
      ],
      "metadata": {
        "id": "Q7lIIIumY7pS"
      },
      "execution_count": null,
      "outputs": []
    },
    {
      "cell_type": "code",
      "source": [
        "import sys\n",
        "sys.path.append('Model/')"
      ],
      "metadata": {
        "id": "eRL0rty4Xhz0"
      },
      "execution_count": null,
      "outputs": []
    },
    {
      "cell_type": "markdown",
      "source": [
        "## Imports"
      ],
      "metadata": {
        "id": "G4x-mIUGgPYJ"
      }
    },
    {
      "cell_type": "code",
      "source": [
        "import os\n",
        "import shutil\n",
        "\n",
        "import torch.optim\n",
        "from torchsummary import summary\n",
        "\n",
        "import load_data\n",
        "import models\n",
        "from Model.test import evaluate\n",
        "from _helpers import make_directory\n",
        "\n",
        "from sklearn.metrics import classification_report"
      ],
      "metadata": {
        "id": "MwFJPUGkWdTc"
      },
      "execution_count": null,
      "outputs": []
    },
    {
      "cell_type": "markdown",
      "source": [
        "## Environment variables"
      ],
      "metadata": {
        "id": "LDrWb9l7YdWH"
      }
    },
    {
      "cell_type": "code",
      "source": [
        "use_gpu = True"
      ],
      "metadata": {
        "id": "c0oMRvvdYbjz"
      },
      "execution_count": null,
      "outputs": []
    },
    {
      "cell_type": "code",
      "source": [
        "# Training Device\n",
        "if use_gpu:\n",
        "    device = torch.device(\"cuda:0\" if torch.cuda.is_available() else \"cpu\")\n",
        "    print('Device: GPU')\n",
        "else:\n",
        "    device = torch.device('cpu')\n",
        "    print('Device: CPU')"
      ],
      "metadata": {
        "id": "Wlm59bPEZqsL"
      },
      "execution_count": null,
      "outputs": []
    },
    {
      "cell_type": "markdown",
      "source": [
        "## Data path"
      ],
      "metadata": {
        "id": "w1dmL5yeYlKD"
      }
    },
    {
      "cell_type": "code",
      "source": [
        "# Choose the dataset\n",
        "num_classes = 5 # Choices: {5, 6, 10}"
      ],
      "metadata": {
        "id": "QAcPBZEzB_pe"
      },
      "execution_count": null,
      "outputs": []
    },
    {
      "cell_type": "code",
      "source": [
        "classes_5 = ['C-H', 'C-N', 'Mrk SB', 'sdA', 'sdB']\n",
        "classes_6 = ['C-H', 'C-N', 'Mrk Abs', 'Mrk SB', 'sdA', 'sdB']\n",
        "classes_10 = ['C Ba', 'C-H', 'C-N', 'C-R', 'Mrk Abs', 'Mrk AGN', 'Mrk SB', 'sdA', 'sdB', 'sdO']\n",
        "\n",
        "assert num_classes in {5, 6, 10}\n",
        "\n",
        "if num_classes == 10:\n",
        "    classes = classes_10\n",
        "    checkpoint_name = 'Dense_10_Focal_25_3_Final/139.pth'\n",
        "elif num_classes == 5:\n",
        "    classes = classes_5\n",
        "    checkpoint_name = 'Dense_5_High_Focal_25_3_Final/59.pth'\n",
        "else:\n",
        "    classes = classes_6\n",
        "    checkpoint_name = 'Dense_6_High_Focal_25_3_Final/136.pth'\n"
      ],
      "metadata": {
        "id": "-rCflbFY2_DC"
      },
      "execution_count": null,
      "outputs": []
    },
    {
      "cell_type": "code",
      "source": [
        "# Datasets\n",
        "data_root = f'./data'\n",
        "\n",
        "if num_classes != 10:\n",
        "    new_data_root = f'./data_{num_classes}'\n",
        "    domains = ['test', 'train']\n",
        "\n",
        "    for domain in domains:\n",
        "        make_directory(f'{new_data_root}/{domain}')\n",
        "\n",
        "        for class_name in classes:\n",
        "            # make_directory(f'{new_data_root}/{domain}/{class_name}')\n",
        "            shutil.copytree(f'{data_root}/{domain}/{class_name}/', f'{new_data_root}/{domain}/{class_name}/')\n",
        "\n",
        "    data_root = new_data_root"
      ],
      "metadata": {
        "id": "4L7md1rR-81T"
      },
      "execution_count": null,
      "outputs": []
    },
    {
      "cell_type": "code",
      "source": [
        "test_dir = f'{data_root}/test'\n",
        "# Optional\n",
        "train_dir = f'{data_root}/train'\n",
        "\n",
        "input_shape = (160, 50)"
      ],
      "metadata": {
        "id": "j5fmcR61Zqb8"
      },
      "execution_count": null,
      "outputs": []
    },
    {
      "cell_type": "code",
      "source": [
        "print('Num classes:', num_classes)"
      ],
      "metadata": {
        "id": "Nx-qTrDFYrsZ"
      },
      "execution_count": null,
      "outputs": []
    },
    {
      "cell_type": "markdown",
      "source": [
        "## Project Parameters"
      ],
      "metadata": {
        "id": "wcv_2Zh-Yzej"
      }
    },
    {
      "cell_type": "code",
      "source": [
        "root_dir = os.path.abspath('./')"
      ],
      "metadata": {
        "id": "U57wJwzoYuIe"
      },
      "execution_count": null,
      "outputs": []
    },
    {
      "cell_type": "code",
      "source": [
        "# Checkpoints are saved in Checkpoint folder\n",
        "checkpoint_path = f'{root_dir}/Checkpoint/{checkpoint_name}'"
      ],
      "metadata": {
        "id": "LmEV5CGiZLbf"
      },
      "execution_count": null,
      "outputs": []
    },
    {
      "cell_type": "markdown",
      "source": [
        "## Testing Parameters"
      ],
      "metadata": {
        "id": "nUg88YN6ZOiY"
      }
    },
    {
      "cell_type": "code",
      "source": [
        "# Batch sizes\n",
        "test_batch_size = 16\n",
        "# Optional\n",
        "train_batch_size = 16"
      ],
      "metadata": {
        "id": "gCMKkvXOZQdC"
      },
      "execution_count": null,
      "outputs": []
    },
    {
      "cell_type": "markdown",
      "source": [
        "## Data Loaders"
      ],
      "metadata": {
        "id": "nch6bjdFZanP"
      }
    },
    {
      "cell_type": "code",
      "source": [
        "test_data, test_classes, _ = load_data.load_images(test_dir, test_batch_size, 'test', _drop_last=False)\n",
        "# Optional\n",
        "train_data, _, _ = load_data.load_images(train_dir, train_batch_size, 'train', _drop_last=False)"
      ],
      "metadata": {
        "id": "tOWukrTQg4pW"
      },
      "execution_count": null,
      "outputs": []
    },
    {
      "cell_type": "markdown",
      "source": [
        "## Training Setup"
      ],
      "metadata": {
        "id": "LNK7UAw2Zjle"
      }
    },
    {
      "cell_type": "code",
      "source": [
        "# Model choices: arch = any(['default', 'default_prev', 'default_bn', 'mobilenet', 'resnet'])\n",
        "#   default: the proposed network\n",
        "#   default_bn: similar to the proposed, but with more BatchNorm layers\n",
        "#   default_prev: the network proposed in the previous work\n",
        "#   mobilenet: MobileNetV2\n",
        "#   resnet: Resnet\n",
        "\n",
        "net = models.Model(num_classes=num_classes, input_shape=input_shape, arch='default').to(device)"
      ],
      "metadata": {
        "id": "a6I_3cVBZcmw"
      },
      "execution_count": null,
      "outputs": []
    },
    {
      "cell_type": "markdown",
      "source": [
        "### Layers"
      ],
      "metadata": {
        "id": "Ek0Qn8KHZwvF"
      }
    },
    {
      "cell_type": "code",
      "source": [
        "print(net)"
      ],
      "metadata": {
        "id": "X9aZQHi2Zlqu"
      },
      "execution_count": null,
      "outputs": []
    },
    {
      "cell_type": "markdown",
      "source": [
        "### Output Summary"
      ],
      "metadata": {
        "id": "nWmqXZWVZ0rr"
      }
    },
    {
      "cell_type": "code",
      "source": [
        "summary(net, (1, 160, 50))"
      ],
      "metadata": {
        "id": "5h_PfFRxZxzd"
      },
      "execution_count": null,
      "outputs": []
    },
    {
      "cell_type": "code",
      "source": [
        "# Setting the network up for evaluation\n",
        "net.load_state_dict(torch.load(checkpoint_path))\n",
        "net.eval()"
      ],
      "metadata": {
        "id": "WQkT7FnYZ2in"
      },
      "execution_count": null,
      "outputs": []
    },
    {
      "cell_type": "code",
      "source": [
        "print('\\nEvaluation started:')\n",
        "\n",
        "train_score = evaluate(dataloader=train_data, model=net, domain='train', device=device)\n",
        "test_score = evaluate(dataloader=test_data, model=net, device=device, classes=test_classes)"
      ],
      "metadata": {
        "id": "cETpcJwBZ35K"
      },
      "execution_count": null,
      "outputs": []
    },
    {
      "cell_type": "code",
      "source": [],
      "metadata": {
        "id": "xsCknLVloHIm"
      },
      "execution_count": null,
      "outputs": []
    }
  ]
}