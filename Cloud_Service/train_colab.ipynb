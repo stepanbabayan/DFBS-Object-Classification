{
  "nbformat": 4,
  "nbformat_minor": 0,
  "metadata": {
    "colab": {
      "provenance": [],
      "gpuType": "T4",
      "include_colab_link": true
    },
    "kernelspec": {
      "name": "python3",
      "display_name": "Python 3"
    },
    "language_info": {
      "name": "python"
    },
    "accelerator": "GPU"
  },
  "cells": [
    {
      "cell_type": "markdown",
      "metadata": {
        "id": "view-in-github",
        "colab_type": "text"
      },
      "source": [
        "<a href=\"https://colab.research.google.com/github/stepanbabayan/DFBS-Object-Classification/blob/colab/train_colab.ipynb\" target=\"_parent\"><img src=\"https://colab.research.google.com/assets/colab-badge.svg\" alt=\"Open In Colab\"/></a>"
      ]
    },
    {
      "cell_type": "markdown",
      "source": [
        "## Clone Repository"
      ],
      "metadata": {
        "id": "CfrjY2P2f6md"
      }
    },
    {
      "cell_type": "code",
      "execution_count": null,
      "metadata": {
        "id": "7PDkmcJ2yw_w"
      },
      "outputs": [],
      "source": [
        "!git clone https://github.com/stepanbabayan/DFBS-Object-Classification.git"
      ]
    },
    {
      "cell_type": "markdown",
      "source": [
        "## Switch to colab branch "
      ],
      "metadata": {
        "id": "znKlNicrf-sj"
      }
    },
    {
      "cell_type": "code",
      "source": [
        "mv ./DFBS-Object-Classification/ ./Model/"
      ],
      "metadata": {
        "id": "RFHOd3ALy0QO"
      },
      "execution_count": null,
      "outputs": []
    },
    {
      "cell_type": "code",
      "source": [
        "cd Model"
      ],
      "metadata": {
        "id": "BGL_XGaqy9bL"
      },
      "execution_count": null,
      "outputs": []
    },
    {
      "cell_type": "code",
      "source": [
        "!git checkout colab"
      ],
      "metadata": {
        "id": "aAPm5L32y_IN"
      },
      "execution_count": null,
      "outputs": []
    },
    {
      "cell_type": "markdown",
      "source": [
        "## Additional Environment Setups"
      ],
      "metadata": {
        "id": "vQtEDBepgJuW"
      }
    },
    {
      "cell_type": "code",
      "source": [
        "# Load the TensorBoard notebook extension\n",
        "%load_ext tensorboard"
      ],
      "metadata": {
        "id": "Yz1i_gX3cCq3"
      },
      "execution_count": null,
      "outputs": []
    },
    {
      "cell_type": "code",
      "source": [
        "import zipfile\n",
        "with zipfile.ZipFile('./data.zip', 'r') as zip_ref:\n",
        "    zip_ref.extractall('')"
      ],
      "metadata": {
        "id": "Q7lIIIumY7pS"
      },
      "execution_count": null,
      "outputs": []
    },
    {
      "cell_type": "code",
      "source": [
        "import sys\n",
        "sys.path.append('Model/')"
      ],
      "metadata": {
        "id": "eRL0rty4Xhz0"
      },
      "execution_count": null,
      "outputs": []
    },
    {
      "cell_type": "markdown",
      "source": [
        "## Imports"
      ],
      "metadata": {
        "id": "G4x-mIUGgPYJ"
      }
    },
    {
      "cell_type": "code",
      "source": [
        "import os\n",
        "import shutil\n",
        "import argparse\n",
        "import yaml\n",
        "\n",
        "import load_data, models, train\n",
        "from Model.test import evaluate\n",
        "from _helpers import make_directory\n",
        "\n",
        "import torch\n",
        "from torchsummary import summary"
      ],
      "metadata": {
        "id": "MwFJPUGkWdTc"
      },
      "execution_count": null,
      "outputs": []
    },
    {
      "cell_type": "markdown",
      "source": [
        "## Environment variables"
      ],
      "metadata": {
        "id": "LDrWb9l7YdWH"
      }
    },
    {
      "cell_type": "code",
      "source": [
        "use_gpu = True"
      ],
      "metadata": {
        "id": "c0oMRvvdYbjz"
      },
      "execution_count": null,
      "outputs": []
    },
    {
      "cell_type": "code",
      "source": [
        "# Training Device\n",
        "if use_gpu:\n",
        "    device = torch.device(\"cuda:0\" if torch.cuda.is_available() else \"cpu\")\n",
        "    print('Device: GPU')\n",
        "else:\n",
        "    device = torch.device('cpu')\n",
        "    print('Device: CPU')"
      ],
      "metadata": {
        "id": "Wlm59bPEZqsL"
      },
      "execution_count": null,
      "outputs": []
    },
    {
      "cell_type": "markdown",
      "source": [
        "## Data path"
      ],
      "metadata": {
        "id": "w1dmL5yeYlKD"
      }
    },
    {
      "cell_type": "code",
      "source": [
        "# Choose the dataset\n",
        "num_classes = 5 # Choices: {5, 6, 10}"
      ],
      "metadata": {
        "id": "DZohrMUnEdnl"
      },
      "execution_count": null,
      "outputs": []
    },
    {
      "cell_type": "code",
      "source": [
        "classes_5 = ['C-H', 'C-N', 'Mrk SB', 'sdA', 'sdB']\n",
        "classes_6 = ['C-H', 'C-N', 'Mrk Abs', 'Mrk SB', 'sdA', 'sdB']\n",
        "classes_10 = ['C Ba', 'C-H', 'C-N', 'C-R', 'Mrk Abs', 'Mrk AGN', 'Mrk SB', 'sdA', 'sdB', 'sdO']\n",
        "\n",
        "assert num_classes in {5, 6, 10}\n",
        "\n",
        "if num_classes == 10:\n",
        "    classes = classes_10\n",
        "    checkpoint_name = 'Dense_10_Focal_25_3_Final/139.pth'\n",
        "elif num_classes == 5:\n",
        "    classes = classes_5\n",
        "    checkpoint_name = 'Dense_5_High_Focal_25_3_Final/59.pth'\n",
        "else:\n",
        "    classes = classes_6\n",
        "    checkpoint_name = 'Dense_6_High_Focal_25_3_Final/136.pth'"
      ],
      "metadata": {
        "id": "GKkv9Q_VEfp7"
      },
      "execution_count": null,
      "outputs": []
    },
    {
      "cell_type": "code",
      "source": [
        "# Datasets\n",
        "data_root = f'./data'\n",
        "\n",
        "if num_classes != 10:\n",
        "    new_data_root = f'./data_{num_classes}'\n",
        "    domains = ['test', 'train']\n",
        "\n",
        "    for domain in domains:\n",
        "        make_directory(f'{new_data_root}/{domain}')\n",
        "\n",
        "        for class_name in classes:\n",
        "            # make_directory(f'{new_data_root}/{domain}/{class_name}')\n",
        "            shutil.copytree(f'{data_root}/{domain}/{class_name}/', f'{new_data_root}/{domain}/{class_name}/')\n",
        "\n",
        "    data_root = new_data_root"
      ],
      "metadata": {
        "id": "0IkHxZUqYjgl"
      },
      "execution_count": null,
      "outputs": []
    },
    {
      "cell_type": "code",
      "source": [
        "train_dir = os.path.join(data_root, 'train')\n",
        "val_dir = None\n",
        "test_dir = os.path.join(data_root, 'test')"
      ],
      "metadata": {
        "id": "uI7H9GerEvyv"
      },
      "execution_count": null,
      "outputs": []
    },
    {
      "cell_type": "code",
      "source": [
        "print('Num classes:', len(os.listdir(train_dir)))"
      ],
      "metadata": {
        "id": "Nx-qTrDFYrsZ"
      },
      "execution_count": null,
      "outputs": []
    },
    {
      "cell_type": "markdown",
      "source": [
        "## Project Parameters"
      ],
      "metadata": {
        "id": "wcv_2Zh-Yzej"
      }
    },
    {
      "cell_type": "code",
      "source": [
        "root_dir = os.path.abspath('./')"
      ],
      "metadata": {
        "id": "U57wJwzoYuIe"
      },
      "execution_count": null,
      "outputs": []
    },
    {
      "cell_type": "code",
      "source": [
        "# Train Id is the unique name of the current training process.\n",
        "# It should be a descriptive name for the current training setup.\n",
        "train_id = 'Default_10_Notebook_Train_1'"
      ],
      "metadata": {
        "id": "F1cFB60aZJ3h"
      },
      "execution_count": null,
      "outputs": []
    },
    {
      "cell_type": "code",
      "source": [
        "# The model's final checkpoint will be saved in {model_dir}\n",
        "model_dir = f'{root_dir}/model/{train_id}'\n",
        "save_model_path = f\"{model_dir}/final.pth\"\n",
        "\n",
        "# All other checkpoints are saved in {checkpoints_dir}\n",
        "checkpoints_dir = f'{root_dir}/Checkpoint/{train_id}'\n",
        "\n",
        "if not os.path.exists(model_dir):\n",
        "    os.makedirs(model_dir)\n",
        "if not os.path.exists(checkpoints_dir):\n",
        "    os.makedirs(checkpoints_dir)"
      ],
      "metadata": {
        "id": "LmEV5CGiZLbf"
      },
      "execution_count": null,
      "outputs": []
    },
    {
      "cell_type": "markdown",
      "source": [
        "## Training Parameters"
      ],
      "metadata": {
        "id": "nUg88YN6ZOiY"
      }
    },
    {
      "cell_type": "code",
      "source": [
        "# Network parameters\n",
        "num_epochs = 301\n",
        "num_classes = len(os.listdir(train_dir))\n",
        "input_shape = (160, 50)"
      ],
      "metadata": {
        "id": "q2KMcvtQZMnf"
      },
      "execution_count": null,
      "outputs": []
    },
    {
      "cell_type": "code",
      "source": [
        "# Batch sizes\n",
        "train_batch_size = 512\n",
        "val_batch_size = 1\n",
        "test_batch_size = 256"
      ],
      "metadata": {
        "id": "gCMKkvXOZQdC"
      },
      "execution_count": null,
      "outputs": []
    },
    {
      "cell_type": "markdown",
      "source": [
        "#### Start the training from scratch"
      ],
      "metadata": {
        "id": "89BlRZ7lZTV2"
      }
    },
    {
      "cell_type": "code",
      "source": [
        "start_epoch = 0\n",
        "load_model_path = None"
      ],
      "metadata": {
        "id": "I6sm9fMGZRwQ"
      },
      "execution_count": null,
      "outputs": []
    },
    {
      "cell_type": "markdown",
      "source": [
        "#### In case if you want to continue your training from a certain checkpoint"
      ],
      "metadata": {
        "id": "XXdnQDalZWJm"
      }
    },
    {
      "cell_type": "code",
      "source": [
        "# start_epoch = 6\n",
        "# load_model_path = f'{root_dir}/Checkpoint/{checkpoint_name}'"
      ],
      "metadata": {
        "id": "V6CkA0FJZVB9"
      },
      "execution_count": null,
      "outputs": []
    },
    {
      "cell_type": "markdown",
      "source": [
        "## Data Loaders"
      ],
      "metadata": {
        "id": "nch6bjdFZanP"
      }
    },
    {
      "cell_type": "code",
      "source": [
        "train_data, train_classes, train_proportions = load_data.load_images(train_dir, train_batch_size, 'train')\n",
        "val_data, val_classes, _ = load_data.load_images(val_dir, val_batch_size, 'val', _drop_last=False) if val_dir else (None, None, None)\n",
        "test_data, test_classes, _ = load_data.load_images(test_dir, test_batch_size, 'test', _drop_last=False) if test_dir else (None, None, None)"
      ],
      "metadata": {
        "id": "rvco70hkZZi1"
      },
      "execution_count": null,
      "outputs": []
    },
    {
      "cell_type": "markdown",
      "source": [
        "## Training Setup"
      ],
      "metadata": {
        "id": "LNK7UAw2Zjle"
      }
    },
    {
      "cell_type": "code",
      "source": [
        "# Model choices: arch = any(['default', 'default_prev', 'default_bn', 'mobilenet', 'resnet'])\n",
        "#   default: the proposed network\n",
        "#   default_bn: similar to the proposed, but with more BatchNorm layers\n",
        "#   default_prev: the network proposed in the previous work\n",
        "#   mobilenet: MobileNetV2\n",
        "#   resnet: Resnet\n",
        "\n",
        "net = models.Model(num_classes=num_classes, input_shape=input_shape, arch='default').to(device)"
      ],
      "metadata": {
        "id": "a6I_3cVBZcmw"
      },
      "execution_count": null,
      "outputs": []
    },
    {
      "cell_type": "markdown",
      "source": [
        "### Layers"
      ],
      "metadata": {
        "id": "Ek0Qn8KHZwvF"
      }
    },
    {
      "cell_type": "code",
      "source": [
        "print(net)"
      ],
      "metadata": {
        "id": "X9aZQHi2Zlqu"
      },
      "execution_count": null,
      "outputs": []
    },
    {
      "cell_type": "markdown",
      "source": [
        "### Output Summary"
      ],
      "metadata": {
        "id": "nWmqXZWVZ0rr"
      }
    },
    {
      "cell_type": "code",
      "source": [
        "summary(net, (1, 160, 50))"
      ],
      "metadata": {
        "id": "5h_PfFRxZxzd"
      },
      "execution_count": null,
      "outputs": []
    },
    {
      "cell_type": "code",
      "source": [
        "if load_model_path:\n",
        "    net.load_state_dict(torch.load(load_model_path))"
      ],
      "metadata": {
        "id": "WQkT7FnYZ2in"
      },
      "execution_count": null,
      "outputs": []
    },
    {
      "cell_type": "code",
      "source": [
        "# If it throws 403 or other error, try switching your browser or turning off incognito mode.\n",
        "%tensorboard --logdir runs"
      ],
      "metadata": {
        "id": "sIRIjYT3cSFF"
      },
      "execution_count": null,
      "outputs": []
    },
    {
      "cell_type": "code",
      "source": [
        "print('\\nTraining started:')\n",
        "\n",
        "net = train.train_model(\n",
        "    net,\n",
        "    train=train_data,\n",
        "    val=val_data,\n",
        "    test=test_data,\n",
        "    epochs=num_epochs,\n",
        "    start_epoch=start_epoch,\n",
        "    device=device,\n",
        "    model_folder=checkpoints_dir,\n",
        "    train_id=train_id,\n",
        "    classes=test_classes,\n",
        "    train_proportions=train_proportions,\n",
        "    evaluate=evaluate\n",
        ")"
      ],
      "metadata": {
        "id": "cETpcJwBZ35K"
      },
      "execution_count": null,
      "outputs": []
    },
    {
      "cell_type": "code",
      "source": [
        "torch.save(net.state_dict(), save_model_path)"
      ],
      "metadata": {
        "id": "5gzV_nrUaN4D"
      },
      "execution_count": null,
      "outputs": []
    },
    {
      "cell_type": "code",
      "source": [
        "# %tensorboard --logdir runs"
      ],
      "metadata": {
        "id": "UQwGlc8ubypb"
      },
      "execution_count": null,
      "outputs": []
    },
    {
      "cell_type": "code",
      "source": [],
      "metadata": {
        "id": "GEVt254uckE_"
      },
      "execution_count": null,
      "outputs": []
    }
  ]
}